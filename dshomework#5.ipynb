{
 "cells": [
  {
   "cell_type": "markdown",
   "metadata": {},
   "source": [
    "# Course: MSIS-678 Knowledge Discovery & Data Warehousing\n",
    "# Data Science Using Python And R Exercise\n",
    "#Professor: Edward (Ted) Kreutzer\n",
    "\n",
    "#Student: Jun Bao"
   ]
  },
  {
   "cell_type": "markdown",
   "metadata": {},
   "source": [
    "## CHAPTER 13 GENERALIZED LINEAR MODELS\n"
   ]
  },
  {
   "cell_type": "markdown",
   "metadata": {},
   "source": [
    "For the following exercises, work with the adult data set. Use either Python or R to solve each problem."
   ]
  },
  {
   "cell_type": "markdown",
   "metadata": {},
   "source": [
    "\n",
    "20. Build a logistic regression model to predict the income of a person based on their age, education (as a number, with variable education.num), and the hours worked per week. Obtain the summary of the model."
   ]
  },
  {
   "cell_type": "code",
   "execution_count": 1,
   "metadata": {},
   "outputs": [],
   "source": [
    "import pandas as pd\n",
    "import numpy as np\n",
    "import statsmodels.api as sm\n",
    "from scipy import stats\n",
    "import statsmodels.tools.tools as stattools"
   ]
  },
  {
   "cell_type": "code",
   "execution_count": 2,
   "metadata": {},
   "outputs": [
    {
     "name": "stdout",
     "output_type": "stream",
     "text": [
      "Optimization terminated successfully.\n",
      "         Current function value: 0.445456\n",
      "         Iterations 7\n"
     ]
    },
    {
     "data": {
      "text/html": [
       "<table class=\"simpletable\">\n",
       "<tr>\n",
       "        <td>Model:</td>              <td>Logit</td>      <td>Pseudo R-squared:</td>    <td>0.191</td>  \n",
       "</tr>\n",
       "<tr>\n",
       "  <td>Dependent Variable:</td>    <td>income-flag</td>         <td>AIC:</td>        <td>22280.8040</td>\n",
       "</tr>\n",
       "<tr>\n",
       "         <td>Date:</td>        <td>2020-09-21 11:03</td>       <td>BIC:</td>        <td>22313.3105</td>\n",
       "</tr>\n",
       "<tr>\n",
       "   <td>No. Observations:</td>        <td>25000</td>       <td>Log-Likelihood:</td>    <td>-11136.</td> \n",
       "</tr>\n",
       "<tr>\n",
       "       <td>Df Model:</td>              <td>3</td>            <td>LL-Null:</td>        <td>-13759.</td> \n",
       "</tr>\n",
       "<tr>\n",
       "     <td>Df Residuals:</td>          <td>24996</td>        <td>LLR p-value:</td>      <td>0.0000</td>  \n",
       "</tr>\n",
       "<tr>\n",
       "      <td>Converged:</td>           <td>1.0000</td>           <td>Scale:</td>         <td>1.0000</td>  \n",
       "</tr>\n",
       "<tr>\n",
       "    <td>No. Iterations:</td>        <td>7.0000</td>              <td></td>               <td></td>     \n",
       "</tr>\n",
       "</table>\n",
       "<table class=\"simpletable\">\n",
       "<tr>\n",
       "         <td></td>         <th>Coef.</th>  <th>Std.Err.</th>     <th>z</th>     <th>P>|z|</th> <th>[0.025</th>  <th>0.975]</th> \n",
       "</tr>\n",
       "<tr>\n",
       "  <th>const</th>          <td>-8.4611</td>  <td>0.1252</td>  <td>-67.5880</td> <td>0.0000</td> <td>-8.7064</td> <td>-8.2157</td>\n",
       "</tr>\n",
       "<tr>\n",
       "  <th>age</th>            <td>0.0459</td>   <td>0.0013</td>   <td>34.9566</td> <td>0.0000</td> <td>0.0434</td>  <td>0.0485</td> \n",
       "</tr>\n",
       "<tr>\n",
       "  <th>education-num</th>  <td>0.3449</td>   <td>0.0074</td>   <td>46.5794</td> <td>0.0000</td> <td>0.3304</td>  <td>0.3595</td> \n",
       "</tr>\n",
       "<tr>\n",
       "  <th>hours-per-week</th> <td>0.0423</td>   <td>0.0014</td>   <td>29.1656</td> <td>0.0000</td> <td>0.0394</td>  <td>0.0451</td> \n",
       "</tr>\n",
       "</table>"
      ],
      "text/plain": [
       "<class 'statsmodels.iolib.summary2.Summary'>\n",
       "\"\"\"\n",
       "                         Results: Logit\n",
       "=================================================================\n",
       "Model:              Logit            Pseudo R-squared: 0.191     \n",
       "Dependent Variable: income-flag      AIC:              22280.8040\n",
       "Date:               2020-09-21 11:03 BIC:              22313.3105\n",
       "No. Observations:   25000            Log-Likelihood:   -11136.   \n",
       "Df Model:           3                LL-Null:          -13759.   \n",
       "Df Residuals:       24996            LLR p-value:      0.0000    \n",
       "Converged:          1.0000           Scale:            1.0000    \n",
       "No. Iterations:     7.0000                                       \n",
       "-----------------------------------------------------------------\n",
       "                  Coef.  Std.Err.    z     P>|z|   [0.025  0.975]\n",
       "-----------------------------------------------------------------\n",
       "const            -8.4611   0.1252 -67.5880 0.0000 -8.7064 -8.2157\n",
       "age               0.0459   0.0013  34.9566 0.0000  0.0434  0.0485\n",
       "education-num     0.3449   0.0074  46.5794 0.0000  0.3304  0.3595\n",
       "hours-per-week    0.0423   0.0014  29.1656 0.0000  0.0394  0.0451\n",
       "=================================================================\n",
       "\n",
       "\"\"\""
      ]
     },
     "execution_count": 2,
     "metadata": {},
     "output_type": "execute_result"
    }
   ],
   "source": [
    "adult = pd.read_csv('Adult')\n",
    "adult['income-flag'] = np.where(adult['income']=='>50K.', 1, 0)\n",
    "# eparate the variables into predictor variables x and response variable y\n",
    "x = pd.DataFrame(adult[['age', 'education-num', 'hours-per-week']])\n",
    "x = sm.add_constant(x)\n",
    "y = pd.DataFrame(adult[['income-flag']])\n",
    "# use the Logit() and fit() commands to perform logistic regression\n",
    "logreg01 = sm.Logit(y,x).fit()\n",
    "logreg01.summary2()\n"
   ]
  },
  {
   "cell_type": "markdown",
   "metadata": {},
   "source": [
    "21. Are there any variables that should be removed from the model from the previous exercise? If so, remove the variables and rerun the model.\n"
   ]
  },
  {
   "cell_type": "code",
   "execution_count": 3,
   "metadata": {},
   "outputs": [
    {
     "data": {
      "text/plain": [
       "'No. Because the P value of each variables are less than 0.05.'"
      ]
     },
     "execution_count": 3,
     "metadata": {},
     "output_type": "execute_result"
    }
   ],
   "source": [
    "'''No. Because the P value of each variables are less than 0.05.'''"
   ]
  },
  {
   "cell_type": "markdown",
   "metadata": {},
   "source": [
    "22. Write the descriptive form of the final logistic regression model from the previous exercise.\n"
   ]
  },
  {
   "cell_type": "code",
   "execution_count": 4,
   "metadata": {},
   "outputs": [
    {
     "data": {
      "text/plain": [
       "'pˆ(income) = (exp(-8.4611 + 0.0459(age) + 0.3449(education-num) + 0.0423(hours-per-week))) / (1 + exp(-8.4611 + 0.0459(age) + 0.3449(education-num) + 0.0423(hours-per-week)))'"
      ]
     },
     "execution_count": 4,
     "metadata": {},
     "output_type": "execute_result"
    }
   ],
   "source": [
    "'''pˆ(income) = (exp(-8.4611 + 0.0459(age) + 0.3449(education-num) + 0.0423(hours-per-week))) / (1 + exp(-8.4611 + 0.0459(age) + 0.3449(education-num) + 0.0423(hours-per-week)))'''\n"
   ]
  },
  {
   "cell_type": "markdown",
   "metadata": {},
   "source": [
    "23. Interpret the coefficient of the age variable."
   ]
  },
  {
   "cell_type": "code",
   "execution_count": 5,
   "metadata": {},
   "outputs": [
    {
     "data": {
      "text/plain": [
       "'By calculating exp(0.0459)=1.046969708751, we find that every unit increase of the age the person is 4% more likely to have high income (>50k).\\n'"
      ]
     },
     "execution_count": 5,
     "metadata": {},
     "output_type": "execute_result"
    }
   ],
   "source": [
    "'''By calculating exp(0.0459)=1.046969708751, we find that every unit increase of the age the person is 4% more likely to have high income (>50k).\n",
    "'''"
   ]
  },
  {
   "cell_type": "markdown",
   "metadata": {},
   "source": [
    "24. Find the impact on the probability of having high income for every 10 years a person is\n",
    "older."
   ]
  },
  {
   "cell_type": "code",
   "execution_count": 6,
   "metadata": {},
   "outputs": [
    {
     "data": {
      "text/plain": [
       "'We multiply the coefficient by 10 to obtain exp(10*0.0459)=exp(0.459)=1.582490702783, and discover that, for every 10 years older the person is 58% more likely to have high income (>50k).\\n'"
      ]
     },
     "execution_count": 6,
     "metadata": {},
     "output_type": "execute_result"
    }
   ],
   "source": [
    "'''We multiply the coefficient by 10 to obtain exp(10*0.0459)=exp(0.459)=1.582490702783, and discover that, for every 10 years older the person is 58% more likely to have high income (>50k).\n",
    "'''"
   ]
  },
  {
   "cell_type": "markdown",
   "metadata": {},
   "source": [
    "25. Interpret the coefficient of the education.num variable"
   ]
  },
  {
   "cell_type": "code",
   "execution_count": 7,
   "metadata": {},
   "outputs": [
    {
     "data": {
      "text/plain": [
       "'By calculating exp(0.3449)=1.411848727735, we find that the every one more years of education increase the probability of the person have high income by 41%.\\n'"
      ]
     },
     "execution_count": 7,
     "metadata": {},
     "output_type": "execute_result"
    }
   ],
   "source": [
    "'''By calculating exp(0.3449)=1.411848727735, we find that the every one more years of education increase the probability of the person have high income by 41%.\n",
    "'''"
   ]
  },
  {
   "cell_type": "markdown",
   "metadata": {},
   "source": [
    "26. Find the impact on the probability of having high income for every four more years of education a person has."
   ]
  },
  {
   "cell_type": "code",
   "execution_count": 8,
   "metadata": {},
   "outputs": [
    {
     "data": {
      "text/plain": [
       "'We multiply the coefficient by 4 to obtain exp(4*0.3449)=exp(1.3796)=3.973311984793, and discover that, for every 4 more years education increase the probability of high income by 3.97 times. \\n'"
      ]
     },
     "execution_count": 8,
     "metadata": {},
     "output_type": "execute_result"
    }
   ],
   "source": [
    "'''We multiply the coefficient by 4 to obtain exp(4*0.3449)=exp(1.3796)=3.973311984793, and discover that, for every 4 more years education increase the probability of high income by 3.97 times. \n",
    "'''"
   ]
  },
  {
   "cell_type": "markdown",
   "metadata": {},
   "source": [
    "27. Interpret the coefficient of the hours.per.week variable."
   ]
  },
  {
   "cell_type": "code",
   "execution_count": 9,
   "metadata": {},
   "outputs": [
    {
     "data": {
      "text/plain": [
       "'By calculating exp(0.0423)=1.043207394029, we find that every unit increase of the hours of work per week increase the probability of high income by 4%.\\n'"
      ]
     },
     "execution_count": 9,
     "metadata": {},
     "output_type": "execute_result"
    }
   ],
   "source": [
    "'''By calculating exp(0.0423)=1.043207394029, we find that every unit increase of the hours of work per week increase the probability of high income by 4%.\n",
    "'''"
   ]
  },
  {
   "cell_type": "markdown",
   "metadata": {},
   "source": [
    "28. Find the impact on the probability of having high income for every five more hours per week a person works."
   ]
  },
  {
   "cell_type": "code",
   "execution_count": 10,
   "metadata": {},
   "outputs": [
    {
     "data": {
      "text/plain": [
       "'We multiply the coefficient by 5 to obtain exp(5*0.0423)=exp(0.459)=1.235529965629, and discover that, for every 5 more hours per week, the person is 123% more likely to have high income.\\n'"
      ]
     },
     "execution_count": 10,
     "metadata": {},
     "output_type": "execute_result"
    }
   ],
   "source": [
    "'''We multiply the coefficient by 5 to obtain exp(5*0.0423)=exp(0.459)=1.235529965629, and discover that, for every 5 more hours per week, the person is 123% more likely to have high income.\n",
    "'''"
   ]
  },
  {
   "cell_type": "markdown",
   "metadata": {},
   "source": [
    "29. Obtain the predicted values using the model from the previous exercise. Compare the\n",
    "predicted values to the actual values."
   ]
  },
  {
   "cell_type": "code",
   "execution_count": 11,
   "metadata": {},
   "outputs": [
    {
     "data": {
      "text/plain": [
       "0        0.378923\n",
       "1        0.244160\n",
       "2        0.127881\n",
       "3        0.127805\n",
       "4        0.269032\n",
       "           ...   \n",
       "24995    0.122238\n",
       "24996    0.057714\n",
       "24997    0.112543\n",
       "24998    0.086591\n",
       "24999    0.186102\n",
       "Length: 25000, dtype: float64"
      ]
     },
     "execution_count": 11,
     "metadata": {},
     "output_type": "execute_result"
    }
   ],
   "source": [
    "# obtain the predicted values\n",
    "ypred = logreg01.predict(x)\n",
    "ypred"
   ]
  },
  {
   "cell_type": "markdown",
   "metadata": {},
   "source": [
    "given the threshold classifier $p_{0}$(x) at 0.5: if $p_{0}$(x) >= 0.5, predict y=1; if $p_{0}$(x) <0.5, predict y=0"
   ]
  },
  {
   "cell_type": "code",
   "execution_count": 12,
   "metadata": {},
   "outputs": [
    {
     "data": {
      "text/plain": [
       "array([0, 0, 0, 0, 0, 0, 0, 0, 0, 0, 1, 0, 0, 0, 0, 0, 0, 0, 0, 1, 1, 0,\n",
       "       0, 0, 0, 1, 0, 1, 0, 0, 0, 0, 0, 0, 0, 0, 0, 0, 0, 0, 0, 1, 0, 0,\n",
       "       0, 1, 0, 1, 0, 0, 0, 0, 1, 1, 0, 0, 0, 0, 0, 0, 0, 0, 0, 1, 0, 0,\n",
       "       0, 0, 0, 0, 0, 0, 1, 0, 0, 0, 0, 0, 0, 0, 0, 1, 0, 0, 0, 0, 0, 0,\n",
       "       0, 1, 0, 0, 0, 0, 0, 0, 1, 0, 0, 0])"
      ]
     },
     "execution_count": 12,
     "metadata": {},
     "output_type": "execute_result"
    }
   ],
   "source": [
    "# convert value in ypred to binary (0 or 1)\n",
    "ypred = np.where(ypred >=0.5, 1, 0)\n",
    "ypred[:100]"
   ]
  },
  {
   "cell_type": "code",
   "execution_count": 13,
   "metadata": {},
   "outputs": [
    {
     "data": {
      "text/plain": [
       "count    25000.00000\n",
       "mean        -0.11696\n",
       "std          0.44336\n",
       "min         -1.00000\n",
       "25%          0.00000\n",
       "50%          0.00000\n",
       "75%          0.00000\n",
       "max          1.00000\n",
       "Name: income-flag, dtype: float64"
      ]
     },
     "execution_count": 13,
     "metadata": {},
     "output_type": "execute_result"
    }
   ],
   "source": [
    "# compare the predicted values vs. the actual values\n",
    "difference = ypred - adult['income-flag']\n",
    "difference.describe()"
   ]
  },
  {
   "cell_type": "code",
   "execution_count": 14,
   "metadata": {},
   "outputs": [
    {
     "data": {
      "text/plain": [
       "'After subtracting predicted value set from actual value, the mean of the difference is -0.11696. In general, the predction model did a good job. '"
      ]
     },
     "execution_count": 14,
     "metadata": {},
     "output_type": "execute_result"
    }
   ],
   "source": [
    "\"\"\"After subtracting predicted value set from actual value, the mean of the difference is -0.11696. In general, the predction model did a good job. \"\"\""
   ]
  },
  {
   "cell_type": "markdown",
   "metadata": {},
   "source": [
    "30. Build a Poisson regression model to predict the years of education a person has (using the variable education.num) based on a person’s age and the hours they work per week. Obtain the summary of the model."
   ]
  },
  {
   "cell_type": "code",
   "execution_count": 15,
   "metadata": {},
   "outputs": [
    {
     "data": {
      "text/html": [
       "<table class=\"simpletable\">\n",
       "<caption>Generalized Linear Model Regression Results</caption>\n",
       "<tr>\n",
       "  <th>Dep. Variable:</th>     <td>education-num</td>  <th>  No. Observations:  </th>  <td> 25000</td> \n",
       "</tr>\n",
       "<tr>\n",
       "  <th>Model:</th>                  <td>GLM</td>       <th>  Df Residuals:      </th>  <td> 24997</td> \n",
       "</tr>\n",
       "<tr>\n",
       "  <th>Model Family:</th>         <td>Poisson</td>     <th>  Df Model:          </th>  <td>     2</td> \n",
       "</tr>\n",
       "<tr>\n",
       "  <th>Link Function:</th>          <td>log</td>       <th>  Scale:             </th> <td>  1.0000</td>\n",
       "</tr>\n",
       "<tr>\n",
       "  <th>Method:</th>                <td>IRLS</td>       <th>  Log-Likelihood:    </th> <td> -60174.</td>\n",
       "</tr>\n",
       "<tr>\n",
       "  <th>Date:</th>            <td>Mon, 21 Sep 2020</td> <th>  Deviance:          </th> <td>  17199.</td>\n",
       "</tr>\n",
       "<tr>\n",
       "  <th>Time:</th>                <td>11:03:14</td>     <th>  Pearson chi2:      </th> <td>1.58e+04</td>\n",
       "</tr>\n",
       "<tr>\n",
       "  <th>No. Iterations:</th>          <td>4</td>        <th>                     </th>     <td> </td>   \n",
       "</tr>\n",
       "<tr>\n",
       "  <th>Covariance Type:</th>     <td>nonrobust</td>    <th>                     </th>     <td> </td>   \n",
       "</tr>\n",
       "</table>\n",
       "<table class=\"simpletable\">\n",
       "<tr>\n",
       "         <td></td>           <th>coef</th>     <th>std err</th>      <th>z</th>      <th>P>|z|</th>  <th>[0.025</th>    <th>0.975]</th>  \n",
       "</tr>\n",
       "<tr>\n",
       "  <th>const</th>          <td>    2.1739</td> <td>    0.009</td> <td>  251.752</td> <td> 0.000</td> <td>    2.157</td> <td>    2.191</td>\n",
       "</tr>\n",
       "<tr>\n",
       "  <th>age</th>            <td>    0.0004</td> <td>    0.000</td> <td>    2.898</td> <td> 0.004</td> <td>    0.000</td> <td>    0.001</td>\n",
       "</tr>\n",
       "<tr>\n",
       "  <th>hours-per-week</th> <td>    0.0030</td> <td>    0.000</td> <td>   18.337</td> <td> 0.000</td> <td>    0.003</td> <td>    0.003</td>\n",
       "</tr>\n",
       "</table>"
      ],
      "text/plain": [
       "<class 'statsmodels.iolib.summary.Summary'>\n",
       "\"\"\"\n",
       "                 Generalized Linear Model Regression Results                  \n",
       "==============================================================================\n",
       "Dep. Variable:          education-num   No. Observations:                25000\n",
       "Model:                            GLM   Df Residuals:                    24997\n",
       "Model Family:                 Poisson   Df Model:                            2\n",
       "Link Function:                    log   Scale:                          1.0000\n",
       "Method:                          IRLS   Log-Likelihood:                -60174.\n",
       "Date:                Mon, 21 Sep 2020   Deviance:                       17199.\n",
       "Time:                        11:03:14   Pearson chi2:                 1.58e+04\n",
       "No. Iterations:                     4                                         \n",
       "Covariance Type:            nonrobust                                         \n",
       "==================================================================================\n",
       "                     coef    std err          z      P>|z|      [0.025      0.975]\n",
       "----------------------------------------------------------------------------------\n",
       "const              2.1739      0.009    251.752      0.000       2.157       2.191\n",
       "age                0.0004      0.000      2.898      0.004       0.000       0.001\n",
       "hours-per-week     0.0030      0.000     18.337      0.000       0.003       0.003\n",
       "==================================================================================\n",
       "\"\"\""
      ]
     },
     "execution_count": 15,
     "metadata": {},
     "output_type": "execute_result"
    }
   ],
   "source": [
    "# prepare the x and y variables\n",
    "x_po = pd.DataFrame(adult[['age','hours-per-week']])\n",
    "x_po = sm.add_constant(x_po)\n",
    "y_po = pd.DataFrame(adult[['education-num']])\n",
    "\n",
    "# run the Poisson regression using the GLM() command\n",
    "poisreg01 = sm.GLM(y_po, x_po, family = sm.families.Poisson()).fit()\n",
    "\n",
    "#Use the summary() command to view the results of the model.\n",
    "poisreg01.summary()"
   ]
  },
  {
   "cell_type": "markdown",
   "metadata": {},
   "source": [
    "31. Are there any variables that should be removed from the model from the previous exercise? If so, remove the variables and rerun the model."
   ]
  },
  {
   "cell_type": "code",
   "execution_count": 16,
   "metadata": {},
   "outputs": [
    {
     "data": {
      "text/plain": [
       "'No. Becase the p value of each variables is less than 0.05.'"
      ]
     },
     "execution_count": 16,
     "metadata": {},
     "output_type": "execute_result"
    }
   ],
   "source": [
    "'''No. Becase the p value of each variables is less than 0.05.'''"
   ]
  },
  {
   "cell_type": "markdown",
   "metadata": {},
   "source": [
    "32. Write the descriptive form of the final Poisson regression model from the previous exercise."
   ]
  },
  {
   "cell_type": "code",
   "execution_count": 17,
   "metadata": {},
   "outputs": [
    {
     "data": {
      "text/plain": [
       "'education-num = exp(2.1739 + 0.0004*age + 0.0030*hours-per-week)'"
      ]
     },
     "execution_count": 17,
     "metadata": {},
     "output_type": "execute_result"
    }
   ],
   "source": [
    "'''education-num = exp(2.1739 + 0.0004*age + 0.0030*hours-per-week)'''\n"
   ]
  },
  {
   "cell_type": "markdown",
   "metadata": {},
   "source": [
    "33. Obtain the predicted values using the model from the previous exercise. Compare the predicted values to the actual values."
   ]
  },
  {
   "cell_type": "code",
   "execution_count": 18,
   "metadata": {},
   "outputs": [
    {
     "data": {
      "text/plain": [
       "'Age coefficient is 0.0004, which give us exp(0.0004)=1.000400080011, that means, one year older will increase the education-num by 0.04%.\\nhours-per-week coefficient is 0.0030, which give us exp(0.0030)=1.003004504503, that means, one more hours per week will increase the education-num by 0.3%.\\n'"
      ]
     },
     "execution_count": 18,
     "metadata": {},
     "output_type": "execute_result"
    }
   ],
   "source": [
    "'''Age coefficient is 0.0004, which give us exp(0.0004)=1.000400080011, that means, one year older will increase the education-num by 0.04%.\n",
    "hours-per-week coefficient is 0.0030, which give us exp(0.0030)=1.003004504503, that means, one more hours per week will increase the education-num by 0.3%.\n",
    "'''"
   ]
  },
  {
   "cell_type": "code",
   "execution_count": null,
   "metadata": {},
   "outputs": [],
   "source": []
  }
 ],
 "metadata": {
  "kernelspec": {
   "display_name": "Python 3",
   "language": "python",
   "name": "python3"
  },
  "language_info": {
   "codemirror_mode": {
    "name": "ipython",
    "version": 3
   },
   "file_extension": ".py",
   "mimetype": "text/x-python",
   "name": "python",
   "nbconvert_exporter": "python",
   "pygments_lexer": "ipython3",
   "version": "3.7.6"
  }
 },
 "nbformat": 4,
 "nbformat_minor": 4
}
