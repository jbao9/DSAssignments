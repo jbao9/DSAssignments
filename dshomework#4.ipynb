{
 "cells": [
  {
   "cell_type": "markdown",
   "metadata": {},
   "source": [
    "# Course: MSIS-678 Knowledge Discovery & Data Warehousing\n",
    "# Data Science Using Python And R Exercise\n",
    "#Professor: Edward (Ted) Kreutzer\n",
    "\n",
    "#Student: Jun Bao"
   ]
  },
  {
   "cell_type": "markdown",
   "metadata": {},
   "source": [
    "## CHAPTER 10 CLUSTERING"
   ]
  },
  {
   "cell_type": "markdown",
   "metadata": {},
   "source": [
    "For the following exercises, work with the cereals data set. Use either Python or R to solve each problem."
   ]
  },
  {
   "cell_type": "markdown",
   "metadata": {},
   "source": [
    "15. Subset the Fat and Sodium variables into their own dataframe,X.Standardize the data set."
   ]
  },
  {
   "cell_type": "code",
   "execution_count": 1,
   "metadata": {},
   "outputs": [],
   "source": [
    "# import the libraries\n",
    "import numpy as np\n",
    "import pandas as pd\n",
    "from scipy import stats\n",
    "from sklearn.cluster import KMeans\n",
    "\n",
    "from sklearn.model_selection import train_test_split \n",
    "import statsmodels.api as sm\n",
    "import sklearn.metrics as met\n",
    "import matplotlib.pyplot as plt"
   ]
  },
  {
   "cell_type": "code",
   "execution_count": 2,
   "metadata": {},
   "outputs": [
    {
     "data": {
      "text/html": [
       "<div>\n",
       "<style scoped>\n",
       "    .dataframe tbody tr th:only-of-type {\n",
       "        vertical-align: middle;\n",
       "    }\n",
       "\n",
       "    .dataframe tbody tr th {\n",
       "        vertical-align: top;\n",
       "    }\n",
       "\n",
       "    .dataframe thead th {\n",
       "        text-align: right;\n",
       "    }\n",
       "</style>\n",
       "<table border=\"1\" class=\"dataframe\">\n",
       "  <thead>\n",
       "    <tr style=\"text-align: right;\">\n",
       "      <th></th>\n",
       "      <th>Fat</th>\n",
       "      <th>Sodium</th>\n",
       "    </tr>\n",
       "  </thead>\n",
       "  <tbody>\n",
       "    <tr>\n",
       "      <th>0</th>\n",
       "      <td>1</td>\n",
       "      <td>130</td>\n",
       "    </tr>\n",
       "    <tr>\n",
       "      <th>1</th>\n",
       "      <td>5</td>\n",
       "      <td>15</td>\n",
       "    </tr>\n",
       "    <tr>\n",
       "      <th>2</th>\n",
       "      <td>1</td>\n",
       "      <td>260</td>\n",
       "    </tr>\n",
       "    <tr>\n",
       "      <th>3</th>\n",
       "      <td>0</td>\n",
       "      <td>140</td>\n",
       "    </tr>\n",
       "    <tr>\n",
       "      <th>4</th>\n",
       "      <td>2</td>\n",
       "      <td>200</td>\n",
       "    </tr>\n",
       "    <tr>\n",
       "      <th>...</th>\n",
       "      <td>...</td>\n",
       "      <td>...</td>\n",
       "    </tr>\n",
       "    <tr>\n",
       "      <th>72</th>\n",
       "      <td>1</td>\n",
       "      <td>250</td>\n",
       "    </tr>\n",
       "    <tr>\n",
       "      <th>73</th>\n",
       "      <td>1</td>\n",
       "      <td>140</td>\n",
       "    </tr>\n",
       "    <tr>\n",
       "      <th>74</th>\n",
       "      <td>1</td>\n",
       "      <td>230</td>\n",
       "    </tr>\n",
       "    <tr>\n",
       "      <th>75</th>\n",
       "      <td>1</td>\n",
       "      <td>200</td>\n",
       "    </tr>\n",
       "    <tr>\n",
       "      <th>76</th>\n",
       "      <td>1</td>\n",
       "      <td>200</td>\n",
       "    </tr>\n",
       "  </tbody>\n",
       "</table>\n",
       "<p>77 rows × 2 columns</p>\n",
       "</div>"
      ],
      "text/plain": [
       "    Fat  Sodium\n",
       "0     1     130\n",
       "1     5      15\n",
       "2     1     260\n",
       "3     0     140\n",
       "4     2     200\n",
       "..  ...     ...\n",
       "72    1     250\n",
       "73    1     140\n",
       "74    1     230\n",
       "75    1     200\n",
       "76    1     200\n",
       "\n",
       "[77 rows x 2 columns]"
      ]
     },
     "execution_count": 2,
     "metadata": {},
     "output_type": "execute_result"
    }
   ],
   "source": [
    "# import the data set\n",
    "cereal = pd.read_csv('cereals.csv')\n",
    "# take a look of the two columns' values and make sense of them\n",
    "cereal[['Fat', 'Sodium']]"
   ]
  },
  {
   "cell_type": "code",
   "execution_count": 3,
   "metadata": {},
   "outputs": [
    {
     "data": {
      "text/html": [
       "<div>\n",
       "<style scoped>\n",
       "    .dataframe tbody tr th:only-of-type {\n",
       "        vertical-align: middle;\n",
       "    }\n",
       "\n",
       "    .dataframe tbody tr th {\n",
       "        vertical-align: top;\n",
       "    }\n",
       "\n",
       "    .dataframe thead th {\n",
       "        text-align: right;\n",
       "    }\n",
       "</style>\n",
       "<table border=\"1\" class=\"dataframe\">\n",
       "  <thead>\n",
       "    <tr style=\"text-align: right;\">\n",
       "      <th></th>\n",
       "      <th>Fat</th>\n",
       "      <th>Sodium</th>\n",
       "    </tr>\n",
       "  </thead>\n",
       "  <tbody>\n",
       "    <tr>\n",
       "      <th>0</th>\n",
       "      <td>-0.012988</td>\n",
       "      <td>-0.356306</td>\n",
       "    </tr>\n",
       "    <tr>\n",
       "      <th>1</th>\n",
       "      <td>3.987349</td>\n",
       "      <td>-1.737087</td>\n",
       "    </tr>\n",
       "    <tr>\n",
       "      <th>2</th>\n",
       "      <td>-0.012988</td>\n",
       "      <td>1.204578</td>\n",
       "    </tr>\n",
       "    <tr>\n",
       "      <th>3</th>\n",
       "      <td>-1.013072</td>\n",
       "      <td>-0.236238</td>\n",
       "    </tr>\n",
       "    <tr>\n",
       "      <th>4</th>\n",
       "      <td>0.987096</td>\n",
       "      <td>0.484170</td>\n",
       "    </tr>\n",
       "    <tr>\n",
       "      <th>...</th>\n",
       "      <td>...</td>\n",
       "      <td>...</td>\n",
       "    </tr>\n",
       "    <tr>\n",
       "      <th>72</th>\n",
       "      <td>-0.012988</td>\n",
       "      <td>1.084510</td>\n",
       "    </tr>\n",
       "    <tr>\n",
       "      <th>73</th>\n",
       "      <td>-0.012988</td>\n",
       "      <td>-0.236238</td>\n",
       "    </tr>\n",
       "    <tr>\n",
       "      <th>74</th>\n",
       "      <td>-0.012988</td>\n",
       "      <td>0.844374</td>\n",
       "    </tr>\n",
       "    <tr>\n",
       "      <th>75</th>\n",
       "      <td>-0.012988</td>\n",
       "      <td>0.484170</td>\n",
       "    </tr>\n",
       "    <tr>\n",
       "      <th>76</th>\n",
       "      <td>-0.012988</td>\n",
       "      <td>0.484170</td>\n",
       "    </tr>\n",
       "  </tbody>\n",
       "</table>\n",
       "<p>77 rows × 2 columns</p>\n",
       "</div>"
      ],
      "text/plain": [
       "         Fat    Sodium\n",
       "0  -0.012988 -0.356306\n",
       "1   3.987349 -1.737087\n",
       "2  -0.012988  1.204578\n",
       "3  -1.013072 -0.236238\n",
       "4   0.987096  0.484170\n",
       "..       ...       ...\n",
       "72 -0.012988  1.084510\n",
       "73 -0.012988 -0.236238\n",
       "74 -0.012988  0.844374\n",
       "75 -0.012988  0.484170\n",
       "76 -0.012988  0.484170\n",
       "\n",
       "[77 rows x 2 columns]"
      ]
     },
     "execution_count": 3,
     "metadata": {},
     "output_type": "execute_result"
    }
   ],
   "source": [
    "# standardize the predictor variables and convert into dataframe format\n",
    "xz = pd.DataFrame(stats.zscore(cereal[['Fat', 'Sodium']]), columns=['Fat', 'Sodium'])\n",
    "xz"
   ]
  },
  {
   "cell_type": "markdown",
   "metadata": {},
   "source": [
    "16. Run k‐means clustering on the data set, using three clusters."
   ]
  },
  {
   "cell_type": "code",
   "execution_count": 4,
   "metadata": {},
   "outputs": [],
   "source": [
    "# run the k-means algorithm\n",
    "kmeans = KMeans(n_clusters=3).fit(xz)"
   ]
  },
  {
   "cell_type": "markdown",
   "metadata": {},
   "source": [
    "17. Obtain the summary of each variable within each cluster and use the summaries to identify:\n",
    "a. A low fat, low sodium cluster."
   ]
  },
  {
   "cell_type": "code",
   "execution_count": 5,
   "metadata": {},
   "outputs": [
    {
     "data": {
      "text/plain": [
       "(             Fat     Sodium\n",
       " count  44.000000  44.000000\n",
       " mean   -0.376655   0.500543\n",
       " std     0.486648   0.596188\n",
       " min    -1.013072  -0.416340\n",
       " 25%    -1.013072   0.123966\n",
       " 50%    -0.012988   0.484170\n",
       " 75%    -0.012988   0.874391\n",
       " max    -0.012988   1.924986,\n",
       "              Fat     Sodium\n",
       " count  19.000000  19.000000\n",
       " mean    1.408184   0.063932\n",
       " std     0.768598   0.739608\n",
       " min     0.987096  -1.737087\n",
       " 25%     0.987096  -0.236238\n",
       " 50%     0.987096   0.003898\n",
       " 75%     1.987181   0.604238\n",
       " max     3.987349   1.564782,\n",
       "              Fat     Sodium\n",
       " count  14.000000  14.000000\n",
       " mean   -0.727334  -1.659901\n",
       " std     0.611301   0.410850\n",
       " min    -1.013072  -1.917189\n",
       " 25%    -1.013072  -1.917189\n",
       " 50%    -1.013072  -1.917189\n",
       " 75%    -1.013072  -1.466934\n",
       " max     0.987096  -0.836578)"
      ]
     },
     "execution_count": 5,
     "metadata": {},
     "output_type": "execute_result"
    }
   ],
   "source": [
    "# save the cluster membership information as its own object\n",
    "cluster = kmeans.labels_\n",
    "# seperate the records into 3 groups based on the cluster membership information\n",
    "cluster1 = xz.loc[cluster==0]\n",
    "cluster2 = xz.loc[cluster==1]\n",
    "cluster3 = xz.loc[cluster==2]\n",
    "# summarize the 3 clusters\n",
    "cluster1.describe(), cluster2.describe(), cluster3.describe()\n"
   ]
  },
  {
   "cell_type": "code",
   "execution_count": 6,
   "metadata": {},
   "outputs": [
    {
     "data": {
      "text/plain": [
       "'The low fat, low sodium cluster is cluster3.'"
      ]
     },
     "execution_count": 6,
     "metadata": {},
     "output_type": "execute_result"
    }
   ],
   "source": [
    "'''The low fat, low sodium cluster is cluster3.'''"
   ]
  },
  {
   "cell_type": "markdown",
   "metadata": {},
   "source": [
    "b. A low fat, high sodium cluster."
   ]
  },
  {
   "cell_type": "code",
   "execution_count": 7,
   "metadata": {},
   "outputs": [
    {
     "data": {
      "text/plain": [
       "'The low fat, high sodium cluster is cluster1.'"
      ]
     },
     "execution_count": 7,
     "metadata": {},
     "output_type": "execute_result"
    }
   ],
   "source": [
    "'''The low fat, high sodium cluster is cluster1.'''"
   ]
  },
  {
   "cell_type": "markdown",
   "metadata": {},
   "source": [
    "c. A high fat, high sodium cluster."
   ]
  },
  {
   "cell_type": "code",
   "execution_count": 8,
   "metadata": {},
   "outputs": [
    {
     "data": {
      "text/plain": [
       "'The high fat, high sodium cluster is cluster2'"
      ]
     },
     "execution_count": 8,
     "metadata": {},
     "output_type": "execute_result"
    }
   ],
   "source": [
    "'''The high fat, high sodium cluster is cluster2'''"
   ]
  },
  {
   "cell_type": "markdown",
   "metadata": {},
   "source": [
    "For the following exercises, work with the Framingham_training and Framingham_test data sets. Use only the Sex and Age fields. Standardize Age."
   ]
  },
  {
   "cell_type": "markdown",
   "metadata": {},
   "source": [
    "18. Run k‐means clustering on the Framingham_training data set, requesting k = 2 clusters."
   ]
  },
  {
   "cell_type": "code",
   "execution_count": 9,
   "metadata": {},
   "outputs": [
    {
     "data": {
      "text/html": [
       "<div>\n",
       "<style scoped>\n",
       "    .dataframe tbody tr th:only-of-type {\n",
       "        vertical-align: middle;\n",
       "    }\n",
       "\n",
       "    .dataframe tbody tr th {\n",
       "        vertical-align: top;\n",
       "    }\n",
       "\n",
       "    .dataframe thead th {\n",
       "        text-align: right;\n",
       "    }\n",
       "</style>\n",
       "<table border=\"1\" class=\"dataframe\">\n",
       "  <thead>\n",
       "    <tr style=\"text-align: right;\">\n",
       "      <th></th>\n",
       "      <th>Sex</th>\n",
       "      <th>Educ</th>\n",
       "      <th>Death</th>\n",
       "    </tr>\n",
       "  </thead>\n",
       "  <tbody>\n",
       "    <tr>\n",
       "      <th>0</th>\n",
       "      <td>2</td>\n",
       "      <td>3</td>\n",
       "      <td>0</td>\n",
       "    </tr>\n",
       "    <tr>\n",
       "      <th>1</th>\n",
       "      <td>2</td>\n",
       "      <td>2</td>\n",
       "      <td>0</td>\n",
       "    </tr>\n",
       "    <tr>\n",
       "      <th>2</th>\n",
       "      <td>1</td>\n",
       "      <td>1</td>\n",
       "      <td>0</td>\n",
       "    </tr>\n",
       "    <tr>\n",
       "      <th>3</th>\n",
       "      <td>2</td>\n",
       "      <td>1</td>\n",
       "      <td>0</td>\n",
       "    </tr>\n",
       "    <tr>\n",
       "      <th>4</th>\n",
       "      <td>2</td>\n",
       "      <td>1</td>\n",
       "      <td>0</td>\n",
       "    </tr>\n",
       "    <tr>\n",
       "      <th>...</th>\n",
       "      <td>...</td>\n",
       "      <td>...</td>\n",
       "      <td>...</td>\n",
       "    </tr>\n",
       "    <tr>\n",
       "      <th>995</th>\n",
       "      <td>2</td>\n",
       "      <td>1</td>\n",
       "      <td>1</td>\n",
       "    </tr>\n",
       "    <tr>\n",
       "      <th>996</th>\n",
       "      <td>2</td>\n",
       "      <td>2</td>\n",
       "      <td>1</td>\n",
       "    </tr>\n",
       "    <tr>\n",
       "      <th>997</th>\n",
       "      <td>1</td>\n",
       "      <td>1</td>\n",
       "      <td>1</td>\n",
       "    </tr>\n",
       "    <tr>\n",
       "      <th>998</th>\n",
       "      <td>2</td>\n",
       "      <td>2</td>\n",
       "      <td>1</td>\n",
       "    </tr>\n",
       "    <tr>\n",
       "      <th>999</th>\n",
       "      <td>2</td>\n",
       "      <td>2</td>\n",
       "      <td>1</td>\n",
       "    </tr>\n",
       "  </tbody>\n",
       "</table>\n",
       "<p>1000 rows × 3 columns</p>\n",
       "</div>"
      ],
      "text/plain": [
       "     Sex  Educ  Death\n",
       "0      2     3      0\n",
       "1      2     2      0\n",
       "2      1     1      0\n",
       "3      2     1      0\n",
       "4      2     1      0\n",
       "..   ...   ...    ...\n",
       "995    2     1      1\n",
       "996    2     2      1\n",
       "997    1     1      1\n",
       "998    2     2      1\n",
       "999    2     2      1\n",
       "\n",
       "[1000 rows x 3 columns]"
      ]
     },
     "execution_count": 9,
     "metadata": {},
     "output_type": "execute_result"
    }
   ],
   "source": [
    "# import the data set\n",
    "fram_tr = pd.read_csv('framingham_nb_training.csv')\n",
    "fram_tr"
   ]
  },
  {
   "cell_type": "code",
   "execution_count": 10,
   "metadata": {},
   "outputs": [
    {
     "data": {
      "text/html": [
       "<div>\n",
       "<style scoped>\n",
       "    .dataframe tbody tr th:only-of-type {\n",
       "        vertical-align: middle;\n",
       "    }\n",
       "\n",
       "    .dataframe tbody tr th {\n",
       "        vertical-align: top;\n",
       "    }\n",
       "\n",
       "    .dataframe thead th {\n",
       "        text-align: right;\n",
       "    }\n",
       "</style>\n",
       "<table border=\"1\" class=\"dataframe\">\n",
       "  <thead>\n",
       "    <tr style=\"text-align: right;\">\n",
       "      <th></th>\n",
       "      <th>Sex</th>\n",
       "      <th>Educ</th>\n",
       "      <th>Death</th>\n",
       "    </tr>\n",
       "  </thead>\n",
       "  <tbody>\n",
       "    <tr>\n",
       "      <th>0</th>\n",
       "      <td>0.984126</td>\n",
       "      <td>1.110023</td>\n",
       "      <td>-1.105542</td>\n",
       "    </tr>\n",
       "    <tr>\n",
       "      <th>1</th>\n",
       "      <td>0.984126</td>\n",
       "      <td>0.106386</td>\n",
       "      <td>-1.105542</td>\n",
       "    </tr>\n",
       "    <tr>\n",
       "      <th>2</th>\n",
       "      <td>-1.016130</td>\n",
       "      <td>-0.897252</td>\n",
       "      <td>-1.105542</td>\n",
       "    </tr>\n",
       "    <tr>\n",
       "      <th>3</th>\n",
       "      <td>0.984126</td>\n",
       "      <td>-0.897252</td>\n",
       "      <td>-1.105542</td>\n",
       "    </tr>\n",
       "    <tr>\n",
       "      <th>4</th>\n",
       "      <td>0.984126</td>\n",
       "      <td>-0.897252</td>\n",
       "      <td>-1.105542</td>\n",
       "    </tr>\n",
       "    <tr>\n",
       "      <th>...</th>\n",
       "      <td>...</td>\n",
       "      <td>...</td>\n",
       "      <td>...</td>\n",
       "    </tr>\n",
       "    <tr>\n",
       "      <th>995</th>\n",
       "      <td>0.984126</td>\n",
       "      <td>-0.897252</td>\n",
       "      <td>0.904534</td>\n",
       "    </tr>\n",
       "    <tr>\n",
       "      <th>996</th>\n",
       "      <td>0.984126</td>\n",
       "      <td>0.106386</td>\n",
       "      <td>0.904534</td>\n",
       "    </tr>\n",
       "    <tr>\n",
       "      <th>997</th>\n",
       "      <td>-1.016130</td>\n",
       "      <td>-0.897252</td>\n",
       "      <td>0.904534</td>\n",
       "    </tr>\n",
       "    <tr>\n",
       "      <th>998</th>\n",
       "      <td>0.984126</td>\n",
       "      <td>0.106386</td>\n",
       "      <td>0.904534</td>\n",
       "    </tr>\n",
       "    <tr>\n",
       "      <th>999</th>\n",
       "      <td>0.984126</td>\n",
       "      <td>0.106386</td>\n",
       "      <td>0.904534</td>\n",
       "    </tr>\n",
       "  </tbody>\n",
       "</table>\n",
       "<p>1000 rows × 3 columns</p>\n",
       "</div>"
      ],
      "text/plain": [
       "          Sex      Educ     Death\n",
       "0    0.984126  1.110023 -1.105542\n",
       "1    0.984126  0.106386 -1.105542\n",
       "2   -1.016130 -0.897252 -1.105542\n",
       "3    0.984126 -0.897252 -1.105542\n",
       "4    0.984126 -0.897252 -1.105542\n",
       "..        ...       ...       ...\n",
       "995  0.984126 -0.897252  0.904534\n",
       "996  0.984126  0.106386  0.904534\n",
       "997 -1.016130 -0.897252  0.904534\n",
       "998  0.984126  0.106386  0.904534\n",
       "999  0.984126  0.106386  0.904534\n",
       "\n",
       "[1000 rows x 3 columns]"
      ]
     },
     "execution_count": 10,
     "metadata": {},
     "output_type": "execute_result"
    }
   ],
   "source": [
    "# convert the variables into a standadrized data set and convert them into dataframe\n",
    "xz_fram_tr = pd.DataFrame(stats.zscore(fram_tr), columns=['Sex', 'Educ', 'Death'])\n",
    "xz_fram_tr"
   ]
  },
  {
   "cell_type": "code",
   "execution_count": 11,
   "metadata": {},
   "outputs": [
    {
     "data": {
      "text/plain": [
       "(          Sex      Educ     Death\n",
       " 0    0.984126  1.110023 -1.105542\n",
       " 1    0.984126  0.106386 -1.105542\n",
       " 2   -1.016130 -0.897252 -1.105542\n",
       " 3    0.984126 -0.897252 -1.105542\n",
       " 4    0.984126 -0.897252 -1.105542\n",
       " ..        ...       ...       ...\n",
       " 445 -1.016130  0.106386 -1.105542\n",
       " 446  0.984126 -0.897252 -1.105542\n",
       " 447 -1.016130  0.106386 -1.105542\n",
       " 448 -1.016130  0.106386 -1.105542\n",
       " 449  0.984126  0.106386 -1.105542\n",
       " \n",
       " [450 rows x 3 columns],\n",
       "           Sex      Educ     Death\n",
       " 450 -1.016130 -0.897252  0.904534\n",
       " 451 -1.016130  0.106386  0.904534\n",
       " 452  0.984126  0.106386  0.904534\n",
       " 453 -1.016130  0.106386  0.904534\n",
       " 454 -1.016130  0.106386  0.904534\n",
       " ..        ...       ...       ...\n",
       " 995  0.984126 -0.897252  0.904534\n",
       " 996  0.984126  0.106386  0.904534\n",
       " 997 -1.016130 -0.897252  0.904534\n",
       " 998  0.984126  0.106386  0.904534\n",
       " 999  0.984126  0.106386  0.904534\n",
       " \n",
       " [550 rows x 3 columns])"
      ]
     },
     "execution_count": 11,
     "metadata": {},
     "output_type": "execute_result"
    }
   ],
   "source": [
    "# run the k-means algothrim\n",
    "kmeans_fram_tr = KMeans(n_clusters=2).fit(xz_fram_tr)\n",
    "# cluster membership\n",
    "cluster_fram_tr = kmeans_fram_tr.labels_\n",
    "# seperate the records based on cluster membership\n",
    "cluster_fram_tr1 = xz_fram_tr.loc[cluster_fram_tr==0]\n",
    "cluster_fram_tr2 = xz_fram_tr.loc[cluster_fram_tr==1]\n",
    "cluster_fram_tr1, cluster_fram_tr2"
   ]
  },
  {
   "cell_type": "markdown",
   "metadata": {},
   "source": [
    "19. Construct a table of statistics summarizing your clusters. Describe what these two clus- ters consist of."
   ]
  },
  {
   "cell_type": "code",
   "execution_count": 12,
   "metadata": {},
   "outputs": [
    {
     "data": {
      "text/html": [
       "<div>\n",
       "<style scoped>\n",
       "    .dataframe tbody tr th:only-of-type {\n",
       "        vertical-align: middle;\n",
       "    }\n",
       "\n",
       "    .dataframe tbody tr th {\n",
       "        vertical-align: top;\n",
       "    }\n",
       "\n",
       "    .dataframe thead th {\n",
       "        text-align: right;\n",
       "    }\n",
       "</style>\n",
       "<table border=\"1\" class=\"dataframe\">\n",
       "  <thead>\n",
       "    <tr style=\"text-align: right;\">\n",
       "      <th></th>\n",
       "      <th>Sex</th>\n",
       "      <th>Educ</th>\n",
       "      <th>Death</th>\n",
       "    </tr>\n",
       "  </thead>\n",
       "  <tbody>\n",
       "    <tr>\n",
       "      <th>count</th>\n",
       "      <td>450.000000</td>\n",
       "      <td>450.000000</td>\n",
       "      <td>4.500000e+02</td>\n",
       "    </tr>\n",
       "    <tr>\n",
       "      <th>mean</th>\n",
       "      <td>0.166244</td>\n",
       "      <td>0.117537</td>\n",
       "      <td>-1.105542e+00</td>\n",
       "    </tr>\n",
       "    <tr>\n",
       "      <th>std</th>\n",
       "      <td>0.984478</td>\n",
       "      <td>0.999095</td>\n",
       "      <td>8.002502e-15</td>\n",
       "    </tr>\n",
       "    <tr>\n",
       "      <th>min</th>\n",
       "      <td>-1.016130</td>\n",
       "      <td>-0.897252</td>\n",
       "      <td>-1.105542e+00</td>\n",
       "    </tr>\n",
       "    <tr>\n",
       "      <th>25%</th>\n",
       "      <td>-1.016130</td>\n",
       "      <td>-0.897252</td>\n",
       "      <td>-1.105542e+00</td>\n",
       "    </tr>\n",
       "    <tr>\n",
       "      <th>50%</th>\n",
       "      <td>0.984126</td>\n",
       "      <td>0.106386</td>\n",
       "      <td>-1.105542e+00</td>\n",
       "    </tr>\n",
       "    <tr>\n",
       "      <th>75%</th>\n",
       "      <td>0.984126</td>\n",
       "      <td>1.110023</td>\n",
       "      <td>-1.105542e+00</td>\n",
       "    </tr>\n",
       "    <tr>\n",
       "      <th>max</th>\n",
       "      <td>0.984126</td>\n",
       "      <td>2.113661</td>\n",
       "      <td>-1.105542e+00</td>\n",
       "    </tr>\n",
       "  </tbody>\n",
       "</table>\n",
       "</div>"
      ],
      "text/plain": [
       "              Sex        Educ         Death\n",
       "count  450.000000  450.000000  4.500000e+02\n",
       "mean     0.166244    0.117537 -1.105542e+00\n",
       "std      0.984478    0.999095  8.002502e-15\n",
       "min     -1.016130   -0.897252 -1.105542e+00\n",
       "25%     -1.016130   -0.897252 -1.105542e+00\n",
       "50%      0.984126    0.106386 -1.105542e+00\n",
       "75%      0.984126    1.110023 -1.105542e+00\n",
       "max      0.984126    2.113661 -1.105542e+00"
      ]
     },
     "execution_count": 12,
     "metadata": {},
     "output_type": "execute_result"
    }
   ],
   "source": [
    "cluster_fram_tr1.describe()"
   ]
  },
  {
   "cell_type": "code",
   "execution_count": 13,
   "metadata": {},
   "outputs": [
    {
     "data": {
      "text/html": [
       "<div>\n",
       "<style scoped>\n",
       "    .dataframe tbody tr th:only-of-type {\n",
       "        vertical-align: middle;\n",
       "    }\n",
       "\n",
       "    .dataframe tbody tr th {\n",
       "        vertical-align: top;\n",
       "    }\n",
       "\n",
       "    .dataframe thead th {\n",
       "        text-align: right;\n",
       "    }\n",
       "</style>\n",
       "<table border=\"1\" class=\"dataframe\">\n",
       "  <thead>\n",
       "    <tr style=\"text-align: right;\">\n",
       "      <th></th>\n",
       "      <th>Sex</th>\n",
       "      <th>Educ</th>\n",
       "      <th>Death</th>\n",
       "    </tr>\n",
       "  </thead>\n",
       "  <tbody>\n",
       "    <tr>\n",
       "      <th>count</th>\n",
       "      <td>550.000000</td>\n",
       "      <td>550.000000</td>\n",
       "      <td>5.500000e+02</td>\n",
       "    </tr>\n",
       "    <tr>\n",
       "      <th>mean</th>\n",
       "      <td>-0.136017</td>\n",
       "      <td>-0.096167</td>\n",
       "      <td>9.045340e-01</td>\n",
       "    </tr>\n",
       "    <tr>\n",
       "      <th>std</th>\n",
       "      <td>0.993805</td>\n",
       "      <td>0.992237</td>\n",
       "      <td>5.222798e-15</td>\n",
       "    </tr>\n",
       "    <tr>\n",
       "      <th>min</th>\n",
       "      <td>-1.016130</td>\n",
       "      <td>-0.897252</td>\n",
       "      <td>9.045340e-01</td>\n",
       "    </tr>\n",
       "    <tr>\n",
       "      <th>25%</th>\n",
       "      <td>-1.016130</td>\n",
       "      <td>-0.897252</td>\n",
       "      <td>9.045340e-01</td>\n",
       "    </tr>\n",
       "    <tr>\n",
       "      <th>50%</th>\n",
       "      <td>-1.016130</td>\n",
       "      <td>-0.897252</td>\n",
       "      <td>9.045340e-01</td>\n",
       "    </tr>\n",
       "    <tr>\n",
       "      <th>75%</th>\n",
       "      <td>0.984126</td>\n",
       "      <td>0.106386</td>\n",
       "      <td>9.045340e-01</td>\n",
       "    </tr>\n",
       "    <tr>\n",
       "      <th>max</th>\n",
       "      <td>0.984126</td>\n",
       "      <td>2.113661</td>\n",
       "      <td>9.045340e-01</td>\n",
       "    </tr>\n",
       "  </tbody>\n",
       "</table>\n",
       "</div>"
      ],
      "text/plain": [
       "              Sex        Educ         Death\n",
       "count  550.000000  550.000000  5.500000e+02\n",
       "mean    -0.136017   -0.096167  9.045340e-01\n",
       "std      0.993805    0.992237  5.222798e-15\n",
       "min     -1.016130   -0.897252  9.045340e-01\n",
       "25%     -1.016130   -0.897252  9.045340e-01\n",
       "50%     -1.016130   -0.897252  9.045340e-01\n",
       "75%      0.984126    0.106386  9.045340e-01\n",
       "max      0.984126    2.113661  9.045340e-01"
      ]
     },
     "execution_count": 13,
     "metadata": {},
     "output_type": "execute_result"
    }
   ],
   "source": [
    "cluster_fram_tr2.describe()"
   ]
  },
  {
   "cell_type": "code",
   "execution_count": 14,
   "metadata": {},
   "outputs": [
    {
     "data": {
      "text/plain": [
       "'The statistics summarize the count, mean, standard diviation, minimum record, 25% percentile record, 50% percentile record, 75% percentile record, and maximum record of each cluster.'"
      ]
     },
     "execution_count": 14,
     "metadata": {},
     "output_type": "execute_result"
    }
   ],
   "source": [
    "'''The statistics summarize the count, mean, standard diviation, minimum record, 25% percentile record, 50% percentile record, 75% percentile record, and maximum record of each cluster.'''"
   ]
  },
  {
   "cell_type": "markdown",
   "metadata": {},
   "source": [
    "20. Perform k‐means clustering on the Framingham_test data set, requesting k = 2 clusters."
   ]
  },
  {
   "cell_type": "code",
   "execution_count": 15,
   "metadata": {},
   "outputs": [
    {
     "data": {
      "text/plain": [
       "(              Sex        Educ         Death\n",
       " count  525.000000  525.000000  5.250000e+02\n",
       " mean     0.117850    0.176494 -9.511897e-01\n",
       " std      0.988253    1.019801  1.333538e-15\n",
       " min     -1.049209   -0.926595 -9.511897e-01\n",
       " 25%     -1.049209   -0.926595 -9.511897e-01\n",
       " 50%      0.953099    0.015067 -9.511897e-01\n",
       " 75%      0.953099    0.956728 -9.511897e-01\n",
       " max      0.953099    1.898389 -9.511897e-01,\n",
       "               Sex        Educ         Death\n",
       " count  475.000000  475.000000  4.750000e+02\n",
       " mean    -0.130255   -0.195073  1.051315e+00\n",
       " std      0.998826    0.942004  1.378128e-14\n",
       " min     -1.049209   -0.926595  1.051315e+00\n",
       " 25%     -1.049209   -0.926595  1.051315e+00\n",
       " 50%     -1.049209   -0.926595  1.051315e+00\n",
       " 75%      0.953099    0.015067  1.051315e+00\n",
       " max      0.953099    1.898389  1.051315e+00)"
      ]
     },
     "execution_count": 15,
     "metadata": {},
     "output_type": "execute_result"
    }
   ],
   "source": [
    "fram_ts = pd.read_csv('framingham_nb_test.csv')\n",
    "xz_fram_ts = pd.DataFrame(stats.zscore(fram_ts), columns=['Sex', 'Educ', 'Death'])\n",
    "kmeans_fram_ts = KMeans(n_clusters=2).fit(xz_fram_ts)\n",
    "cluster_fram_ts = kmeans_fram_ts.labels_\n",
    "cluster_fram_ts1 = xz_fram_ts.loc[cluster_fram_ts==0]\n",
    "cluster_fram_ts2 = xz_fram_ts.loc[cluster_fram_ts==1]\n",
    "cluster_fram_ts1.describe(), cluster_fram_ts2.describe()"
   ]
  },
  {
   "cell_type": "markdown",
   "metadata": {},
   "source": [
    "21. Report the results from your test set. Are your clusters validated?"
   ]
  },
  {
   "cell_type": "code",
   "execution_count": 16,
   "metadata": {},
   "outputs": [
    {
     "data": {
      "text/plain": [
       "0.048394000000000006"
      ]
     },
     "execution_count": 16,
     "metadata": {},
     "output_type": "execute_result"
    }
   ],
   "source": [
    "# the 3 variables' mean value of cluster1 in traing set and the mean value of cluster2 in test set demonstrates similar value.\n",
    "# So, cluster1 in traning set vs. cluster2 in test set will compared together; \n",
    "# and cluster2 in traning set vs. cluster1 in training set will be compared together\n",
    "# Traing Sex mean in cluster1 - Test Sex mean in cluster2\n",
    "0.166244 - 0.117850"
   ]
  },
  {
   "cell_type": "code",
   "execution_count": 17,
   "metadata": {},
   "outputs": [
    {
     "data": {
      "text/plain": [
       "-0.05895700000000001"
      ]
     },
     "execution_count": 17,
     "metadata": {},
     "output_type": "execute_result"
    }
   ],
   "source": [
    "# Traing Educ mean in cluster1 - Test Educ mean in cluster2\n",
    "0.117537 - 0.176494"
   ]
  },
  {
   "cell_type": "code",
   "execution_count": 18,
   "metadata": {},
   "outputs": [
    {
     "data": {
      "text/plain": [
       "-0.1543523"
      ]
     },
     "execution_count": 18,
     "metadata": {},
     "output_type": "execute_result"
    }
   ],
   "source": [
    "# Traing Death mean in cluster1 - Test Death mean in cluster2\n",
    "(-1.105542) - (-0.9511897)"
   ]
  },
  {
   "cell_type": "code",
   "execution_count": 19,
   "metadata": {},
   "outputs": [
    {
     "data": {
      "text/plain": [
       "-0.005761999999999989"
      ]
     },
     "execution_count": 19,
     "metadata": {},
     "output_type": "execute_result"
    }
   ],
   "source": [
    "# Traing Sex mean in cluster2 - Test Sex mean in cluster1\n",
    "(-0.136017) - (-0.130255)"
   ]
  },
  {
   "cell_type": "code",
   "execution_count": 20,
   "metadata": {},
   "outputs": [
    {
     "data": {
      "text/plain": [
       "0.098906"
      ]
     },
     "execution_count": 20,
     "metadata": {},
     "output_type": "execute_result"
    }
   ],
   "source": [
    "# Traing Educ mean in cluster2 - Test Educ mean in cluster1\n",
    "(-0.096167) - (-0.195073)"
   ]
  },
  {
   "cell_type": "code",
   "execution_count": 21,
   "metadata": {},
   "outputs": [
    {
     "data": {
      "text/plain": [
       "-0.14678100000000005"
      ]
     },
     "execution_count": 21,
     "metadata": {},
     "output_type": "execute_result"
    }
   ],
   "source": [
    "# Traing Death mean in cluster1 - Test Death mean in cluster2\n",
    "0.9045340 - 1.051315"
   ]
  },
  {
   "cell_type": "code",
   "execution_count": 22,
   "metadata": {},
   "outputs": [
    {
     "data": {
      "text/plain": [
       "'The mean values of variables Sex, Educ and Death are relatively small.'"
      ]
     },
     "execution_count": 22,
     "metadata": {},
     "output_type": "execute_result"
    }
   ],
   "source": [
    "'''The mean values of variables Sex, Educ and Death are relatively small.'''"
   ]
  },
  {
   "cell_type": "markdown",
   "metadata": {},
   "source": [
    "22. Again run k‐means clustering on the Framingham_training data set,this time specifying k = 3 clusters."
   ]
  },
  {
   "cell_type": "code",
   "execution_count": 23,
   "metadata": {},
   "outputs": [],
   "source": [
    "# run the k-means algothrim\n",
    "kmeans_fram_tr_k3 = KMeans(n_clusters=3).fit(xz_fram_tr)\n",
    "# cluster membership\n",
    "cluster_fram_tr_k3 = kmeans_fram_tr_k3.labels_\n",
    "# seperate the records based on cluster membership\n",
    "cluster_fram_k3_tr1 = xz_fram_tr.loc[cluster_fram_tr_k3==0]\n",
    "cluster_fram_k3_tr2 = xz_fram_tr.loc[cluster_fram_tr_k3==1]\n",
    "cluster_fram_k3_tr3 = xz_fram_tr.loc[cluster_fram_tr_k3==2]\n"
   ]
  },
  {
   "cell_type": "markdown",
   "metadata": {},
   "source": [
    "23. Construct a table of statistics summarizing your clusters. Describe which records belong to each cluster."
   ]
  },
  {
   "cell_type": "code",
   "execution_count": 24,
   "metadata": {},
   "outputs": [
    {
     "data": {
      "text/plain": [
       "(                Sex        Educ         Death\n",
       " count  3.080000e+02  308.000000  3.080000e+02\n",
       " mean  -1.016130e+00   -0.076094  9.045340e-01\n",
       " std    5.560149e-15    1.049687  4.448119e-15\n",
       " min   -1.016130e+00   -0.897252  9.045340e-01\n",
       " 25%   -1.016130e+00   -0.897252  9.045340e-01\n",
       " 50%   -1.016130e+00   -0.897252  9.045340e-01\n",
       " 75%   -1.016130e+00    0.357295  9.045340e-01\n",
       " max   -1.016130e+00    2.113661  9.045340e-01,\n",
       "               Sex        Educ         Death\n",
       " count  450.000000  450.000000  4.500000e+02\n",
       " mean     0.166244    0.117537 -1.105542e+00\n",
       " std      0.984478    0.999095  8.002502e-15\n",
       " min     -1.016130   -0.897252 -1.105542e+00\n",
       " 25%     -1.016130   -0.897252 -1.105542e+00\n",
       " 50%      0.984126    0.106386 -1.105542e+00\n",
       " 75%      0.984126    1.110023 -1.105542e+00\n",
       " max      0.984126    2.113661 -1.105542e+00,\n",
       "                 Sex        Educ         Death\n",
       " count  2.420000e+02  242.000000  2.420000e+02\n",
       " mean   9.841260e-01   -0.121714  9.045340e-01\n",
       " std    3.893834e-15    0.915431  4.116339e-15\n",
       " min    9.841260e-01   -0.897252  9.045340e-01\n",
       " 25%    9.841260e-01   -0.897252  9.045340e-01\n",
       " 50%    9.841260e-01    0.106386  9.045340e-01\n",
       " 75%    9.841260e-01    0.106386  9.045340e-01\n",
       " max    9.841260e-01    2.113661  9.045340e-01)"
      ]
     },
     "execution_count": 24,
     "metadata": {},
     "output_type": "execute_result"
    }
   ],
   "source": [
    "cluster_fram_k3_tr1.describe(), cluster_fram_k3_tr2.describe(), cluster_fram_k3_tr3.describe()"
   ]
  },
  {
   "cell_type": "markdown",
   "metadata": {},
   "source": [
    "24. Perform k‐means clustering on the Framingham_test data set, specifying k = 3 clusters."
   ]
  },
  {
   "cell_type": "code",
   "execution_count": 25,
   "metadata": {},
   "outputs": [],
   "source": [
    "fram_ts = pd.read_csv('framingham_nb_test.csv')\n",
    "xz_fram_ts = pd.DataFrame(stats.zscore(fram_ts), columns=['Sex', 'Educ', 'Death'])\n",
    "kmeans_fram_ts_k3 = KMeans(n_clusters=3).fit(xz_fram_ts)\n",
    "cluster_fram_ts_k3 = kmeans_fram_ts_k3.labels_\n",
    "cluster_fram_k3_ts1 = xz_fram_ts.loc[cluster_fram_ts_k3==0]\n",
    "cluster_fram_k3_ts2 = xz_fram_ts.loc[cluster_fram_ts_k3==1]\n",
    "cluster_fram_k3_ts3 = xz_fram_ts.loc[cluster_fram_ts_k3==2]\n"
   ]
  },
  {
   "cell_type": "markdown",
   "metadata": {},
   "source": [
    "25. Report the results from your test set. Are your clusters validated?"
   ]
  },
  {
   "cell_type": "code",
   "execution_count": 26,
   "metadata": {},
   "outputs": [
    {
     "data": {
      "text/plain": [
       "(                Sex        Educ         Death\n",
       " count  2.190000e+02  219.000000  2.190000e+02\n",
       " mean  -1.049209e+00    0.156961 -9.511897e-01\n",
       " std    2.893193e-15    1.067251  1.335320e-15\n",
       " min   -1.049209e+00   -0.926595 -9.511897e-01\n",
       " 25%   -1.049209e+00   -0.926595 -9.511897e-01\n",
       " 50%   -1.049209e+00    0.015067 -9.511897e-01\n",
       " 75%   -1.049209e+00    0.956728 -9.511897e-01\n",
       " max   -1.049209e+00    1.898389 -9.511897e-01,\n",
       "               Sex        Educ         Death\n",
       " count  475.000000  475.000000  4.750000e+02\n",
       " mean    -0.130255   -0.195073  1.051315e+00\n",
       " std      0.998826    0.942004  1.378128e-14\n",
       " min     -1.049209   -0.926595  1.051315e+00\n",
       " 25%     -1.049209   -0.926595  1.051315e+00\n",
       " 50%     -1.049209   -0.926595  1.051315e+00\n",
       " 75%      0.953099    0.015067  1.051315e+00\n",
       " max      0.953099    1.898389  1.051315e+00,\n",
       "                 Sex        Educ         Death\n",
       " count  3.060000e+02  306.000000  3.060000e+02\n",
       " mean   9.530986e-01    0.190474 -9.511897e-01\n",
       " std    3.558533e-15    0.985976  1.223246e-15\n",
       " min    9.530986e-01   -0.926595 -9.511897e-01\n",
       " 25%    9.530986e-01   -0.926595 -9.511897e-01\n",
       " 50%    9.530986e-01    0.015067 -9.511897e-01\n",
       " 75%    9.530986e-01    0.956728 -9.511897e-01\n",
       " max    9.530986e-01    1.898389 -9.511897e-01)"
      ]
     },
     "execution_count": 26,
     "metadata": {},
     "output_type": "execute_result"
    }
   ],
   "source": [
    "cluster_fram_k3_ts1.describe(), cluster_fram_k3_ts3.describe(), cluster_fram_k3_ts2.describe()"
   ]
  },
  {
   "cell_type": "code",
   "execution_count": 27,
   "metadata": {},
   "outputs": [
    {
     "data": {
      "text/plain": [
       "'Yes, the clusters are validated.'"
      ]
     },
     "execution_count": 27,
     "metadata": {},
     "output_type": "execute_result"
    }
   ],
   "source": [
    "'''Yes, the clusters are validated.'''"
   ]
  },
  {
   "cell_type": "markdown",
   "metadata": {},
   "source": [
    "26. Run k‐means clustering on the Framingham_training data set. Specify k = 4 clusters."
   ]
  },
  {
   "cell_type": "code",
   "execution_count": 28,
   "metadata": {},
   "outputs": [],
   "source": [
    "# run the k-means algothrim\n",
    "kmeans_fram_tr_k4 = KMeans(n_clusters=4).fit(xz_fram_tr)\n",
    "# cluster membership\n",
    "cluster_fram_tr_k4 = kmeans_fram_tr_k4.labels_\n",
    "# seperate the records based on cluster membership\n",
    "cluster_fram_k4_tr1 = xz_fram_tr.loc[cluster_fram_tr_k4==0]\n",
    "cluster_fram_k4_tr2 = xz_fram_tr.loc[cluster_fram_tr_k4==1]\n",
    "cluster_fram_k4_tr3 = xz_fram_tr.loc[cluster_fram_tr_k4==2]\n",
    "cluster_fram_k4_tr4 = xz_fram_tr.loc[cluster_fram_tr_k4==3]\n"
   ]
  },
  {
   "cell_type": "markdown",
   "metadata": {},
   "source": [
    "27. Construct a table of statistics summarizing your four clusters. Clearly describe your four clusters."
   ]
  },
  {
   "cell_type": "code",
   "execution_count": 29,
   "metadata": {},
   "outputs": [
    {
     "data": {
      "text/plain": [
       "(                Sex        Educ         Death\n",
       " count  1.840000e+02  184.000000  1.840000e+02\n",
       " mean  -1.016130e+00    0.117295 -1.105542e+00\n",
       " std    2.671805e-15    1.054396  2.894456e-15\n",
       " min   -1.016130e+00   -0.897252 -1.105542e+00\n",
       " 25%   -1.016130e+00   -0.897252 -1.105542e+00\n",
       " 50%   -1.016130e+00    0.106386 -1.105542e+00\n",
       " 75%   -1.016130e+00    1.110023 -1.105542e+00\n",
       " max   -1.016130e+00    2.113661 -1.105542e+00,\n",
       "                 Sex        Educ         Death\n",
       " count  2.420000e+02  242.000000  2.420000e+02\n",
       " mean   9.841260e-01   -0.121714  9.045340e-01\n",
       " std    3.893834e-15    0.915431  4.116339e-15\n",
       " min    9.841260e-01   -0.897252  9.045340e-01\n",
       " 25%    9.841260e-01   -0.897252  9.045340e-01\n",
       " 50%    9.841260e-01    0.106386  9.045340e-01\n",
       " 75%    9.841260e-01    0.106386  9.045340e-01\n",
       " max    9.841260e-01    2.113661  9.045340e-01,\n",
       "                 Sex        Educ         Death\n",
       " count  3.080000e+02  308.000000  3.080000e+02\n",
       " mean  -1.016130e+00   -0.076094  9.045340e-01\n",
       " std    5.560149e-15    1.049687  4.448119e-15\n",
       " min   -1.016130e+00   -0.897252  9.045340e-01\n",
       " 25%   -1.016130e+00   -0.897252  9.045340e-01\n",
       " 50%   -1.016130e+00   -0.897252  9.045340e-01\n",
       " 75%   -1.016130e+00    0.357295  9.045340e-01\n",
       " max   -1.016130e+00    2.113661  9.045340e-01,\n",
       "                 Sex        Educ         Death\n",
       " count  2.660000e+02  266.000000  2.660000e+02\n",
       " mean   9.841260e-01    0.117705 -1.105542e+00\n",
       " std    4.338032e-15    0.961008  5.561579e-15\n",
       " min    9.841260e-01   -0.897252 -1.105542e+00\n",
       " 25%    9.841260e-01   -0.897252 -1.105542e+00\n",
       " 50%    9.841260e-01    0.106386 -1.105542e+00\n",
       " 75%    9.841260e-01    1.110023 -1.105542e+00\n",
       " max    9.841260e-01    2.113661 -1.105542e+00)"
      ]
     },
     "execution_count": 29,
     "metadata": {},
     "output_type": "execute_result"
    }
   ],
   "source": [
    "cluster_fram_k4_tr1.describe(), cluster_fram_k4_tr2.describe(), cluster_fram_k4_tr3.describe(), cluster_fram_k4_tr4.describe()"
   ]
  },
  {
   "cell_type": "markdown",
   "metadata": {},
   "source": [
    "28. Perform k‐means clustering on the Framingham_test data set, requesting k = 4 clusters."
   ]
  },
  {
   "cell_type": "code",
   "execution_count": 30,
   "metadata": {},
   "outputs": [],
   "source": [
    "xz_fram_ts = pd.DataFrame(stats.zscore(fram_ts), columns=['Sex', 'Educ', 'Death'])\n",
    "kmeans_fram_ts_k4 = KMeans(n_clusters=4).fit(xz_fram_ts)\n",
    "cluster_fram_ts_k4 = kmeans_fram_ts_k4.labels_\n",
    "cluster_fram_k4_ts1 = xz_fram_ts.loc[cluster_fram_ts_k4==0]\n",
    "cluster_fram_k4_ts2 = xz_fram_ts.loc[cluster_fram_ts_k4==1]\n",
    "cluster_fram_k4_ts3 = xz_fram_ts.loc[cluster_fram_ts_k4==2]\n",
    "cluster_fram_k4_ts4 = xz_fram_ts.loc[cluster_fram_ts_k4==3]\n"
   ]
  },
  {
   "cell_type": "markdown",
   "metadata": {},
   "source": [
    "29. Report the results from your test set. Are your clusters validated?"
   ]
  },
  {
   "cell_type": "code",
   "execution_count": 31,
   "metadata": {},
   "outputs": [
    {
     "data": {
      "text/plain": [
       "(                Sex        Educ         Death\n",
       " count  3.060000e+02  306.000000  3.060000e+02\n",
       " mean   9.530986e-01    0.190474 -9.511897e-01\n",
       " std    3.558533e-15    0.985976  1.223246e-15\n",
       " min    9.530986e-01   -0.926595 -9.511897e-01\n",
       " 25%    9.530986e-01   -0.926595 -9.511897e-01\n",
       " 50%    9.530986e-01    0.015067 -9.511897e-01\n",
       " 75%    9.530986e-01    0.956728 -9.511897e-01\n",
       " max    9.530986e-01    1.898389 -9.511897e-01,\n",
       "                 Sex        Educ         Death\n",
       " count  2.570000e+02  257.000000  2.570000e+02\n",
       " mean  -1.049209e+00   -0.153480  1.051315e+00\n",
       " std    3.114690e-15    1.018982  1.334867e-15\n",
       " min   -1.049209e+00   -0.926595  1.051315e+00\n",
       " 25%   -1.049209e+00   -0.926595  1.051315e+00\n",
       " 50%   -1.049209e+00   -0.926595  1.051315e+00\n",
       " 75%   -1.049209e+00    0.015067  1.051315e+00\n",
       " max   -1.049209e+00    1.898389  1.051315e+00,\n",
       "                 Sex        Educ       Death\n",
       " count  2.180000e+02  218.000000  218.000000\n",
       " mean   9.530986e-01   -0.244106    1.051315\n",
       " std    3.115779e-15    0.841971    0.000000\n",
       " min    9.530986e-01   -0.926595    1.051315\n",
       " 25%    9.530986e-01   -0.926595    1.051315\n",
       " 50%    9.530986e-01   -0.926595    1.051315\n",
       " 75%    9.530986e-01    0.015067    1.051315\n",
       " max    9.530986e-01    1.898389    1.051315,\n",
       "                 Sex        Educ         Death\n",
       " count  2.190000e+02  219.000000  2.190000e+02\n",
       " mean  -1.049209e+00    0.156961 -9.511897e-01\n",
       " std    2.893193e-15    1.067251  1.335320e-15\n",
       " min   -1.049209e+00   -0.926595 -9.511897e-01\n",
       " 25%   -1.049209e+00   -0.926595 -9.511897e-01\n",
       " 50%   -1.049209e+00    0.015067 -9.511897e-01\n",
       " 75%   -1.049209e+00    0.956728 -9.511897e-01\n",
       " max   -1.049209e+00    1.898389 -9.511897e-01)"
      ]
     },
     "execution_count": 31,
     "metadata": {},
     "output_type": "execute_result"
    }
   ],
   "source": [
    "cluster_fram_k4_ts1.describe(), cluster_fram_k4_ts2.describe(), cluster_fram_k4_ts3.describe(), cluster_fram_k4_ts4.describe()\n"
   ]
  },
  {
   "cell_type": "code",
   "execution_count": 32,
   "metadata": {},
   "outputs": [
    {
     "data": {
      "text/plain": [
       "'Yes, the clusters are validated.'"
      ]
     },
     "execution_count": 32,
     "metadata": {},
     "output_type": "execute_result"
    }
   ],
   "source": [
    "'''Yes, the clusters are validated.'''"
   ]
  },
  {
   "cell_type": "markdown",
   "metadata": {},
   "source": [
    "30. Which of the clustering solutions, k = 2, 3, or 4, do you prefer, and why?"
   ]
  },
  {
   "cell_type": "code",
   "execution_count": 33,
   "metadata": {},
   "outputs": [
    {
     "data": {
      "text/plain": [
       "'The best k should results in minimum total within-cluster variation (or error). By running describe() command, we got the statsitical summary of each cluster. I believe k=3 is the best clustering solustion. Becase the std(standard divation) are the minimum.'"
      ]
     },
     "execution_count": 33,
     "metadata": {},
     "output_type": "execute_result"
    }
   ],
   "source": [
    " '''The best k should results in minimum total within-cluster variation (or error). By running describe() command, we got the statsitical summary of each cluster. I believe k=3 is the best clustering solustion. Becase the std(standard divation) are the minimum.'''\n",
    " "
   ]
  },
  {
   "cell_type": "markdown",
   "metadata": {},
   "source": [
    "## CHAPTER 11 REGRESSION MODELING"
   ]
  },
  {
   "cell_type": "markdown",
   "metadata": {},
   "source": [
    "For the following exercises, work with the adult data set. Use either Python or R to solve each problem."
   ]
  },
  {
   "cell_type": "markdown",
   "metadata": {},
   "source": [
    "25. Partition the data set into a training set and a test set, each containing about half of the records."
   ]
  },
  {
   "cell_type": "code",
   "execution_count": 34,
   "metadata": {},
   "outputs": [
    {
     "data": {
      "text/plain": [
       "((25000, 15),\n",
       " (12500, 15),\n",
       " (12500, 15),\n",
       "        age         workclass  demogweight     education  education-num  \\\n",
       " 15055   52           Private       224198       HS-grad              9   \n",
       " 5758    20           Private       165804  Some-college             10   \n",
       " 17647   41           Private       216968     Bachelors             13   \n",
       " 16149   40           Private       353432          10th              6   \n",
       " 19513   50           Private       174102       HS-grad              9   \n",
       " ...    ...               ...          ...           ...            ...   \n",
       " 919     21           Private       186648  Some-college             10   \n",
       " 20691   36           Private       265881       HS-grad              9   \n",
       " 5699    23           Private       149224       HS-grad              9   \n",
       " 10742   37           Private       231180       HS-grad              9   \n",
       " 16921   27  Self-emp-not-inc       140863           9th              5   \n",
       " \n",
       "            marital-status         occupation   relationship   race     sex  \\\n",
       " 15055            Divorced              Sales  Not-in-family  White  Female   \n",
       " 5758        Never-married       Adm-clerical      Own-child  Other  Female   \n",
       " 17647       Never-married  Handlers-cleaners  Not-in-family  Black    Male   \n",
       " 16149            Divorced  Machine-op-inspct  Not-in-family  White  Female   \n",
       " 19513            Divorced       Craft-repair      Own-child  White    Male   \n",
       " ...                   ...                ...            ...    ...     ...   \n",
       " 919         Never-married      Other-service      Own-child  White    Male   \n",
       " 20691            Divorced  Machine-op-inspct      Unmarried  White  Female   \n",
       " 5699        Never-married              Sales  Not-in-family  White    Male   \n",
       " 10742  Married-civ-spouse  Machine-op-inspct        Husband  White    Male   \n",
       " 16921  Married-civ-spouse       Craft-repair        Husband  White    Male   \n",
       " \n",
       "        capital-gain  capital-loss  hours-per-week native-country  income  \n",
       " 15055             0             0              48  United-States  <=50K.  \n",
       " 5758              0             0              40  United-States  <=50K.  \n",
       " 17647             0             0              40              ?  <=50K.  \n",
       " 16149             0             0              35  United-States  <=50K.  \n",
       " 19513             0             0              40    Puerto-Rico  <=50K.  \n",
       " ...             ...           ...             ...            ...     ...  \n",
       " 919               0             0              20  United-States  <=50K.  \n",
       " 20691             0             0              40  United-States  <=50K.  \n",
       " 5699              0             0              40  United-States  <=50K.  \n",
       " 10742             0             0              40  United-States  <=50K.  \n",
       " 16921             0             0              40  United-States  <=50K.  \n",
       " \n",
       " [12500 rows x 15 columns],\n",
       " 12500)"
      ]
     },
     "execution_count": 34,
     "metadata": {},
     "output_type": "execute_result"
    }
   ],
   "source": [
    "# import the data set\n",
    "adult = pd.read_csv('Adult')\n",
    "# partition the data set\n",
    "adult_train, adult_test = train_test_split(adult, test_size=0.5, random_state=7)\n",
    "\n",
    "adult.shape, adult_train.shape, adult_test.shape, adult_train, len(adult_train)\n"
   ]
  },
  {
   "cell_type": "markdown",
   "metadata": {},
   "source": [
    "26. Run a regression model to predict Hours per Week using Age and Education Num. Obtain a summary of the model. Are there any predictor variables that should not be in the model?"
   ]
  },
  {
   "cell_type": "code",
   "execution_count": 35,
   "metadata": {},
   "outputs": [
    {
     "data": {
      "text/html": [
       "<table class=\"simpletable\">\n",
       "<caption>OLS Regression Results</caption>\n",
       "<tr>\n",
       "  <th>Dep. Variable:</th>     <td>hours-per-week</td>  <th>  R-squared:         </th> <td>   0.023</td> \n",
       "</tr>\n",
       "<tr>\n",
       "  <th>Model:</th>                   <td>OLS</td>       <th>  Adj. R-squared:    </th> <td>   0.023</td> \n",
       "</tr>\n",
       "<tr>\n",
       "  <th>Method:</th>             <td>Least Squares</td>  <th>  F-statistic:       </th> <td>   150.2</td> \n",
       "</tr>\n",
       "<tr>\n",
       "  <th>Date:</th>             <td>Tue, 15 Sep 2020</td> <th>  Prob (F-statistic):</th> <td>3.33e-65</td> \n",
       "</tr>\n",
       "<tr>\n",
       "  <th>Time:</th>                 <td>23:25:15</td>     <th>  Log-Likelihood:    </th> <td> -49119.</td> \n",
       "</tr>\n",
       "<tr>\n",
       "  <th>No. Observations:</th>      <td> 12500</td>      <th>  AIC:               </th> <td>9.824e+04</td>\n",
       "</tr>\n",
       "<tr>\n",
       "  <th>Df Residuals:</th>          <td> 12497</td>      <th>  BIC:               </th> <td>9.827e+04</td>\n",
       "</tr>\n",
       "<tr>\n",
       "  <th>Df Model:</th>              <td>     2</td>      <th>                     </th>     <td> </td>    \n",
       "</tr>\n",
       "<tr>\n",
       "  <th>Covariance Type:</th>      <td>nonrobust</td>    <th>                     </th>     <td> </td>    \n",
       "</tr>\n",
       "</table>\n",
       "<table class=\"simpletable\">\n",
       "<tr>\n",
       "        <td></td>           <th>coef</th>     <th>std err</th>      <th>t</th>      <th>P>|t|</th>  <th>[0.025</th>    <th>0.975]</th>  \n",
       "</tr>\n",
       "<tr>\n",
       "  <th>const</th>         <td>   31.3236</td> <td>    0.534</td> <td>   58.707</td> <td> 0.000</td> <td>   30.278</td> <td>   32.369</td>\n",
       "</tr>\n",
       "<tr>\n",
       "  <th>age</th>           <td>    0.0604</td> <td>    0.008</td> <td>    7.515</td> <td> 0.000</td> <td>    0.045</td> <td>    0.076</td>\n",
       "</tr>\n",
       "<tr>\n",
       "  <th>education-num</th> <td>    0.6552</td> <td>    0.042</td> <td>   15.447</td> <td> 0.000</td> <td>    0.572</td> <td>    0.738</td>\n",
       "</tr>\n",
       "</table>\n",
       "<table class=\"simpletable\">\n",
       "<tr>\n",
       "  <th>Omnibus:</th>       <td>948.519</td> <th>  Durbin-Watson:     </th> <td>   1.976</td>\n",
       "</tr>\n",
       "<tr>\n",
       "  <th>Prob(Omnibus):</th> <td> 0.000</td>  <th>  Jarque-Bera (JB):  </th> <td>4542.064</td>\n",
       "</tr>\n",
       "<tr>\n",
       "  <th>Skew:</th>          <td> 0.204</td>  <th>  Prob(JB):          </th> <td>    0.00</td>\n",
       "</tr>\n",
       "<tr>\n",
       "  <th>Kurtosis:</th>      <td> 5.925</td>  <th>  Cond. No.          </th> <td>    204.</td>\n",
       "</tr>\n",
       "</table><br/><br/>Warnings:<br/>[1] Standard Errors assume that the covariance matrix of the errors is correctly specified."
      ],
      "text/plain": [
       "<class 'statsmodels.iolib.summary.Summary'>\n",
       "\"\"\"\n",
       "                            OLS Regression Results                            \n",
       "==============================================================================\n",
       "Dep. Variable:         hours-per-week   R-squared:                       0.023\n",
       "Model:                            OLS   Adj. R-squared:                  0.023\n",
       "Method:                 Least Squares   F-statistic:                     150.2\n",
       "Date:                Tue, 15 Sep 2020   Prob (F-statistic):           3.33e-65\n",
       "Time:                        23:25:15   Log-Likelihood:                -49119.\n",
       "No. Observations:               12500   AIC:                         9.824e+04\n",
       "Df Residuals:                   12497   BIC:                         9.827e+04\n",
       "Df Model:                           2                                         \n",
       "Covariance Type:            nonrobust                                         \n",
       "=================================================================================\n",
       "                    coef    std err          t      P>|t|      [0.025      0.975]\n",
       "---------------------------------------------------------------------------------\n",
       "const            31.3236      0.534     58.707      0.000      30.278      32.369\n",
       "age               0.0604      0.008      7.515      0.000       0.045       0.076\n",
       "education-num     0.6552      0.042     15.447      0.000       0.572       0.738\n",
       "==============================================================================\n",
       "Omnibus:                      948.519   Durbin-Watson:                   1.976\n",
       "Prob(Omnibus):                  0.000   Jarque-Bera (JB):             4542.064\n",
       "Skew:                           0.204   Prob(JB):                         0.00\n",
       "Kurtosis:                       5.925   Cond. No.                         204.\n",
       "==============================================================================\n",
       "\n",
       "Warnings:\n",
       "[1] Standard Errors assume that the covariance matrix of the errors is correctly specified.\n",
       "\"\"\""
      ]
     },
     "execution_count": 35,
     "metadata": {},
     "output_type": "execute_result"
    }
   ],
   "source": [
    "# separate the predictor variables and the target variable and save into dataframe format\n",
    "x = pd.DataFrame(adult_train[['age', 'education-num']])\n",
    "y = pd.DataFrame(adult_train[['hours-per-week']])\n",
    "# add a constant variable to our predictor variables\n",
    "x = sm.add_constant(x)\n",
    "#  run the multiple regression mode\n",
    "model01 = sm.OLS(y, x).fit()\n",
    "# obtain the results(summary) of the regression model\n",
    "model01.summary()"
   ]
  },
  {
   "cell_type": "code",
   "execution_count": 36,
   "metadata": {},
   "outputs": [
    {
     "data": {
      "text/plain": [
       "'There is no predictor variables that should not be in the model, because the p value of these 2 variables is less than 0.05.'"
      ]
     },
     "execution_count": 36,
     "metadata": {},
     "output_type": "execute_result"
    }
   ],
   "source": [
    "'''There is no predictor variables that should not be in the model, because the p value of these 2 variables is less than 0.05.'''"
   ]
  },
  {
   "cell_type": "markdown",
   "metadata": {},
   "source": [
    "27. Validate the model from the previous exercise."
   ]
  },
  {
   "cell_type": "code",
   "execution_count": 37,
   "metadata": {},
   "outputs": [
    {
     "data": {
      "text/html": [
       "<table class=\"simpletable\">\n",
       "<caption>OLS Regression Results</caption>\n",
       "<tr>\n",
       "  <th>Dep. Variable:</th>     <td>hours-per-week</td>  <th>  R-squared:         </th> <td>   0.028</td> \n",
       "</tr>\n",
       "<tr>\n",
       "  <th>Model:</th>                   <td>OLS</td>       <th>  Adj. R-squared:    </th> <td>   0.027</td> \n",
       "</tr>\n",
       "<tr>\n",
       "  <th>Method:</th>             <td>Least Squares</td>  <th>  F-statistic:       </th> <td>   177.2</td> \n",
       "</tr>\n",
       "<tr>\n",
       "  <th>Date:</th>             <td>Tue, 15 Sep 2020</td> <th>  Prob (F-statistic):</th> <td>1.35e-76</td> \n",
       "</tr>\n",
       "<tr>\n",
       "  <th>Time:</th>                 <td>23:25:15</td>     <th>  Log-Likelihood:    </th> <td> -48763.</td> \n",
       "</tr>\n",
       "<tr>\n",
       "  <th>No. Observations:</th>      <td> 12500</td>      <th>  AIC:               </th> <td>9.753e+04</td>\n",
       "</tr>\n",
       "<tr>\n",
       "  <th>Df Residuals:</th>          <td> 12497</td>      <th>  BIC:               </th> <td>9.755e+04</td>\n",
       "</tr>\n",
       "<tr>\n",
       "  <th>Df Model:</th>              <td>     2</td>      <th>                     </th>     <td> </td>    \n",
       "</tr>\n",
       "<tr>\n",
       "  <th>Covariance Type:</th>      <td>nonrobust</td>    <th>                     </th>     <td> </td>    \n",
       "</tr>\n",
       "</table>\n",
       "<table class=\"simpletable\">\n",
       "<tr>\n",
       "        <td></td>           <th>coef</th>     <th>std err</th>      <th>t</th>      <th>P>|t|</th>  <th>[0.025</th>    <th>0.975]</th>  \n",
       "</tr>\n",
       "<tr>\n",
       "  <th>const</th>         <td>   31.0673</td> <td>    0.526</td> <td>   59.062</td> <td> 0.000</td> <td>   30.036</td> <td>   32.098</td>\n",
       "</tr>\n",
       "<tr>\n",
       "  <th>age</th>           <td>    0.0551</td> <td>    0.008</td> <td>    7.023</td> <td> 0.000</td> <td>    0.040</td> <td>    0.070</td>\n",
       "</tr>\n",
       "<tr>\n",
       "  <th>education-num</th> <td>    0.7301</td> <td>    0.043</td> <td>   17.144</td> <td> 0.000</td> <td>    0.647</td> <td>    0.814</td>\n",
       "</tr>\n",
       "</table>\n",
       "<table class=\"simpletable\">\n",
       "<tr>\n",
       "  <th>Omnibus:</th>       <td>1050.613</td> <th>  Durbin-Watson:     </th> <td>   2.011</td>\n",
       "</tr>\n",
       "<tr>\n",
       "  <th>Prob(Omnibus):</th>  <td> 0.000</td>  <th>  Jarque-Bera (JB):  </th> <td>5647.349</td>\n",
       "</tr>\n",
       "<tr>\n",
       "  <th>Skew:</th>           <td> 0.213</td>  <th>  Prob(JB):          </th> <td>    0.00</td>\n",
       "</tr>\n",
       "<tr>\n",
       "  <th>Kurtosis:</th>       <td> 6.265</td>  <th>  Cond. No.          </th> <td>    207.</td>\n",
       "</tr>\n",
       "</table><br/><br/>Warnings:<br/>[1] Standard Errors assume that the covariance matrix of the errors is correctly specified."
      ],
      "text/plain": [
       "<class 'statsmodels.iolib.summary.Summary'>\n",
       "\"\"\"\n",
       "                            OLS Regression Results                            \n",
       "==============================================================================\n",
       "Dep. Variable:         hours-per-week   R-squared:                       0.028\n",
       "Model:                            OLS   Adj. R-squared:                  0.027\n",
       "Method:                 Least Squares   F-statistic:                     177.2\n",
       "Date:                Tue, 15 Sep 2020   Prob (F-statistic):           1.35e-76\n",
       "Time:                        23:25:15   Log-Likelihood:                -48763.\n",
       "No. Observations:               12500   AIC:                         9.753e+04\n",
       "Df Residuals:                   12497   BIC:                         9.755e+04\n",
       "Df Model:                           2                                         \n",
       "Covariance Type:            nonrobust                                         \n",
       "=================================================================================\n",
       "                    coef    std err          t      P>|t|      [0.025      0.975]\n",
       "---------------------------------------------------------------------------------\n",
       "const            31.0673      0.526     59.062      0.000      30.036      32.098\n",
       "age               0.0551      0.008      7.023      0.000       0.040       0.070\n",
       "education-num     0.7301      0.043     17.144      0.000       0.647       0.814\n",
       "==============================================================================\n",
       "Omnibus:                     1050.613   Durbin-Watson:                   2.011\n",
       "Prob(Omnibus):                  0.000   Jarque-Bera (JB):             5647.349\n",
       "Skew:                           0.213   Prob(JB):                         0.00\n",
       "Kurtosis:                       6.265   Cond. No.                         207.\n",
       "==============================================================================\n",
       "\n",
       "Warnings:\n",
       "[1] Standard Errors assume that the covariance matrix of the errors is correctly specified.\n",
       "\"\"\""
      ]
     },
     "execution_count": 37,
     "metadata": {},
     "output_type": "execute_result"
    }
   ],
   "source": [
    "# To verify the regression model results, we run the same code on the adult_test data set\n",
    "\n",
    "# separate the predictor variables and the target variable and save into dataframe format\n",
    "x_test = pd.DataFrame(adult_test[['age', 'education-num']])\n",
    "y_test = pd.DataFrame(adult_test[['hours-per-week']])\n",
    "# add a constant variable to our predictor variables\n",
    "x_test = sm.add_constant(x_test)\n",
    "#  run the multiple regression mode\n",
    "model01_test = sm.OLS(y_test, x_test).fit()\n",
    "# obtain the results(summary) of the regression model\n",
    "model01_test.summary()\n"
   ]
  },
  {
   "cell_type": "code",
   "execution_count": 38,
   "metadata": {},
   "outputs": [
    {
     "data": {
      "text/plain": [
       "'The summary() of the test set is smililar with the summary() of the trainning set. So the model is validated.'"
      ]
     },
     "execution_count": 38,
     "metadata": {},
     "output_type": "execute_result"
    }
   ],
   "source": [
    "'''The summary() of the test set is smililar with the summary() of the trainning set. So the model is validated.'''"
   ]
  },
  {
   "cell_type": "markdown",
   "metadata": {},
   "source": [
    "28. Use the regression equation to complete this sentence: “The estimated Hours per Week\n",
    "equals....”"
   ]
  },
  {
   "cell_type": "code",
   "execution_count": 39,
   "metadata": {},
   "outputs": [
    {
     "data": {
      "text/plain": [
       "'The estimated Hours per Week = 31.3236 + 0.0604(age) + 0.6552(education-num) '"
      ]
     },
     "execution_count": 39,
     "metadata": {},
     "output_type": "execute_result"
    }
   ],
   "source": [
    "'''The estimated Hours per Week = 31.3236 + 0.0604(age) + 0.6552(education-num) '''"
   ]
  },
  {
   "cell_type": "markdown",
   "metadata": {},
   "source": [
    "29. Interpret the coefficient for Age."
   ]
  },
  {
   "cell_type": "code",
   "execution_count": 40,
   "metadata": {},
   "outputs": [
    {
     "data": {
      "text/plain": [
       "'If the person is older, the person tend to spend more hours per week.'"
      ]
     },
     "execution_count": 40,
     "metadata": {},
     "output_type": "execute_result"
    }
   ],
   "source": [
    "'''If the person is older, the person tend to spend more hours per week.'''"
   ]
  },
  {
   "cell_type": "markdown",
   "metadata": {},
   "source": [
    "30. Interpret the coefficient for Education Num."
   ]
  },
  {
   "cell_type": "code",
   "execution_count": 41,
   "metadata": {},
   "outputs": [
    {
     "data": {
      "text/plain": [
       "'If the person have more years of education (have higher education level), the person tend to spend much more hours per week.'"
      ]
     },
     "execution_count": 41,
     "metadata": {},
     "output_type": "execute_result"
    }
   ],
   "source": [
    "'''If the person have more years of education (have higher education level), the person tend to spend much more hours per week.'''"
   ]
  },
  {
   "cell_type": "markdown",
   "metadata": {},
   "source": [
    "31. Find and interpret the value of s."
   ]
  },
  {
   "cell_type": "code",
   "execution_count": 42,
   "metadata": {},
   "outputs": [
    {
     "data": {
      "text/plain": [
       "12.313734325050063"
      ]
     },
     "execution_count": 42,
     "metadata": {},
     "output_type": "execute_result"
    }
   ],
   "source": [
    "# value of s = statistic s = standard error of the estimate = standard error of the regression\n",
    "np.sqrt(model01.scale)"
   ]
  },
  {
   "cell_type": "code",
   "execution_count": 43,
   "metadata": {},
   "outputs": [
    {
     "data": {
      "text/plain": [
       "'S value represents the average distance that the observed values fall from the regression line. Conveniently, it tells you how wrong the regression model is on average using the units of the response variable. Smaller values are better because it indicates that the observations are closer to the fitted line.\\nIn this case the S value is 12.313734325050063, which tells us that the average distance of the data points from the fitted line is about 12.31% hours-per-week.'"
      ]
     },
     "execution_count": 43,
     "metadata": {},
     "output_type": "execute_result"
    }
   ],
   "source": [
    "'''S value represents the average distance that the observed values fall from the regression line. Conveniently, it tells you how wrong the regression model is on average using the units of the response variable. Smaller values are better because it indicates that the observations are closer to the fitted line.\n",
    "In this case the S value is 12.313734325050063, which tells us that the average distance of the data points from the fitted line is about 12.31% hours-per-week.'''\n"
   ]
  },
  {
   "cell_type": "markdown",
   "metadata": {},
   "source": [
    "32. Find and interpret R2adj ."
   ]
  },
  {
   "cell_type": "code",
   "execution_count": 44,
   "metadata": {},
   "outputs": [
    {
     "data": {
      "text/plain": [
       "\"R2adj represents the percentage variation in the dependent variable (hours per week) that is explained by the independent variables (age, education_num). \\nThe higher the value, the better the explainability of the model, with the highest value being one. \\nIn our case, the Radj  value of 0.027 means that 2.7% of the variation in the variable 'hours per week' is explained by the variables 'age, education_num'.\""
      ]
     },
     "execution_count": 44,
     "metadata": {},
     "output_type": "execute_result"
    }
   ],
   "source": [
    "'''R2adj represents the percentage variation in the dependent variable (hours per week) that is explained by the independent variables (age, education_num). \n",
    "The higher the value, the better the explainability of the model, with the highest value being one. \n",
    "In our case, the Radj  value of 0.027 means that 2.7% of the variation in the variable 'hours per week' is explained by the variables 'age, education_num'.'''"
   ]
  },
  {
   "cell_type": "markdown",
   "metadata": {},
   "source": [
    "33. Find MAE Baseline and MAE Regression, and determine whether the regression model outperformed its baseline model."
   ]
  },
  {
   "cell_type": "code",
   "execution_count": 45,
   "metadata": {},
   "outputs": [
    {
     "data": {
      "text/plain": [
       "-0.00947211297442685"
      ]
     },
     "execution_count": 45,
     "metadata": {},
     "output_type": "execute_result"
    }
   ],
   "source": [
    "# MAE Baseline = the MAE of prediction model(developed by test data set) over acutal value of the test data set \n",
    "\n",
    "# prepare the y values\n",
    "y_pred_test = model01_test.predict(x_test)\n",
    "ytrue_test = pd.DataFrame(adult_test[['hours-per-week']])\n",
    "# obtain the MAE\n",
    "MAE_Baseline = met.mean_absolute_error(y_true=ytrue_test, y_pred=y_pred_test)\n",
    "\n",
    "# MAE Regression = the MAE of prediction model(developed by trainning data set) over actual value of the test data set\n",
    "# prepare the y values\n",
    "y_pred = model01.predict(x_test)\n",
    "# obtain the MAE\n",
    "MAE_regression = met.mean_absolute_error(y_true=ytrue_test, y_pred=y_pred)\n",
    "\n",
    "# compare the MAE Baseline VS. MAE Regression\n",
    "MAE_regression - MAE_Baseline"
   ]
  },
  {
   "cell_type": "code",
   "execution_count": 46,
   "metadata": {},
   "outputs": [
    {
     "data": {
      "text/plain": [
       "'Since the value of Mean Absolute Error of regression model is less than the Mean Absolute Error of baseline, our regression model did beat the baseline model.'"
      ]
     },
     "execution_count": 46,
     "metadata": {},
     "output_type": "execute_result"
    }
   ],
   "source": [
    "'''Since the value of Mean Absolute Error of regression model is less than the Mean Absolute Error of baseline, our regression model did beat the baseline model.'''"
   ]
  },
  {
   "cell_type": "markdown",
   "metadata": {},
   "source": [
    "For the following exercises, work with the bank_reg_training and the bank_reg_test data sets. Use either Python or R to solve each problem."
   ]
  },
  {
   "cell_type": "markdown",
   "metadata": {},
   "source": [
    "34. Use the training set to run a regression predicting Credit Score, based on Debt‐to‐Income Ratio and Request Amount. Obtain a summary of the model. Do both predictors belong in the model?"
   ]
  },
  {
   "cell_type": "code",
   "execution_count": 47,
   "metadata": {},
   "outputs": [
    {
     "data": {
      "text/plain": [
       "((10693, 5), (10775, 5))"
      ]
     },
     "execution_count": 47,
     "metadata": {},
     "output_type": "execute_result"
    }
   ],
   "source": [
    "# import the data set\n",
    "bank_reg_train = pd.read_csv('bank_reg_training')\n",
    "bank_reg_test = pd.read_csv('bank_reg_test')\n",
    "\n",
    "bank_reg_train.shape, bank_reg_test.shape"
   ]
  },
  {
   "cell_type": "code",
   "execution_count": 48,
   "metadata": {},
   "outputs": [
    {
     "data": {
      "text/html": [
       "<table class=\"simpletable\">\n",
       "<caption>OLS Regression Results</caption>\n",
       "<tr>\n",
       "  <th>Dep. Variable:</th>      <td>Credit Score</td>   <th>  R-squared:         </th> <td>   0.028</td> \n",
       "</tr>\n",
       "<tr>\n",
       "  <th>Model:</th>                   <td>OLS</td>       <th>  Adj. R-squared:    </th> <td>   0.028</td> \n",
       "</tr>\n",
       "<tr>\n",
       "  <th>Method:</th>             <td>Least Squares</td>  <th>  F-statistic:       </th> <td>   156.2</td> \n",
       "</tr>\n",
       "<tr>\n",
       "  <th>Date:</th>             <td>Tue, 15 Sep 2020</td> <th>  Prob (F-statistic):</th> <td>1.37e-67</td> \n",
       "</tr>\n",
       "<tr>\n",
       "  <th>Time:</th>                 <td>23:25:16</td>     <th>  Log-Likelihood:    </th> <td> -59972.</td> \n",
       "</tr>\n",
       "<tr>\n",
       "  <th>No. Observations:</th>      <td> 10693</td>      <th>  AIC:               </th> <td>1.199e+05</td>\n",
       "</tr>\n",
       "<tr>\n",
       "  <th>Df Residuals:</th>          <td> 10690</td>      <th>  BIC:               </th> <td>1.200e+05</td>\n",
       "</tr>\n",
       "<tr>\n",
       "  <th>Df Model:</th>              <td>     2</td>      <th>                     </th>     <td> </td>    \n",
       "</tr>\n",
       "<tr>\n",
       "  <th>Covariance Type:</th>      <td>nonrobust</td>    <th>                     </th>     <td> </td>    \n",
       "</tr>\n",
       "</table>\n",
       "<table class=\"simpletable\">\n",
       "<tr>\n",
       "            <td></td>              <th>coef</th>     <th>std err</th>      <th>t</th>      <th>P>|t|</th>  <th>[0.025</th>    <th>0.975]</th>  \n",
       "</tr>\n",
       "<tr>\n",
       "  <th>const</th>                <td>  668.4562</td> <td>    1.336</td> <td>  500.275</td> <td> 0.000</td> <td>  665.837</td> <td>  671.075</td>\n",
       "</tr>\n",
       "<tr>\n",
       "  <th>Debt-to-Income Ratio</th> <td>  -48.1262</td> <td>    4.785</td> <td>  -10.058</td> <td> 0.000</td> <td>  -57.505</td> <td>  -38.747</td>\n",
       "</tr>\n",
       "<tr>\n",
       "  <th>Request Amount</th>       <td>    0.0011</td> <td> 6.84e-05</td> <td>   15.727</td> <td> 0.000</td> <td>    0.001</td> <td>    0.001</td>\n",
       "</tr>\n",
       "</table>\n",
       "<table class=\"simpletable\">\n",
       "<tr>\n",
       "  <th>Omnibus:</th>       <td>1658.575</td> <th>  Durbin-Watson:     </th> <td>   1.991</td>\n",
       "</tr>\n",
       "<tr>\n",
       "  <th>Prob(Omnibus):</th>  <td> 0.000</td>  <th>  Jarque-Bera (JB):  </th> <td>2844.250</td>\n",
       "</tr>\n",
       "<tr>\n",
       "  <th>Skew:</th>           <td>-1.021</td>  <th>  Prob(JB):          </th> <td>    0.00</td>\n",
       "</tr>\n",
       "<tr>\n",
       "  <th>Kurtosis:</th>       <td> 4.487</td>  <th>  Cond. No.          </th> <td>1.24e+05</td>\n",
       "</tr>\n",
       "</table><br/><br/>Warnings:<br/>[1] Standard Errors assume that the covariance matrix of the errors is correctly specified.<br/>[2] The condition number is large, 1.24e+05. This might indicate that there are<br/>strong multicollinearity or other numerical problems."
      ],
      "text/plain": [
       "<class 'statsmodels.iolib.summary.Summary'>\n",
       "\"\"\"\n",
       "                            OLS Regression Results                            \n",
       "==============================================================================\n",
       "Dep. Variable:           Credit Score   R-squared:                       0.028\n",
       "Model:                            OLS   Adj. R-squared:                  0.028\n",
       "Method:                 Least Squares   F-statistic:                     156.2\n",
       "Date:                Tue, 15 Sep 2020   Prob (F-statistic):           1.37e-67\n",
       "Time:                        23:25:16   Log-Likelihood:                -59972.\n",
       "No. Observations:               10693   AIC:                         1.199e+05\n",
       "Df Residuals:                   10690   BIC:                         1.200e+05\n",
       "Df Model:                           2                                         \n",
       "Covariance Type:            nonrobust                                         \n",
       "========================================================================================\n",
       "                           coef    std err          t      P>|t|      [0.025      0.975]\n",
       "----------------------------------------------------------------------------------------\n",
       "const                  668.4562      1.336    500.275      0.000     665.837     671.075\n",
       "Debt-to-Income Ratio   -48.1262      4.785    -10.058      0.000     -57.505     -38.747\n",
       "Request Amount           0.0011   6.84e-05     15.727      0.000       0.001       0.001\n",
       "==============================================================================\n",
       "Omnibus:                     1658.575   Durbin-Watson:                   1.991\n",
       "Prob(Omnibus):                  0.000   Jarque-Bera (JB):             2844.250\n",
       "Skew:                          -1.021   Prob(JB):                         0.00\n",
       "Kurtosis:                       4.487   Cond. No.                     1.24e+05\n",
       "==============================================================================\n",
       "\n",
       "Warnings:\n",
       "[1] Standard Errors assume that the covariance matrix of the errors is correctly specified.\n",
       "[2] The condition number is large, 1.24e+05. This might indicate that there are\n",
       "strong multicollinearity or other numerical problems.\n",
       "\"\"\""
      ]
     },
     "execution_count": 48,
     "metadata": {},
     "output_type": "execute_result"
    }
   ],
   "source": [
    "# separate the predictor variables and the target variable and save into dataframe format\n",
    "x_bk_reg_tr = pd.DataFrame(bank_reg_train[['Debt-to-Income Ratio', 'Request Amount']])\n",
    "y_bk_reg_tr = pd.DataFrame(bank_reg_train[['Credit Score']])\n",
    "# add a constant variable to our predictor variables\n",
    "x_bk_reg_tr = sm.add_constant(x_bk_reg_tr)\n",
    "#  run the multiple regression mode\n",
    "model02 = sm.OLS(y_bk_reg_tr, x_bk_reg_tr).fit()\n",
    "# obtain the results(summary) of the regression model\n",
    "model02.summary()"
   ]
  },
  {
   "cell_type": "code",
   "execution_count": 49,
   "metadata": {},
   "outputs": [
    {
     "data": {
      "text/plain": [
       "'Since the p value of both predoctor variables are less than 0.05, both predictors do belong in the model.'"
      ]
     },
     "execution_count": 49,
     "metadata": {},
     "output_type": "execute_result"
    }
   ],
   "source": [
    "'''Since the p value of both predoctor variables are less than 0.05, both predictors do belong in the model.'''"
   ]
  },
  {
   "cell_type": "markdown",
   "metadata": {},
   "source": [
    "35. Validate the model from the previous exercise."
   ]
  },
  {
   "cell_type": "code",
   "execution_count": 50,
   "metadata": {},
   "outputs": [
    {
     "data": {
      "text/html": [
       "<table class=\"simpletable\">\n",
       "<caption>OLS Regression Results</caption>\n",
       "<tr>\n",
       "  <th>Dep. Variable:</th>      <td>Credit Score</td>   <th>  R-squared:         </th> <td>   0.038</td> \n",
       "</tr>\n",
       "<tr>\n",
       "  <th>Model:</th>                   <td>OLS</td>       <th>  Adj. R-squared:    </th> <td>   0.038</td> \n",
       "</tr>\n",
       "<tr>\n",
       "  <th>Method:</th>             <td>Least Squares</td>  <th>  F-statistic:       </th> <td>   215.4</td> \n",
       "</tr>\n",
       "<tr>\n",
       "  <th>Date:</th>             <td>Tue, 15 Sep 2020</td> <th>  Prob (F-statistic):</th> <td>1.94e-92</td> \n",
       "</tr>\n",
       "<tr>\n",
       "  <th>Time:</th>                 <td>23:25:16</td>     <th>  Log-Likelihood:    </th> <td> -60395.</td> \n",
       "</tr>\n",
       "<tr>\n",
       "  <th>No. Observations:</th>      <td> 10775</td>      <th>  AIC:               </th> <td>1.208e+05</td>\n",
       "</tr>\n",
       "<tr>\n",
       "  <th>Df Residuals:</th>          <td> 10772</td>      <th>  BIC:               </th> <td>1.208e+05</td>\n",
       "</tr>\n",
       "<tr>\n",
       "  <th>Df Model:</th>              <td>     2</td>      <th>                     </th>     <td> </td>    \n",
       "</tr>\n",
       "<tr>\n",
       "  <th>Covariance Type:</th>      <td>nonrobust</td>    <th>                     </th>     <td> </td>    \n",
       "</tr>\n",
       "</table>\n",
       "<table class=\"simpletable\">\n",
       "<tr>\n",
       "            <td></td>              <th>coef</th>     <th>std err</th>      <th>t</th>      <th>P>|t|</th>  <th>[0.025</th>    <th>0.975]</th>  \n",
       "</tr>\n",
       "<tr>\n",
       "  <th>const</th>                <td>  665.4987</td> <td>    1.328</td> <td>  501.265</td> <td> 0.000</td> <td>  662.896</td> <td>  668.101</td>\n",
       "</tr>\n",
       "<tr>\n",
       "  <th>Debt-to-Income Ratio</th> <td>  -52.1374</td> <td>    4.826</td> <td>  -10.803</td> <td> 0.000</td> <td>  -61.597</td> <td>  -42.677</td>\n",
       "</tr>\n",
       "<tr>\n",
       "  <th>Request Amount</th>       <td>    0.0013</td> <td> 6.85e-05</td> <td>   19.013</td> <td> 0.000</td> <td>    0.001</td> <td>    0.001</td>\n",
       "</tr>\n",
       "</table>\n",
       "<table class=\"simpletable\">\n",
       "<tr>\n",
       "  <th>Omnibus:</th>       <td>1792.693</td> <th>  Durbin-Watson:     </th> <td>   1.985</td>\n",
       "</tr>\n",
       "<tr>\n",
       "  <th>Prob(Omnibus):</th>  <td> 0.000</td>  <th>  Jarque-Bera (JB):  </th> <td>3194.120</td>\n",
       "</tr>\n",
       "<tr>\n",
       "  <th>Skew:</th>           <td>-1.067</td>  <th>  Prob(JB):          </th> <td>    0.00</td>\n",
       "</tr>\n",
       "<tr>\n",
       "  <th>Kurtosis:</th>       <td> 4.600</td>  <th>  Cond. No.          </th> <td>1.25e+05</td>\n",
       "</tr>\n",
       "</table><br/><br/>Warnings:<br/>[1] Standard Errors assume that the covariance matrix of the errors is correctly specified.<br/>[2] The condition number is large, 1.25e+05. This might indicate that there are<br/>strong multicollinearity or other numerical problems."
      ],
      "text/plain": [
       "<class 'statsmodels.iolib.summary.Summary'>\n",
       "\"\"\"\n",
       "                            OLS Regression Results                            \n",
       "==============================================================================\n",
       "Dep. Variable:           Credit Score   R-squared:                       0.038\n",
       "Model:                            OLS   Adj. R-squared:                  0.038\n",
       "Method:                 Least Squares   F-statistic:                     215.4\n",
       "Date:                Tue, 15 Sep 2020   Prob (F-statistic):           1.94e-92\n",
       "Time:                        23:25:16   Log-Likelihood:                -60395.\n",
       "No. Observations:               10775   AIC:                         1.208e+05\n",
       "Df Residuals:                   10772   BIC:                         1.208e+05\n",
       "Df Model:                           2                                         \n",
       "Covariance Type:            nonrobust                                         \n",
       "========================================================================================\n",
       "                           coef    std err          t      P>|t|      [0.025      0.975]\n",
       "----------------------------------------------------------------------------------------\n",
       "const                  665.4987      1.328    501.265      0.000     662.896     668.101\n",
       "Debt-to-Income Ratio   -52.1374      4.826    -10.803      0.000     -61.597     -42.677\n",
       "Request Amount           0.0013   6.85e-05     19.013      0.000       0.001       0.001\n",
       "==============================================================================\n",
       "Omnibus:                     1792.693   Durbin-Watson:                   1.985\n",
       "Prob(Omnibus):                  0.000   Jarque-Bera (JB):             3194.120\n",
       "Skew:                          -1.067   Prob(JB):                         0.00\n",
       "Kurtosis:                       4.600   Cond. No.                     1.25e+05\n",
       "==============================================================================\n",
       "\n",
       "Warnings:\n",
       "[1] Standard Errors assume that the covariance matrix of the errors is correctly specified.\n",
       "[2] The condition number is large, 1.25e+05. This might indicate that there are\n",
       "strong multicollinearity or other numerical problems.\n",
       "\"\"\""
      ]
     },
     "execution_count": 50,
     "metadata": {},
     "output_type": "execute_result"
    }
   ],
   "source": [
    "# To verify the regression model results, we run the same code on the bank_reg_test data set\n",
    "\n",
    "# separate the predictor variables and the target variable and save into dataframe format\n",
    "x_bk_reg_ts = pd.DataFrame(bank_reg_test[['Debt-to-Income Ratio', 'Request Amount']])\n",
    "y_bk_reg_ts = pd.DataFrame(bank_reg_test[['Credit Score']])\n",
    "# add a constant variable to our predictor variables\n",
    "x_bk_reg_ts = sm.add_constant(x_bk_reg_ts)\n",
    "#  run the multiple regression mode\n",
    "model02_test = sm.OLS(y_bk_reg_ts, x_bk_reg_ts).fit()\n",
    "# obtain the results(summary) of the regression model\n",
    "model02_test.summary()\n"
   ]
  },
  {
   "cell_type": "code",
   "execution_count": 51,
   "metadata": {},
   "outputs": [
    {
     "data": {
      "text/plain": [
       "'The summary() of the test set is smililar with the summary() of the trainning set. So the model is validated.'"
      ]
     },
     "execution_count": 51,
     "metadata": {},
     "output_type": "execute_result"
    }
   ],
   "source": [
    "'''The summary() of the test set is smililar with the summary() of the trainning set. So the model is validated.'''"
   ]
  },
  {
   "cell_type": "markdown",
   "metadata": {},
   "source": [
    "36. Use the regression equation to complete this sentence: “The estimated Credit Score\n",
    "equals....”"
   ]
  },
  {
   "cell_type": "code",
   "execution_count": 52,
   "metadata": {},
   "outputs": [
    {
     "data": {
      "text/plain": [
       "'The estimated Credit Score = 668.4562 + (-48.1262)*Debt-to-Income Ratio + 0.0011*Request Amount '"
      ]
     },
     "execution_count": 52,
     "metadata": {},
     "output_type": "execute_result"
    }
   ],
   "source": [
    "'''The estimated Credit Score = 668.4562 + (-48.1262)*Debt-to-Income Ratio + 0.0011*Request Amount '''"
   ]
  },
  {
   "cell_type": "markdown",
   "metadata": {},
   "source": [
    "37. Interpret the coefficient for Debt‐to‐Income Ratio."
   ]
  },
  {
   "cell_type": "code",
   "execution_count": 53,
   "metadata": {},
   "outputs": [
    {
     "data": {
      "text/plain": [
       "'The higher Debt‐to‐Income Ratio, the lower Credit Score '"
      ]
     },
     "execution_count": 53,
     "metadata": {},
     "output_type": "execute_result"
    }
   ],
   "source": [
    "'''The higher Debt‐to‐Income Ratio, the lower Credit Score '''"
   ]
  },
  {
   "cell_type": "markdown",
   "metadata": {},
   "source": [
    "38. Interpret the coefficient for Request Amount."
   ]
  },
  {
   "cell_type": "code",
   "execution_count": 54,
   "metadata": {},
   "outputs": [
    {
     "data": {
      "text/plain": [
       "'If the person requested more amount, the person tend to have a little bit higher Credit Score.'"
      ]
     },
     "execution_count": 54,
     "metadata": {},
     "output_type": "execute_result"
    }
   ],
   "source": [
    "'''If the person requested more amount, the person tend to have a little bit higher Credit Score.'''"
   ]
  },
  {
   "cell_type": "markdown",
   "metadata": {},
   "source": [
    "39. Find and interpret the value of s."
   ]
  },
  {
   "cell_type": "code",
   "execution_count": 55,
   "metadata": {},
   "outputs": [
    {
     "data": {
      "text/plain": [
       "66.00195259717187"
      ]
     },
     "execution_count": 55,
     "metadata": {},
     "output_type": "execute_result"
    }
   ],
   "source": [
    "# value of s = statistic s = standard error of the estimate = standard error of the regression\n",
    "np.sqrt(model02.scale)"
   ]
  },
  {
   "cell_type": "code",
   "execution_count": 56,
   "metadata": {},
   "outputs": [
    {
     "data": {
      "text/plain": [
       "'S value represents the average distance that the observed values fall from the regression line. Conveniently, it tells you how wrong the regression model is on average using the units of the response variable. Smaller values are better because it indicates that the observations are closer to the fitted line.\\nIn this case the S value is 66.00195259717187, which tells us that the average distance of the data points from the fitted line is about 66% Credit Score.'"
      ]
     },
     "execution_count": 56,
     "metadata": {},
     "output_type": "execute_result"
    }
   ],
   "source": [
    "'''S value represents the average distance that the observed values fall from the regression line. Conveniently, it tells you how wrong the regression model is on average using the units of the response variable. Smaller values are better because it indicates that the observations are closer to the fitted line.\n",
    "In this case the S value is 66.00195259717187, which tells us that the average distance of the data points from the fitted line is about 66% Credit Score.'''\n"
   ]
  },
  {
   "cell_type": "markdown",
   "metadata": {},
   "source": [
    "40. Find and interpret Radj . Comment."
   ]
  },
  {
   "cell_type": "code",
   "execution_count": 57,
   "metadata": {},
   "outputs": [
    {
     "data": {
      "text/plain": [
       "\"The R2adj value is 0.028. \\nR2adj represents the percentage variation in the dependent variable (Credit Score) that is explained by the independent variables (Debt-to-Income Ratio, Request Amount). \\nThe higher the R2adj value, the better the explainability of the model, with the highest value being one. \\nIn our case, the Radj value of 0.028 means that 2.8% of the variation in the variable 'Credit Scor' is explained by the variables 'Debt-to-Income Ratio, Request Amount'.\""
      ]
     },
     "execution_count": 57,
     "metadata": {},
     "output_type": "execute_result"
    }
   ],
   "source": [
    "'''The R2adj value is 0.028. \n",
    "R2adj represents the percentage variation in the dependent variable (Credit Score) that is explained by the independent variables (Debt-to-Income Ratio, Request Amount). \n",
    "The higher the R2adj value, the better the explainability of the model, with the highest value being one. \n",
    "In our case, the Radj value of 0.028 means that 2.8% of the variation in the variable 'Credit Scor' is explained by the variables 'Debt-to-Income Ratio, Request Amount'.'''"
   ]
  },
  {
   "cell_type": "markdown",
   "metadata": {},
   "source": [
    "41. Find MAE Baseline and MAE Regression, and determine whether the regression model outperformed its baseline model."
   ]
  },
  {
   "cell_type": "code",
   "execution_count": 58,
   "metadata": {},
   "outputs": [
    {
     "data": {
      "text/plain": [
       "-0.22558117978048386"
      ]
     },
     "execution_count": 58,
     "metadata": {},
     "output_type": "execute_result"
    }
   ],
   "source": [
    "# MAE Baseline = the MAE of prediction model(developed by test data set) over acutal value of the test data set \n",
    "\n",
    "# prepare the y values\n",
    "y_pred_test_bk = model02_test.predict(x_bk_reg_ts)\n",
    "ytrue_test_bk = pd.DataFrame(bank_reg_test[['Credit Score']])\n",
    "# obtain the MAE\n",
    "MAE_Baseline = met.mean_absolute_error(y_true=ytrue_test_bk, y_pred=y_pred_test_bk)\n",
    "\n",
    "# MAE Regression = the MAE of prediction model(developed by trainning data set) over actual value of the test data set\n",
    "# prepare the y values\n",
    "y_pred_bk = model02.predict(x_bk_reg_ts)\n",
    "# obtain the MAE\n",
    "MAE_regression = met.mean_absolute_error(y_true=ytrue_test_bk, y_pred=y_pred_bk)\n",
    "\n",
    "# compare the MAE Baseline VS. MAE Regression\n",
    "MAE_regression - MAE_Baseline\n"
   ]
  },
  {
   "cell_type": "code",
   "execution_count": 59,
   "metadata": {},
   "outputs": [
    {
     "data": {
      "text/plain": [
       "'Since the value of Mean Absolute Error of regression model is less than the Mean Absolute Error of baseline, our regression model did beat the baseline model.'"
      ]
     },
     "execution_count": 59,
     "metadata": {},
     "output_type": "execute_result"
    }
   ],
   "source": [
    "'''Since the value of Mean Absolute Error of regression model is less than the Mean Absolute Error of baseline, our regression model did beat the baseline model.'''"
   ]
  },
  {
   "cell_type": "markdown",
   "metadata": {},
   "source": [
    "42. Construct a regression model for predicting Interest, using Request Amount. Obtain a summary of the model."
   ]
  },
  {
   "cell_type": "code",
   "execution_count": 60,
   "metadata": {},
   "outputs": [
    {
     "data": {
      "text/html": [
       "<table class=\"simpletable\">\n",
       "<caption>OLS Regression Results</caption>\n",
       "<tr>\n",
       "  <th>Dep. Variable:</th>        <td>Interest</td>     <th>  R-squared:         </th>  <td>   1.000</td> \n",
       "</tr>\n",
       "<tr>\n",
       "  <th>Model:</th>                   <td>OLS</td>       <th>  Adj. R-squared:    </th>  <td>   1.000</td> \n",
       "</tr>\n",
       "<tr>\n",
       "  <th>Method:</th>             <td>Least Squares</td>  <th>  F-statistic:       </th>  <td>9.963e+35</td>\n",
       "</tr>\n",
       "<tr>\n",
       "  <th>Date:</th>             <td>Tue, 15 Sep 2020</td> <th>  Prob (F-statistic):</th>   <td>  0.00</td>  \n",
       "</tr>\n",
       "<tr>\n",
       "  <th>Time:</th>                 <td>23:25:16</td>     <th>  Log-Likelihood:    </th> <td>2.8909e+05</td>\n",
       "</tr>\n",
       "<tr>\n",
       "  <th>No. Observations:</th>      <td> 10693</td>      <th>  AIC:               </th> <td>-5.782e+05</td>\n",
       "</tr>\n",
       "<tr>\n",
       "  <th>Df Residuals:</th>          <td> 10691</td>      <th>  BIC:               </th> <td>-5.782e+05</td>\n",
       "</tr>\n",
       "<tr>\n",
       "  <th>Df Model:</th>              <td>     1</td>      <th>                     </th>      <td> </td>    \n",
       "</tr>\n",
       "<tr>\n",
       "  <th>Covariance Type:</th>      <td>nonrobust</td>    <th>                     </th>      <td> </td>    \n",
       "</tr>\n",
       "</table>\n",
       "<table class=\"simpletable\">\n",
       "<tr>\n",
       "         <td></td>           <th>coef</th>     <th>std err</th>      <th>t</th>      <th>P>|t|</th>  <th>[0.025</th>    <th>0.975]</th>  \n",
       "</tr>\n",
       "<tr>\n",
       "  <th>const</th>          <td> 5.862e-13</td> <td> 7.36e-15</td> <td>   79.653</td> <td> 0.000</td> <td> 5.72e-13</td> <td> 6.01e-13</td>\n",
       "</tr>\n",
       "<tr>\n",
       "  <th>Request Amount</th> <td>    0.4500</td> <td> 4.51e-19</td> <td> 9.98e+17</td> <td> 0.000</td> <td>    0.450</td> <td>    0.450</td>\n",
       "</tr>\n",
       "</table>\n",
       "<table class=\"simpletable\">\n",
       "<tr>\n",
       "  <th>Omnibus:</th>       <td>6812.471</td> <th>  Durbin-Watson:     </th> <td>   1.850</td> \n",
       "</tr>\n",
       "<tr>\n",
       "  <th>Prob(Omnibus):</th>  <td> 0.000</td>  <th>  Jarque-Bera (JB):  </th> <td>77377.900</td>\n",
       "</tr>\n",
       "<tr>\n",
       "  <th>Skew:</th>           <td> 2.966</td>  <th>  Prob(JB):          </th> <td>    0.00</td> \n",
       "</tr>\n",
       "<tr>\n",
       "  <th>Kurtosis:</th>       <td>14.767</td>  <th>  Cond. No.          </th> <td>2.83e+04</td> \n",
       "</tr>\n",
       "</table><br/><br/>Warnings:<br/>[1] Standard Errors assume that the covariance matrix of the errors is correctly specified.<br/>[2] The condition number is large, 2.83e+04. This might indicate that there are<br/>strong multicollinearity or other numerical problems."
      ],
      "text/plain": [
       "<class 'statsmodels.iolib.summary.Summary'>\n",
       "\"\"\"\n",
       "                            OLS Regression Results                            \n",
       "==============================================================================\n",
       "Dep. Variable:               Interest   R-squared:                       1.000\n",
       "Model:                            OLS   Adj. R-squared:                  1.000\n",
       "Method:                 Least Squares   F-statistic:                 9.963e+35\n",
       "Date:                Tue, 15 Sep 2020   Prob (F-statistic):               0.00\n",
       "Time:                        23:25:16   Log-Likelihood:             2.8909e+05\n",
       "No. Observations:               10693   AIC:                        -5.782e+05\n",
       "Df Residuals:                   10691   BIC:                        -5.782e+05\n",
       "Df Model:                           1                                         \n",
       "Covariance Type:            nonrobust                                         \n",
       "==================================================================================\n",
       "                     coef    std err          t      P>|t|      [0.025      0.975]\n",
       "----------------------------------------------------------------------------------\n",
       "const           5.862e-13   7.36e-15     79.653      0.000    5.72e-13    6.01e-13\n",
       "Request Amount     0.4500   4.51e-19   9.98e+17      0.000       0.450       0.450\n",
       "==============================================================================\n",
       "Omnibus:                     6812.471   Durbin-Watson:                   1.850\n",
       "Prob(Omnibus):                  0.000   Jarque-Bera (JB):            77377.900\n",
       "Skew:                           2.966   Prob(JB):                         0.00\n",
       "Kurtosis:                      14.767   Cond. No.                     2.83e+04\n",
       "==============================================================================\n",
       "\n",
       "Warnings:\n",
       "[1] Standard Errors assume that the covariance matrix of the errors is correctly specified.\n",
       "[2] The condition number is large, 2.83e+04. This might indicate that there are\n",
       "strong multicollinearity or other numerical problems.\n",
       "\"\"\""
      ]
     },
     "execution_count": 60,
     "metadata": {},
     "output_type": "execute_result"
    }
   ],
   "source": [
    "# separate the predictor variables and the target variable and save into dataframe format\n",
    "x_interest = pd.DataFrame(bank_reg_train[['Request Amount']])\n",
    "y_req_amount = pd.DataFrame(bank_reg_train[['Interest']])\n",
    "# add a constant variable to our predictor variables\n",
    "x_interest = sm.add_constant(x_interest)\n",
    "#  run the multiple regression mode\n",
    "model03 = sm.OLS(y_req_amount, x_interest).fit()\n",
    "# obtain the results(summary) of the regression model\n",
    "model03.summary()"
   ]
  },
  {
   "cell_type": "markdown",
   "metadata": {},
   "source": [
    "43. Explain what is unusual with your results from the previous exercise."
   ]
  },
  {
   "cell_type": "code",
   "execution_count": 61,
   "metadata": {},
   "outputs": [
    {
     "data": {
      "text/plain": [
       "'The value of R-squared and Adj. R-squared equal to 1. An R2 of 1 indicates that the regression predictions perfectly fit the data set. '"
      ]
     },
     "execution_count": 61,
     "metadata": {},
     "output_type": "execute_result"
    }
   ],
   "source": [
    "'''The value of R-squared and Adj. R-squared equal to 1. An R2 of 1 indicates that the regression predictions perfectly fit the data set. '''\n"
   ]
  },
  {
   "cell_type": "markdown",
   "metadata": {},
   "source": [
    "44. Construct a scatterplot of Interest against Request Amount. Describe the relationship between the variables. Explain how this relationship explains the unusual results from your regression model."
   ]
  },
  {
   "cell_type": "code",
   "execution_count": 62,
   "metadata": {},
   "outputs": [
    {
     "data": {
      "text/plain": [
       "[<matplotlib.lines.Line2D at 0x7f83f3c2c190>]"
      ]
     },
     "execution_count": 62,
     "metadata": {},
     "output_type": "execute_result"
    },
    {
     "data": {
      "image/png": "[encoded data removed]",
      "text/plain": [
       "<Figure size 432x288 with 1 Axes>"
      ]
     },
     "metadata": {
      "needs_background": "light"
     },
     "output_type": "display_data"
    }
   ],
   "source": [
    "# plot a scatterplot\n",
    "x = bank_reg_train[['Request Amount']]\n",
    "y = bank_reg_train[['Interest']]\n",
    "plt.plot(x,y,'o')"
   ]
  },
  {
   "cell_type": "code",
   "execution_count": 63,
   "metadata": {},
   "outputs": [
    {
     "data": {
      "text/plain": [
       "\"The plot demonstrate that there is a Positive correlation between the variables of 'Request Amount' and  'Interest'.  \""
      ]
     },
     "execution_count": 63,
     "metadata": {},
     "output_type": "execute_result"
    }
   ],
   "source": [
    "'''The plot demonstrate that there is a Positive correlation between the variables of 'Request Amount' and  'Interest'.  '''"
   ]
  },
  {
   "cell_type": "markdown",
   "metadata": {},
   "source": [
    "For the following exercises, work with the Framingham_training and the Framingham_test data sets. Reexpress Sex so that it is a flag variable with 0 for males and 1 for females. Use either Python or R to solve each problem."
   ]
  },
  {
   "cell_type": "markdown",
   "metadata": {},
   "source": [
    "45. Use the training set to run a regression predicting Age, based on Sex and Education. Obtain a summary of the model. Do both predictors belong in the model?"
   ]
  },
  {
   "cell_type": "code",
   "execution_count": 64,
   "metadata": {},
   "outputs": [
    {
     "data": {
      "text/plain": [
       "((7953, 5), (2257, 5))"
      ]
     },
     "execution_count": 64,
     "metadata": {},
     "output_type": "execute_result"
    }
   ],
   "source": [
    "# import the data set\n",
    "fram_train = pd.read_csv('Framingham_training')\n",
    "fram_test = pd.read_csv('Framingham_test')\n",
    "\n",
    "fram_train.shape, fram_test.shape"
   ]
  },
  {
   "cell_type": "code",
   "execution_count": 65,
   "metadata": {},
   "outputs": [
    {
     "data": {
      "text/html": [
       "<table class=\"simpletable\">\n",
       "<caption>OLS Regression Results</caption>\n",
       "<tr>\n",
       "  <th>Dep. Variable:</th>           <td>Age</td>       <th>  R-squared:         </th> <td>   0.017</td> \n",
       "</tr>\n",
       "<tr>\n",
       "  <th>Model:</th>                   <td>OLS</td>       <th>  Adj. R-squared:    </th> <td>   0.017</td> \n",
       "</tr>\n",
       "<tr>\n",
       "  <th>Method:</th>             <td>Least Squares</td>  <th>  F-statistic:       </th> <td>   67.93</td> \n",
       "</tr>\n",
       "<tr>\n",
       "  <th>Date:</th>             <td>Tue, 15 Sep 2020</td> <th>  Prob (F-statistic):</th> <td>5.58e-30</td> \n",
       "</tr>\n",
       "<tr>\n",
       "  <th>Time:</th>                 <td>23:25:16</td>     <th>  Log-Likelihood:    </th> <td> -29110.</td> \n",
       "</tr>\n",
       "<tr>\n",
       "  <th>No. Observations:</th>      <td>  7953</td>      <th>  AIC:               </th> <td>5.823e+04</td>\n",
       "</tr>\n",
       "<tr>\n",
       "  <th>Df Residuals:</th>          <td>  7950</td>      <th>  BIC:               </th> <td>5.825e+04</td>\n",
       "</tr>\n",
       "<tr>\n",
       "  <th>Df Model:</th>              <td>     2</td>      <th>                     </th>     <td> </td>    \n",
       "</tr>\n",
       "<tr>\n",
       "  <th>Covariance Type:</th>      <td>nonrobust</td>    <th>                     </th>     <td> </td>    \n",
       "</tr>\n",
       "</table>\n",
       "<table class=\"simpletable\">\n",
       "<tr>\n",
       "    <td></td>       <th>coef</th>     <th>std err</th>      <th>t</th>      <th>P>|t|</th>  <th>[0.025</th>    <th>0.975]</th>  \n",
       "</tr>\n",
       "<tr>\n",
       "  <th>const</th> <td>   56.3600</td> <td>    0.408</td> <td>  138.025</td> <td> 0.000</td> <td>   55.560</td> <td>   57.160</td>\n",
       "</tr>\n",
       "<tr>\n",
       "  <th>Sex</th>   <td>    0.4309</td> <td>    0.213</td> <td>    2.023</td> <td> 0.043</td> <td>    0.013</td> <td>    0.848</td>\n",
       "</tr>\n",
       "<tr>\n",
       "  <th>Educ</th>  <td>   -1.1845</td> <td>    0.103</td> <td>  -11.446</td> <td> 0.000</td> <td>   -1.387</td> <td>   -0.982</td>\n",
       "</tr>\n",
       "</table>\n",
       "<table class=\"simpletable\">\n",
       "<tr>\n",
       "  <th>Omnibus:</th>       <td>297.738</td> <th>  Durbin-Watson:     </th> <td>   1.426</td>\n",
       "</tr>\n",
       "<tr>\n",
       "  <th>Prob(Omnibus):</th> <td> 0.000</td>  <th>  Jarque-Bera (JB):  </th> <td> 148.843</td>\n",
       "</tr>\n",
       "<tr>\n",
       "  <th>Skew:</th>          <td> 0.136</td>  <th>  Prob(JB):          </th> <td>4.78e-33</td>\n",
       "</tr>\n",
       "<tr>\n",
       "  <th>Kurtosis:</th>      <td> 2.387</td>  <th>  Cond. No.          </th> <td>    12.1</td>\n",
       "</tr>\n",
       "</table><br/><br/>Warnings:<br/>[1] Standard Errors assume that the covariance matrix of the errors is correctly specified."
      ],
      "text/plain": [
       "<class 'statsmodels.iolib.summary.Summary'>\n",
       "\"\"\"\n",
       "                            OLS Regression Results                            \n",
       "==============================================================================\n",
       "Dep. Variable:                    Age   R-squared:                       0.017\n",
       "Model:                            OLS   Adj. R-squared:                  0.017\n",
       "Method:                 Least Squares   F-statistic:                     67.93\n",
       "Date:                Tue, 15 Sep 2020   Prob (F-statistic):           5.58e-30\n",
       "Time:                        23:25:16   Log-Likelihood:                -29110.\n",
       "No. Observations:                7953   AIC:                         5.823e+04\n",
       "Df Residuals:                    7950   BIC:                         5.825e+04\n",
       "Df Model:                           2                                         \n",
       "Covariance Type:            nonrobust                                         \n",
       "==============================================================================\n",
       "                 coef    std err          t      P>|t|      [0.025      0.975]\n",
       "------------------------------------------------------------------------------\n",
       "const         56.3600      0.408    138.025      0.000      55.560      57.160\n",
       "Sex            0.4309      0.213      2.023      0.043       0.013       0.848\n",
       "Educ          -1.1845      0.103    -11.446      0.000      -1.387      -0.982\n",
       "==============================================================================\n",
       "Omnibus:                      297.738   Durbin-Watson:                   1.426\n",
       "Prob(Omnibus):                  0.000   Jarque-Bera (JB):              148.843\n",
       "Skew:                           0.136   Prob(JB):                     4.78e-33\n",
       "Kurtosis:                       2.387   Cond. No.                         12.1\n",
       "==============================================================================\n",
       "\n",
       "Warnings:\n",
       "[1] Standard Errors assume that the covariance matrix of the errors is correctly specified.\n",
       "\"\"\""
      ]
     },
     "execution_count": 65,
     "metadata": {},
     "output_type": "execute_result"
    }
   ],
   "source": [
    "# separate the predictor variables and the target variable and save into dataframe format\n",
    "x_fram_train = pd.DataFrame(fram_train[['Sex', 'Educ']])\n",
    "y_fram_train = pd.DataFrame(fram_train[['Age']])\n",
    "# add a constant variable to our predictor variables\n",
    "x_fram_train = sm.add_constant(x_fram_train)\n",
    "#  run the multiple regression mode\n",
    "model04 = sm.OLS(y_fram_train, x_fram_train).fit()\n",
    "# obtain the results(summary) of the regression model\n",
    "model04.summary()"
   ]
  },
  {
   "cell_type": "code",
   "execution_count": 66,
   "metadata": {},
   "outputs": [
    {
     "data": {
      "text/plain": [
       "'Since the p value of both predoctor variables are less than 0.05, both predictors do belong in the model.'"
      ]
     },
     "execution_count": 66,
     "metadata": {},
     "output_type": "execute_result"
    }
   ],
   "source": [
    "'''Since the p value of both predoctor variables are less than 0.05, both predictors do belong in the model.'''"
   ]
  },
  {
   "cell_type": "markdown",
   "metadata": {},
   "source": [
    "46. Validate the model from the previous exercise."
   ]
  },
  {
   "cell_type": "code",
   "execution_count": 67,
   "metadata": {},
   "outputs": [
    {
     "data": {
      "text/html": [
       "<table class=\"simpletable\">\n",
       "<caption>OLS Regression Results</caption>\n",
       "<tr>\n",
       "  <th>Dep. Variable:</th>           <td>Age</td>       <th>  R-squared:         </th> <td>   0.020</td> \n",
       "</tr>\n",
       "<tr>\n",
       "  <th>Model:</th>                   <td>OLS</td>       <th>  Adj. R-squared:    </th> <td>   0.019</td> \n",
       "</tr>\n",
       "<tr>\n",
       "  <th>Method:</th>             <td>Least Squares</td>  <th>  F-statistic:       </th> <td>   22.74</td> \n",
       "</tr>\n",
       "<tr>\n",
       "  <th>Date:</th>             <td>Tue, 15 Sep 2020</td> <th>  Prob (F-statistic):</th> <td>1.67e-10</td> \n",
       "</tr>\n",
       "<tr>\n",
       "  <th>Time:</th>                 <td>23:25:16</td>     <th>  Log-Likelihood:    </th> <td> -8308.5</td> \n",
       "</tr>\n",
       "<tr>\n",
       "  <th>No. Observations:</th>      <td>  2257</td>      <th>  AIC:               </th> <td>1.662e+04</td>\n",
       "</tr>\n",
       "<tr>\n",
       "  <th>Df Residuals:</th>          <td>  2254</td>      <th>  BIC:               </th> <td>1.664e+04</td>\n",
       "</tr>\n",
       "<tr>\n",
       "  <th>Df Model:</th>              <td>     2</td>      <th>                     </th>     <td> </td>    \n",
       "</tr>\n",
       "<tr>\n",
       "  <th>Covariance Type:</th>      <td>nonrobust</td>    <th>                     </th>     <td> </td>    \n",
       "</tr>\n",
       "</table>\n",
       "<table class=\"simpletable\">\n",
       "<tr>\n",
       "    <td></td>       <th>coef</th>     <th>std err</th>      <th>t</th>      <th>P>|t|</th>  <th>[0.025</th>    <th>0.975]</th>  \n",
       "</tr>\n",
       "<tr>\n",
       "  <th>const</th> <td>   55.4202</td> <td>    0.784</td> <td>   70.690</td> <td> 0.000</td> <td>   53.883</td> <td>   56.958</td>\n",
       "</tr>\n",
       "<tr>\n",
       "  <th>Sex</th>   <td>    1.0424</td> <td>    0.409</td> <td>    2.548</td> <td> 0.011</td> <td>    0.240</td> <td>    1.845</td>\n",
       "</tr>\n",
       "<tr>\n",
       "  <th>Educ</th>  <td>   -1.1954</td> <td>    0.193</td> <td>   -6.199</td> <td> 0.000</td> <td>   -1.574</td> <td>   -0.817</td>\n",
       "</tr>\n",
       "</table>\n",
       "<table class=\"simpletable\">\n",
       "<tr>\n",
       "  <th>Omnibus:</th>       <td>97.498</td> <th>  Durbin-Watson:     </th> <td>   1.705</td>\n",
       "</tr>\n",
       "<tr>\n",
       "  <th>Prob(Omnibus):</th> <td> 0.000</td> <th>  Jarque-Bera (JB):  </th> <td>  51.146</td>\n",
       "</tr>\n",
       "<tr>\n",
       "  <th>Skew:</th>          <td> 0.190</td> <th>  Prob(JB):          </th> <td>7.83e-12</td>\n",
       "</tr>\n",
       "<tr>\n",
       "  <th>Kurtosis:</th>      <td> 2.368</td> <th>  Cond. No.          </th> <td>    12.2</td>\n",
       "</tr>\n",
       "</table><br/><br/>Warnings:<br/>[1] Standard Errors assume that the covariance matrix of the errors is correctly specified."
      ],
      "text/plain": [
       "<class 'statsmodels.iolib.summary.Summary'>\n",
       "\"\"\"\n",
       "                            OLS Regression Results                            \n",
       "==============================================================================\n",
       "Dep. Variable:                    Age   R-squared:                       0.020\n",
       "Model:                            OLS   Adj. R-squared:                  0.019\n",
       "Method:                 Least Squares   F-statistic:                     22.74\n",
       "Date:                Tue, 15 Sep 2020   Prob (F-statistic):           1.67e-10\n",
       "Time:                        23:25:16   Log-Likelihood:                -8308.5\n",
       "No. Observations:                2257   AIC:                         1.662e+04\n",
       "Df Residuals:                    2254   BIC:                         1.664e+04\n",
       "Df Model:                           2                                         \n",
       "Covariance Type:            nonrobust                                         \n",
       "==============================================================================\n",
       "                 coef    std err          t      P>|t|      [0.025      0.975]\n",
       "------------------------------------------------------------------------------\n",
       "const         55.4202      0.784     70.690      0.000      53.883      56.958\n",
       "Sex            1.0424      0.409      2.548      0.011       0.240       1.845\n",
       "Educ          -1.1954      0.193     -6.199      0.000      -1.574      -0.817\n",
       "==============================================================================\n",
       "Omnibus:                       97.498   Durbin-Watson:                   1.705\n",
       "Prob(Omnibus):                  0.000   Jarque-Bera (JB):               51.146\n",
       "Skew:                           0.190   Prob(JB):                     7.83e-12\n",
       "Kurtosis:                       2.368   Cond. No.                         12.2\n",
       "==============================================================================\n",
       "\n",
       "Warnings:\n",
       "[1] Standard Errors assume that the covariance matrix of the errors is correctly specified.\n",
       "\"\"\""
      ]
     },
     "execution_count": 67,
     "metadata": {},
     "output_type": "execute_result"
    }
   ],
   "source": [
    "# To verify the regression model results, we run the same code on the fram_test data set\n",
    "\n",
    "# separate the predictor variables and the target variable and save into dataframe format\n",
    "x_fram_ts = pd.DataFrame(fram_test[['Sex', 'Educ']])\n",
    "y_fram_ts = pd.DataFrame(fram_test[['Age']])\n",
    "# add a constant variable to our predictor variables\n",
    "x_fram_ts = sm.add_constant(x_fram_ts)\n",
    "#  run the multiple regression mode\n",
    "model04_test = sm.OLS(y_fram_ts, x_fram_ts).fit()\n",
    "# obtain the results(summary) of the regression model\n",
    "model04_test.summary()"
   ]
  },
  {
   "cell_type": "code",
   "execution_count": 68,
   "metadata": {},
   "outputs": [
    {
     "data": {
      "text/plain": [
       "'The summary() of the test set is smililar with the summary() of the trainning set. So the model is validated.'"
      ]
     },
     "execution_count": 68,
     "metadata": {},
     "output_type": "execute_result"
    }
   ],
   "source": [
    "'''The summary() of the test set is smililar with the summary() of the trainning set. So the model is validated.'''"
   ]
  },
  {
   "cell_type": "markdown",
   "metadata": {},
   "source": [
    "47. Use the regression equation to complete this sentence: “The estimated Age equals....”"
   ]
  },
  {
   "cell_type": "code",
   "execution_count": 69,
   "metadata": {},
   "outputs": [
    {
     "data": {
      "text/plain": [
       "'The estimated Age = 56.3600 + 0.4309*Sex + (-1.1845)*Educ '"
      ]
     },
     "execution_count": 69,
     "metadata": {},
     "output_type": "execute_result"
    }
   ],
   "source": [
    "'''The estimated Age = 56.3600 + 0.4309*Sex + (-1.1845)*Educ '''"
   ]
  },
  {
   "cell_type": "markdown",
   "metadata": {},
   "source": [
    "48. Interpret the coefficient for Sex."
   ]
  },
  {
   "cell_type": "code",
   "execution_count": 70,
   "metadata": {},
   "outputs": [
    {
     "data": {
      "text/plain": [
       "'The person who is Female (sex=1) tend to have a oldder age.'"
      ]
     },
     "execution_count": 70,
     "metadata": {},
     "output_type": "execute_result"
    }
   ],
   "source": [
    "'''The person who is Female (sex=1) tend to have a oldder age.'''"
   ]
  },
  {
   "cell_type": "markdown",
   "metadata": {},
   "source": [
    "49. Interpret the coefficient for Education."
   ]
  },
  {
   "cell_type": "code",
   "execution_count": 71,
   "metadata": {},
   "outputs": [
    {
     "data": {
      "text/plain": [
       "'The person who received higher education, tend to younger age.'"
      ]
     },
     "execution_count": 71,
     "metadata": {},
     "output_type": "execute_result"
    }
   ],
   "source": [
    "'''The person who received higher education, tend to younger age.'''"
   ]
  },
  {
   "cell_type": "markdown",
   "metadata": {},
   "source": [
    "50. Find and interpret the value of s."
   ]
  },
  {
   "cell_type": "code",
   "execution_count": 72,
   "metadata": {},
   "outputs": [
    {
     "data": {
      "text/plain": [
       "9.407791890220569"
      ]
     },
     "execution_count": 72,
     "metadata": {},
     "output_type": "execute_result"
    }
   ],
   "source": [
    "# value of s = statistic s = standard error of the estimate = standard error of the regression\n",
    "np.sqrt(model04.scale)"
   ]
  },
  {
   "cell_type": "code",
   "execution_count": 73,
   "metadata": {},
   "outputs": [
    {
     "data": {
      "text/plain": [
       "'S value represents the average distance that the observed values fall from the regression line. Conveniently, it tells you how wrong the regression model is on average using the units of the response variable. Smaller values are better because it indicates that the observations are closer to the fitted line.\\nIn this case the S value is 9.407791890220569, which tells us that the average distance of the data points from the fitted line is about 9.4% Age.'"
      ]
     },
     "execution_count": 73,
     "metadata": {},
     "output_type": "execute_result"
    }
   ],
   "source": [
    "'''S value represents the average distance that the observed values fall from the regression line. Conveniently, it tells you how wrong the regression model is on average using the units of the response variable. Smaller values are better because it indicates that the observations are closer to the fitted line.\n",
    "In this case the S value is 9.407791890220569, which tells us that the average distance of the data points from the fitted line is about 9.4% Age.'''\n"
   ]
  },
  {
   "cell_type": "markdown",
   "metadata": {},
   "source": [
    "51. Find and interpret Radj ."
   ]
  },
  {
   "cell_type": "code",
   "execution_count": 74,
   "metadata": {},
   "outputs": [
    {
     "data": {
      "text/plain": [
       "\"The R2adj value is 0.019. \\nR2adj represents the percentage variation in the dependent variable (Age) that is explained by the independent variables (Sex, Educ). \\nThe higher the R2adj value, the better the explainability of the model, with the highest value being one. \\nIn our case, the Radj value of 0.019 means that 1.9% of the variation in the variable 'Age' is explained by the variables 'Sex, Educ'.\""
      ]
     },
     "execution_count": 74,
     "metadata": {},
     "output_type": "execute_result"
    }
   ],
   "source": [
    "'''The R2adj value is 0.019. \n",
    "R2adj represents the percentage variation in the dependent variable (Age) that is explained by the independent variables (Sex, Educ). \n",
    "The higher the R2adj value, the better the explainability of the model, with the highest value being one. \n",
    "In our case, the Radj value of 0.019 means that 1.9% of the variation in the variable 'Age' is explained by the variables 'Sex, Educ'.'''"
   ]
  },
  {
   "cell_type": "markdown",
   "metadata": {},
   "source": [
    "52. Find MAEBaseline and MAERegression, and determine whether the regression model\n",
    "outperformed its baseline model."
   ]
  },
  {
   "cell_type": "code",
   "execution_count": 75,
   "metadata": {},
   "outputs": [
    {
     "data": {
      "text/plain": [
       "0.004845203467790604"
      ]
     },
     "execution_count": 75,
     "metadata": {},
     "output_type": "execute_result"
    }
   ],
   "source": [
    "# MAE Baseline = the MAE of prediction model(developed by test data set) over acutal value of the test data set \n",
    "\n",
    "# prepare the y values\n",
    "y_pred_test_fram = model04_test.predict(x_fram_ts)\n",
    "ytrue_test_fram = pd.DataFrame(fram_test[['Age']])\n",
    "# obtain the MAE\n",
    "MAE_Baseline = met.mean_absolute_error(y_true=ytrue_test_fram, y_pred=y_pred_test_fram)\n",
    "\n",
    "# MAE Regression = the MAE of prediction model(developed by trainning data set) over actual value of the test data set\n",
    "# prepare the y values\n",
    "y_pred_fram = model04.predict(x_fram_ts)\n",
    "# obtain the MAE\n",
    "MAE_regression = met.mean_absolute_error(y_true=ytrue_test_fram, y_pred=y_pred_fram)\n",
    "\n",
    "# compare the MAE Baseline VS. MAE Regression\n",
    "MAE_regression - MAE_Baseline\n"
   ]
  },
  {
   "cell_type": "code",
   "execution_count": 76,
   "metadata": {},
   "outputs": [
    {
     "data": {
      "text/plain": [
       "'Since the value of Mean Absolute Error of regression model is bigger than the Mean Absolute Error of baseline, our regression model did not beat the baseline model. But the value difference is very low, so our regression is not much worse than Baseline model.'"
      ]
     },
     "execution_count": 76,
     "metadata": {},
     "output_type": "execute_result"
    }
   ],
   "source": [
    "'''Since the value of Mean Absolute Error of regression model is bigger than the Mean Absolute Error of baseline, our regression model did not beat the baseline model. But the value difference is very low, so our regression is not much worse than Baseline model.'''\n"
   ]
  },
  {
   "cell_type": "markdown",
   "metadata": {},
   "source": [
    "For the following exercises, work with the white_wine_training and the white_wine_test data sets. Use either Python or R to solve each problem."
   ]
  },
  {
   "cell_type": "markdown",
   "metadata": {},
   "source": [
    "53. Use the training set to run aregression predicting Quality,based on Alcohol and Sugar. Obtain a summary of the model. Do both predictors belong in the model?"
   ]
  },
  {
   "cell_type": "code",
   "execution_count": 77,
   "metadata": {},
   "outputs": [],
   "source": [
    "# import the data set\n",
    "ww_train = pd.read_csv('white_wine_training')\n",
    "ww_test = pd.read_csv('white_wine_test')"
   ]
  },
  {
   "cell_type": "code",
   "execution_count": 78,
   "metadata": {},
   "outputs": [
    {
     "data": {
      "text/html": [
       "<table class=\"simpletable\">\n",
       "<caption>OLS Regression Results</caption>\n",
       "<tr>\n",
       "  <th>Dep. Variable:</th>         <td>quality</td>     <th>  R-squared:         </th> <td>   0.244</td> \n",
       "</tr>\n",
       "<tr>\n",
       "  <th>Model:</th>                   <td>OLS</td>       <th>  Adj. R-squared:    </th> <td>   0.243</td> \n",
       "</tr>\n",
       "<tr>\n",
       "  <th>Method:</th>             <td>Least Squares</td>  <th>  F-statistic:       </th> <td>   291.0</td> \n",
       "</tr>\n",
       "<tr>\n",
       "  <th>Date:</th>             <td>Tue, 15 Sep 2020</td> <th>  Prob (F-statistic):</th> <td>2.85e-110</td>\n",
       "</tr>\n",
       "<tr>\n",
       "  <th>Time:</th>                 <td>23:25:16</td>     <th>  Log-Likelihood:    </th> <td> -2066.0</td> \n",
       "</tr>\n",
       "<tr>\n",
       "  <th>No. Observations:</th>      <td>  1809</td>      <th>  AIC:               </th> <td>   4138.</td> \n",
       "</tr>\n",
       "<tr>\n",
       "  <th>Df Residuals:</th>          <td>  1806</td>      <th>  BIC:               </th> <td>   4155.</td> \n",
       "</tr>\n",
       "<tr>\n",
       "  <th>Df Model:</th>              <td>     2</td>      <th>                     </th>     <td> </td>    \n",
       "</tr>\n",
       "<tr>\n",
       "  <th>Covariance Type:</th>      <td>nonrobust</td>    <th>                     </th>     <td> </td>    \n",
       "</tr>\n",
       "</table>\n",
       "<table class=\"simpletable\">\n",
       "<tr>\n",
       "     <td></td>        <th>coef</th>     <th>std err</th>      <th>t</th>      <th>P>|t|</th>  <th>[0.025</th>    <th>0.975]</th>  \n",
       "</tr>\n",
       "<tr>\n",
       "  <th>const</th>   <td>    1.7458</td> <td>    0.181</td> <td>    9.648</td> <td> 0.000</td> <td>    1.391</td> <td>    2.101</td>\n",
       "</tr>\n",
       "<tr>\n",
       "  <th>alcohol</th> <td>    0.3776</td> <td>    0.016</td> <td>   23.544</td> <td> 0.000</td> <td>    0.346</td> <td>    0.409</td>\n",
       "</tr>\n",
       "<tr>\n",
       "  <th>sugar</th>   <td>    0.0157</td> <td>    0.004</td> <td>    3.826</td> <td> 0.000</td> <td>    0.008</td> <td>    0.024</td>\n",
       "</tr>\n",
       "</table>\n",
       "<table class=\"simpletable\">\n",
       "<tr>\n",
       "  <th>Omnibus:</th>       <td>35.243</td> <th>  Durbin-Watson:     </th> <td>   1.890</td>\n",
       "</tr>\n",
       "<tr>\n",
       "  <th>Prob(Omnibus):</th> <td> 0.000</td> <th>  Jarque-Bera (JB):  </th> <td>  59.069</td>\n",
       "</tr>\n",
       "<tr>\n",
       "  <th>Skew:</th>          <td>-0.153</td> <th>  Prob(JB):          </th> <td>1.49e-13</td>\n",
       "</tr>\n",
       "<tr>\n",
       "  <th>Kurtosis:</th>      <td> 3.831</td> <th>  Cond. No.          </th> <td>    126.</td>\n",
       "</tr>\n",
       "</table><br/><br/>Warnings:<br/>[1] Standard Errors assume that the covariance matrix of the errors is correctly specified."
      ],
      "text/plain": [
       "<class 'statsmodels.iolib.summary.Summary'>\n",
       "\"\"\"\n",
       "                            OLS Regression Results                            \n",
       "==============================================================================\n",
       "Dep. Variable:                quality   R-squared:                       0.244\n",
       "Model:                            OLS   Adj. R-squared:                  0.243\n",
       "Method:                 Least Squares   F-statistic:                     291.0\n",
       "Date:                Tue, 15 Sep 2020   Prob (F-statistic):          2.85e-110\n",
       "Time:                        23:25:16   Log-Likelihood:                -2066.0\n",
       "No. Observations:                1809   AIC:                             4138.\n",
       "Df Residuals:                    1806   BIC:                             4155.\n",
       "Df Model:                           2                                         \n",
       "Covariance Type:            nonrobust                                         \n",
       "==============================================================================\n",
       "                 coef    std err          t      P>|t|      [0.025      0.975]\n",
       "------------------------------------------------------------------------------\n",
       "const          1.7458      0.181      9.648      0.000       1.391       2.101\n",
       "alcohol        0.3776      0.016     23.544      0.000       0.346       0.409\n",
       "sugar          0.0157      0.004      3.826      0.000       0.008       0.024\n",
       "==============================================================================\n",
       "Omnibus:                       35.243   Durbin-Watson:                   1.890\n",
       "Prob(Omnibus):                  0.000   Jarque-Bera (JB):               59.069\n",
       "Skew:                          -0.153   Prob(JB):                     1.49e-13\n",
       "Kurtosis:                       3.831   Cond. No.                         126.\n",
       "==============================================================================\n",
       "\n",
       "Warnings:\n",
       "[1] Standard Errors assume that the covariance matrix of the errors is correctly specified.\n",
       "\"\"\""
      ]
     },
     "execution_count": 78,
     "metadata": {},
     "output_type": "execute_result"
    }
   ],
   "source": [
    "# separate the predictor variables and the target variable and save into dataframe format\n",
    "x_ww_train = pd.DataFrame(ww_train[['alcohol', 'sugar']])\n",
    "y_ww_train = pd.DataFrame(ww_train[['quality']])\n",
    "# add a constant variable to our predictor variables\n",
    "x_ww_train = sm.add_constant(x_ww_train)\n",
    "#  run the multiple regression mode\n",
    "model05 = sm.OLS(y_ww_train, x_ww_train).fit()\n",
    "# obtain the results(summary) of the regression model\n",
    "model05.summary()"
   ]
  },
  {
   "cell_type": "code",
   "execution_count": 79,
   "metadata": {},
   "outputs": [
    {
     "data": {
      "text/plain": [
       "'Since the p value of both predoctor variables are less than 0.05, both predictors do belong in the model.'"
      ]
     },
     "execution_count": 79,
     "metadata": {},
     "output_type": "execute_result"
    }
   ],
   "source": [
    "'''Since the p value of both predoctor variables are less than 0.05, both predictors do belong in the model.'''"
   ]
  },
  {
   "cell_type": "markdown",
   "metadata": {},
   "source": [
    "54. Validate the model from the previous exercise."
   ]
  },
  {
   "cell_type": "code",
   "execution_count": 80,
   "metadata": {},
   "outputs": [
    {
     "data": {
      "text/html": [
       "<table class=\"simpletable\">\n",
       "<caption>OLS Regression Results</caption>\n",
       "<tr>\n",
       "  <th>Dep. Variable:</th>         <td>quality</td>     <th>  R-squared:         </th> <td>   0.204</td>\n",
       "</tr>\n",
       "<tr>\n",
       "  <th>Model:</th>                   <td>OLS</td>       <th>  Adj. R-squared:    </th> <td>   0.203</td>\n",
       "</tr>\n",
       "<tr>\n",
       "  <th>Method:</th>             <td>Least Squares</td>  <th>  F-statistic:       </th> <td>   224.8</td>\n",
       "</tr>\n",
       "<tr>\n",
       "  <th>Date:</th>             <td>Tue, 15 Sep 2020</td> <th>  Prob (F-statistic):</th> <td>1.15e-87</td>\n",
       "</tr>\n",
       "<tr>\n",
       "  <th>Time:</th>                 <td>23:25:16</td>     <th>  Log-Likelihood:    </th> <td> -2126.8</td>\n",
       "</tr>\n",
       "<tr>\n",
       "  <th>No. Observations:</th>      <td>  1760</td>      <th>  AIC:               </th> <td>   4260.</td>\n",
       "</tr>\n",
       "<tr>\n",
       "  <th>Df Residuals:</th>          <td>  1757</td>      <th>  BIC:               </th> <td>   4276.</td>\n",
       "</tr>\n",
       "<tr>\n",
       "  <th>Df Model:</th>              <td>     2</td>      <th>                     </th>     <td> </td>   \n",
       "</tr>\n",
       "<tr>\n",
       "  <th>Covariance Type:</th>      <td>nonrobust</td>    <th>                     </th>     <td> </td>   \n",
       "</tr>\n",
       "</table>\n",
       "<table class=\"simpletable\">\n",
       "<tr>\n",
       "     <td></td>        <th>coef</th>     <th>std err</th>      <th>t</th>      <th>P>|t|</th>  <th>[0.025</th>    <th>0.975]</th>  \n",
       "</tr>\n",
       "<tr>\n",
       "  <th>const</th>   <td>    2.0327</td> <td>    0.198</td> <td>   10.254</td> <td> 0.000</td> <td>    1.644</td> <td>    2.422</td>\n",
       "</tr>\n",
       "<tr>\n",
       "  <th>alcohol</th> <td>    0.3544</td> <td>    0.017</td> <td>   20.340</td> <td> 0.000</td> <td>    0.320</td> <td>    0.389</td>\n",
       "</tr>\n",
       "<tr>\n",
       "  <th>sugar</th>   <td>    0.0158</td> <td>    0.004</td> <td>    3.569</td> <td> 0.000</td> <td>    0.007</td> <td>    0.025</td>\n",
       "</tr>\n",
       "</table>\n",
       "<table class=\"simpletable\">\n",
       "<tr>\n",
       "  <th>Omnibus:</th>       <td>42.703</td> <th>  Durbin-Watson:     </th> <td>   1.974</td>\n",
       "</tr>\n",
       "<tr>\n",
       "  <th>Prob(Omnibus):</th> <td> 0.000</td> <th>  Jarque-Bera (JB):  </th> <td>  92.594</td>\n",
       "</tr>\n",
       "<tr>\n",
       "  <th>Skew:</th>          <td>-0.066</td> <th>  Prob(JB):          </th> <td>7.82e-21</td>\n",
       "</tr>\n",
       "<tr>\n",
       "  <th>Kurtosis:</th>      <td> 4.116</td> <th>  Cond. No.          </th> <td>    128.</td>\n",
       "</tr>\n",
       "</table><br/><br/>Warnings:<br/>[1] Standard Errors assume that the covariance matrix of the errors is correctly specified."
      ],
      "text/plain": [
       "<class 'statsmodels.iolib.summary.Summary'>\n",
       "\"\"\"\n",
       "                            OLS Regression Results                            \n",
       "==============================================================================\n",
       "Dep. Variable:                quality   R-squared:                       0.204\n",
       "Model:                            OLS   Adj. R-squared:                  0.203\n",
       "Method:                 Least Squares   F-statistic:                     224.8\n",
       "Date:                Tue, 15 Sep 2020   Prob (F-statistic):           1.15e-87\n",
       "Time:                        23:25:16   Log-Likelihood:                -2126.8\n",
       "No. Observations:                1760   AIC:                             4260.\n",
       "Df Residuals:                    1757   BIC:                             4276.\n",
       "Df Model:                           2                                         \n",
       "Covariance Type:            nonrobust                                         \n",
       "==============================================================================\n",
       "                 coef    std err          t      P>|t|      [0.025      0.975]\n",
       "------------------------------------------------------------------------------\n",
       "const          2.0327      0.198     10.254      0.000       1.644       2.422\n",
       "alcohol        0.3544      0.017     20.340      0.000       0.320       0.389\n",
       "sugar          0.0158      0.004      3.569      0.000       0.007       0.025\n",
       "==============================================================================\n",
       "Omnibus:                       42.703   Durbin-Watson:                   1.974\n",
       "Prob(Omnibus):                  0.000   Jarque-Bera (JB):               92.594\n",
       "Skew:                          -0.066   Prob(JB):                     7.82e-21\n",
       "Kurtosis:                       4.116   Cond. No.                         128.\n",
       "==============================================================================\n",
       "\n",
       "Warnings:\n",
       "[1] Standard Errors assume that the covariance matrix of the errors is correctly specified.\n",
       "\"\"\""
      ]
     },
     "execution_count": 80,
     "metadata": {},
     "output_type": "execute_result"
    }
   ],
   "source": [
    "# To verify the regression model results, we run the same code on the fram_test data set\n",
    "\n",
    "# separate the predictor variables and the target variable and save into dataframe format\n",
    "x_ww_ts = pd.DataFrame(ww_test[['alcohol', 'sugar']])\n",
    "y_ww_ts = pd.DataFrame(ww_test[['quality']])\n",
    "# add a constant variable to our predictor variables\n",
    "x_ww_ts = sm.add_constant(x_ww_ts)\n",
    "#  run the multiple regression mode\n",
    "model05_test = sm.OLS(y_ww_ts, x_ww_ts).fit()\n",
    "# obtain the results(summary) of the regression model\n",
    "model05_test.summary()"
   ]
  },
  {
   "cell_type": "code",
   "execution_count": 81,
   "metadata": {},
   "outputs": [
    {
     "data": {
      "text/plain": [
       "'The summary() of the test set is smililar with the summary() of the trainning set. So the model is validated.'"
      ]
     },
     "execution_count": 81,
     "metadata": {},
     "output_type": "execute_result"
    }
   ],
   "source": [
    "'''The summary() of the test set is smililar with the summary() of the trainning set. So the model is validated.'''"
   ]
  },
  {
   "cell_type": "markdown",
   "metadata": {},
   "source": [
    "55. Use the regression equation to complete this sentence: “The estimated Quality equals....”"
   ]
  },
  {
   "cell_type": "code",
   "execution_count": 82,
   "metadata": {},
   "outputs": [
    {
     "data": {
      "text/plain": [
       "'The estimated Quality equals = 2.0327 + 0.3544*alcohol + 0.0158*sugar'"
      ]
     },
     "execution_count": 82,
     "metadata": {},
     "output_type": "execute_result"
    }
   ],
   "source": [
    "'''The estimated Quality equals = 2.0327 + 0.3544*alcohol + 0.0158*sugar'''"
   ]
  },
  {
   "cell_type": "markdown",
   "metadata": {},
   "source": [
    "56. Interpret the coefficient for Alcohol."
   ]
  },
  {
   "cell_type": "code",
   "execution_count": 83,
   "metadata": {},
   "outputs": [
    {
     "data": {
      "text/plain": [
       "'The higher the wine contains alcohol, the wine tend to have higher quality.'"
      ]
     },
     "execution_count": 83,
     "metadata": {},
     "output_type": "execute_result"
    }
   ],
   "source": [
    "'''The higher the wine contains alcohol, the wine tend to have higher quality.'''"
   ]
  },
  {
   "cell_type": "markdown",
   "metadata": {},
   "source": [
    "57. Interpret the coefficient for Sugar."
   ]
  },
  {
   "cell_type": "code",
   "execution_count": 84,
   "metadata": {},
   "outputs": [
    {
     "data": {
      "text/plain": [
       "'The higher the wine contains sugar, the wine tend to have a little bit higher quality'"
      ]
     },
     "execution_count": 84,
     "metadata": {},
     "output_type": "execute_result"
    }
   ],
   "source": [
    "'''The higher the wine contains sugar, the wine tend to have a little bit higher quality'''"
   ]
  },
  {
   "cell_type": "markdown",
   "metadata": {},
   "source": [
    "58. Find and interpret the value of s."
   ]
  },
  {
   "cell_type": "code",
   "execution_count": 85,
   "metadata": {},
   "outputs": [
    {
     "data": {
      "text/plain": [
       "0.7587901511398473"
      ]
     },
     "execution_count": 85,
     "metadata": {},
     "output_type": "execute_result"
    }
   ],
   "source": [
    "# value of s = statistic s = standard error of the estimate = standard error of the regression\n",
    "np.sqrt(model05.scale)"
   ]
  },
  {
   "cell_type": "code",
   "execution_count": 86,
   "metadata": {},
   "outputs": [
    {
     "data": {
      "text/plain": [
       "'S value represents the average distance that the observed values fall from the regression line. Conveniently, it tells you how wrong the regression model is on average using the units of the response variable. Smaller values are better because it indicates that the observations are closer to the fitted line.\\nIn this case the S value is 0.7587901511398473, which tells us that the average distance of the data points from the fitted line is about 0.75% qulity. This prediction model have pretty good predciton result.'"
      ]
     },
     "execution_count": 86,
     "metadata": {},
     "output_type": "execute_result"
    }
   ],
   "source": [
    "'''S value represents the average distance that the observed values fall from the regression line. Conveniently, it tells you how wrong the regression model is on average using the units of the response variable. Smaller values are better because it indicates that the observations are closer to the fitted line.\n",
    "In this case the S value is 0.7587901511398473, which tells us that the average distance of the data points from the fitted line is about 0.75% qulity. This prediction model have pretty good predciton result.'''\n"
   ]
  },
  {
   "cell_type": "markdown",
   "metadata": {},
   "source": [
    "59. Find and interpret R2adj ."
   ]
  },
  {
   "cell_type": "code",
   "execution_count": 87,
   "metadata": {},
   "outputs": [
    {
     "data": {
      "text/plain": [
       "\"The R2adj value is 0.244. \\nR2adj represents the percentage variation in the dependent variable (quality) that is explained by the independent variables (alcohol, sugar). \\nThe higher the R2adj value, the better the explainability of the model, with the highest value being one. \\nIn our case, the Radj value of 0.244 means that 0.244% of the variation in the variable 'quality' is explained by the variables 'alcohol, sugar'.\""
      ]
     },
     "execution_count": 87,
     "metadata": {},
     "output_type": "execute_result"
    }
   ],
   "source": [
    "'''The R2adj value is 0.244. \n",
    "R2adj represents the percentage variation in the dependent variable (quality) that is explained by the independent variables (alcohol, sugar). \n",
    "The higher the R2adj value, the better the explainability of the model, with the highest value being one. \n",
    "In our case, the Radj value of 0.244 means that 0.244% of the variation in the variable 'quality' is explained by the variables 'alcohol, sugar'.'''\n"
   ]
  },
  {
   "cell_type": "markdown",
   "metadata": {},
   "source": [
    "60. Find MAE Baseline and MAE Regression, and determine whether the regression model outperformed its baseline model."
   ]
  },
  {
   "cell_type": "code",
   "execution_count": 90,
   "metadata": {},
   "outputs": [
    {
     "data": {
      "text/plain": [
       "0.6367781971803833"
      ]
     },
     "execution_count": 90,
     "metadata": {},
     "output_type": "execute_result"
    }
   ],
   "source": [
    "# MAE Baseline = the MAE of prediction model(developed by test data set) over acutal value of the test data set \n",
    "\n",
    "# prepare the y values\n",
    "y_pred_test_ww = model05_test.predict(x_ww_ts)\n",
    "ytrue_test_ww = pd.DataFrame(ww_test[['quality']])\n",
    "# obtain the MAE\n",
    "MAE_Baseline = met.mean_absolute_error(y_true=ytrue_test_ww, y_pred=y_pred_test_ww)\n",
    "\n",
    "# MAE Regression = the MAE of prediction model(developed by trainning data set) over actual value of the test data set\n",
    "# prepare the y values\n",
    "y_pred_ww = model05.predict(x_ww_ts)\n",
    "# obtain the MAE\n",
    "MAE_regression = met.mean_absolute_error(y_true=ytrue_test_ww, y_pred=y_pred_ww)\n",
    "\n",
    "# compare the MAE Baseline VS. MAE Regression\n",
    "MAE_regression - MAE_Baseline\n"
   ]
  },
  {
   "cell_type": "code",
   "execution_count": 89,
   "metadata": {},
   "outputs": [
    {
     "data": {
      "text/plain": [
       "'Since the value of Mean Absolute Error of regression model is bigger than the Mean Absolute Error of baseline, our regression model did not beat the baseline model. But the value difference is very low, so our regression is not much worse than Baseline model.'"
      ]
     },
     "execution_count": 89,
     "metadata": {},
     "output_type": "execute_result"
    }
   ],
   "source": [
    "'''Since the value of Mean Absolute Error of regression model is bigger than the Mean Absolute Error of baseline, our regression model did not beat the baseline model. But the value difference is very low, so our regression is not much worse than Baseline model.'''\n"
   ]
  }
 ],
 "metadata": {
  "kernelspec": {
   "display_name": "Python 3",
   "language": "python",
   "name": "python3"
  },
  "language_info": {
   "codemirror_mode": {
    "name": "ipython",
    "version": 3
   },
   "file_extension": ".py",
   "mimetype": "text/x-python",
   "name": "python",
   "nbconvert_exporter": "python",
   "pygments_lexer": "ipython3",
   "version": "3.7.6"
  }
 },
 "nbformat": 4,
 "nbformat_minor": 4
}
