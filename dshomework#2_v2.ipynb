{
 "cells": [
  {
   "cell_type": "markdown",
   "metadata": {},
   "source": [
    "# Course: MSIS-678 Knowledge Discovery & Data Warehousing \n",
    "\n",
    "# Data Science Using Python And R Exercise\n",
    "\n",
    "Professor: Edward (Ted) Kreutzer\n",
    "Student: Jun Bao"
   ]
  },
  {
   "cell_type": "markdown",
   "metadata": {},
   "source": [
    "## CHAPTER4 EXPLORATORY DATA ANALYSIS"
   ]
  },
  {
   "cell_type": "markdown",
   "metadata": {},
   "source": [
    "For Exercises 21–30, continue working with the bank_marketing_training data set. Use either Python or R to solve each problem.\n",
    "21. Produce the following graphs. What is the strength of each graph? Weakness?\n",
    "    a. Bar graph of marital."
   ]
  },
  {
   "cell_type": "code",
   "execution_count": 1,
   "metadata": {},
   "outputs": [
    {
     "data": {
      "text/html": [
       "<div>\n",
       "<style scoped>\n",
       "    .dataframe tbody tr th:only-of-type {\n",
       "        vertical-align: middle;\n",
       "    }\n",
       "\n",
       "    .dataframe tbody tr th {\n",
       "        vertical-align: top;\n",
       "    }\n",
       "\n",
       "    .dataframe thead th {\n",
       "        text-align: right;\n",
       "    }\n",
       "</style>\n",
       "<table border=\"1\" class=\"dataframe\">\n",
       "  <thead>\n",
       "    <tr style=\"text-align: right;\">\n",
       "      <th></th>\n",
       "      <th>age</th>\n",
       "      <th>job</th>\n",
       "      <th>marital</th>\n",
       "      <th>education</th>\n",
       "      <th>default</th>\n",
       "      <th>housing</th>\n",
       "      <th>loan</th>\n",
       "      <th>contact</th>\n",
       "      <th>month</th>\n",
       "      <th>day_of_week</th>\n",
       "      <th>duration</th>\n",
       "      <th>campaign</th>\n",
       "      <th>days_since_previous</th>\n",
       "      <th>previous</th>\n",
       "      <th>previous_outcome</th>\n",
       "      <th>emp.var.rate</th>\n",
       "      <th>cons.price.idx</th>\n",
       "      <th>cons.conf.idx</th>\n",
       "      <th>euribor3m</th>\n",
       "      <th>nr.employed</th>\n",
       "      <th>response</th>\n",
       "    </tr>\n",
       "  </thead>\n",
       "  <tbody>\n",
       "    <tr>\n",
       "      <th>0</th>\n",
       "      <td>56</td>\n",
       "      <td>housemaid</td>\n",
       "      <td>married</td>\n",
       "      <td>basic.4y</td>\n",
       "      <td>no</td>\n",
       "      <td>no</td>\n",
       "      <td>no</td>\n",
       "      <td>telephone</td>\n",
       "      <td>may</td>\n",
       "      <td>mon</td>\n",
       "      <td>261</td>\n",
       "      <td>1</td>\n",
       "      <td>999</td>\n",
       "      <td>0</td>\n",
       "      <td>nonexistent</td>\n",
       "      <td>1.1</td>\n",
       "      <td>93.994</td>\n",
       "      <td>-36.4</td>\n",
       "      <td>4.857</td>\n",
       "      <td>5191</td>\n",
       "      <td>no</td>\n",
       "    </tr>\n",
       "    <tr>\n",
       "      <th>1</th>\n",
       "      <td>57</td>\n",
       "      <td>services</td>\n",
       "      <td>married</td>\n",
       "      <td>high.school</td>\n",
       "      <td>unknown</td>\n",
       "      <td>no</td>\n",
       "      <td>no</td>\n",
       "      <td>telephone</td>\n",
       "      <td>may</td>\n",
       "      <td>mon</td>\n",
       "      <td>149</td>\n",
       "      <td>1</td>\n",
       "      <td>999</td>\n",
       "      <td>0</td>\n",
       "      <td>nonexistent</td>\n",
       "      <td>1.1</td>\n",
       "      <td>93.994</td>\n",
       "      <td>-36.4</td>\n",
       "      <td>4.857</td>\n",
       "      <td>5191</td>\n",
       "      <td>no</td>\n",
       "    </tr>\n",
       "    <tr>\n",
       "      <th>2</th>\n",
       "      <td>41</td>\n",
       "      <td>blue-collar</td>\n",
       "      <td>married</td>\n",
       "      <td>unknown</td>\n",
       "      <td>unknown</td>\n",
       "      <td>no</td>\n",
       "      <td>no</td>\n",
       "      <td>telephone</td>\n",
       "      <td>may</td>\n",
       "      <td>mon</td>\n",
       "      <td>217</td>\n",
       "      <td>1</td>\n",
       "      <td>999</td>\n",
       "      <td>0</td>\n",
       "      <td>nonexistent</td>\n",
       "      <td>1.1</td>\n",
       "      <td>93.994</td>\n",
       "      <td>-36.4</td>\n",
       "      <td>4.857</td>\n",
       "      <td>5191</td>\n",
       "      <td>no</td>\n",
       "    </tr>\n",
       "    <tr>\n",
       "      <th>3</th>\n",
       "      <td>25</td>\n",
       "      <td>services</td>\n",
       "      <td>single</td>\n",
       "      <td>high.school</td>\n",
       "      <td>no</td>\n",
       "      <td>yes</td>\n",
       "      <td>no</td>\n",
       "      <td>telephone</td>\n",
       "      <td>may</td>\n",
       "      <td>mon</td>\n",
       "      <td>222</td>\n",
       "      <td>1</td>\n",
       "      <td>999</td>\n",
       "      <td>0</td>\n",
       "      <td>nonexistent</td>\n",
       "      <td>1.1</td>\n",
       "      <td>93.994</td>\n",
       "      <td>-36.4</td>\n",
       "      <td>4.857</td>\n",
       "      <td>5191</td>\n",
       "      <td>no</td>\n",
       "    </tr>\n",
       "    <tr>\n",
       "      <th>4</th>\n",
       "      <td>29</td>\n",
       "      <td>blue-collar</td>\n",
       "      <td>single</td>\n",
       "      <td>high.school</td>\n",
       "      <td>no</td>\n",
       "      <td>no</td>\n",
       "      <td>yes</td>\n",
       "      <td>telephone</td>\n",
       "      <td>may</td>\n",
       "      <td>mon</td>\n",
       "      <td>137</td>\n",
       "      <td>1</td>\n",
       "      <td>999</td>\n",
       "      <td>0</td>\n",
       "      <td>nonexistent</td>\n",
       "      <td>1.1</td>\n",
       "      <td>93.994</td>\n",
       "      <td>-36.4</td>\n",
       "      <td>4.857</td>\n",
       "      <td>5191</td>\n",
       "      <td>no</td>\n",
       "    </tr>\n",
       "  </tbody>\n",
       "</table>\n",
       "</div>"
      ],
      "text/plain": [
       "   age          job  marital    education  default housing loan    contact  \\\n",
       "0   56    housemaid  married     basic.4y       no      no   no  telephone   \n",
       "1   57     services  married  high.school  unknown      no   no  telephone   \n",
       "2   41  blue-collar  married      unknown  unknown      no   no  telephone   \n",
       "3   25     services   single  high.school       no     yes   no  telephone   \n",
       "4   29  blue-collar   single  high.school       no      no  yes  telephone   \n",
       "\n",
       "  month day_of_week  duration  campaign  days_since_previous  previous  \\\n",
       "0   may         mon       261         1                  999         0   \n",
       "1   may         mon       149         1                  999         0   \n",
       "2   may         mon       217         1                  999         0   \n",
       "3   may         mon       222         1                  999         0   \n",
       "4   may         mon       137         1                  999         0   \n",
       "\n",
       "  previous_outcome  emp.var.rate  cons.price.idx  cons.conf.idx  euribor3m  \\\n",
       "0      nonexistent           1.1          93.994          -36.4      4.857   \n",
       "1      nonexistent           1.1          93.994          -36.4      4.857   \n",
       "2      nonexistent           1.1          93.994          -36.4      4.857   \n",
       "3      nonexistent           1.1          93.994          -36.4      4.857   \n",
       "4      nonexistent           1.1          93.994          -36.4      4.857   \n",
       "\n",
       "   nr.employed response  \n",
       "0         5191       no  \n",
       "1         5191       no  \n",
       "2         5191       no  \n",
       "3         5191       no  \n",
       "4         5191       no  "
      ]
     },
     "execution_count": 1,
     "metadata": {},
     "output_type": "execute_result"
    }
   ],
   "source": [
    "# import libraries\n",
    "import numpy as np\n",
    "import pandas as pd\n",
    "import matplotlib.pyplot as plt\n",
    "from scipy import stats\n",
    "\n",
    "from sklearn.model_selection import train_test_split \n",
    "import random\n",
    "import statsmodels.tools.tools as stattools\n",
    "from sklearn.tree import DecisionTreeClassifier, export_graphviz\n",
    "from sklearn.ensemble import RandomForestClassifier\n",
    "\n",
    "# import dataset\n",
    "bank_train = pd.read_csv('bank_marketing_training')\n",
    "pd.set_option('display.max_columns',25)\n",
    "bank_train.head()"
   ]
  },
  {
   "cell_type": "code",
   "execution_count": 2,
   "metadata": {
    "scrolled": true
   },
   "outputs": [
    {
     "data": {
      "text/plain": [
       "Text(0.5, 1.0, 'Bar Graph of Marital')"
      ]
     },
     "execution_count": 2,
     "metadata": {},
     "output_type": "execute_result"
    },
    {
     "data": {
      "image/png": "[encoded data removed]",
      "text/plain": [
       "<Figure size 432x288 with 1 Axes>"
      ]
     },
     "metadata": {
      "needs_background": "light"
     },
     "output_type": "display_data"
    }
   ],
   "source": [
    "# carete bar graph of material\n",
    "x = np.unique(bank_train['marital'])\n",
    "y = bank_train.groupby('marital')['marital'].count()\n",
    "plt.bar(x, y)\n",
    "plt.title('Bar Graph of Marital')"
   ]
  },
  {
   "cell_type": "markdown",
   "metadata": {},
   "source": [
    "b. Bar graph of marital, with overlay of response."
   ]
  },
  {
   "cell_type": "code",
   "execution_count": 3,
   "metadata": {},
   "outputs": [
    {
     "data": {
      "text/html": [
       "<div>\n",
       "<style scoped>\n",
       "    .dataframe tbody tr th:only-of-type {\n",
       "        vertical-align: middle;\n",
       "    }\n",
       "\n",
       "    .dataframe tbody tr th {\n",
       "        vertical-align: top;\n",
       "    }\n",
       "\n",
       "    .dataframe thead th {\n",
       "        text-align: right;\n",
       "    }\n",
       "</style>\n",
       "<table border=\"1\" class=\"dataframe\">\n",
       "  <thead>\n",
       "    <tr style=\"text-align: right;\">\n",
       "      <th>response</th>\n",
       "      <th>no</th>\n",
       "      <th>yes</th>\n",
       "    </tr>\n",
       "    <tr>\n",
       "      <th>marital</th>\n",
       "      <th></th>\n",
       "      <th></th>\n",
       "    </tr>\n",
       "  </thead>\n",
       "  <tbody>\n",
       "    <tr>\n",
       "      <th>divorced</th>\n",
       "      <td>2743</td>\n",
       "      <td>312</td>\n",
       "    </tr>\n",
       "    <tr>\n",
       "      <th>married</th>\n",
       "      <td>14579</td>\n",
       "      <td>1608</td>\n",
       "    </tr>\n",
       "    <tr>\n",
       "      <th>single</th>\n",
       "      <td>6514</td>\n",
       "      <td>1061</td>\n",
       "    </tr>\n",
       "    <tr>\n",
       "      <th>unknown</th>\n",
       "      <td>50</td>\n",
       "      <td>7</td>\n",
       "    </tr>\n",
       "  </tbody>\n",
       "</table>\n",
       "</div>"
      ],
      "text/plain": [
       "response     no   yes\n",
       "marital              \n",
       "divorced   2743   312\n",
       "married   14579  1608\n",
       "single     6514  1061\n",
       "unknown      50     7"
      ]
     },
     "execution_count": 3,
     "metadata": {},
     "output_type": "execute_result"
    }
   ],
   "source": [
    "# create a corss with marital and response\n",
    "crosstab_01 = pd.crosstab(bank_train['marital'], bank_train['response'])\n",
    "crosstab_01"
   ]
  },
  {
   "cell_type": "code",
   "execution_count": 4,
   "metadata": {},
   "outputs": [
    {
     "data": {
      "text/plain": [
       "<matplotlib.axes._subplots.AxesSubplot at 0x7f9452328f90>"
      ]
     },
     "execution_count": 4,
     "metadata": {},
     "output_type": "execute_result"
    },
    {
     "data": {
      "image/png": "[encoded data removed]",
      "text/plain": [
       "<Figure size 432x288 with 1 Axes>"
      ]
     },
     "metadata": {
      "needs_background": "light"
     },
     "output_type": "display_data"
    }
   ],
   "source": [
    "crosstab_01.plot(kind='bar', stacked=True, title='Bar Graph of Martial With Response Overlay')"
   ]
  },
  {
   "cell_type": "markdown",
   "metadata": {},
   "source": [
    "c. Normalized bar graph of marital, with overlay of response."
   ]
  },
  {
   "cell_type": "code",
   "execution_count": 5,
   "metadata": {},
   "outputs": [
    {
     "data": {
      "text/html": [
       "<div>\n",
       "<style scoped>\n",
       "    .dataframe tbody tr th:only-of-type {\n",
       "        vertical-align: middle;\n",
       "    }\n",
       "\n",
       "    .dataframe tbody tr th {\n",
       "        vertical-align: top;\n",
       "    }\n",
       "\n",
       "    .dataframe thead th {\n",
       "        text-align: right;\n",
       "    }\n",
       "</style>\n",
       "<table border=\"1\" class=\"dataframe\">\n",
       "  <thead>\n",
       "    <tr style=\"text-align: right;\">\n",
       "      <th>response</th>\n",
       "      <th>no</th>\n",
       "      <th>yes</th>\n",
       "    </tr>\n",
       "    <tr>\n",
       "      <th>marital</th>\n",
       "      <th></th>\n",
       "      <th></th>\n",
       "    </tr>\n",
       "  </thead>\n",
       "  <tbody>\n",
       "    <tr>\n",
       "      <th>divorced</th>\n",
       "      <td>0.897872</td>\n",
       "      <td>0.102128</td>\n",
       "    </tr>\n",
       "    <tr>\n",
       "      <th>married</th>\n",
       "      <td>0.900661</td>\n",
       "      <td>0.099339</td>\n",
       "    </tr>\n",
       "    <tr>\n",
       "      <th>single</th>\n",
       "      <td>0.859934</td>\n",
       "      <td>0.140066</td>\n",
       "    </tr>\n",
       "    <tr>\n",
       "      <th>unknown</th>\n",
       "      <td>0.877193</td>\n",
       "      <td>0.122807</td>\n",
       "    </tr>\n",
       "  </tbody>\n",
       "</table>\n",
       "</div>"
      ],
      "text/plain": [
       "response        no       yes\n",
       "marital                     \n",
       "divorced  0.897872  0.102128\n",
       "married   0.900661  0.099339\n",
       "single    0.859934  0.140066\n",
       "unknown   0.877193  0.122807"
      ]
     },
     "execution_count": 5,
     "metadata": {},
     "output_type": "execute_result"
    }
   ],
   "source": [
    "crosstab_01_norm = crosstab_01.div(crosstab_01.sum(axis=1), axis=0)\n",
    "crosstab_01_norm"
   ]
  },
  {
   "cell_type": "code",
   "execution_count": 6,
   "metadata": {},
   "outputs": [
    {
     "data": {
      "text/plain": [
       "<matplotlib.axes._subplots.AxesSubplot at 0x7f9452588110>"
      ]
     },
     "execution_count": 6,
     "metadata": {},
     "output_type": "execute_result"
    },
    {
     "data": {
      "image/png": "[encoded data removed]",
      "text/plain": [
       "<Figure size 432x288 with 1 Axes>"
      ]
     },
     "metadata": {
      "needs_background": "light"
     },
     "output_type": "display_data"
    }
   ],
   "source": [
    "crosstab_01_norm.plot(kind='bar', stacked=True, title='Normalized Bar Graph of Martial With Response Overlay')"
   ]
  },
  {
   "cell_type": "code",
   "execution_count": 7,
   "metadata": {},
   "outputs": [],
   "source": [
    "# Strenth & weekness\n",
    "# 1. 21a graph strenth: displays the original marital column data's distribution.\n",
    "# 2. 21a graph weekness: it's difficult to tell the percentage of different group.\n",
    "# 3. 21b graph strenth: displays the original data's distribution; with response data overlay, makes it more predictive\n",
    "# to see which marital group could response better.\n",
    "# 4. 21b graph weekness: it's difficult to tell the percentage of different group's response.\n",
    "# 5. 21c graph strenth: displays the the percentation of different marital group's response.\n",
    "# 6. 21c graph weekness: can't display original data's dristribution."
   ]
  },
  {
   "cell_type": "markdown",
   "metadata": {},
   "source": [
    "22. Using the graph from Exercise 21c, describe the relationship between marital and response."
   ]
  },
  {
   "cell_type": "code",
   "execution_count": 8,
   "metadata": {},
   "outputs": [],
   "source": [
    "# Single group have the highest yes response proportion. Maried group have the highest no response proportion."
   ]
  },
  {
   "cell_type": "markdown",
   "metadata": {},
   "source": [
    "23. Do the following with the variables marital and response.\n",
    "a. Build a contingency table, being careful to have the correct variables representing\n",
    "the rows and columns. Report the counts and the column percentages."
   ]
  },
  {
   "cell_type": "code",
   "execution_count": 9,
   "metadata": {},
   "outputs": [
    {
     "data": {
      "text/html": [
       "<div>\n",
       "<style scoped>\n",
       "    .dataframe tbody tr th:only-of-type {\n",
       "        vertical-align: middle;\n",
       "    }\n",
       "\n",
       "    .dataframe tbody tr th {\n",
       "        vertical-align: top;\n",
       "    }\n",
       "\n",
       "    .dataframe thead th {\n",
       "        text-align: right;\n",
       "    }\n",
       "</style>\n",
       "<table border=\"1\" class=\"dataframe\">\n",
       "  <thead>\n",
       "    <tr style=\"text-align: right;\">\n",
       "      <th>marital</th>\n",
       "      <th>divorced</th>\n",
       "      <th>married</th>\n",
       "      <th>single</th>\n",
       "      <th>unknown</th>\n",
       "    </tr>\n",
       "    <tr>\n",
       "      <th>response</th>\n",
       "      <th></th>\n",
       "      <th></th>\n",
       "      <th></th>\n",
       "      <th></th>\n",
       "    </tr>\n",
       "  </thead>\n",
       "  <tbody>\n",
       "    <tr>\n",
       "      <th>no</th>\n",
       "      <td>0.897872</td>\n",
       "      <td>0.900661</td>\n",
       "      <td>0.859934</td>\n",
       "      <td>0.877193</td>\n",
       "    </tr>\n",
       "    <tr>\n",
       "      <th>yes</th>\n",
       "      <td>0.102128</td>\n",
       "      <td>0.099339</td>\n",
       "      <td>0.140066</td>\n",
       "      <td>0.122807</td>\n",
       "    </tr>\n",
       "  </tbody>\n",
       "</table>\n",
       "</div>"
      ],
      "text/plain": [
       "marital   divorced   married    single   unknown\n",
       "response                                        \n",
       "no        0.897872  0.900661  0.859934  0.877193\n",
       "yes       0.102128  0.099339  0.140066  0.122807"
      ]
     },
     "execution_count": 9,
     "metadata": {},
     "output_type": "execute_result"
    }
   ],
   "source": [
    "crosstab_02 = pd.crosstab(bank_train['response'], bank_train['marital'])\n",
    "\n",
    "crosstab_02.div(crosstab_02.sum(axis=0), axis=1)"
   ]
  },
  {
   "cell_type": "markdown",
   "metadata": {},
   "source": [
    "b. Describe what the contingency table is telling you."
   ]
  },
  {
   "cell_type": "code",
   "execution_count": 10,
   "metadata": {},
   "outputs": [],
   "source": [
    "# Single group have the highest yes response proportion. Maried group have the highest no response proportion."
   ]
  },
  {
   "cell_type": "markdown",
   "metadata": {},
   "source": [
    "24. Repeat the previous exercise, this time reporting the row percentages. Explain the difference between the interpretation of this table and the previous contingency table."
   ]
  },
  {
   "cell_type": "code",
   "execution_count": 11,
   "metadata": {},
   "outputs": [
    {
     "data": {
      "text/html": [
       "<div>\n",
       "<style scoped>\n",
       "    .dataframe tbody tr th:only-of-type {\n",
       "        vertical-align: middle;\n",
       "    }\n",
       "\n",
       "    .dataframe tbody tr th {\n",
       "        vertical-align: top;\n",
       "    }\n",
       "\n",
       "    .dataframe thead th {\n",
       "        text-align: right;\n",
       "    }\n",
       "</style>\n",
       "<table border=\"1\" class=\"dataframe\">\n",
       "  <thead>\n",
       "    <tr style=\"text-align: right;\">\n",
       "      <th>marital</th>\n",
       "      <th>divorced</th>\n",
       "      <th>married</th>\n",
       "      <th>single</th>\n",
       "      <th>unknown</th>\n",
       "    </tr>\n",
       "    <tr>\n",
       "      <th>response</th>\n",
       "      <th></th>\n",
       "      <th></th>\n",
       "      <th></th>\n",
       "      <th></th>\n",
       "    </tr>\n",
       "  </thead>\n",
       "  <tbody>\n",
       "    <tr>\n",
       "      <th>no</th>\n",
       "      <td>0.114837</td>\n",
       "      <td>0.610358</td>\n",
       "      <td>0.272712</td>\n",
       "      <td>0.002093</td>\n",
       "    </tr>\n",
       "    <tr>\n",
       "      <th>yes</th>\n",
       "      <td>0.104418</td>\n",
       "      <td>0.538153</td>\n",
       "      <td>0.355087</td>\n",
       "      <td>0.002343</td>\n",
       "    </tr>\n",
       "  </tbody>\n",
       "</table>\n",
       "</div>"
      ],
      "text/plain": [
       "marital   divorced   married    single   unknown\n",
       "response                                        \n",
       "no        0.114837  0.610358  0.272712  0.002093\n",
       "yes       0.104418  0.538153  0.355087  0.002343"
      ]
     },
     "execution_count": 11,
     "metadata": {},
     "output_type": "execute_result"
    }
   ],
   "source": [
    "crosstab_02.div(crosstab_02.sum(axis=1), axis=0)"
   ]
  },
  {
   "cell_type": "code",
   "execution_count": 12,
   "metadata": {},
   "outputs": [],
   "source": [
    "# This contingency table's percentation describs:\n",
    "# 1. View all the no response as a whole and display how many percentage that the different marital status take up.\n",
    "# 2. View all the yes response as a whole and display how many percentage that the different marital status take up."
   ]
  },
  {
   "cell_type": "markdown",
   "metadata": {},
   "source": [
    "25. Produce the following graphs. What is the strength of each graph? Weakness?\n",
    "a. Histogram of duration."
   ]
  },
  {
   "cell_type": "code",
   "execution_count": 13,
   "metadata": {},
   "outputs": [
    {
     "data": {
      "text/plain": [
       "Text(0.5, 1.0, 'Duration Histogram')"
      ]
     },
     "execution_count": 13,
     "metadata": {},
     "output_type": "execute_result"
    },
    {
     "data": {
      "image/png": "[encoded data removed]",
      "text/plain": [
       "<Figure size 432x288 with 1 Axes>"
      ]
     },
     "metadata": {
      "needs_background": "light"
     },
     "output_type": "display_data"
    }
   ],
   "source": [
    "# plot a histogram of duraion\n",
    "plt.hist(bank_train['duration'], bins=10)\n",
    "plt.title('Duration Histogram')"
   ]
  },
  {
   "cell_type": "markdown",
   "metadata": {},
   "source": [
    "b. Histogram of duration, with overlay of response."
   ]
  },
  {
   "cell_type": "code",
   "execution_count": 14,
   "metadata": {},
   "outputs": [
    {
     "data": {
      "image/png": "[encoded data removed]",
      "text/plain": [
       "<Figure size 432x288 with 1 Axes>"
      ]
     },
     "metadata": {
      "needs_background": "light"
     },
     "output_type": "display_data"
    }
   ],
   "source": [
    "# seperate 2 variables and save them \n",
    "bt_dur_y = bank_train[bank_train['response'] == 'yes']['duration']\n",
    "bt_dur_n = bank_train[bank_train['response'] == 'no']['duration']\n",
    "\n",
    "# plot the histogram\n",
    "plt.hist([bt_dur_y, bt_dur_n], bins=10, stacked=True)\n",
    "plt.legend(['response = yes', 'response = no'])\n",
    "plt.title('Histogram of Duration with Response Overlay')\n",
    "plt.xlabel('Durtion'); plt.ylabel('Response'); plt.show()"
   ]
  },
  {
   "cell_type": "markdown",
   "metadata": {},
   "source": [
    "c. Normalized histogram of duration, with overlay of response.\n"
   ]
  },
  {
   "cell_type": "code",
   "execution_count": 15,
   "metadata": {},
   "outputs": [
    {
     "data": {
      "text/plain": [
       "([array([1.633e+03, 9.790e+02, 2.870e+02, 5.900e+01, 2.200e+01, 4.000e+00,\n",
       "         1.000e+00, 2.000e+00, 1.000e+00, 0.000e+00]),\n",
       "  array([2.357e+04, 2.667e+03, 4.950e+02, 9.600e+01, 2.900e+01, 6.000e+00,\n",
       "         6.000e+00, 3.000e+00, 1.000e+00, 1.000e+00])],\n",
       " array([   0. ,  491.8,  983.6, 1475.4, 1967.2, 2459. , 2950.8, 3442.6,\n",
       "        3934.4, 4426.2, 4918. ]),\n",
       " <a list of 2 Lists of Patches objects>)"
      ]
     },
     "execution_count": 15,
     "metadata": {},
     "output_type": "execute_result"
    },
    {
     "data": {
      "image/png": "[encoded data removed]",
      "text/plain": [
       "<Figure size 432x288 with 1 Axes>"
      ]
     },
     "metadata": {
      "needs_background": "light"
     },
     "output_type": "display_data"
    }
   ],
   "source": [
    "# create a stacked histogram to save the information generated by the histogram\n",
    "(n, bins, patchs) = plt.hist([bt_dur_y, bt_dur_n], bins=10, stacked=True)\n",
    "n, bins, patchs"
   ]
  },
  {
   "cell_type": "code",
   "execution_count": 16,
   "metadata": {},
   "outputs": [
    {
     "data": {
      "text/plain": [
       "array([[1.633e+03, 2.357e+04],\n",
       "       [9.790e+02, 2.667e+03],\n",
       "       [2.870e+02, 4.950e+02],\n",
       "       [5.900e+01, 9.600e+01],\n",
       "       [2.200e+01, 2.900e+01],\n",
       "       [4.000e+00, 6.000e+00],\n",
       "       [1.000e+00, 6.000e+00],\n",
       "       [2.000e+00, 3.000e+00],\n",
       "       [1.000e+00, 1.000e+00],\n",
       "       [0.000e+00, 1.000e+00]])"
      ]
     },
     "execution_count": 16,
     "metadata": {},
     "output_type": "execute_result"
    }
   ],
   "source": [
    "# take the 1-D arrays and stack them as columns to make a 2-D array\n",
    "n_table = np.column_stack((n[0], n[1]))\n",
    "n_table"
   ]
  },
  {
   "cell_type": "code",
   "execution_count": 17,
   "metadata": {},
   "outputs": [
    {
     "data": {
      "text/plain": [
       "array([[0.06479387, 0.93520613],\n",
       "       [0.26851344, 0.73148656],\n",
       "       [0.36700767, 0.63299233],\n",
       "       [0.38064516, 0.61935484],\n",
       "       [0.43137255, 0.56862745],\n",
       "       [0.4       , 0.6       ],\n",
       "       [0.14285714, 0.85714286],\n",
       "       [0.4       , 0.6       ],\n",
       "       [0.5       , 0.5       ],\n",
       "       [0.        , 1.        ]])"
      ]
     },
     "execution_count": 17,
     "metadata": {},
     "output_type": "execute_result"
    }
   ],
   "source": [
    "# calculate what proportion of the bar is accounted for by each variable\n",
    "n_norm = n_table / n_table.sum(axis=1)[:, None]\n",
    "n_norm"
   ]
  },
  {
   "cell_type": "code",
   "execution_count": 18,
   "metadata": {},
   "outputs": [
    {
     "data": {
      "text/plain": [
       "array([[   0. ,  491.8],\n",
       "       [ 491.8,  983.6],\n",
       "       [ 983.6, 1475.4],\n",
       "       [1475.4, 1967.2],\n",
       "       [1967.2, 2459. ],\n",
       "       [2459. , 2950.8],\n",
       "       [2950.8, 3442.6],\n",
       "       [3442.6, 3934.4],\n",
       "       [3934.4, 4426.2],\n",
       "       [4426.2, 4918. ]])"
      ]
     },
     "execution_count": 18,
     "metadata": {},
     "output_type": "execute_result"
    }
   ],
   "source": [
    "# create an array whose rows are the exact cuts of each bin\n",
    "ourbins = np.column_stack((bins[0:10], bins[1:11]))\n",
    "ourbins"
   ]
  },
  {
   "cell_type": "code",
   "execution_count": 19,
   "metadata": {},
   "outputs": [
    {
     "data": {
      "image/png": "[encoded data removed]",
      "text/plain": [
       "<Figure size 432x288 with 1 Axes>"
      ]
     },
     "metadata": {
      "needs_background": "light"
     },
     "output_type": "display_data"
    }
   ],
   "source": [
    "# plot the normalized histogram\n",
    "p1 = plt.bar(x = ourbins[:, 0], height = n_norm[:, 0], width = ourbins[:, 1] - ourbins[:, 0])\n",
    "p1 = plt.bar(x = ourbins[:, 0], height = n_norm[:, 1], width = ourbins[:, 1] - ourbins[:, 0], bottom = n_norm[:, 0])\n",
    "plt.legend(['Response = Yes', 'Response = No'])\n",
    "plt.title('Normalized Histogram of Duration with Response Overlay')\n",
    "plt.xlabel('Duration'); plt.ylabel('Proportion'); plt.show()"
   ]
  },
  {
   "cell_type": "markdown",
   "metadata": {},
   "source": [
    "26. Using the graph from Exercise 25c, describe the relationship between duration and response."
   ]
  },
  {
   "cell_type": "code",
   "execution_count": 20,
   "metadata": {},
   "outputs": [],
   "source": [
    "# In general, with bigger duration, there are larger propotion of yes response. Except, duration between 2400 and 2900 \n",
    "# there are much less propotion of yes response, and once the duraton is larger than 4400, there is no yes response."
   ]
  },
  {
   "cell_type": "code",
   "execution_count": 21,
   "metadata": {},
   "outputs": [],
   "source": [
    "# strength & weakness of the 3 graph\n",
    "# 1. 25a displays the original data distribution of duration.\n",
    "# 2. 25b displays the original data distribution of duration with response overlay.\n",
    "# 3. 25c displays the data propotion of duration with response overlay."
   ]
  },
  {
   "cell_type": "markdown",
   "metadata": {},
   "source": [
    "27. Examine the non‐normalized and normalized histograms of duration, with overlay of response. Identify cutoff point(s) for duration, which separate low values of response from high values. Define a new categorical variable, duration_binned, using the cutoff points you identified."
   ]
  },
  {
   "cell_type": "code",
   "execution_count": 22,
   "metadata": {},
   "outputs": [
    {
     "data": {
      "text/plain": [
       "0        [0.0, 491.8)\n",
       "1        [0.0, 491.8)\n",
       "2        [0.0, 491.8)\n",
       "3        [0.0, 491.8)\n",
       "4        [0.0, 491.8)\n",
       "             ...     \n",
       "26869    [0.0, 491.8)\n",
       "26870    [0.0, 491.8)\n",
       "26871    [0.0, 491.8)\n",
       "26872    [0.0, 491.8)\n",
       "26873    [0.0, 491.8)\n",
       "Name: duration_binned, Length: 26874, dtype: category\n",
       "Categories (10, interval[float64]): [[0.0, 491.8) < [491.8, 983.6) < [983.6, 1475.4) < [1475.4, 1967.2) ... [2950.8, 3442.6) < [3442.6, 3934.4) < [3934.4, 4426.2) < [4426.2, 4918.0)]"
      ]
     },
     "execution_count": 22,
     "metadata": {},
     "output_type": "execute_result"
    }
   ],
   "source": [
    "bins_duration = [0, 491.8, 983.6, 1475.4, 1967.2, 2459, 2950.8, 3442.6, 3934.4, 4426.2, 4918]\n",
    "# bins_duration = [0, 491.8, 2950.8, 3442.6, 3934.4, 4426.2, 4918]\n",
    "bank_train['duration_binned'] = pd.cut(x=bank_train['duration'], bins=bins_duration, right=False)\n",
    "bank_train['duration_binned']"
   ]
  },
  {
   "cell_type": "markdown",
   "metadata": {},
   "source": [
    "28. Provide the following. Describe each of the results.\n",
    "a. Contingency table of duration_binned with response, with counts and column\n",
    "percentages."
   ]
  },
  {
   "cell_type": "code",
   "execution_count": 23,
   "metadata": {},
   "outputs": [
    {
     "data": {
      "text/html": [
       "<div>\n",
       "<style scoped>\n",
       "    .dataframe tbody tr th:only-of-type {\n",
       "        vertical-align: middle;\n",
       "    }\n",
       "\n",
       "    .dataframe tbody tr th {\n",
       "        vertical-align: top;\n",
       "    }\n",
       "\n",
       "    .dataframe thead th {\n",
       "        text-align: right;\n",
       "    }\n",
       "</style>\n",
       "<table border=\"1\" class=\"dataframe\">\n",
       "  <thead>\n",
       "    <tr style=\"text-align: right;\">\n",
       "      <th>response</th>\n",
       "      <th>no</th>\n",
       "      <th>yes</th>\n",
       "    </tr>\n",
       "    <tr>\n",
       "      <th>duration_binned</th>\n",
       "      <th></th>\n",
       "      <th></th>\n",
       "    </tr>\n",
       "  </thead>\n",
       "  <tbody>\n",
       "    <tr>\n",
       "      <th>[0.0, 491.8)</th>\n",
       "      <td>21937</td>\n",
       "      <td>1633</td>\n",
       "    </tr>\n",
       "    <tr>\n",
       "      <th>[491.8, 983.6)</th>\n",
       "      <td>1688</td>\n",
       "      <td>979</td>\n",
       "    </tr>\n",
       "    <tr>\n",
       "      <th>[983.6, 1475.4)</th>\n",
       "      <td>208</td>\n",
       "      <td>287</td>\n",
       "    </tr>\n",
       "    <tr>\n",
       "      <th>[1475.4, 1967.2)</th>\n",
       "      <td>37</td>\n",
       "      <td>59</td>\n",
       "    </tr>\n",
       "    <tr>\n",
       "      <th>[1967.2, 2459.0)</th>\n",
       "      <td>7</td>\n",
       "      <td>22</td>\n",
       "    </tr>\n",
       "    <tr>\n",
       "      <th>[2459.0, 2950.8)</th>\n",
       "      <td>2</td>\n",
       "      <td>4</td>\n",
       "    </tr>\n",
       "    <tr>\n",
       "      <th>[2950.8, 3442.6)</th>\n",
       "      <td>5</td>\n",
       "      <td>1</td>\n",
       "    </tr>\n",
       "    <tr>\n",
       "      <th>[3442.6, 3934.4)</th>\n",
       "      <td>1</td>\n",
       "      <td>2</td>\n",
       "    </tr>\n",
       "    <tr>\n",
       "      <th>[3934.4, 4426.2)</th>\n",
       "      <td>0</td>\n",
       "      <td>1</td>\n",
       "    </tr>\n",
       "  </tbody>\n",
       "</table>\n",
       "</div>"
      ],
      "text/plain": [
       "response             no   yes\n",
       "duration_binned              \n",
       "[0.0, 491.8)      21937  1633\n",
       "[491.8, 983.6)     1688   979\n",
       "[983.6, 1475.4)     208   287\n",
       "[1475.4, 1967.2)     37    59\n",
       "[1967.2, 2459.0)      7    22\n",
       "[2459.0, 2950.8)      2     4\n",
       "[2950.8, 3442.6)      5     1\n",
       "[3442.6, 3934.4)      1     2\n",
       "[3934.4, 4426.2)      0     1"
      ]
     },
     "execution_count": 23,
     "metadata": {},
     "output_type": "execute_result"
    }
   ],
   "source": [
    "crosstab_03 = pd.crosstab(bank_train['duration_binned'], bank_train['response'])\n",
    "crosstab_03"
   ]
  },
  {
   "cell_type": "markdown",
   "metadata": {},
   "source": [
    "b. Non‐normalized bar graph of duration_binned, with response overlay."
   ]
  },
  {
   "cell_type": "code",
   "execution_count": 24,
   "metadata": {},
   "outputs": [
    {
     "data": {
      "text/plain": [
       "<matplotlib.axes._subplots.AxesSubplot at 0x7f94532051d0>"
      ]
     },
     "execution_count": 24,
     "metadata": {},
     "output_type": "execute_result"
    },
    {
     "data": {
      "image/png": "[encoded data removed]",
      "text/plain": [
       "<Figure size 432x288 with 1 Axes>"
      ]
     },
     "metadata": {
      "needs_background": "light"
     },
     "output_type": "display_data"
    }
   ],
   "source": [
    "crosstab_03.plot(kind='bar', stacked=True, title='Bar Graph of Duration (Binned) with Response Overlay')"
   ]
  },
  {
   "cell_type": "markdown",
   "metadata": {},
   "source": [
    "c. Normalized bar graph of duration_binned, with response overlay."
   ]
  },
  {
   "cell_type": "code",
   "execution_count": 25,
   "metadata": {},
   "outputs": [
    {
     "data": {
      "text/html": [
       "<div>\n",
       "<style scoped>\n",
       "    .dataframe tbody tr th:only-of-type {\n",
       "        vertical-align: middle;\n",
       "    }\n",
       "\n",
       "    .dataframe tbody tr th {\n",
       "        vertical-align: top;\n",
       "    }\n",
       "\n",
       "    .dataframe thead th {\n",
       "        text-align: right;\n",
       "    }\n",
       "</style>\n",
       "<table border=\"1\" class=\"dataframe\">\n",
       "  <thead>\n",
       "    <tr style=\"text-align: right;\">\n",
       "      <th>response</th>\n",
       "      <th>no</th>\n",
       "      <th>yes</th>\n",
       "    </tr>\n",
       "    <tr>\n",
       "      <th>duration_binned</th>\n",
       "      <th></th>\n",
       "      <th></th>\n",
       "    </tr>\n",
       "  </thead>\n",
       "  <tbody>\n",
       "    <tr>\n",
       "      <th>[0.0, 491.8)</th>\n",
       "      <td>0.930717</td>\n",
       "      <td>0.069283</td>\n",
       "    </tr>\n",
       "    <tr>\n",
       "      <th>[491.8, 983.6)</th>\n",
       "      <td>0.632921</td>\n",
       "      <td>0.367079</td>\n",
       "    </tr>\n",
       "    <tr>\n",
       "      <th>[983.6, 1475.4)</th>\n",
       "      <td>0.420202</td>\n",
       "      <td>0.579798</td>\n",
       "    </tr>\n",
       "    <tr>\n",
       "      <th>[1475.4, 1967.2)</th>\n",
       "      <td>0.385417</td>\n",
       "      <td>0.614583</td>\n",
       "    </tr>\n",
       "    <tr>\n",
       "      <th>[1967.2, 2459.0)</th>\n",
       "      <td>0.241379</td>\n",
       "      <td>0.758621</td>\n",
       "    </tr>\n",
       "    <tr>\n",
       "      <th>[2459.0, 2950.8)</th>\n",
       "      <td>0.333333</td>\n",
       "      <td>0.666667</td>\n",
       "    </tr>\n",
       "    <tr>\n",
       "      <th>[2950.8, 3442.6)</th>\n",
       "      <td>0.833333</td>\n",
       "      <td>0.166667</td>\n",
       "    </tr>\n",
       "    <tr>\n",
       "      <th>[3442.6, 3934.4)</th>\n",
       "      <td>0.333333</td>\n",
       "      <td>0.666667</td>\n",
       "    </tr>\n",
       "    <tr>\n",
       "      <th>[3934.4, 4426.2)</th>\n",
       "      <td>0.000000</td>\n",
       "      <td>1.000000</td>\n",
       "    </tr>\n",
       "  </tbody>\n",
       "</table>\n",
       "</div>"
      ],
      "text/plain": [
       "response                no       yes\n",
       "duration_binned                     \n",
       "[0.0, 491.8)      0.930717  0.069283\n",
       "[491.8, 983.6)    0.632921  0.367079\n",
       "[983.6, 1475.4)   0.420202  0.579798\n",
       "[1475.4, 1967.2)  0.385417  0.614583\n",
       "[1967.2, 2459.0)  0.241379  0.758621\n",
       "[2459.0, 2950.8)  0.333333  0.666667\n",
       "[2950.8, 3442.6)  0.833333  0.166667\n",
       "[3442.6, 3934.4)  0.333333  0.666667\n",
       "[3934.4, 4426.2)  0.000000  1.000000"
      ]
     },
     "execution_count": 25,
     "metadata": {},
     "output_type": "execute_result"
    }
   ],
   "source": [
    "# create normalized crosstab_03\n",
    "crosstab_03_norm = crosstab_03.div(crosstab_03.sum(axis=1), axis=0)\n",
    "crosstab_03_norm"
   ]
  },
  {
   "cell_type": "code",
   "execution_count": 26,
   "metadata": {},
   "outputs": [
    {
     "data": {
      "text/plain": [
       "<matplotlib.axes._subplots.AxesSubplot at 0x7f94532ebbd0>"
      ]
     },
     "execution_count": 26,
     "metadata": {},
     "output_type": "execute_result"
    },
    {
     "data": {
      "image/png": "[encoded data removed]",
      "text/plain": [
       "<Figure size 432x288 with 1 Axes>"
      ]
     },
     "metadata": {
      "needs_background": "light"
     },
     "output_type": "display_data"
    }
   ],
   "source": [
    "# plot the normalized bar graph\n",
    "crosstab_03_norm.plot(kind='bar', stacked=True, title='Normalized Bar Graph of Duration(Binned) with Response Overlay')"
   ]
  },
  {
   "cell_type": "markdown",
   "metadata": {},
   "source": [
    "29. Construct a contingency table of job with response, with counts and column percentages."
   ]
  },
  {
   "cell_type": "code",
   "execution_count": 27,
   "metadata": {},
   "outputs": [
    {
     "data": {
      "text/html": [
       "<div>\n",
       "<style scoped>\n",
       "    .dataframe tbody tr th:only-of-type {\n",
       "        vertical-align: middle;\n",
       "    }\n",
       "\n",
       "    .dataframe tbody tr th {\n",
       "        vertical-align: top;\n",
       "    }\n",
       "\n",
       "    .dataframe thead th {\n",
       "        text-align: right;\n",
       "    }\n",
       "</style>\n",
       "<table border=\"1\" class=\"dataframe\">\n",
       "  <thead>\n",
       "    <tr style=\"text-align: right;\">\n",
       "      <th>response</th>\n",
       "      <th>no</th>\n",
       "      <th>yes</th>\n",
       "    </tr>\n",
       "    <tr>\n",
       "      <th>job</th>\n",
       "      <th></th>\n",
       "      <th></th>\n",
       "    </tr>\n",
       "  </thead>\n",
       "  <tbody>\n",
       "    <tr>\n",
       "      <th>admin.</th>\n",
       "      <td>5903</td>\n",
       "      <td>854</td>\n",
       "    </tr>\n",
       "    <tr>\n",
       "      <th>blue-collar</th>\n",
       "      <td>5631</td>\n",
       "      <td>420</td>\n",
       "    </tr>\n",
       "    <tr>\n",
       "      <th>entrepreneur</th>\n",
       "      <td>842</td>\n",
       "      <td>72</td>\n",
       "    </tr>\n",
       "    <tr>\n",
       "      <th>housemaid</th>\n",
       "      <td>639</td>\n",
       "      <td>70</td>\n",
       "    </tr>\n",
       "    <tr>\n",
       "      <th>management</th>\n",
       "      <td>1680</td>\n",
       "      <td>209</td>\n",
       "    </tr>\n",
       "    <tr>\n",
       "      <th>retired</th>\n",
       "      <td>852</td>\n",
       "      <td>291</td>\n",
       "    </tr>\n",
       "    <tr>\n",
       "      <th>self-employed</th>\n",
       "      <td>825</td>\n",
       "      <td>93</td>\n",
       "    </tr>\n",
       "    <tr>\n",
       "      <th>services</th>\n",
       "      <td>2380</td>\n",
       "      <td>201</td>\n",
       "    </tr>\n",
       "    <tr>\n",
       "      <th>student</th>\n",
       "      <td>404</td>\n",
       "      <td>194</td>\n",
       "    </tr>\n",
       "    <tr>\n",
       "      <th>technician</th>\n",
       "      <td>3972</td>\n",
       "      <td>465</td>\n",
       "    </tr>\n",
       "    <tr>\n",
       "      <th>unemployed</th>\n",
       "      <td>573</td>\n",
       "      <td>94</td>\n",
       "    </tr>\n",
       "    <tr>\n",
       "      <th>unknown</th>\n",
       "      <td>185</td>\n",
       "      <td>25</td>\n",
       "    </tr>\n",
       "  </tbody>\n",
       "</table>\n",
       "</div>"
      ],
      "text/plain": [
       "response         no  yes\n",
       "job                     \n",
       "admin.         5903  854\n",
       "blue-collar    5631  420\n",
       "entrepreneur    842   72\n",
       "housemaid       639   70\n",
       "management     1680  209\n",
       "retired         852  291\n",
       "self-employed   825   93\n",
       "services       2380  201\n",
       "student         404  194\n",
       "technician     3972  465\n",
       "unemployed      573   94\n",
       "unknown         185   25"
      ]
     },
     "execution_count": 27,
     "metadata": {},
     "output_type": "execute_result"
    }
   ],
   "source": [
    "# create the crosstab\n",
    "corsstab_04 = pd.crosstab(bank_train['job'], bank_train['response'])\n",
    "corsstab_04"
   ]
  },
  {
   "cell_type": "code",
   "execution_count": 28,
   "metadata": {},
   "outputs": [
    {
     "data": {
      "text/html": [
       "<div>\n",
       "<style scoped>\n",
       "    .dataframe tbody tr th:only-of-type {\n",
       "        vertical-align: middle;\n",
       "    }\n",
       "\n",
       "    .dataframe tbody tr th {\n",
       "        vertical-align: top;\n",
       "    }\n",
       "\n",
       "    .dataframe thead th {\n",
       "        text-align: right;\n",
       "    }\n",
       "</style>\n",
       "<table border=\"1\" class=\"dataframe\">\n",
       "  <thead>\n",
       "    <tr style=\"text-align: right;\">\n",
       "      <th>response</th>\n",
       "      <th>no</th>\n",
       "      <th>yes</th>\n",
       "    </tr>\n",
       "    <tr>\n",
       "      <th>job</th>\n",
       "      <th></th>\n",
       "      <th></th>\n",
       "    </tr>\n",
       "  </thead>\n",
       "  <tbody>\n",
       "    <tr>\n",
       "      <th>admin.</th>\n",
       "      <td>0.873613</td>\n",
       "      <td>0.126387</td>\n",
       "    </tr>\n",
       "    <tr>\n",
       "      <th>blue-collar</th>\n",
       "      <td>0.930590</td>\n",
       "      <td>0.069410</td>\n",
       "    </tr>\n",
       "    <tr>\n",
       "      <th>entrepreneur</th>\n",
       "      <td>0.921225</td>\n",
       "      <td>0.078775</td>\n",
       "    </tr>\n",
       "    <tr>\n",
       "      <th>housemaid</th>\n",
       "      <td>0.901269</td>\n",
       "      <td>0.098731</td>\n",
       "    </tr>\n",
       "    <tr>\n",
       "      <th>management</th>\n",
       "      <td>0.889359</td>\n",
       "      <td>0.110641</td>\n",
       "    </tr>\n",
       "    <tr>\n",
       "      <th>retired</th>\n",
       "      <td>0.745407</td>\n",
       "      <td>0.254593</td>\n",
       "    </tr>\n",
       "    <tr>\n",
       "      <th>self-employed</th>\n",
       "      <td>0.898693</td>\n",
       "      <td>0.101307</td>\n",
       "    </tr>\n",
       "    <tr>\n",
       "      <th>services</th>\n",
       "      <td>0.922123</td>\n",
       "      <td>0.077877</td>\n",
       "    </tr>\n",
       "    <tr>\n",
       "      <th>student</th>\n",
       "      <td>0.675585</td>\n",
       "      <td>0.324415</td>\n",
       "    </tr>\n",
       "    <tr>\n",
       "      <th>technician</th>\n",
       "      <td>0.895199</td>\n",
       "      <td>0.104801</td>\n",
       "    </tr>\n",
       "    <tr>\n",
       "      <th>unemployed</th>\n",
       "      <td>0.859070</td>\n",
       "      <td>0.140930</td>\n",
       "    </tr>\n",
       "    <tr>\n",
       "      <th>unknown</th>\n",
       "      <td>0.880952</td>\n",
       "      <td>0.119048</td>\n",
       "    </tr>\n",
       "  </tbody>\n",
       "</table>\n",
       "</div>"
      ],
      "text/plain": [
       "response             no       yes\n",
       "job                              \n",
       "admin.         0.873613  0.126387\n",
       "blue-collar    0.930590  0.069410\n",
       "entrepreneur   0.921225  0.078775\n",
       "housemaid      0.901269  0.098731\n",
       "management     0.889359  0.110641\n",
       "retired        0.745407  0.254593\n",
       "self-employed  0.898693  0.101307\n",
       "services       0.922123  0.077877\n",
       "student        0.675585  0.324415\n",
       "technician     0.895199  0.104801\n",
       "unemployed     0.859070  0.140930\n",
       "unknown        0.880952  0.119048"
      ]
     },
     "execution_count": 28,
     "metadata": {},
     "output_type": "execute_result"
    }
   ],
   "source": [
    "# nomalize the crosstab\n",
    "corsstab_04_norm = corsstab_04.div(corsstab_04.sum(axis=1), axis=0)\n",
    "corsstab_04_norm\n",
    "\n",
    "# the 2nd way to create a normalized cross tab\n",
    "# corsstab_04_norm = pd.crosstab(bank_train['job'], bank_train['response']).apply(lambda r: r/r.sum(), axis=1)\n",
    "# corsstab_04_norm"
   ]
  },
  {
   "cell_type": "markdown",
   "metadata": {},
   "source": [
    "30. Referring to the previous exercise, do the following:\n",
    "a. Combine the job categories according to the following response percentages: 0 < 10,\n",
    "10 < 25, 25 < 33. Name the new variable job2."
   ]
  },
  {
   "cell_type": "code",
   "execution_count": 29,
   "metadata": {},
   "outputs": [
    {
     "data": {
      "text/html": [
       "<div>\n",
       "<style scoped>\n",
       "    .dataframe tbody tr th:only-of-type {\n",
       "        vertical-align: middle;\n",
       "    }\n",
       "\n",
       "    .dataframe tbody tr th {\n",
       "        vertical-align: top;\n",
       "    }\n",
       "\n",
       "    .dataframe thead th {\n",
       "        text-align: right;\n",
       "    }\n",
       "</style>\n",
       "<table border=\"1\" class=\"dataframe\">\n",
       "  <thead>\n",
       "    <tr style=\"text-align: right;\">\n",
       "      <th></th>\n",
       "      <th>age</th>\n",
       "      <th>job</th>\n",
       "      <th>marital</th>\n",
       "      <th>education</th>\n",
       "      <th>default</th>\n",
       "      <th>housing</th>\n",
       "      <th>loan</th>\n",
       "      <th>contact</th>\n",
       "      <th>month</th>\n",
       "      <th>day_of_week</th>\n",
       "      <th>duration</th>\n",
       "      <th>campaign</th>\n",
       "      <th>days_since_previous</th>\n",
       "      <th>previous</th>\n",
       "      <th>previous_outcome</th>\n",
       "      <th>emp.var.rate</th>\n",
       "      <th>cons.price.idx</th>\n",
       "      <th>cons.conf.idx</th>\n",
       "      <th>euribor3m</th>\n",
       "      <th>nr.employed</th>\n",
       "      <th>response</th>\n",
       "      <th>duration_binned</th>\n",
       "      <th>job2</th>\n",
       "    </tr>\n",
       "  </thead>\n",
       "  <tbody>\n",
       "    <tr>\n",
       "      <th>0</th>\n",
       "      <td>56</td>\n",
       "      <td>housemaid</td>\n",
       "      <td>married</td>\n",
       "      <td>basic.4y</td>\n",
       "      <td>no</td>\n",
       "      <td>no</td>\n",
       "      <td>no</td>\n",
       "      <td>telephone</td>\n",
       "      <td>may</td>\n",
       "      <td>mon</td>\n",
       "      <td>261</td>\n",
       "      <td>1</td>\n",
       "      <td>999</td>\n",
       "      <td>0</td>\n",
       "      <td>nonexistent</td>\n",
       "      <td>1.1</td>\n",
       "      <td>93.994</td>\n",
       "      <td>-36.4</td>\n",
       "      <td>4.857</td>\n",
       "      <td>5191</td>\n",
       "      <td>no</td>\n",
       "      <td>[0.0, 491.8)</td>\n",
       "      <td>0&lt;10</td>\n",
       "    </tr>\n",
       "    <tr>\n",
       "      <th>1</th>\n",
       "      <td>57</td>\n",
       "      <td>services</td>\n",
       "      <td>married</td>\n",
       "      <td>high.school</td>\n",
       "      <td>unknown</td>\n",
       "      <td>no</td>\n",
       "      <td>no</td>\n",
       "      <td>telephone</td>\n",
       "      <td>may</td>\n",
       "      <td>mon</td>\n",
       "      <td>149</td>\n",
       "      <td>1</td>\n",
       "      <td>999</td>\n",
       "      <td>0</td>\n",
       "      <td>nonexistent</td>\n",
       "      <td>1.1</td>\n",
       "      <td>93.994</td>\n",
       "      <td>-36.4</td>\n",
       "      <td>4.857</td>\n",
       "      <td>5191</td>\n",
       "      <td>no</td>\n",
       "      <td>[0.0, 491.8)</td>\n",
       "      <td>0&lt;10</td>\n",
       "    </tr>\n",
       "    <tr>\n",
       "      <th>2</th>\n",
       "      <td>41</td>\n",
       "      <td>blue-collar</td>\n",
       "      <td>married</td>\n",
       "      <td>unknown</td>\n",
       "      <td>unknown</td>\n",
       "      <td>no</td>\n",
       "      <td>no</td>\n",
       "      <td>telephone</td>\n",
       "      <td>may</td>\n",
       "      <td>mon</td>\n",
       "      <td>217</td>\n",
       "      <td>1</td>\n",
       "      <td>999</td>\n",
       "      <td>0</td>\n",
       "      <td>nonexistent</td>\n",
       "      <td>1.1</td>\n",
       "      <td>93.994</td>\n",
       "      <td>-36.4</td>\n",
       "      <td>4.857</td>\n",
       "      <td>5191</td>\n",
       "      <td>no</td>\n",
       "      <td>[0.0, 491.8)</td>\n",
       "      <td>0&lt;10</td>\n",
       "    </tr>\n",
       "    <tr>\n",
       "      <th>3</th>\n",
       "      <td>25</td>\n",
       "      <td>services</td>\n",
       "      <td>single</td>\n",
       "      <td>high.school</td>\n",
       "      <td>no</td>\n",
       "      <td>yes</td>\n",
       "      <td>no</td>\n",
       "      <td>telephone</td>\n",
       "      <td>may</td>\n",
       "      <td>mon</td>\n",
       "      <td>222</td>\n",
       "      <td>1</td>\n",
       "      <td>999</td>\n",
       "      <td>0</td>\n",
       "      <td>nonexistent</td>\n",
       "      <td>1.1</td>\n",
       "      <td>93.994</td>\n",
       "      <td>-36.4</td>\n",
       "      <td>4.857</td>\n",
       "      <td>5191</td>\n",
       "      <td>no</td>\n",
       "      <td>[0.0, 491.8)</td>\n",
       "      <td>0&lt;10</td>\n",
       "    </tr>\n",
       "    <tr>\n",
       "      <th>4</th>\n",
       "      <td>29</td>\n",
       "      <td>blue-collar</td>\n",
       "      <td>single</td>\n",
       "      <td>high.school</td>\n",
       "      <td>no</td>\n",
       "      <td>no</td>\n",
       "      <td>yes</td>\n",
       "      <td>telephone</td>\n",
       "      <td>may</td>\n",
       "      <td>mon</td>\n",
       "      <td>137</td>\n",
       "      <td>1</td>\n",
       "      <td>999</td>\n",
       "      <td>0</td>\n",
       "      <td>nonexistent</td>\n",
       "      <td>1.1</td>\n",
       "      <td>93.994</td>\n",
       "      <td>-36.4</td>\n",
       "      <td>4.857</td>\n",
       "      <td>5191</td>\n",
       "      <td>no</td>\n",
       "      <td>[0.0, 491.8)</td>\n",
       "      <td>0&lt;10</td>\n",
       "    </tr>\n",
       "    <tr>\n",
       "      <th>...</th>\n",
       "      <td>...</td>\n",
       "      <td>...</td>\n",
       "      <td>...</td>\n",
       "      <td>...</td>\n",
       "      <td>...</td>\n",
       "      <td>...</td>\n",
       "      <td>...</td>\n",
       "      <td>...</td>\n",
       "      <td>...</td>\n",
       "      <td>...</td>\n",
       "      <td>...</td>\n",
       "      <td>...</td>\n",
       "      <td>...</td>\n",
       "      <td>...</td>\n",
       "      <td>...</td>\n",
       "      <td>...</td>\n",
       "      <td>...</td>\n",
       "      <td>...</td>\n",
       "      <td>...</td>\n",
       "      <td>...</td>\n",
       "      <td>...</td>\n",
       "      <td>...</td>\n",
       "      <td>...</td>\n",
       "    </tr>\n",
       "    <tr>\n",
       "      <th>26869</th>\n",
       "      <td>36</td>\n",
       "      <td>admin.</td>\n",
       "      <td>married</td>\n",
       "      <td>university.degree</td>\n",
       "      <td>no</td>\n",
       "      <td>no</td>\n",
       "      <td>no</td>\n",
       "      <td>cellular</td>\n",
       "      <td>nov</td>\n",
       "      <td>fri</td>\n",
       "      <td>254</td>\n",
       "      <td>2</td>\n",
       "      <td>999</td>\n",
       "      <td>0</td>\n",
       "      <td>nonexistent</td>\n",
       "      <td>-1.1</td>\n",
       "      <td>94.767</td>\n",
       "      <td>-50.8</td>\n",
       "      <td>1.028</td>\n",
       "      <td>4963</td>\n",
       "      <td>no</td>\n",
       "      <td>[0.0, 491.8)</td>\n",
       "      <td>10&lt;25</td>\n",
       "    </tr>\n",
       "    <tr>\n",
       "      <th>26870</th>\n",
       "      <td>37</td>\n",
       "      <td>admin.</td>\n",
       "      <td>married</td>\n",
       "      <td>university.degree</td>\n",
       "      <td>no</td>\n",
       "      <td>yes</td>\n",
       "      <td>no</td>\n",
       "      <td>cellular</td>\n",
       "      <td>nov</td>\n",
       "      <td>fri</td>\n",
       "      <td>281</td>\n",
       "      <td>1</td>\n",
       "      <td>999</td>\n",
       "      <td>0</td>\n",
       "      <td>nonexistent</td>\n",
       "      <td>-1.1</td>\n",
       "      <td>94.767</td>\n",
       "      <td>-50.8</td>\n",
       "      <td>1.028</td>\n",
       "      <td>4963</td>\n",
       "      <td>yes</td>\n",
       "      <td>[0.0, 491.8)</td>\n",
       "      <td>10&lt;25</td>\n",
       "    </tr>\n",
       "    <tr>\n",
       "      <th>26871</th>\n",
       "      <td>29</td>\n",
       "      <td>unemployed</td>\n",
       "      <td>single</td>\n",
       "      <td>basic.4y</td>\n",
       "      <td>no</td>\n",
       "      <td>yes</td>\n",
       "      <td>no</td>\n",
       "      <td>cellular</td>\n",
       "      <td>nov</td>\n",
       "      <td>fri</td>\n",
       "      <td>112</td>\n",
       "      <td>1</td>\n",
       "      <td>9</td>\n",
       "      <td>1</td>\n",
       "      <td>success</td>\n",
       "      <td>-1.1</td>\n",
       "      <td>94.767</td>\n",
       "      <td>-50.8</td>\n",
       "      <td>1.028</td>\n",
       "      <td>4963</td>\n",
       "      <td>no</td>\n",
       "      <td>[0.0, 491.8)</td>\n",
       "      <td>10&lt;25</td>\n",
       "    </tr>\n",
       "    <tr>\n",
       "      <th>26872</th>\n",
       "      <td>73</td>\n",
       "      <td>retired</td>\n",
       "      <td>married</td>\n",
       "      <td>professional.course</td>\n",
       "      <td>no</td>\n",
       "      <td>yes</td>\n",
       "      <td>no</td>\n",
       "      <td>cellular</td>\n",
       "      <td>nov</td>\n",
       "      <td>fri</td>\n",
       "      <td>334</td>\n",
       "      <td>1</td>\n",
       "      <td>999</td>\n",
       "      <td>0</td>\n",
       "      <td>nonexistent</td>\n",
       "      <td>-1.1</td>\n",
       "      <td>94.767</td>\n",
       "      <td>-50.8</td>\n",
       "      <td>1.028</td>\n",
       "      <td>4963</td>\n",
       "      <td>yes</td>\n",
       "      <td>[0.0, 491.8)</td>\n",
       "      <td>25&lt;33</td>\n",
       "    </tr>\n",
       "    <tr>\n",
       "      <th>26873</th>\n",
       "      <td>46</td>\n",
       "      <td>blue-collar</td>\n",
       "      <td>married</td>\n",
       "      <td>professional.course</td>\n",
       "      <td>no</td>\n",
       "      <td>no</td>\n",
       "      <td>no</td>\n",
       "      <td>cellular</td>\n",
       "      <td>nov</td>\n",
       "      <td>fri</td>\n",
       "      <td>383</td>\n",
       "      <td>1</td>\n",
       "      <td>999</td>\n",
       "      <td>0</td>\n",
       "      <td>nonexistent</td>\n",
       "      <td>-1.1</td>\n",
       "      <td>94.767</td>\n",
       "      <td>-50.8</td>\n",
       "      <td>1.028</td>\n",
       "      <td>4963</td>\n",
       "      <td>no</td>\n",
       "      <td>[0.0, 491.8)</td>\n",
       "      <td>0&lt;10</td>\n",
       "    </tr>\n",
       "  </tbody>\n",
       "</table>\n",
       "<p>26874 rows × 23 columns</p>\n",
       "</div>"
      ],
      "text/plain": [
       "       age          job  marital            education  default housing loan  \\\n",
       "0       56    housemaid  married             basic.4y       no      no   no   \n",
       "1       57     services  married          high.school  unknown      no   no   \n",
       "2       41  blue-collar  married              unknown  unknown      no   no   \n",
       "3       25     services   single          high.school       no     yes   no   \n",
       "4       29  blue-collar   single          high.school       no      no  yes   \n",
       "...    ...          ...      ...                  ...      ...     ...  ...   \n",
       "26869   36       admin.  married    university.degree       no      no   no   \n",
       "26870   37       admin.  married    university.degree       no     yes   no   \n",
       "26871   29   unemployed   single             basic.4y       no     yes   no   \n",
       "26872   73      retired  married  professional.course       no     yes   no   \n",
       "26873   46  blue-collar  married  professional.course       no      no   no   \n",
       "\n",
       "         contact month day_of_week  duration  campaign  days_since_previous  \\\n",
       "0      telephone   may         mon       261         1                  999   \n",
       "1      telephone   may         mon       149         1                  999   \n",
       "2      telephone   may         mon       217         1                  999   \n",
       "3      telephone   may         mon       222         1                  999   \n",
       "4      telephone   may         mon       137         1                  999   \n",
       "...          ...   ...         ...       ...       ...                  ...   \n",
       "26869   cellular   nov         fri       254         2                  999   \n",
       "26870   cellular   nov         fri       281         1                  999   \n",
       "26871   cellular   nov         fri       112         1                    9   \n",
       "26872   cellular   nov         fri       334         1                  999   \n",
       "26873   cellular   nov         fri       383         1                  999   \n",
       "\n",
       "       previous previous_outcome  emp.var.rate  cons.price.idx  cons.conf.idx  \\\n",
       "0             0      nonexistent           1.1          93.994          -36.4   \n",
       "1             0      nonexistent           1.1          93.994          -36.4   \n",
       "2             0      nonexistent           1.1          93.994          -36.4   \n",
       "3             0      nonexistent           1.1          93.994          -36.4   \n",
       "4             0      nonexistent           1.1          93.994          -36.4   \n",
       "...         ...              ...           ...             ...            ...   \n",
       "26869         0      nonexistent          -1.1          94.767          -50.8   \n",
       "26870         0      nonexistent          -1.1          94.767          -50.8   \n",
       "26871         1          success          -1.1          94.767          -50.8   \n",
       "26872         0      nonexistent          -1.1          94.767          -50.8   \n",
       "26873         0      nonexistent          -1.1          94.767          -50.8   \n",
       "\n",
       "       euribor3m  nr.employed response duration_binned   job2  \n",
       "0          4.857         5191       no    [0.0, 491.8)   0<10  \n",
       "1          4.857         5191       no    [0.0, 491.8)   0<10  \n",
       "2          4.857         5191       no    [0.0, 491.8)   0<10  \n",
       "3          4.857         5191       no    [0.0, 491.8)   0<10  \n",
       "4          4.857         5191       no    [0.0, 491.8)   0<10  \n",
       "...          ...          ...      ...             ...    ...  \n",
       "26869      1.028         4963       no    [0.0, 491.8)  10<25  \n",
       "26870      1.028         4963      yes    [0.0, 491.8)  10<25  \n",
       "26871      1.028         4963       no    [0.0, 491.8)  10<25  \n",
       "26872      1.028         4963      yes    [0.0, 491.8)  25<33  \n",
       "26873      1.028         4963       no    [0.0, 491.8)   0<10  \n",
       "\n",
       "[26874 rows x 23 columns]"
      ]
     },
     "execution_count": 29,
     "metadata": {},
     "output_type": "execute_result"
    }
   ],
   "source": [
    "# select the yes column value in corsstab_04_norm data frame and conver to dictionary format\n",
    "corsstab_04_norm_dict = corsstab_04_norm['yes'].to_dict()\n",
    "# create a new clumn job2 and map the dictonary value (yes response percentage) to the new column based on the value in job column\n",
    "bank_train['job2'] = bank_train['job'].map(corsstab_04_norm_dict)\n",
    "# apply if-else-elif condition in job2 column to combine the response percentages: 0 < 10, 10 < 25, 25 < 33\n",
    "bank_train['job2'] = np.where(bank_train['job2'] < 0.1, '0<10', np.where(bank_train['job2'] >= 0.25 , '25<33', '10<25') )\n",
    "\n",
    "bank_train\n"
   ]
  },
  {
   "cell_type": "markdown",
   "metadata": {},
   "source": [
    "b. Provide a contingency table of job2 with response, with counts and column percent-\n",
    "ages. Describe what you see."
   ]
  },
  {
   "cell_type": "code",
   "execution_count": 30,
   "metadata": {},
   "outputs": [],
   "source": [
    "# create the crosstab of job2 with response\n",
    "crosstab_job2 = pd.crosstab(bank_train['job2'], bank_train['response'])"
   ]
  },
  {
   "cell_type": "code",
   "execution_count": 31,
   "metadata": {},
   "outputs": [
    {
     "data": {
      "text/html": [
       "<div>\n",
       "<style scoped>\n",
       "    .dataframe tbody tr th:only-of-type {\n",
       "        vertical-align: middle;\n",
       "    }\n",
       "\n",
       "    .dataframe tbody tr th {\n",
       "        vertical-align: top;\n",
       "    }\n",
       "\n",
       "    .dataframe thead th {\n",
       "        text-align: right;\n",
       "    }\n",
       "</style>\n",
       "<table border=\"1\" class=\"dataframe\">\n",
       "  <thead>\n",
       "    <tr style=\"text-align: right;\">\n",
       "      <th>response</th>\n",
       "      <th>no</th>\n",
       "      <th>yes</th>\n",
       "    </tr>\n",
       "    <tr>\n",
       "      <th>job2</th>\n",
       "      <th></th>\n",
       "      <th></th>\n",
       "    </tr>\n",
       "  </thead>\n",
       "  <tbody>\n",
       "    <tr>\n",
       "      <th>0&lt;10</th>\n",
       "      <td>0.925597</td>\n",
       "      <td>0.074403</td>\n",
       "    </tr>\n",
       "    <tr>\n",
       "      <th>10&lt;25</th>\n",
       "      <td>0.883049</td>\n",
       "      <td>0.116951</td>\n",
       "    </tr>\n",
       "    <tr>\n",
       "      <th>25&lt;33</th>\n",
       "      <td>0.721424</td>\n",
       "      <td>0.278576</td>\n",
       "    </tr>\n",
       "  </tbody>\n",
       "</table>\n",
       "</div>"
      ],
      "text/plain": [
       "response        no       yes\n",
       "job2                        \n",
       "0<10      0.925597  0.074403\n",
       "10<25     0.883049  0.116951\n",
       "25<33     0.721424  0.278576"
      ]
     },
     "execution_count": 31,
     "metadata": {},
     "output_type": "execute_result"
    }
   ],
   "source": [
    "# normalize the crosstab\n",
    "crosstab_job2_norm = crosstab_job2.div(crosstab_job2.sum(axis=1), axis=0)\n",
    "crosstab_job2_norm"
   ]
  },
  {
   "cell_type": "code",
   "execution_count": 32,
   "metadata": {},
   "outputs": [],
   "source": [
    "# The yes response percentage meet the job2 description"
   ]
  },
  {
   "cell_type": "markdown",
   "metadata": {},
   "source": [
    "c. Provide a normalized histogram of job2 with response. Describe the relationship."
   ]
  },
  {
   "cell_type": "code",
   "execution_count": 33,
   "metadata": {},
   "outputs": [
    {
     "data": {
      "text/plain": [
       "(42        0<10\n",
       " 48        0<10\n",
       " 51       10<25\n",
       " 175       0<10\n",
       " 239       0<10\n",
       "          ...  \n",
       " 26865    25<33\n",
       " 26866    10<25\n",
       " 26867    25<33\n",
       " 26870    10<25\n",
       " 26872    25<33\n",
       " Name: job2, Length: 2988, dtype: object,\n",
       " 0         0<10\n",
       " 1         0<10\n",
       " 2         0<10\n",
       " 3         0<10\n",
       " 4         0<10\n",
       "          ...  \n",
       " 26864    10<25\n",
       " 26868    25<33\n",
       " 26869    10<25\n",
       " 26871    10<25\n",
       " 26873     0<10\n",
       " Name: job2, Length: 23886, dtype: object)"
      ]
     },
     "execution_count": 33,
     "metadata": {},
     "output_type": "execute_result"
    }
   ],
   "source": [
    "# seperate column job2 by yes or no reponse and save the results into 2 different variables\n",
    "bt_job2_y = bank_train[bank_train['response'] == 'yes']['job2']\n",
    "bt_job2_n = bank_train[bank_train['response'] == 'no']['job2']\n",
    "bt_job2_y, bt_job2_n"
   ]
  },
  {
   "cell_type": "code",
   "execution_count": 34,
   "metadata": {},
   "outputs": [
    {
     "data": {
      "text/plain": [
       "array([[0.06925032, 0.93074968],\n",
       "       [0.10470574, 0.89529426],\n",
       "       [0.2178796 , 0.7821204 ]])"
      ]
     },
     "execution_count": 34,
     "metadata": {},
     "output_type": "execute_result"
    },
    {
     "data": {
      "image/png": "[encoded data removed]",
      "text/plain": [
       "<Figure size 432x288 with 1 Axes>"
      ]
     },
     "metadata": {
      "needs_background": "light"
     },
     "output_type": "display_data"
    }
   ],
   "source": [
    "# create normalized n_table\n",
    "(n, bins, patchs) = plt.hist([bt_job2_y, bt_job2_n], bins=3, stacked=True)\n",
    "n_table = np.column_stack([n[0], n[1]])\n",
    "n_table_norm = n_table / n_table.sum(axis=1)[:,None]\n",
    "n_table_norm"
   ]
  },
  {
   "cell_type": "code",
   "execution_count": 35,
   "metadata": {},
   "outputs": [
    {
     "data": {
      "text/plain": [
       "array([[0.        , 0.66666667],\n",
       "       [0.66666667, 1.33333333],\n",
       "       [1.33333333, 2.        ]])"
      ]
     },
     "execution_count": 35,
     "metadata": {},
     "output_type": "execute_result"
    }
   ],
   "source": [
    "# create an array whose rows are the exact cuts of each bin\n",
    "ourbins = np.column_stack((bins[0:3], bins[1:4]))\n",
    "ourbins"
   ]
  },
  {
   "cell_type": "code",
   "execution_count": 36,
   "metadata": {},
   "outputs": [
    {
     "data": {
      "image/png": "[encoded data removed]",
      "text/plain": [
       "<Figure size 432x288 with 1 Axes>"
      ]
     },
     "metadata": {
      "needs_background": "light"
     },
     "output_type": "display_data"
    }
   ],
   "source": [
    "# plot the normalized histogram\n",
    "p1 = plt.bar(x=ourbins[:, 0], height=n_table_norm[:, 0], width=ourbins[:, 1]-ourbins[:, 0])\n",
    "p2 = plt.bar(x=ourbins[:, 0], height=n_table_norm[:, 1], width=ourbins[:, 1]-ourbins[:, 0], bottom=n_table_norm[:, 0])\n",
    "plt.legend(['Response=Yes', 'Response=No'])\n",
    "plt.title('Normalized Histogram of Job2 with Reponse Overlay')\n",
    "plt.xlabel('Job2'); plt.ylabel('Proportion'); plt.show()"
   ]
  },
  {
   "cell_type": "markdown",
   "metadata": {},
   "source": [
    "For Exercises 31–36, work with the cereals data set. Use either Python or R to solve each problem.\n",
    "31. Create a bar graph of the Manuf variable with Type overlay."
   ]
  },
  {
   "cell_type": "code",
   "execution_count": 37,
   "metadata": {},
   "outputs": [
    {
     "data": {
      "text/plain": [
       "<matplotlib.axes._subplots.AxesSubplot at 0x7f9453e5d690>"
      ]
     },
     "execution_count": 37,
     "metadata": {},
     "output_type": "execute_result"
    },
    {
     "data": {
      "image/png": "[encoded data removed]",
      "text/plain": [
       "<Figure size 432x288 with 1 Axes>"
      ]
     },
     "metadata": {
      "needs_background": "light"
     },
     "output_type": "display_data"
    }
   ],
   "source": [
    "cereal = pd.read_csv('cereals.csv')\n",
    "crosstab_manuf_type = pd.crosstab(cereal['Manuf'], cereal['Type'])\n",
    "crosstab_manuf_type.plot(kind='bar', stacked=True, title='Bar Graph of Manuf with Type Overlay')"
   ]
  },
  {
   "cell_type": "markdown",
   "metadata": {},
   "source": [
    "32. Create a normalized bar graph of the Manuf variable with Type overlay."
   ]
  },
  {
   "cell_type": "code",
   "execution_count": 38,
   "metadata": {},
   "outputs": [
    {
     "data": {
      "text/html": [
       "<div>\n",
       "<style scoped>\n",
       "    .dataframe tbody tr th:only-of-type {\n",
       "        vertical-align: middle;\n",
       "    }\n",
       "\n",
       "    .dataframe tbody tr th {\n",
       "        vertical-align: top;\n",
       "    }\n",
       "\n",
       "    .dataframe thead th {\n",
       "        text-align: right;\n",
       "    }\n",
       "</style>\n",
       "<table border=\"1\" class=\"dataframe\">\n",
       "  <thead>\n",
       "    <tr style=\"text-align: right;\">\n",
       "      <th>Type</th>\n",
       "      <th>C</th>\n",
       "      <th>H</th>\n",
       "    </tr>\n",
       "    <tr>\n",
       "      <th>Manuf</th>\n",
       "      <th></th>\n",
       "      <th></th>\n",
       "    </tr>\n",
       "  </thead>\n",
       "  <tbody>\n",
       "    <tr>\n",
       "      <th>A</th>\n",
       "      <td>0.000000</td>\n",
       "      <td>1.000000</td>\n",
       "    </tr>\n",
       "    <tr>\n",
       "      <th>G</th>\n",
       "      <td>1.000000</td>\n",
       "      <td>0.000000</td>\n",
       "    </tr>\n",
       "    <tr>\n",
       "      <th>K</th>\n",
       "      <td>1.000000</td>\n",
       "      <td>0.000000</td>\n",
       "    </tr>\n",
       "    <tr>\n",
       "      <th>N</th>\n",
       "      <td>0.833333</td>\n",
       "      <td>0.166667</td>\n",
       "    </tr>\n",
       "    <tr>\n",
       "      <th>P</th>\n",
       "      <td>1.000000</td>\n",
       "      <td>0.000000</td>\n",
       "    </tr>\n",
       "    <tr>\n",
       "      <th>Q</th>\n",
       "      <td>0.875000</td>\n",
       "      <td>0.125000</td>\n",
       "    </tr>\n",
       "    <tr>\n",
       "      <th>R</th>\n",
       "      <td>1.000000</td>\n",
       "      <td>0.000000</td>\n",
       "    </tr>\n",
       "  </tbody>\n",
       "</table>\n",
       "</div>"
      ],
      "text/plain": [
       "Type         C         H \n",
       "Manuf                    \n",
       "A      0.000000  1.000000\n",
       "G      1.000000  0.000000\n",
       "K      1.000000  0.000000\n",
       "N      0.833333  0.166667\n",
       "P      1.000000  0.000000\n",
       "Q      0.875000  0.125000\n",
       "R      1.000000  0.000000"
      ]
     },
     "execution_count": 38,
     "metadata": {},
     "output_type": "execute_result"
    }
   ],
   "source": [
    "# create the normalized crosstab\n",
    "crosstab_manuf_type_norm = crosstab_manuf_type.div(crosstab_manuf_type.sum(axis=1), axis=0)\n",
    "crosstab_manuf_type_norm"
   ]
  },
  {
   "cell_type": "code",
   "execution_count": 39,
   "metadata": {},
   "outputs": [
    {
     "data": {
      "text/plain": [
       "<matplotlib.axes._subplots.AxesSubplot at 0x7f9453792210>"
      ]
     },
     "execution_count": 39,
     "metadata": {},
     "output_type": "execute_result"
    },
    {
     "data": {
      "image/png": "[encoded data removed]",
      "text/plain": [
       "<Figure size 432x288 with 1 Axes>"
      ]
     },
     "metadata": {
      "needs_background": "light"
     },
     "output_type": "display_data"
    }
   ],
   "source": [
    "# plot the normalized bar graph\n",
    "crosstab_manuf_type_norm.plot(kind='bar', stacked=True, title='Normalized Bar Graph of Manuf with Type Overlay')"
   ]
  },
  {
   "cell_type": "markdown",
   "metadata": {},
   "source": [
    "33. Create a contingency table of Manuf and Type."
   ]
  },
  {
   "cell_type": "code",
   "execution_count": 40,
   "metadata": {},
   "outputs": [],
   "source": [
    "crosstab_manuf_type = pd.crosstab(cereal['Manuf'], cereal['Type'])"
   ]
  },
  {
   "cell_type": "markdown",
   "metadata": {},
   "source": [
    "34. Create a histogram of Calories with Manuf overlay."
   ]
  },
  {
   "cell_type": "code",
   "execution_count": 41,
   "metadata": {},
   "outputs": [
    {
     "data": {
      "text/plain": [
       "(43    100\n",
       " Name: Calories, dtype: int64,\n",
       " 5     110\n",
       " 7     130\n",
       " 11    110\n",
       " 12    120\n",
       " 13    110\n",
       " 14    110\n",
       " 18    110\n",
       " 22    100\n",
       " 31    110\n",
       " 36    110\n",
       " 40    110\n",
       " 42    110\n",
       " 47    100\n",
       " 51    130\n",
       " 59    100\n",
       " 69    110\n",
       " 70    140\n",
       " 71    100\n",
       " 72    110\n",
       " 73    110\n",
       " 75    100\n",
       " 76    110\n",
       " Name: Calories, dtype: int64,\n",
       " 2      70\n",
       " 3      50\n",
       " 6     110\n",
       " 16    100\n",
       " 17    110\n",
       " 19    110\n",
       " 21    110\n",
       " 24    110\n",
       " 25    110\n",
       " 26    100\n",
       " 28    120\n",
       " 38    110\n",
       " 39    140\n",
       " 46    160\n",
       " 48    120\n",
       " 49    140\n",
       " 50     90\n",
       " 53    100\n",
       " 58    120\n",
       " 60     90\n",
       " 62    110\n",
       " 66    110\n",
       " 67    110\n",
       " Name: Calories, dtype: int64,\n",
       " 0      70\n",
       " 20    100\n",
       " 63     80\n",
       " 64     90\n",
       " 65     90\n",
       " 68     90\n",
       " Name: Calories, dtype: int64,\n",
       " 9      90\n",
       " 27    120\n",
       " 29    110\n",
       " 30    100\n",
       " 32    100\n",
       " 33    110\n",
       " 34    120\n",
       " 37    110\n",
       " 52    120\n",
       " Name: Calories, dtype: int64,\n",
       " 1     120\n",
       " 10    120\n",
       " 35    120\n",
       " 41    100\n",
       " 54     50\n",
       " 55     50\n",
       " 56    100\n",
       " 57    100\n",
       " Name: Calories, dtype: int64,\n",
       " 4     110\n",
       " 8      90\n",
       " 15    110\n",
       " 23    100\n",
       " 44    150\n",
       " 45    150\n",
       " 61    110\n",
       " 74    100\n",
       " Name: Calories, dtype: int64)"
      ]
     },
     "execution_count": 41,
     "metadata": {},
     "output_type": "execute_result"
    }
   ],
   "source": [
    "# Seperate variable Coalories by different values of Manuf\n",
    "cr_cal_a = cereal[cereal['Manuf'] == 'A ']['Calories']\n",
    "cr_cal_g = cereal[cereal['Manuf'] == 'G ']['Calories']\n",
    "cr_cal_k = cereal[cereal['Manuf'] == 'K ']['Calories']\n",
    "cr_cal_n = cereal[cereal['Manuf'] == 'N ']['Calories']\n",
    "cr_cal_p = cereal[cereal['Manuf'] == 'P ']['Calories']\n",
    "cr_cal_q = cereal[cereal['Manuf'] == 'Q ']['Calories']\n",
    "cr_cal_r = cereal[cereal['Manuf'] == 'R ']['Calories']\n",
    "cr_cal_a,cr_cal_g, cr_cal_k, cr_cal_n,cr_cal_p, cr_cal_q, cr_cal_r"
   ]
  },
  {
   "cell_type": "code",
   "execution_count": 42,
   "metadata": {},
   "outputs": [
    {
     "data": {
      "image/png": "[encoded data removed]",
      "text/plain": [
       "<Figure size 432x288 with 1 Axes>"
      ]
     },
     "metadata": {
      "needs_background": "light"
     },
     "output_type": "display_data"
    }
   ],
   "source": [
    "# plot the histogram \n",
    "plt.hist([cr_cal_a, cr_cal_g, cr_cal_k, cr_cal_n, cr_cal_p, cr_cal_q, cr_cal_r], bins=10, stacked=True)\n",
    "plt.legend(['Manuf = A','Manuf = G', 'Manuf = K', 'Manuf = N', 'Manuf = P', 'Manuf = Q', 'Manuf = R'])\n",
    "plt.title('Histogram of Calories with Manuf Overlay')\n",
    "plt.xlabel('Calories'); plt.ylabel('Frequency'); plt.show()"
   ]
  },
  {
   "cell_type": "code",
   "execution_count": 43,
   "metadata": {},
   "outputs": [
    {
     "data": {
      "text/html": [
       "<div>\n",
       "<style scoped>\n",
       "    .dataframe tbody tr th:only-of-type {\n",
       "        vertical-align: middle;\n",
       "    }\n",
       "\n",
       "    .dataframe tbody tr th {\n",
       "        vertical-align: top;\n",
       "    }\n",
       "\n",
       "    .dataframe thead th {\n",
       "        text-align: right;\n",
       "    }\n",
       "</style>\n",
       "<table border=\"1\" class=\"dataframe\">\n",
       "  <thead>\n",
       "    <tr style=\"text-align: right;\">\n",
       "      <th>Manuf</th>\n",
       "      <th>A</th>\n",
       "      <th>G</th>\n",
       "      <th>K</th>\n",
       "      <th>N</th>\n",
       "      <th>P</th>\n",
       "      <th>Q</th>\n",
       "      <th>R</th>\n",
       "    </tr>\n",
       "    <tr>\n",
       "      <th>Calories</th>\n",
       "      <th></th>\n",
       "      <th></th>\n",
       "      <th></th>\n",
       "      <th></th>\n",
       "      <th></th>\n",
       "      <th></th>\n",
       "      <th></th>\n",
       "    </tr>\n",
       "  </thead>\n",
       "  <tbody>\n",
       "    <tr>\n",
       "      <th>50</th>\n",
       "      <td>0</td>\n",
       "      <td>0</td>\n",
       "      <td>1</td>\n",
       "      <td>0</td>\n",
       "      <td>0</td>\n",
       "      <td>2</td>\n",
       "      <td>0</td>\n",
       "    </tr>\n",
       "    <tr>\n",
       "      <th>70</th>\n",
       "      <td>0</td>\n",
       "      <td>0</td>\n",
       "      <td>1</td>\n",
       "      <td>1</td>\n",
       "      <td>0</td>\n",
       "      <td>0</td>\n",
       "      <td>0</td>\n",
       "    </tr>\n",
       "    <tr>\n",
       "      <th>80</th>\n",
       "      <td>0</td>\n",
       "      <td>0</td>\n",
       "      <td>0</td>\n",
       "      <td>1</td>\n",
       "      <td>0</td>\n",
       "      <td>0</td>\n",
       "      <td>0</td>\n",
       "    </tr>\n",
       "    <tr>\n",
       "      <th>90</th>\n",
       "      <td>0</td>\n",
       "      <td>0</td>\n",
       "      <td>2</td>\n",
       "      <td>3</td>\n",
       "      <td>1</td>\n",
       "      <td>0</td>\n",
       "      <td>1</td>\n",
       "    </tr>\n",
       "    <tr>\n",
       "      <th>100</th>\n",
       "      <td>1</td>\n",
       "      <td>5</td>\n",
       "      <td>3</td>\n",
       "      <td>1</td>\n",
       "      <td>2</td>\n",
       "      <td>3</td>\n",
       "      <td>2</td>\n",
       "    </tr>\n",
       "    <tr>\n",
       "      <th>110</th>\n",
       "      <td>0</td>\n",
       "      <td>13</td>\n",
       "      <td>10</td>\n",
       "      <td>0</td>\n",
       "      <td>3</td>\n",
       "      <td>0</td>\n",
       "      <td>3</td>\n",
       "    </tr>\n",
       "    <tr>\n",
       "      <th>120</th>\n",
       "      <td>0</td>\n",
       "      <td>1</td>\n",
       "      <td>3</td>\n",
       "      <td>0</td>\n",
       "      <td>3</td>\n",
       "      <td>3</td>\n",
       "      <td>0</td>\n",
       "    </tr>\n",
       "    <tr>\n",
       "      <th>130</th>\n",
       "      <td>0</td>\n",
       "      <td>2</td>\n",
       "      <td>0</td>\n",
       "      <td>0</td>\n",
       "      <td>0</td>\n",
       "      <td>0</td>\n",
       "      <td>0</td>\n",
       "    </tr>\n",
       "    <tr>\n",
       "      <th>140</th>\n",
       "      <td>0</td>\n",
       "      <td>1</td>\n",
       "      <td>2</td>\n",
       "      <td>0</td>\n",
       "      <td>0</td>\n",
       "      <td>0</td>\n",
       "      <td>0</td>\n",
       "    </tr>\n",
       "    <tr>\n",
       "      <th>150</th>\n",
       "      <td>0</td>\n",
       "      <td>0</td>\n",
       "      <td>0</td>\n",
       "      <td>0</td>\n",
       "      <td>0</td>\n",
       "      <td>0</td>\n",
       "      <td>2</td>\n",
       "    </tr>\n",
       "    <tr>\n",
       "      <th>160</th>\n",
       "      <td>0</td>\n",
       "      <td>0</td>\n",
       "      <td>1</td>\n",
       "      <td>0</td>\n",
       "      <td>0</td>\n",
       "      <td>0</td>\n",
       "      <td>0</td>\n",
       "    </tr>\n",
       "  </tbody>\n",
       "</table>\n",
       "</div>"
      ],
      "text/plain": [
       "Manuf     A   G   K   N   P   Q   R \n",
       "Calories                            \n",
       "50         0   0   1   0   0   2   0\n",
       "70         0   0   1   1   0   0   0\n",
       "80         0   0   0   1   0   0   0\n",
       "90         0   0   2   3   1   0   1\n",
       "100        1   5   3   1   2   3   2\n",
       "110        0  13  10   0   3   0   3\n",
       "120        0   1   3   0   3   3   0\n",
       "130        0   2   0   0   0   0   0\n",
       "140        0   1   2   0   0   0   0\n",
       "150        0   0   0   0   0   0   2\n",
       "160        0   0   1   0   0   0   0"
      ]
     },
     "execution_count": 43,
     "metadata": {},
     "output_type": "execute_result"
    }
   ],
   "source": [
    "#34. Create a histogram of Calories with Manuf overlay (Answer from Prof.)\n",
    "ccm = pd.crosstab(cereal['Calories'],cereal['Manuf'])\n",
    "ccm"
   ]
  },
  {
   "cell_type": "code",
   "execution_count": 44,
   "metadata": {},
   "outputs": [
    {
     "data": {
      "text/plain": [
       "<matplotlib.axes._subplots.AxesSubplot at 0x7f94541cec90>"
      ]
     },
     "execution_count": 44,
     "metadata": {},
     "output_type": "execute_result"
    },
    {
     "data": {
      "image/png": "[encoded data removed]",
      "text/plain": [
       "<Figure size 432x288 with 1 Axes>"
      ]
     },
     "metadata": {
      "needs_background": "light"
     },
     "output_type": "display_data"
    }
   ],
   "source": [
    "# Answer from Prof.\n",
    "ccm.plot.hist(stacked = True, title='Graph of Calories with Manufacturers Overlay')"
   ]
  },
  {
   "cell_type": "markdown",
   "metadata": {},
   "source": [
    "35. Create a normalized histogram of Calories with Manuf overlay."
   ]
  },
  {
   "cell_type": "code",
   "execution_count": 45,
   "metadata": {},
   "outputs": [
    {
     "data": {
      "text/plain": [
       "[array([0., 0., 0., 0., 1., 0., 0., 0., 0., 0.]),\n",
       " array([ 0.,  0.,  0.,  0.,  6., 13.,  1.,  2.,  1.,  0.]),\n",
       " array([ 1.,  1.,  0.,  2.,  9., 23.,  4.,  2.,  3.,  1.]),\n",
       " array([ 1.,  2.,  1.,  5., 10., 23.,  4.,  2.,  3.,  1.]),\n",
       " array([ 1.,  2.,  1.,  6., 12., 26.,  7.,  2.,  3.,  1.]),\n",
       " array([ 3.,  2.,  1.,  6., 15., 26., 10.,  2.,  3.,  1.]),\n",
       " array([ 3.,  2.,  1.,  7., 17., 29., 10.,  2.,  3.,  3.])]"
      ]
     },
     "execution_count": 45,
     "metadata": {},
     "output_type": "execute_result"
    },
    {
     "data": {
      "image/png": "[encoded data removed]",
      "text/plain": [
       "<Figure size 432x288 with 1 Axes>"
      ]
     },
     "metadata": {
      "needs_background": "light"
     },
     "output_type": "display_data"
    }
   ],
   "source": [
    "# save several pieces of information of the histogram to 3 different variables. \n",
    "# n for the height of the histogram bar; bins for the boundries of each bins; patches for \n",
    "(n, bins, patchs) = plt.hist([cr_cal_a, cr_cal_g, cr_cal_k, cr_cal_n, cr_cal_p, cr_cal_q, cr_cal_r], bins=10, stacked=True)\n",
    "\n",
    "n"
   ]
  },
  {
   "cell_type": "code",
   "execution_count": 46,
   "metadata": {},
   "outputs": [
    {
     "data": {
      "text/plain": [
       "array([[ 0.,  0.,  1.,  1.,  1.,  3.,  3.],\n",
       "       [ 0.,  0.,  1.,  2.,  2.,  2.,  2.],\n",
       "       [ 0.,  0.,  0.,  1.,  1.,  1.,  1.],\n",
       "       [ 0.,  0.,  2.,  5.,  6.,  6.,  7.],\n",
       "       [ 1.,  6.,  9., 10., 12., 15., 17.],\n",
       "       [ 0., 13., 23., 23., 26., 26., 29.],\n",
       "       [ 0.,  1.,  4.,  4.,  7., 10., 10.],\n",
       "       [ 0.,  2.,  2.,  2.,  2.,  2.,  2.],\n",
       "       [ 0.,  1.,  3.,  3.,  3.,  3.,  3.],\n",
       "       [ 0.,  0.,  1.,  1.,  1.,  1.,  3.]])"
      ]
     },
     "execution_count": 46,
     "metadata": {},
     "output_type": "execute_result"
    }
   ],
   "source": [
    "# create n_table to conbine the 7 different variables's bar height into one array \n",
    "n_table_manuf = np.column_stack((n[0], n[1], n[2], n[3], n[4], n[5], n[6]))\n",
    "n_table_manuf"
   ]
  },
  {
   "cell_type": "code",
   "execution_count": 47,
   "metadata": {},
   "outputs": [
    {
     "data": {
      "text/plain": [
       "array([[0.        , 0.        , 0.11111111, 0.11111111, 0.11111111,\n",
       "        0.33333333, 0.33333333],\n",
       "       [0.        , 0.        , 0.11111111, 0.22222222, 0.22222222,\n",
       "        0.22222222, 0.22222222],\n",
       "       [0.        , 0.        , 0.        , 0.25      , 0.25      ,\n",
       "        0.25      , 0.25      ],\n",
       "       [0.        , 0.        , 0.07692308, 0.19230769, 0.23076923,\n",
       "        0.23076923, 0.26923077],\n",
       "       [0.01428571, 0.08571429, 0.12857143, 0.14285714, 0.17142857,\n",
       "        0.21428571, 0.24285714],\n",
       "       [0.        , 0.09285714, 0.16428571, 0.16428571, 0.18571429,\n",
       "        0.18571429, 0.20714286],\n",
       "       [0.        , 0.02777778, 0.11111111, 0.11111111, 0.19444444,\n",
       "        0.27777778, 0.27777778],\n",
       "       [0.        , 0.16666667, 0.16666667, 0.16666667, 0.16666667,\n",
       "        0.16666667, 0.16666667],\n",
       "       [0.        , 0.0625    , 0.1875    , 0.1875    , 0.1875    ,\n",
       "        0.1875    , 0.1875    ],\n",
       "       [0.        , 0.        , 0.14285714, 0.14285714, 0.14285714,\n",
       "        0.14285714, 0.42857143]])"
      ]
     },
     "execution_count": 47,
     "metadata": {},
     "output_type": "execute_result"
    }
   ],
   "source": [
    "# calculate what propotion of the bar is accounted for by each variable \n",
    "n_table_manuf_norm = n_table_manuf / n_table_manuf.sum(axis = 1)[:, None]\n",
    "n_table_manuf_norm\n"
   ]
  },
  {
   "cell_type": "code",
   "execution_count": 48,
   "metadata": {},
   "outputs": [
    {
     "data": {
      "text/plain": [
       "array([[ 50.,  61.],\n",
       "       [ 61.,  72.],\n",
       "       [ 72.,  83.],\n",
       "       [ 83.,  94.],\n",
       "       [ 94., 105.],\n",
       "       [105., 116.],\n",
       "       [116., 127.],\n",
       "       [127., 138.],\n",
       "       [138., 149.],\n",
       "       [149., 160.]])"
      ]
     },
     "execution_count": 48,
     "metadata": {},
     "output_type": "execute_result"
    }
   ],
   "source": [
    "# create an array with for the boundaries of each bins \n",
    "ourbins_manuf = np.column_stack((bins[0:10], bins[1:11]))\n",
    "ourbins_manuf"
   ]
  },
  {
   "cell_type": "code",
   "execution_count": 49,
   "metadata": {
    "scrolled": true
   },
   "outputs": [
    {
     "data": {
      "image/png": "[encoded data removed]",
      "text/plain": [
       "<Figure size 432x288 with 1 Axes>"
      ]
     },
     "metadata": {
      "needs_background": "light"
     },
     "output_type": "display_data"
    }
   ],
   "source": [
    "# plot the nomalized histogram 原版\n",
    "p1 = plt.bar(x=ourbins_manuf[:, 0],height=n_table_manuf_norm[:, 0], width=ourbins_manuf[:, 1]-ourbins_manuf[:, 0])\n",
    "p2 = plt.bar(x=ourbins_manuf[:, 0],height=n_table_manuf_norm[:, 1], width=ourbins_manuf[:, 1]-ourbins_manuf[:, 0], bottom=n_table_manuf_norm[:, 0])\n",
    "p3 = plt.bar(x=ourbins_manuf[:, 0],height=n_table_manuf_norm[:, 2], width=ourbins_manuf[:, 1]-ourbins_manuf[:, 0], bottom=n_table_manuf_norm[:, 1])\n",
    "p4 = plt.bar(x=ourbins_manuf[:, 0],height=n_table_manuf_norm[:, 3], width=ourbins_manuf[:, 1]-ourbins_manuf[:, 0], bottom=n_table_manuf_norm[:, 2])\n",
    "p5 = plt.bar(x=ourbins_manuf[:, 0],height=n_table_manuf_norm[:, 4], width=ourbins_manuf[:, 1]-ourbins_manuf[:, 0], bottom=n_table_manuf_norm[:, 3])\n",
    "p6 = plt.bar(x=ourbins_manuf[:, 0],height=n_table_manuf_norm[:, 5], width=ourbins_manuf[:, 1]-ourbins_manuf[:, 0], bottom=n_table_manuf_norm[:, 4])\n",
    "p7 = plt.bar(x=ourbins_manuf[:, 0],height=n_table_manuf_norm[:, 6], width=ourbins_manuf[:, 1]-ourbins_manuf[:, 0], bottom=n_table_manuf_norm[:, 5])\n",
    "plt.legend(['Manuf = A','Manuf = G', 'Manuf = K', 'Manuf = N', 'Manuf = P', 'Manuf = Q', 'Manuf = R'])\n",
    "plt.title('Nomalized Histogram of Calories with Manuf Overlay')\n",
    "plt.xlabel('Calories'), plt.ylabel('Propotion'); plt.show()\n",
    "\n"
   ]
  },
  {
   "cell_type": "markdown",
   "metadata": {},
   "source": [
    "36. Bin the Calories variable using bins for 0–90, 90–110, and over 110 calories. Create a bar chart of the binned calories variable with Manuf overlay."
   ]
  },
  {
   "cell_type": "code",
   "execution_count": 50,
   "metadata": {},
   "outputs": [],
   "source": [
    "cereal['calories_binned'] = pd.cut(x=cereal['Calories'], bins=[0, 90, 110, 200],\\\n",
    "                                   labels=['Under 90','90 to 110', 'Over 110'], right=False)"
   ]
  },
  {
   "cell_type": "code",
   "execution_count": 51,
   "metadata": {},
   "outputs": [],
   "source": [
    "corsstab_binnedcal_manuf = pd.crosstab(cereal['calories_binned'], cereal['Manuf'])"
   ]
  },
  {
   "cell_type": "code",
   "execution_count": 52,
   "metadata": {},
   "outputs": [
    {
     "data": {
      "text/plain": [
       "<matplotlib.axes._subplots.AxesSubplot at 0x7f94540dccd0>"
      ]
     },
     "execution_count": 52,
     "metadata": {},
     "output_type": "execute_result"
    },
    {
     "data": {
      "image/png": "[encoded data removed]",
      "text/plain": [
       "<Figure size 432x288 with 1 Axes>"
      ]
     },
     "metadata": {
      "needs_background": "light"
     },
     "output_type": "display_data"
    }
   ],
   "source": [
    "corsstab_binnedcal_manuf.plot(kind='bar', stacked=True, title='Bar Chart of Binned Calories\\\n",
    "with Manuf Overlay')"
   ]
  },
  {
   "cell_type": "markdown",
   "metadata": {},
   "source": [
    "For Exercises 37–60, use the adult_ch3_training data set.\n",
    "For Exercises 37–40 we demonstrate an example of why it is not recommended to delete outliers at the EDA stage, because it results in changing the character of the data set."
   ]
  },
  {
   "cell_type": "code",
   "execution_count": 53,
   "metadata": {},
   "outputs": [],
   "source": [
    "adult_ch3_train = pd.read_csv('adult_ch3_training')"
   ]
  },
  {
   "cell_type": "markdown",
   "metadata": {},
   "source": [
    "37. Consider capital‐loss. Identify the outliers in capital‐loss using the Z‐score method.\n",
    "How many outliers are there?"
   ]
  },
  {
   "cell_type": "code",
   "execution_count": 54,
   "metadata": {},
   "outputs": [
    {
     "data": {
      "text/plain": [
       "679"
      ]
     },
     "execution_count": 54,
     "metadata": {},
     "output_type": "execute_result"
    }
   ],
   "source": [
    "adult_ch3_train['cap_loss_z'] = stats.zscore(adult_ch3_train['capital-loss'])\n",
    "cap_loss_outliers = adult_ch3_train.query('cap_loss_z>3 | \\\n",
    "                                          cap_loss_z<-3')\n",
    "cap_loss_outliers_num = cap_loss_outliers['cap_loss_z'].count()\n",
    "cap_loss_outliers_num"
   ]
  },
  {
   "cell_type": "code",
   "execution_count": 55,
   "metadata": {},
   "outputs": [
    {
     "data": {
      "text/plain": [
       "' There are 679 capital‐loss outliers.'"
      ]
     },
     "execution_count": 55,
     "metadata": {},
     "output_type": "execute_result"
    }
   ],
   "source": [
    "''' There are 679 capital‐loss outliers.'''"
   ]
  },
  {
   "cell_type": "markdown",
   "metadata": {},
   "source": [
    "38. Construct a bar graph of Income for these outlier records."
   ]
  },
  {
   "cell_type": "code",
   "execution_count": 56,
   "metadata": {},
   "outputs": [
    {
     "data": {
      "text/html": [
       "<div>\n",
       "<style scoped>\n",
       "    .dataframe tbody tr th:only-of-type {\n",
       "        vertical-align: middle;\n",
       "    }\n",
       "\n",
       "    .dataframe tbody tr th {\n",
       "        vertical-align: top;\n",
       "    }\n",
       "\n",
       "    .dataframe thead th {\n",
       "        text-align: right;\n",
       "    }\n",
       "</style>\n",
       "<table border=\"1\" class=\"dataframe\">\n",
       "  <thead>\n",
       "    <tr style=\"text-align: right;\">\n",
       "      <th>cap_loss_z</th>\n",
       "      <th>3.079973</th>\n",
       "      <th>3.178421</th>\n",
       "      <th>3.247334</th>\n",
       "      <th>3.436845</th>\n",
       "      <th>3.483607</th>\n",
       "      <th>3.569749</th>\n",
       "      <th>3.631278</th>\n",
       "      <th>3.653429</th>\n",
       "      <th>3.668196</th>\n",
       "      <th>3.695269</th>\n",
       "      <th>3.705114</th>\n",
       "      <th>3.724803</th>\n",
       "      <th>...</th>\n",
       "      <th>5.797120</th>\n",
       "      <th>5.829116</th>\n",
       "      <th>5.866034</th>\n",
       "      <th>6.050622</th>\n",
       "      <th>6.080157</th>\n",
       "      <th>6.188449</th>\n",
       "      <th>6.732370</th>\n",
       "      <th>7.175384</th>\n",
       "      <th>8.846528</th>\n",
       "      <th>9.060651</th>\n",
       "      <th>9.380605</th>\n",
       "      <th>10.502905</th>\n",
       "    </tr>\n",
       "    <tr>\n",
       "      <th>income</th>\n",
       "      <th></th>\n",
       "      <th></th>\n",
       "      <th></th>\n",
       "      <th></th>\n",
       "      <th></th>\n",
       "      <th></th>\n",
       "      <th></th>\n",
       "      <th></th>\n",
       "      <th></th>\n",
       "      <th></th>\n",
       "      <th></th>\n",
       "      <th></th>\n",
       "      <th></th>\n",
       "      <th></th>\n",
       "      <th></th>\n",
       "      <th></th>\n",
       "      <th></th>\n",
       "      <th></th>\n",
       "      <th></th>\n",
       "      <th></th>\n",
       "      <th></th>\n",
       "      <th></th>\n",
       "      <th></th>\n",
       "      <th></th>\n",
       "      <th></th>\n",
       "    </tr>\n",
       "  </thead>\n",
       "  <tbody>\n",
       "    <tr>\n",
       "      <th>&lt;=50K</th>\n",
       "      <td>3</td>\n",
       "      <td>3</td>\n",
       "      <td>11</td>\n",
       "      <td>10</td>\n",
       "      <td>13</td>\n",
       "      <td>1</td>\n",
       "      <td>0</td>\n",
       "      <td>2</td>\n",
       "      <td>10</td>\n",
       "      <td>12</td>\n",
       "      <td>4</td>\n",
       "      <td>21</td>\n",
       "      <td>...</td>\n",
       "      <td>0</td>\n",
       "      <td>1</td>\n",
       "      <td>0</td>\n",
       "      <td>0</td>\n",
       "      <td>0</td>\n",
       "      <td>1</td>\n",
       "      <td>0</td>\n",
       "      <td>0</td>\n",
       "      <td>0</td>\n",
       "      <td>1</td>\n",
       "      <td>1</td>\n",
       "      <td>2</td>\n",
       "    </tr>\n",
       "    <tr>\n",
       "      <th>&gt;50K</th>\n",
       "      <td>0</td>\n",
       "      <td>0</td>\n",
       "      <td>0</td>\n",
       "      <td>11</td>\n",
       "      <td>0</td>\n",
       "      <td>0</td>\n",
       "      <td>13</td>\n",
       "      <td>0</td>\n",
       "      <td>0</td>\n",
       "      <td>0</td>\n",
       "      <td>0</td>\n",
       "      <td>0</td>\n",
       "      <td>...</td>\n",
       "      <td>2</td>\n",
       "      <td>0</td>\n",
       "      <td>1</td>\n",
       "      <td>3</td>\n",
       "      <td>7</td>\n",
       "      <td>0</td>\n",
       "      <td>5</td>\n",
       "      <td>1</td>\n",
       "      <td>1</td>\n",
       "      <td>0</td>\n",
       "      <td>0</td>\n",
       "      <td>0</td>\n",
       "    </tr>\n",
       "  </tbody>\n",
       "</table>\n",
       "<p>2 rows × 67 columns</p>\n",
       "</div>"
      ],
      "text/plain": [
       "cap_loss_z  3.079973   3.178421   3.247334   3.436845   3.483607   3.569749   \\\n",
       "income                                                                         \n",
       "<=50K               3          3         11         10         13          1   \n",
       ">50K                0          0          0         11          0          0   \n",
       "\n",
       "cap_loss_z  3.631278   3.653429   3.668196   3.695269   3.705114   3.724803   \\\n",
       "income                                                                         \n",
       "<=50K               0          2         10         12          4         21   \n",
       ">50K               13          0          0          0          0          0   \n",
       "\n",
       "cap_loss_z  ...  5.797120   5.829116   5.866034   6.050622   6.080157   \\\n",
       "income      ...                                                          \n",
       "<=50K       ...          0          1          0          0          0   \n",
       ">50K        ...          2          0          1          3          7   \n",
       "\n",
       "cap_loss_z  6.188449   6.732370   7.175384   8.846528   9.060651   9.380605   \\\n",
       "income                                                                         \n",
       "<=50K               1          0          0          0          1          1   \n",
       ">50K                0          5          1          1          0          0   \n",
       "\n",
       "cap_loss_z  10.502905  \n",
       "income                 \n",
       "<=50K               2  \n",
       ">50K                0  \n",
       "\n",
       "[2 rows x 67 columns]"
      ]
     },
     "execution_count": 56,
     "metadata": {},
     "output_type": "execute_result"
    }
   ],
   "source": [
    "corsstab_income_cap_z = pd.crosstab(cap_loss_outliers['income'], cap_loss_outliers['cap_loss_z'])\n",
    "corsstab_income_cap_z\n",
    "# something wrong here, need help"
   ]
  },
  {
   "cell_type": "code",
   "execution_count": 57,
   "metadata": {},
   "outputs": [
    {
     "data": {
      "text/plain": [
       "<matplotlib.axes._subplots.AxesSubplot at 0x7f94541481d0>"
      ]
     },
     "execution_count": 57,
     "metadata": {},
     "output_type": "execute_result"
    },
    {
     "data": {
      "image/png": "[encoded data removed]",
      "text/plain": [
       "<Figure size 432x288 with 1 Axes>"
      ]
     },
     "metadata": {
      "needs_background": "light"
     },
     "output_type": "display_data"
    }
   ],
   "source": [
    "corsstab_income_cap_z.plot(kind='bar', stacked=True)"
   ]
  },
  {
   "cell_type": "code",
   "execution_count": 58,
   "metadata": {},
   "outputs": [],
   "source": [
    "#38. Construct a bar graph of Income for these outlier records. (Answer from Prof.)\n",
    " # adult_outliers = adult.query('cap_loss_z > 3 | cap_loss_z <-3')\n",
    "\n",
    "# same as my solution in Q.37\n",
    " #cap_loss_outliers = adult_ch3_train.query('cap_loss_z>3 | cap_loss_z<-3')"
   ]
  },
  {
   "cell_type": "code",
   "execution_count": 59,
   "metadata": {},
   "outputs": [
    {
     "data": {
      "text/plain": [
       "<=50K    326\n",
       ">50K     353\n",
       "Name: income, dtype: int64"
      ]
     },
     "execution_count": 59,
     "metadata": {},
     "output_type": "execute_result"
    }
   ],
   "source": [
    "cap_loss_outliers.income.value_counts(ascending = True)"
   ]
  },
  {
   "cell_type": "code",
   "execution_count": 60,
   "metadata": {},
   "outputs": [
    {
     "data": {
      "text/plain": [
       "<matplotlib.axes._subplots.AxesSubplot at 0x7f9454a68b50>"
      ]
     },
     "execution_count": 60,
     "metadata": {},
     "output_type": "execute_result"
    },
    {
     "data": {
      "image/png": "[encoded data removed]",
      "text/plain": [
       "<Figure size 432x288 with 1 Axes>"
      ]
     },
     "metadata": {
      "needs_background": "light"
     },
     "output_type": "display_data"
    }
   ],
   "source": [
    "# Answer from Prof.\n",
    "cap_loss_outliers.income.value_counts(ascending = True).plot.bar(stacked = True, title='Graph of Income of Outliers')"
   ]
  },
  {
   "cell_type": "markdown",
   "metadata": {},
   "source": [
    "39. Construct a bar graph of Income for the adult_ch3_training data set as a whole, without omitting the outliers."
   ]
  },
  {
   "cell_type": "code",
   "execution_count": 61,
   "metadata": {},
   "outputs": [
    {
     "data": {
      "text/plain": [
       "<BarContainer object of 2 artists>"
      ]
     },
     "execution_count": 61,
     "metadata": {},
     "output_type": "execute_result"
    },
    {
     "data": {
      "image/png": "[encoded data removed]",
      "text/plain": [
       "<Figure size 432x288 with 1 Axes>"
      ]
     },
     "metadata": {
      "needs_background": "light"
     },
     "output_type": "display_data"
    }
   ],
   "source": [
    "x = adult_ch3_train['income'].unique()\n",
    "y = adult_ch3_train.groupby('income')['income'].count()\n",
    "plt.bar(x,y)\n"
   ]
  },
  {
   "cell_type": "code",
   "execution_count": 62,
   "metadata": {},
   "outputs": [
    {
     "data": {
      "text/plain": [
       "\"\\nadult.income.value_counts(ascending = False).plot.bar(stacked = True, title='Graph of Income of All Samples')\\n\""
      ]
     },
     "execution_count": 62,
     "metadata": {},
     "output_type": "execute_result"
    }
   ],
   "source": [
    "# Solution from Professor:\n",
    "#39. Construct a bar graph of Income for the adult_ch3_training data set as a whole, without omitting the outliers.\n",
    "'''\n",
    "adult.income.value_counts(ascending = False).plot.bar(stacked = True, title='Graph of Income of All Samples')\n",
    "'''"
   ]
  },
  {
   "cell_type": "markdown",
   "metadata": {},
   "source": [
    "40. Compare your bar graphs from the previous two exercises. Describe the difference bet- ween the two bar graphs. Describe the change to the character of the data set that will result if we delete these outlier records. State your conclusion regarding deleting out- liers at the EDA stage.\n"
   ]
  },
  {
   "cell_type": "code",
   "execution_count": 63,
   "metadata": {},
   "outputs": [
    {
     "data": {
      "text/plain": [
       "'There are much more people with income less than 50 than people earning more than 50k.We should not delete the outliders at EAD stage which will result incomplete data graph'"
      ]
     },
     "execution_count": 63,
     "metadata": {},
     "output_type": "execute_result"
    }
   ],
   "source": [
    "'''There are much more people with income less than 50 than people earning more than 50k.\\\n",
    "We should not delete the outliders at EAD stage which will result incomplete data graph'''"
   ]
  },
  {
   "cell_type": "markdown",
   "metadata": {},
   "source": [
    "41. Derive a flag for capital‐loss, called capital‐loss‐flag, which equals 0 when capital‐loss equals 0, and 1 otherwise. Provide a bar graph of capital‐loss‐flag."
   ]
  },
  {
   "cell_type": "code",
   "execution_count": 64,
   "metadata": {},
   "outputs": [
    {
     "data": {
      "text/html": [
       "<div>\n",
       "<style scoped>\n",
       "    .dataframe tbody tr th:only-of-type {\n",
       "        vertical-align: middle;\n",
       "    }\n",
       "\n",
       "    .dataframe tbody tr th {\n",
       "        vertical-align: top;\n",
       "    }\n",
       "\n",
       "    .dataframe thead th {\n",
       "        text-align: right;\n",
       "    }\n",
       "</style>\n",
       "<table border=\"1\" class=\"dataframe\">\n",
       "  <thead>\n",
       "    <tr style=\"text-align: right;\">\n",
       "      <th></th>\n",
       "      <th>age</th>\n",
       "      <th>workclass</th>\n",
       "      <th>education</th>\n",
       "      <th>marital-status</th>\n",
       "      <th>occupation</th>\n",
       "      <th>sex</th>\n",
       "      <th>capital-gain</th>\n",
       "      <th>capital-loss</th>\n",
       "      <th>income</th>\n",
       "      <th>cap_loss_z</th>\n",
       "      <th>capital‐loss‐flag</th>\n",
       "    </tr>\n",
       "  </thead>\n",
       "  <tbody>\n",
       "    <tr>\n",
       "      <th>0</th>\n",
       "      <td>50</td>\n",
       "      <td>Self-emp-not-inc</td>\n",
       "      <td>13</td>\n",
       "      <td>Married-civ-spouse</td>\n",
       "      <td>Exec-managerial</td>\n",
       "      <td>Male</td>\n",
       "      <td>0</td>\n",
       "      <td>0</td>\n",
       "      <td>&lt;=50K</td>\n",
       "      <td>-0.218014</td>\n",
       "      <td>0</td>\n",
       "    </tr>\n",
       "    <tr>\n",
       "      <th>1</th>\n",
       "      <td>38</td>\n",
       "      <td>Private</td>\n",
       "      <td>9</td>\n",
       "      <td>Divorced</td>\n",
       "      <td>Handlers-cleaners</td>\n",
       "      <td>Male</td>\n",
       "      <td>0</td>\n",
       "      <td>0</td>\n",
       "      <td>&lt;=50K</td>\n",
       "      <td>-0.218014</td>\n",
       "      <td>0</td>\n",
       "    </tr>\n",
       "    <tr>\n",
       "      <th>2</th>\n",
       "      <td>49</td>\n",
       "      <td>Private</td>\n",
       "      <td>5</td>\n",
       "      <td>Married-spouse-absent</td>\n",
       "      <td>Other-service</td>\n",
       "      <td>Female</td>\n",
       "      <td>0</td>\n",
       "      <td>0</td>\n",
       "      <td>&lt;=50K</td>\n",
       "      <td>-0.218014</td>\n",
       "      <td>0</td>\n",
       "    </tr>\n",
       "    <tr>\n",
       "      <th>3</th>\n",
       "      <td>52</td>\n",
       "      <td>Self-emp-not-inc</td>\n",
       "      <td>9</td>\n",
       "      <td>Married-civ-spouse</td>\n",
       "      <td>Exec-managerial</td>\n",
       "      <td>Male</td>\n",
       "      <td>0</td>\n",
       "      <td>0</td>\n",
       "      <td>&gt;50K</td>\n",
       "      <td>-0.218014</td>\n",
       "      <td>0</td>\n",
       "    </tr>\n",
       "    <tr>\n",
       "      <th>4</th>\n",
       "      <td>31</td>\n",
       "      <td>Private</td>\n",
       "      <td>14</td>\n",
       "      <td>Never-married</td>\n",
       "      <td>Prof-specialty</td>\n",
       "      <td>Female</td>\n",
       "      <td>14084</td>\n",
       "      <td>0</td>\n",
       "      <td>&gt;50K</td>\n",
       "      <td>-0.218014</td>\n",
       "      <td>0</td>\n",
       "    </tr>\n",
       "    <tr>\n",
       "      <th>...</th>\n",
       "      <td>...</td>\n",
       "      <td>...</td>\n",
       "      <td>...</td>\n",
       "      <td>...</td>\n",
       "      <td>...</td>\n",
       "      <td>...</td>\n",
       "      <td>...</td>\n",
       "      <td>...</td>\n",
       "      <td>...</td>\n",
       "      <td>...</td>\n",
       "      <td>...</td>\n",
       "    </tr>\n",
       "    <tr>\n",
       "      <th>14792</th>\n",
       "      <td>43</td>\n",
       "      <td>Self-emp-not-inc</td>\n",
       "      <td>10</td>\n",
       "      <td>Married-civ-spouse</td>\n",
       "      <td>Craft-repair</td>\n",
       "      <td>Male</td>\n",
       "      <td>0</td>\n",
       "      <td>0</td>\n",
       "      <td>&lt;=50K</td>\n",
       "      <td>-0.218014</td>\n",
       "      <td>0</td>\n",
       "    </tr>\n",
       "    <tr>\n",
       "      <th>14793</th>\n",
       "      <td>32</td>\n",
       "      <td>Private</td>\n",
       "      <td>6</td>\n",
       "      <td>Married-civ-spouse</td>\n",
       "      <td>Handlers-cleaners</td>\n",
       "      <td>Male</td>\n",
       "      <td>0</td>\n",
       "      <td>0</td>\n",
       "      <td>&lt;=50K</td>\n",
       "      <td>-0.218014</td>\n",
       "      <td>0</td>\n",
       "    </tr>\n",
       "    <tr>\n",
       "      <th>14794</th>\n",
       "      <td>32</td>\n",
       "      <td>Private</td>\n",
       "      <td>14</td>\n",
       "      <td>Never-married</td>\n",
       "      <td>Tech-support</td>\n",
       "      <td>Male</td>\n",
       "      <td>0</td>\n",
       "      <td>0</td>\n",
       "      <td>&lt;=50K</td>\n",
       "      <td>-0.218014</td>\n",
       "      <td>0</td>\n",
       "    </tr>\n",
       "    <tr>\n",
       "      <th>14795</th>\n",
       "      <td>58</td>\n",
       "      <td>Private</td>\n",
       "      <td>9</td>\n",
       "      <td>Widowed</td>\n",
       "      <td>Adm-clerical</td>\n",
       "      <td>Female</td>\n",
       "      <td>0</td>\n",
       "      <td>0</td>\n",
       "      <td>&lt;=50K</td>\n",
       "      <td>-0.218014</td>\n",
       "      <td>0</td>\n",
       "    </tr>\n",
       "    <tr>\n",
       "      <th>14796</th>\n",
       "      <td>22</td>\n",
       "      <td>Private</td>\n",
       "      <td>9</td>\n",
       "      <td>Never-married</td>\n",
       "      <td>Adm-clerical</td>\n",
       "      <td>Male</td>\n",
       "      <td>0</td>\n",
       "      <td>0</td>\n",
       "      <td>&lt;=50K</td>\n",
       "      <td>-0.218014</td>\n",
       "      <td>0</td>\n",
       "    </tr>\n",
       "  </tbody>\n",
       "</table>\n",
       "<p>14797 rows × 11 columns</p>\n",
       "</div>"
      ],
      "text/plain": [
       "       age         workclass  education         marital-status  \\\n",
       "0       50  Self-emp-not-inc         13     Married-civ-spouse   \n",
       "1       38           Private          9               Divorced   \n",
       "2       49           Private          5  Married-spouse-absent   \n",
       "3       52  Self-emp-not-inc          9     Married-civ-spouse   \n",
       "4       31           Private         14          Never-married   \n",
       "...    ...               ...        ...                    ...   \n",
       "14792   43  Self-emp-not-inc         10     Married-civ-spouse   \n",
       "14793   32           Private          6     Married-civ-spouse   \n",
       "14794   32           Private         14          Never-married   \n",
       "14795   58           Private          9                Widowed   \n",
       "14796   22           Private          9          Never-married   \n",
       "\n",
       "              occupation     sex  capital-gain  capital-loss income  \\\n",
       "0        Exec-managerial    Male             0             0  <=50K   \n",
       "1      Handlers-cleaners    Male             0             0  <=50K   \n",
       "2          Other-service  Female             0             0  <=50K   \n",
       "3        Exec-managerial    Male             0             0   >50K   \n",
       "4         Prof-specialty  Female         14084             0   >50K   \n",
       "...                  ...     ...           ...           ...    ...   \n",
       "14792       Craft-repair    Male             0             0  <=50K   \n",
       "14793  Handlers-cleaners    Male             0             0  <=50K   \n",
       "14794       Tech-support    Male             0             0  <=50K   \n",
       "14795       Adm-clerical  Female             0             0  <=50K   \n",
       "14796       Adm-clerical    Male             0             0  <=50K   \n",
       "\n",
       "       cap_loss_z  capital‐loss‐flag  \n",
       "0       -0.218014                  0  \n",
       "1       -0.218014                  0  \n",
       "2       -0.218014                  0  \n",
       "3       -0.218014                  0  \n",
       "4       -0.218014                  0  \n",
       "...           ...                ...  \n",
       "14792   -0.218014                  0  \n",
       "14793   -0.218014                  0  \n",
       "14794   -0.218014                  0  \n",
       "14795   -0.218014                  0  \n",
       "14796   -0.218014                  0  \n",
       "\n",
       "[14797 rows x 11 columns]"
      ]
     },
     "execution_count": 64,
     "metadata": {},
     "output_type": "execute_result"
    }
   ],
   "source": [
    "adult_ch3_train['capital‐loss‐flag'] = np.where(adult_ch3_train['capital-loss']== 0, 0, 1)\n",
    "adult_ch3_train"
   ]
  },
  {
   "cell_type": "markdown",
   "metadata": {},
   "source": [
    "42. Repeat the previous exercise for capital‐gain‐flag."
   ]
  },
  {
   "cell_type": "code",
   "execution_count": 65,
   "metadata": {},
   "outputs": [
    {
     "data": {
      "text/html": [
       "<div>\n",
       "<style scoped>\n",
       "    .dataframe tbody tr th:only-of-type {\n",
       "        vertical-align: middle;\n",
       "    }\n",
       "\n",
       "    .dataframe tbody tr th {\n",
       "        vertical-align: top;\n",
       "    }\n",
       "\n",
       "    .dataframe thead th {\n",
       "        text-align: right;\n",
       "    }\n",
       "</style>\n",
       "<table border=\"1\" class=\"dataframe\">\n",
       "  <thead>\n",
       "    <tr style=\"text-align: right;\">\n",
       "      <th></th>\n",
       "      <th>age</th>\n",
       "      <th>workclass</th>\n",
       "      <th>education</th>\n",
       "      <th>marital-status</th>\n",
       "      <th>occupation</th>\n",
       "      <th>sex</th>\n",
       "      <th>capital-gain</th>\n",
       "      <th>capital-loss</th>\n",
       "      <th>income</th>\n",
       "      <th>cap_loss_z</th>\n",
       "      <th>capital‐loss‐flag</th>\n",
       "      <th>capital‐gain‐flag</th>\n",
       "    </tr>\n",
       "  </thead>\n",
       "  <tbody>\n",
       "    <tr>\n",
       "      <th>0</th>\n",
       "      <td>50</td>\n",
       "      <td>Self-emp-not-inc</td>\n",
       "      <td>13</td>\n",
       "      <td>Married-civ-spouse</td>\n",
       "      <td>Exec-managerial</td>\n",
       "      <td>Male</td>\n",
       "      <td>0</td>\n",
       "      <td>0</td>\n",
       "      <td>&lt;=50K</td>\n",
       "      <td>-0.218014</td>\n",
       "      <td>0</td>\n",
       "      <td>0</td>\n",
       "    </tr>\n",
       "    <tr>\n",
       "      <th>1</th>\n",
       "      <td>38</td>\n",
       "      <td>Private</td>\n",
       "      <td>9</td>\n",
       "      <td>Divorced</td>\n",
       "      <td>Handlers-cleaners</td>\n",
       "      <td>Male</td>\n",
       "      <td>0</td>\n",
       "      <td>0</td>\n",
       "      <td>&lt;=50K</td>\n",
       "      <td>-0.218014</td>\n",
       "      <td>0</td>\n",
       "      <td>0</td>\n",
       "    </tr>\n",
       "    <tr>\n",
       "      <th>2</th>\n",
       "      <td>49</td>\n",
       "      <td>Private</td>\n",
       "      <td>5</td>\n",
       "      <td>Married-spouse-absent</td>\n",
       "      <td>Other-service</td>\n",
       "      <td>Female</td>\n",
       "      <td>0</td>\n",
       "      <td>0</td>\n",
       "      <td>&lt;=50K</td>\n",
       "      <td>-0.218014</td>\n",
       "      <td>0</td>\n",
       "      <td>0</td>\n",
       "    </tr>\n",
       "    <tr>\n",
       "      <th>3</th>\n",
       "      <td>52</td>\n",
       "      <td>Self-emp-not-inc</td>\n",
       "      <td>9</td>\n",
       "      <td>Married-civ-spouse</td>\n",
       "      <td>Exec-managerial</td>\n",
       "      <td>Male</td>\n",
       "      <td>0</td>\n",
       "      <td>0</td>\n",
       "      <td>&gt;50K</td>\n",
       "      <td>-0.218014</td>\n",
       "      <td>0</td>\n",
       "      <td>0</td>\n",
       "    </tr>\n",
       "    <tr>\n",
       "      <th>4</th>\n",
       "      <td>31</td>\n",
       "      <td>Private</td>\n",
       "      <td>14</td>\n",
       "      <td>Never-married</td>\n",
       "      <td>Prof-specialty</td>\n",
       "      <td>Female</td>\n",
       "      <td>14084</td>\n",
       "      <td>0</td>\n",
       "      <td>&gt;50K</td>\n",
       "      <td>-0.218014</td>\n",
       "      <td>0</td>\n",
       "      <td>1</td>\n",
       "    </tr>\n",
       "    <tr>\n",
       "      <th>...</th>\n",
       "      <td>...</td>\n",
       "      <td>...</td>\n",
       "      <td>...</td>\n",
       "      <td>...</td>\n",
       "      <td>...</td>\n",
       "      <td>...</td>\n",
       "      <td>...</td>\n",
       "      <td>...</td>\n",
       "      <td>...</td>\n",
       "      <td>...</td>\n",
       "      <td>...</td>\n",
       "      <td>...</td>\n",
       "    </tr>\n",
       "    <tr>\n",
       "      <th>14792</th>\n",
       "      <td>43</td>\n",
       "      <td>Self-emp-not-inc</td>\n",
       "      <td>10</td>\n",
       "      <td>Married-civ-spouse</td>\n",
       "      <td>Craft-repair</td>\n",
       "      <td>Male</td>\n",
       "      <td>0</td>\n",
       "      <td>0</td>\n",
       "      <td>&lt;=50K</td>\n",
       "      <td>-0.218014</td>\n",
       "      <td>0</td>\n",
       "      <td>0</td>\n",
       "    </tr>\n",
       "    <tr>\n",
       "      <th>14793</th>\n",
       "      <td>32</td>\n",
       "      <td>Private</td>\n",
       "      <td>6</td>\n",
       "      <td>Married-civ-spouse</td>\n",
       "      <td>Handlers-cleaners</td>\n",
       "      <td>Male</td>\n",
       "      <td>0</td>\n",
       "      <td>0</td>\n",
       "      <td>&lt;=50K</td>\n",
       "      <td>-0.218014</td>\n",
       "      <td>0</td>\n",
       "      <td>0</td>\n",
       "    </tr>\n",
       "    <tr>\n",
       "      <th>14794</th>\n",
       "      <td>32</td>\n",
       "      <td>Private</td>\n",
       "      <td>14</td>\n",
       "      <td>Never-married</td>\n",
       "      <td>Tech-support</td>\n",
       "      <td>Male</td>\n",
       "      <td>0</td>\n",
       "      <td>0</td>\n",
       "      <td>&lt;=50K</td>\n",
       "      <td>-0.218014</td>\n",
       "      <td>0</td>\n",
       "      <td>0</td>\n",
       "    </tr>\n",
       "    <tr>\n",
       "      <th>14795</th>\n",
       "      <td>58</td>\n",
       "      <td>Private</td>\n",
       "      <td>9</td>\n",
       "      <td>Widowed</td>\n",
       "      <td>Adm-clerical</td>\n",
       "      <td>Female</td>\n",
       "      <td>0</td>\n",
       "      <td>0</td>\n",
       "      <td>&lt;=50K</td>\n",
       "      <td>-0.218014</td>\n",
       "      <td>0</td>\n",
       "      <td>0</td>\n",
       "    </tr>\n",
       "    <tr>\n",
       "      <th>14796</th>\n",
       "      <td>22</td>\n",
       "      <td>Private</td>\n",
       "      <td>9</td>\n",
       "      <td>Never-married</td>\n",
       "      <td>Adm-clerical</td>\n",
       "      <td>Male</td>\n",
       "      <td>0</td>\n",
       "      <td>0</td>\n",
       "      <td>&lt;=50K</td>\n",
       "      <td>-0.218014</td>\n",
       "      <td>0</td>\n",
       "      <td>0</td>\n",
       "    </tr>\n",
       "  </tbody>\n",
       "</table>\n",
       "<p>14797 rows × 12 columns</p>\n",
       "</div>"
      ],
      "text/plain": [
       "       age         workclass  education         marital-status  \\\n",
       "0       50  Self-emp-not-inc         13     Married-civ-spouse   \n",
       "1       38           Private          9               Divorced   \n",
       "2       49           Private          5  Married-spouse-absent   \n",
       "3       52  Self-emp-not-inc          9     Married-civ-spouse   \n",
       "4       31           Private         14          Never-married   \n",
       "...    ...               ...        ...                    ...   \n",
       "14792   43  Self-emp-not-inc         10     Married-civ-spouse   \n",
       "14793   32           Private          6     Married-civ-spouse   \n",
       "14794   32           Private         14          Never-married   \n",
       "14795   58           Private          9                Widowed   \n",
       "14796   22           Private          9          Never-married   \n",
       "\n",
       "              occupation     sex  capital-gain  capital-loss income  \\\n",
       "0        Exec-managerial    Male             0             0  <=50K   \n",
       "1      Handlers-cleaners    Male             0             0  <=50K   \n",
       "2          Other-service  Female             0             0  <=50K   \n",
       "3        Exec-managerial    Male             0             0   >50K   \n",
       "4         Prof-specialty  Female         14084             0   >50K   \n",
       "...                  ...     ...           ...           ...    ...   \n",
       "14792       Craft-repair    Male             0             0  <=50K   \n",
       "14793  Handlers-cleaners    Male             0             0  <=50K   \n",
       "14794       Tech-support    Male             0             0  <=50K   \n",
       "14795       Adm-clerical  Female             0             0  <=50K   \n",
       "14796       Adm-clerical    Male             0             0  <=50K   \n",
       "\n",
       "       cap_loss_z  capital‐loss‐flag  capital‐gain‐flag  \n",
       "0       -0.218014                  0                  0  \n",
       "1       -0.218014                  0                  0  \n",
       "2       -0.218014                  0                  0  \n",
       "3       -0.218014                  0                  0  \n",
       "4       -0.218014                  0                  1  \n",
       "...           ...                ...                ...  \n",
       "14792   -0.218014                  0                  0  \n",
       "14793   -0.218014                  0                  0  \n",
       "14794   -0.218014                  0                  0  \n",
       "14795   -0.218014                  0                  0  \n",
       "14796   -0.218014                  0                  0  \n",
       "\n",
       "[14797 rows x 12 columns]"
      ]
     },
     "execution_count": 65,
     "metadata": {},
     "output_type": "execute_result"
    }
   ],
   "source": [
    "adult_ch3_train['capital‐gain‐flag'] = np.where(adult_ch3_train['capital-gain']==0, 0, 1)\n",
    "adult_ch3_train"
   ]
  },
  {
   "cell_type": "markdown",
   "metadata": {},
   "source": [
    "43. Construct a contingency table of capital‐loss‐flag vs Income. Include counts and column\n",
    "percentages. Clearly describe the effect of having any capital losses on Income."
   ]
  },
  {
   "cell_type": "code",
   "execution_count": 66,
   "metadata": {},
   "outputs": [
    {
     "data": {
      "text/html": [
       "<div>\n",
       "<style scoped>\n",
       "    .dataframe tbody tr th:only-of-type {\n",
       "        vertical-align: middle;\n",
       "    }\n",
       "\n",
       "    .dataframe tbody tr th {\n",
       "        vertical-align: top;\n",
       "    }\n",
       "\n",
       "    .dataframe thead th {\n",
       "        text-align: right;\n",
       "    }\n",
       "</style>\n",
       "<table border=\"1\" class=\"dataframe\">\n",
       "  <thead>\n",
       "    <tr style=\"text-align: right;\">\n",
       "      <th>income</th>\n",
       "      <th>&lt;=50K</th>\n",
       "      <th>&gt;50K</th>\n",
       "    </tr>\n",
       "    <tr>\n",
       "      <th>capital‐loss‐flag</th>\n",
       "      <th></th>\n",
       "      <th></th>\n",
       "    </tr>\n",
       "  </thead>\n",
       "  <tbody>\n",
       "    <tr>\n",
       "      <th>0</th>\n",
       "      <td>77.3</td>\n",
       "      <td>22.7</td>\n",
       "    </tr>\n",
       "    <tr>\n",
       "      <th>1</th>\n",
       "      <td>49.4</td>\n",
       "      <td>50.6</td>\n",
       "    </tr>\n",
       "  </tbody>\n",
       "</table>\n",
       "</div>"
      ],
      "text/plain": [
       "income             <=50K  >50K\n",
       "capital‐loss‐flag             \n",
       "0                   77.3  22.7\n",
       "1                   49.4  50.6"
      ]
     },
     "execution_count": 66,
     "metadata": {},
     "output_type": "execute_result"
    }
   ],
   "source": [
    "crosstab_cap_loss_income = pd.crosstab(adult_ch3_train['capital‐loss‐flag'], \\\n",
    "                                       adult_ch3_train['income'])\n",
    "round(crosstab_cap_loss_income.div(crosstab_cap_loss_income.sum(axis=1), axis=0)*100, 1)"
   ]
  },
  {
   "cell_type": "markdown",
   "metadata": {},
   "source": [
    "44. Construct a contingency table of capital‐gain‐flag vs Income. Include counts and\n",
    "column percentages. Clearly describe the effect of having any capital gains on Income."
   ]
  },
  {
   "cell_type": "code",
   "execution_count": 67,
   "metadata": {},
   "outputs": [
    {
     "data": {
      "text/html": [
       "<div>\n",
       "<style scoped>\n",
       "    .dataframe tbody tr th:only-of-type {\n",
       "        vertical-align: middle;\n",
       "    }\n",
       "\n",
       "    .dataframe tbody tr th {\n",
       "        vertical-align: top;\n",
       "    }\n",
       "\n",
       "    .dataframe thead th {\n",
       "        text-align: right;\n",
       "    }\n",
       "</style>\n",
       "<table border=\"1\" class=\"dataframe\">\n",
       "  <thead>\n",
       "    <tr style=\"text-align: right;\">\n",
       "      <th>income</th>\n",
       "      <th>&lt;=50K</th>\n",
       "      <th>&gt;50K</th>\n",
       "    </tr>\n",
       "    <tr>\n",
       "      <th>capital‐gain‐flag</th>\n",
       "      <th></th>\n",
       "      <th></th>\n",
       "    </tr>\n",
       "  </thead>\n",
       "  <tbody>\n",
       "    <tr>\n",
       "      <th>0</th>\n",
       "      <td>79.4</td>\n",
       "      <td>20.6</td>\n",
       "    </tr>\n",
       "    <tr>\n",
       "      <th>1</th>\n",
       "      <td>38.1</td>\n",
       "      <td>61.9</td>\n",
       "    </tr>\n",
       "  </tbody>\n",
       "</table>\n",
       "</div>"
      ],
      "text/plain": [
       "income             <=50K  >50K\n",
       "capital‐gain‐flag             \n",
       "0                   79.4  20.6\n",
       "1                   38.1  61.9"
      ]
     },
     "execution_count": 67,
     "metadata": {},
     "output_type": "execute_result"
    }
   ],
   "source": [
    "crosstab_cap_gf_income = pd.crosstab(adult_ch3_train['capital‐gain‐flag'], \\\n",
    "                                     adult_ch3_train['income'])\n",
    "round(crosstab_cap_gf_income.div(crosstab_cap_gf_income.sum(axis=1), axis=0)*100, 1)"
   ]
  },
  {
   "cell_type": "markdown",
   "metadata": {},
   "source": [
    "45. To prepare for further work, rename workclass as workclass‐old, marital‐status as\n",
    "marital‐status‐old, and occupation as occupation‐old."
   ]
  },
  {
   "cell_type": "code",
   "execution_count": 68,
   "metadata": {},
   "outputs": [
    {
     "data": {
      "text/html": [
       "<div>\n",
       "<style scoped>\n",
       "    .dataframe tbody tr th:only-of-type {\n",
       "        vertical-align: middle;\n",
       "    }\n",
       "\n",
       "    .dataframe tbody tr th {\n",
       "        vertical-align: top;\n",
       "    }\n",
       "\n",
       "    .dataframe thead th {\n",
       "        text-align: right;\n",
       "    }\n",
       "</style>\n",
       "<table border=\"1\" class=\"dataframe\">\n",
       "  <thead>\n",
       "    <tr style=\"text-align: right;\">\n",
       "      <th></th>\n",
       "      <th>age</th>\n",
       "      <th>workclass‐old</th>\n",
       "      <th>education</th>\n",
       "      <th>marital‐status‐old</th>\n",
       "      <th>occupation‐old</th>\n",
       "      <th>sex</th>\n",
       "      <th>capital-gain</th>\n",
       "      <th>capital-loss</th>\n",
       "      <th>income</th>\n",
       "      <th>cap_loss_z</th>\n",
       "      <th>capital‐loss‐flag</th>\n",
       "      <th>capital‐gain‐flag</th>\n",
       "    </tr>\n",
       "  </thead>\n",
       "  <tbody>\n",
       "    <tr>\n",
       "      <th>0</th>\n",
       "      <td>50</td>\n",
       "      <td>Self-emp-not-inc</td>\n",
       "      <td>13</td>\n",
       "      <td>Married-civ-spouse</td>\n",
       "      <td>Exec-managerial</td>\n",
       "      <td>Male</td>\n",
       "      <td>0</td>\n",
       "      <td>0</td>\n",
       "      <td>&lt;=50K</td>\n",
       "      <td>-0.218014</td>\n",
       "      <td>0</td>\n",
       "      <td>0</td>\n",
       "    </tr>\n",
       "    <tr>\n",
       "      <th>1</th>\n",
       "      <td>38</td>\n",
       "      <td>Private</td>\n",
       "      <td>9</td>\n",
       "      <td>Divorced</td>\n",
       "      <td>Handlers-cleaners</td>\n",
       "      <td>Male</td>\n",
       "      <td>0</td>\n",
       "      <td>0</td>\n",
       "      <td>&lt;=50K</td>\n",
       "      <td>-0.218014</td>\n",
       "      <td>0</td>\n",
       "      <td>0</td>\n",
       "    </tr>\n",
       "    <tr>\n",
       "      <th>2</th>\n",
       "      <td>49</td>\n",
       "      <td>Private</td>\n",
       "      <td>5</td>\n",
       "      <td>Married-spouse-absent</td>\n",
       "      <td>Other-service</td>\n",
       "      <td>Female</td>\n",
       "      <td>0</td>\n",
       "      <td>0</td>\n",
       "      <td>&lt;=50K</td>\n",
       "      <td>-0.218014</td>\n",
       "      <td>0</td>\n",
       "      <td>0</td>\n",
       "    </tr>\n",
       "    <tr>\n",
       "      <th>3</th>\n",
       "      <td>52</td>\n",
       "      <td>Self-emp-not-inc</td>\n",
       "      <td>9</td>\n",
       "      <td>Married-civ-spouse</td>\n",
       "      <td>Exec-managerial</td>\n",
       "      <td>Male</td>\n",
       "      <td>0</td>\n",
       "      <td>0</td>\n",
       "      <td>&gt;50K</td>\n",
       "      <td>-0.218014</td>\n",
       "      <td>0</td>\n",
       "      <td>0</td>\n",
       "    </tr>\n",
       "    <tr>\n",
       "      <th>4</th>\n",
       "      <td>31</td>\n",
       "      <td>Private</td>\n",
       "      <td>14</td>\n",
       "      <td>Never-married</td>\n",
       "      <td>Prof-specialty</td>\n",
       "      <td>Female</td>\n",
       "      <td>14084</td>\n",
       "      <td>0</td>\n",
       "      <td>&gt;50K</td>\n",
       "      <td>-0.218014</td>\n",
       "      <td>0</td>\n",
       "      <td>1</td>\n",
       "    </tr>\n",
       "    <tr>\n",
       "      <th>...</th>\n",
       "      <td>...</td>\n",
       "      <td>...</td>\n",
       "      <td>...</td>\n",
       "      <td>...</td>\n",
       "      <td>...</td>\n",
       "      <td>...</td>\n",
       "      <td>...</td>\n",
       "      <td>...</td>\n",
       "      <td>...</td>\n",
       "      <td>...</td>\n",
       "      <td>...</td>\n",
       "      <td>...</td>\n",
       "    </tr>\n",
       "    <tr>\n",
       "      <th>14792</th>\n",
       "      <td>43</td>\n",
       "      <td>Self-emp-not-inc</td>\n",
       "      <td>10</td>\n",
       "      <td>Married-civ-spouse</td>\n",
       "      <td>Craft-repair</td>\n",
       "      <td>Male</td>\n",
       "      <td>0</td>\n",
       "      <td>0</td>\n",
       "      <td>&lt;=50K</td>\n",
       "      <td>-0.218014</td>\n",
       "      <td>0</td>\n",
       "      <td>0</td>\n",
       "    </tr>\n",
       "    <tr>\n",
       "      <th>14793</th>\n",
       "      <td>32</td>\n",
       "      <td>Private</td>\n",
       "      <td>6</td>\n",
       "      <td>Married-civ-spouse</td>\n",
       "      <td>Handlers-cleaners</td>\n",
       "      <td>Male</td>\n",
       "      <td>0</td>\n",
       "      <td>0</td>\n",
       "      <td>&lt;=50K</td>\n",
       "      <td>-0.218014</td>\n",
       "      <td>0</td>\n",
       "      <td>0</td>\n",
       "    </tr>\n",
       "    <tr>\n",
       "      <th>14794</th>\n",
       "      <td>32</td>\n",
       "      <td>Private</td>\n",
       "      <td>14</td>\n",
       "      <td>Never-married</td>\n",
       "      <td>Tech-support</td>\n",
       "      <td>Male</td>\n",
       "      <td>0</td>\n",
       "      <td>0</td>\n",
       "      <td>&lt;=50K</td>\n",
       "      <td>-0.218014</td>\n",
       "      <td>0</td>\n",
       "      <td>0</td>\n",
       "    </tr>\n",
       "    <tr>\n",
       "      <th>14795</th>\n",
       "      <td>58</td>\n",
       "      <td>Private</td>\n",
       "      <td>9</td>\n",
       "      <td>Widowed</td>\n",
       "      <td>Adm-clerical</td>\n",
       "      <td>Female</td>\n",
       "      <td>0</td>\n",
       "      <td>0</td>\n",
       "      <td>&lt;=50K</td>\n",
       "      <td>-0.218014</td>\n",
       "      <td>0</td>\n",
       "      <td>0</td>\n",
       "    </tr>\n",
       "    <tr>\n",
       "      <th>14796</th>\n",
       "      <td>22</td>\n",
       "      <td>Private</td>\n",
       "      <td>9</td>\n",
       "      <td>Never-married</td>\n",
       "      <td>Adm-clerical</td>\n",
       "      <td>Male</td>\n",
       "      <td>0</td>\n",
       "      <td>0</td>\n",
       "      <td>&lt;=50K</td>\n",
       "      <td>-0.218014</td>\n",
       "      <td>0</td>\n",
       "      <td>0</td>\n",
       "    </tr>\n",
       "  </tbody>\n",
       "</table>\n",
       "<p>14797 rows × 12 columns</p>\n",
       "</div>"
      ],
      "text/plain": [
       "       age     workclass‐old  education     marital‐status‐old  \\\n",
       "0       50  Self-emp-not-inc         13     Married-civ-spouse   \n",
       "1       38           Private          9               Divorced   \n",
       "2       49           Private          5  Married-spouse-absent   \n",
       "3       52  Self-emp-not-inc          9     Married-civ-spouse   \n",
       "4       31           Private         14          Never-married   \n",
       "...    ...               ...        ...                    ...   \n",
       "14792   43  Self-emp-not-inc         10     Married-civ-spouse   \n",
       "14793   32           Private          6     Married-civ-spouse   \n",
       "14794   32           Private         14          Never-married   \n",
       "14795   58           Private          9                Widowed   \n",
       "14796   22           Private          9          Never-married   \n",
       "\n",
       "          occupation‐old     sex  capital-gain  capital-loss income  \\\n",
       "0        Exec-managerial    Male             0             0  <=50K   \n",
       "1      Handlers-cleaners    Male             0             0  <=50K   \n",
       "2          Other-service  Female             0             0  <=50K   \n",
       "3        Exec-managerial    Male             0             0   >50K   \n",
       "4         Prof-specialty  Female         14084             0   >50K   \n",
       "...                  ...     ...           ...           ...    ...   \n",
       "14792       Craft-repair    Male             0             0  <=50K   \n",
       "14793  Handlers-cleaners    Male             0             0  <=50K   \n",
       "14794       Tech-support    Male             0             0  <=50K   \n",
       "14795       Adm-clerical  Female             0             0  <=50K   \n",
       "14796       Adm-clerical    Male             0             0  <=50K   \n",
       "\n",
       "       cap_loss_z  capital‐loss‐flag  capital‐gain‐flag  \n",
       "0       -0.218014                  0                  0  \n",
       "1       -0.218014                  0                  0  \n",
       "2       -0.218014                  0                  0  \n",
       "3       -0.218014                  0                  0  \n",
       "4       -0.218014                  0                  1  \n",
       "...           ...                ...                ...  \n",
       "14792   -0.218014                  0                  0  \n",
       "14793   -0.218014                  0                  0  \n",
       "14794   -0.218014                  0                  0  \n",
       "14795   -0.218014                  0                  0  \n",
       "14796   -0.218014                  0                  0  \n",
       "\n",
       "[14797 rows x 12 columns]"
      ]
     },
     "execution_count": 68,
     "metadata": {},
     "output_type": "execute_result"
    }
   ],
   "source": [
    "adult_ch3_train.rename(columns={'workclass': 'workclass‐old', 'marital-status': \\\n",
    "                                'marital‐status‐old', 'occupation': 'occupation‐old'},\\\n",
    "                      inplace=True)\n",
    "adult_ch3_train"
   ]
  },
  {
   "cell_type": "markdown",
   "metadata": {},
   "source": [
    "46. Construct a contingency table with income for the rows and workclass‐old for the\n",
    "columns, asking for counts and column percentages."
   ]
  },
  {
   "cell_type": "code",
   "execution_count": 69,
   "metadata": {},
   "outputs": [
    {
     "data": {
      "text/html": [
       "<div>\n",
       "<style scoped>\n",
       "    .dataframe tbody tr th:only-of-type {\n",
       "        vertical-align: middle;\n",
       "    }\n",
       "\n",
       "    .dataframe tbody tr th {\n",
       "        vertical-align: top;\n",
       "    }\n",
       "\n",
       "    .dataframe thead th {\n",
       "        text-align: right;\n",
       "    }\n",
       "</style>\n",
       "<table border=\"1\" class=\"dataframe\">\n",
       "  <thead>\n",
       "    <tr style=\"text-align: right;\">\n",
       "      <th>workclass‐old</th>\n",
       "      <th>?</th>\n",
       "      <th>Federal-gov</th>\n",
       "      <th>Local-gov</th>\n",
       "      <th>Never-worked</th>\n",
       "      <th>Private</th>\n",
       "      <th>Self-emp-inc</th>\n",
       "      <th>Self-emp-not-inc</th>\n",
       "      <th>State-gov</th>\n",
       "      <th>Without-pay</th>\n",
       "    </tr>\n",
       "    <tr>\n",
       "      <th>income</th>\n",
       "      <th></th>\n",
       "      <th></th>\n",
       "      <th></th>\n",
       "      <th></th>\n",
       "      <th></th>\n",
       "      <th></th>\n",
       "      <th></th>\n",
       "      <th></th>\n",
       "      <th></th>\n",
       "    </tr>\n",
       "  </thead>\n",
       "  <tbody>\n",
       "    <tr>\n",
       "      <th>&lt;=50K</th>\n",
       "      <td>6.6</td>\n",
       "      <td>2.4</td>\n",
       "      <td>6.0</td>\n",
       "      <td>0.0</td>\n",
       "      <td>71.7</td>\n",
       "      <td>1.9</td>\n",
       "      <td>7.3</td>\n",
       "      <td>3.8</td>\n",
       "      <td>0.0</td>\n",
       "    </tr>\n",
       "    <tr>\n",
       "      <th>&gt;50K</th>\n",
       "      <td>2.3</td>\n",
       "      <td>5.0</td>\n",
       "      <td>8.2</td>\n",
       "      <td>0.0</td>\n",
       "      <td>62.4</td>\n",
       "      <td>7.9</td>\n",
       "      <td>9.7</td>\n",
       "      <td>4.6</td>\n",
       "      <td>0.0</td>\n",
       "    </tr>\n",
       "  </tbody>\n",
       "</table>\n",
       "</div>"
      ],
      "text/plain": [
       "workclass‐old    ?  Federal-gov  Local-gov  Never-worked  Private  \\\n",
       "income                                                              \n",
       "<=50K          6.6          2.4        6.0           0.0     71.7   \n",
       ">50K           2.3          5.0        8.2           0.0     62.4   \n",
       "\n",
       "workclass‐old  Self-emp-inc  Self-emp-not-inc  State-gov  Without-pay  \n",
       "income                                                                 \n",
       "<=50K                   1.9               7.3        3.8          0.0  \n",
       ">50K                    7.9               9.7        4.6          0.0  "
      ]
     },
     "execution_count": 69,
     "metadata": {},
     "output_type": "execute_result"
    }
   ],
   "source": [
    "crosstab_income_work = pd.crosstab(adult_ch3_train['income'], adult_ch3_train['workclass‐old'])\n",
    "round(crosstab_income_work.div(crosstab_income_work.sum(axis=1), axis=0)*100, 1)"
   ]
  },
  {
   "cell_type": "markdown",
   "metadata": {},
   "source": [
    "47. Referring to the contingency table from the previous exercise, do the following:\n",
    "a. Provide a one‐sentence rationale for why we should combine never‐worked and without‐pay into no‐pay."
   ]
  },
  {
   "cell_type": "code",
   "execution_count": 70,
   "metadata": {},
   "outputs": [
    {
     "data": {
      "text/plain": [
       "'Because in these 2 columns, the counts are 0, and never-worked and without-payboth means earn no money. In genreal, these 2 column should be to the same category'"
      ]
     },
     "execution_count": 70,
     "metadata": {},
     "output_type": "execute_result"
    }
   ],
   "source": [
    "'''Because in these 2 columns, the counts are 0, and never-worked and without-pay\\\n",
    "both means earn no money. In genreal, these 2 column should be to the same category'''"
   ]
  },
  {
   "cell_type": "markdown",
   "metadata": {},
   "source": [
    "b. Provide a one‐sentence rationale for why we may combine local‐gov and state‐gov into state‐local‐gov."
   ]
  },
  {
   "cell_type": "code",
   "execution_count": 71,
   "metadata": {},
   "outputs": [
    {
     "data": {
      "text/plain": [
       "'Because local-gov and state-gov belong to the same category'"
      ]
     },
     "execution_count": 71,
     "metadata": {},
     "output_type": "execute_result"
    }
   ],
   "source": [
    "'''Because local-gov and state-gov belong to the same category'''"
   ]
  },
  {
   "cell_type": "markdown",
   "metadata": {},
   "source": [
    "48. Perform the changes mentioned in the previous exercise, along with changing “?” to “unknown.” Call the new variable workclass. Construct a contingency table with income for the rows and workclass for the columns, with counts and column percentages. Describe your table using a couple of sentences."
   ]
  },
  {
   "cell_type": "code",
   "execution_count": 72,
   "metadata": {},
   "outputs": [
    {
     "data": {
      "text/plain": [
       "array(['Self-emp-not-inc', 'Private', 'unknown', 'Federal-gov',\n",
       "       'Self-emp-inc', 'Local-gov', 'State-gov', 'Without-pay',\n",
       "       'Never-worked'], dtype=object)"
      ]
     },
     "execution_count": 72,
     "metadata": {},
     "output_type": "execute_result"
    }
   ],
   "source": [
    "# 1st way to change the value in the rows:\n",
    "# adult_ch3_train.loc[adult_ch3_train['workclass‐old']=='?','workclass‐old'] = 'unknown'\n",
    "# 2nd way:\n",
    "adult_ch3_train['workclass‐old'] = np.where(adult_ch3_train['workclass‐old']=='?','unknown',\\\n",
    "                                            adult_ch3_train['workclass‐old'])\n",
    "adult_ch3_train['workclass‐old'].unique()"
   ]
  },
  {
   "cell_type": "markdown",
   "metadata": {},
   "source": [
    "49. Construct a contingency table with income for the rows and marital‐status‐old for the columns, asking for counts and column percentages."
   ]
  },
  {
   "cell_type": "code",
   "execution_count": 73,
   "metadata": {},
   "outputs": [
    {
     "data": {
      "text/html": [
       "<div>\n",
       "<style scoped>\n",
       "    .dataframe tbody tr th:only-of-type {\n",
       "        vertical-align: middle;\n",
       "    }\n",
       "\n",
       "    .dataframe tbody tr th {\n",
       "        vertical-align: top;\n",
       "    }\n",
       "\n",
       "    .dataframe thead th {\n",
       "        text-align: right;\n",
       "    }\n",
       "</style>\n",
       "<table border=\"1\" class=\"dataframe\">\n",
       "  <thead>\n",
       "    <tr style=\"text-align: right;\">\n",
       "      <th>marital‐status‐old</th>\n",
       "      <th>Divorced</th>\n",
       "      <th>Married-AF-spouse</th>\n",
       "      <th>Married-civ-spouse</th>\n",
       "      <th>Married-spouse-absent</th>\n",
       "      <th>Never-married</th>\n",
       "      <th>Separated</th>\n",
       "      <th>Widowed</th>\n",
       "    </tr>\n",
       "    <tr>\n",
       "      <th>income</th>\n",
       "      <th></th>\n",
       "      <th></th>\n",
       "      <th></th>\n",
       "      <th></th>\n",
       "      <th></th>\n",
       "      <th></th>\n",
       "      <th></th>\n",
       "    </tr>\n",
       "  </thead>\n",
       "  <tbody>\n",
       "    <tr>\n",
       "      <th>&lt;=50K</th>\n",
       "      <td>16.1</td>\n",
       "      <td>0.0</td>\n",
       "      <td>33.2</td>\n",
       "      <td>1.6</td>\n",
       "      <td>41.5</td>\n",
       "      <td>4.0</td>\n",
       "      <td>3.6</td>\n",
       "    </tr>\n",
       "    <tr>\n",
       "      <th>&gt;50K</th>\n",
       "      <td>5.9</td>\n",
       "      <td>0.2</td>\n",
       "      <td>85.5</td>\n",
       "      <td>0.4</td>\n",
       "      <td>6.0</td>\n",
       "      <td>0.7</td>\n",
       "      <td>1.4</td>\n",
       "    </tr>\n",
       "  </tbody>\n",
       "</table>\n",
       "</div>"
      ],
      "text/plain": [
       "marital‐status‐old  Divorced  Married-AF-spouse  Married-civ-spouse  \\\n",
       "income                                                                \n",
       "<=50K                   16.1                0.0                33.2   \n",
       ">50K                     5.9                0.2                85.5   \n",
       "\n",
       "marital‐status‐old  Married-spouse-absent  Never-married  Separated  Widowed  \n",
       "income                                                                        \n",
       "<=50K                                 1.6           41.5        4.0      3.6  \n",
       ">50K                                  0.4            6.0        0.7      1.4  "
      ]
     },
     "execution_count": 73,
     "metadata": {},
     "output_type": "execute_result"
    }
   ],
   "source": [
    "crosstab_income_marital = pd.crosstab(adult_ch3_train['income'], adult_ch3_train['marital‐status‐old'])\n",
    "round(crosstab_income_marital.div(crosstab_income_marital.sum(axis=1), axis=0)*100, 1)"
   ]
  },
  {
   "cell_type": "markdown",
   "metadata": {},
   "source": [
    "50. Referring to the contingency table from the previous sentence, provide two sentences of rationale for why we should combine Married‐AF‐spouse and Married‐civ‐spouse into the new category Married, and combine the other statuses into the new category Other."
   ]
  },
  {
   "cell_type": "code",
   "execution_count": 74,
   "metadata": {},
   "outputs": [
    {
     "data": {
      "text/plain": [
       "'Combine similar categories in order to analyze marital status as a whole'"
      ]
     },
     "execution_count": 74,
     "metadata": {},
     "output_type": "execute_result"
    }
   ],
   "source": [
    "'''Combine similar categories in order to analyze marital status as a whole'''"
   ]
  },
  {
   "cell_type": "markdown",
   "metadata": {},
   "source": [
    "51. Perform the changes mentioned in the previous exercise. Construct a contingency table with income for the rows and marital‐status for the columns, with counts and column percentages. Describe your table using a couple of sentences."
   ]
  },
  {
   "cell_type": "code",
   "execution_count": 75,
   "metadata": {},
   "outputs": [
    {
     "data": {
      "text/plain": [
       "array(['Married', 'Other'], dtype=object)"
      ]
     },
     "execution_count": 75,
     "metadata": {},
     "output_type": "execute_result"
    }
   ],
   "source": [
    "adult_ch3_train['marital‐status‐old'] = np.where(adult_ch3_train['marital‐status‐old']=='Married-AF-spouse', 'Married', \\\n",
    "                                                 np.where(adult_ch3_train['marital‐status‐old']=='Married-civ-spouse', 'Married', 'Other'))\n",
    "adult_ch3_train['marital‐status‐old'].unique()\n"
   ]
  },
  {
   "cell_type": "code",
   "execution_count": 76,
   "metadata": {},
   "outputs": [
    {
     "data": {
      "text/plain": [
       "'Married people takes much more percentage with income more than 50k than other marital status people'"
      ]
     },
     "execution_count": 76,
     "metadata": {},
     "output_type": "execute_result"
    }
   ],
   "source": [
    "crosstab_income_marital = pd.crosstab(adult_ch3_train['income'], adult_ch3_train['marital‐status‐old'])\n",
    "round(crosstab_income_marital.div(crosstab_income_marital.sum(axis=1), axis=0)*100, 1)\n",
    "'''Married people takes much more percentage with income more than 50k than other marital status people'''"
   ]
  },
  {
   "cell_type": "markdown",
   "metadata": {},
   "source": [
    "52. Construct a contingency table with income for the rows and occupation‐old for the columns, asking for counts and column percentages."
   ]
  },
  {
   "cell_type": "code",
   "execution_count": 77,
   "metadata": {},
   "outputs": [
    {
     "data": {
      "text/html": [
       "<div>\n",
       "<style scoped>\n",
       "    .dataframe tbody tr th:only-of-type {\n",
       "        vertical-align: middle;\n",
       "    }\n",
       "\n",
       "    .dataframe tbody tr th {\n",
       "        vertical-align: top;\n",
       "    }\n",
       "\n",
       "    .dataframe thead th {\n",
       "        text-align: right;\n",
       "    }\n",
       "</style>\n",
       "<table border=\"1\" class=\"dataframe\">\n",
       "  <thead>\n",
       "    <tr style=\"text-align: right;\">\n",
       "      <th>occupation‐old</th>\n",
       "      <th>?</th>\n",
       "      <th>Adm-clerical</th>\n",
       "      <th>Armed-Forces</th>\n",
       "      <th>Craft-repair</th>\n",
       "      <th>Exec-managerial</th>\n",
       "      <th>Farming-fishing</th>\n",
       "      <th>Handlers-cleaners</th>\n",
       "      <th>Machine-op-inspct</th>\n",
       "      <th>Other-service</th>\n",
       "      <th>Priv-house-serv</th>\n",
       "      <th>Prof-specialty</th>\n",
       "      <th>Protective-serv</th>\n",
       "      <th>Sales</th>\n",
       "      <th>Tech-support</th>\n",
       "      <th>Transport-moving</th>\n",
       "    </tr>\n",
       "    <tr>\n",
       "      <th>income</th>\n",
       "      <th></th>\n",
       "      <th></th>\n",
       "      <th></th>\n",
       "      <th></th>\n",
       "      <th></th>\n",
       "      <th></th>\n",
       "      <th></th>\n",
       "      <th></th>\n",
       "      <th></th>\n",
       "      <th></th>\n",
       "      <th></th>\n",
       "      <th></th>\n",
       "      <th></th>\n",
       "      <th></th>\n",
       "      <th></th>\n",
       "    </tr>\n",
       "  </thead>\n",
       "  <tbody>\n",
       "    <tr>\n",
       "      <th>&lt;=50K</th>\n",
       "      <td>6.7</td>\n",
       "      <td>13.3</td>\n",
       "      <td>0.0</td>\n",
       "      <td>12.9</td>\n",
       "      <td>8.1</td>\n",
       "      <td>3.8</td>\n",
       "      <td>5.1</td>\n",
       "      <td>7.1</td>\n",
       "      <td>13.0</td>\n",
       "      <td>0.7</td>\n",
       "      <td>9.1</td>\n",
       "      <td>1.9</td>\n",
       "      <td>10.7</td>\n",
       "      <td>2.6</td>\n",
       "      <td>5.1</td>\n",
       "    </tr>\n",
       "    <tr>\n",
       "      <th>&gt;50K</th>\n",
       "      <td>2.3</td>\n",
       "      <td>7.1</td>\n",
       "      <td>0.0</td>\n",
       "      <td>10.7</td>\n",
       "      <td>24.6</td>\n",
       "      <td>1.3</td>\n",
       "      <td>1.2</td>\n",
       "      <td>3.0</td>\n",
       "      <td>1.6</td>\n",
       "      <td>0.0</td>\n",
       "      <td>25.1</td>\n",
       "      <td>2.9</td>\n",
       "      <td>12.9</td>\n",
       "      <td>3.5</td>\n",
       "      <td>3.8</td>\n",
       "    </tr>\n",
       "  </tbody>\n",
       "</table>\n",
       "</div>"
      ],
      "text/plain": [
       "occupation‐old    ?  Adm-clerical  Armed-Forces  Craft-repair  \\\n",
       "income                                                          \n",
       "<=50K           6.7          13.3           0.0          12.9   \n",
       ">50K            2.3           7.1           0.0          10.7   \n",
       "\n",
       "occupation‐old  Exec-managerial  Farming-fishing  Handlers-cleaners  \\\n",
       "income                                                                \n",
       "<=50K                       8.1              3.8                5.1   \n",
       ">50K                       24.6              1.3                1.2   \n",
       "\n",
       "occupation‐old  Machine-op-inspct  Other-service  Priv-house-serv  \\\n",
       "income                                                              \n",
       "<=50K                         7.1           13.0              0.7   \n",
       ">50K                          3.0            1.6              0.0   \n",
       "\n",
       "occupation‐old  Prof-specialty  Protective-serv  Sales  Tech-support  \\\n",
       "income                                                                 \n",
       "<=50K                      9.1              1.9   10.7           2.6   \n",
       ">50K                      25.1              2.9   12.9           3.5   \n",
       "\n",
       "occupation‐old  Transport-moving  \n",
       "income                            \n",
       "<=50K                        5.1  \n",
       ">50K                         3.8  "
      ]
     },
     "execution_count": 77,
     "metadata": {},
     "output_type": "execute_result"
    }
   ],
   "source": [
    "crosstab_income_occ = pd.crosstab(adult_ch3_train['income'], adult_ch3_train['occupation‐old'])\n",
    "round(crosstab_income_occ.div(crosstab_income_occ.sum(axis=1), axis=0)*100, 1)"
   ]
  },
  {
   "cell_type": "markdown",
   "metadata": {},
   "source": [
    "53. Provide one sentence each for why we should do the following combinations:\n",
    "a. Exec‐managerial and Prof‐specialty into the new category Exec/prof."
   ]
  },
  {
   "cell_type": "code",
   "execution_count": 78,
   "metadata": {},
   "outputs": [
    {
     "data": {
      "text/plain": [
       "'In order to plot a clear graph, we should combine the similar categories. Exec‐managerial and Prof‐specialty are similar categories.'"
      ]
     },
     "execution_count": 78,
     "metadata": {},
     "output_type": "execute_result"
    }
   ],
   "source": [
    "'''In order to plot a clear graph, we should combine the similar categories. \\\n",
    "Exec‐managerial and Prof‐specialty are similar categories.'''"
   ]
  },
  {
   "cell_type": "code",
   "execution_count": 79,
   "metadata": {},
   "outputs": [
    {
     "data": {
      "text/plain": [
       "'#a. Exec‐managerial and Prof‐specialty into the new category Exec/prof.\\n# These are within 2% of each other, so combining them would not skew data'"
      ]
     },
     "execution_count": 79,
     "metadata": {},
     "output_type": "execute_result"
    }
   ],
   "source": [
    "# Answer from Prof.\n",
    "'''#a. Exec‐managerial and Prof‐specialty into the new category Exec/prof.\n",
    "# These are within 2% of each other, so combining them would not skew data'''"
   ]
  },
  {
   "cell_type": "markdown",
   "metadata": {},
   "source": [
    "b. The occupations with income percentages >50 k into the new category Mid‐level."
   ]
  },
  {
   "cell_type": "code",
   "execution_count": 80,
   "metadata": {},
   "outputs": [],
   "source": [
    "# Answer from Prof.\n",
    "#b. The occupations with income percentages >50 k into the new category Mid‐level.\n",
    "# occupations in this range are similar in percentages"
   ]
  },
  {
   "cell_type": "code",
   "execution_count": 81,
   "metadata": {},
   "outputs": [
    {
     "data": {
      "text/html": [
       "<div>\n",
       "<style scoped>\n",
       "    .dataframe tbody tr th:only-of-type {\n",
       "        vertical-align: middle;\n",
       "    }\n",
       "\n",
       "    .dataframe tbody tr th {\n",
       "        vertical-align: top;\n",
       "    }\n",
       "\n",
       "    .dataframe thead th {\n",
       "        text-align: right;\n",
       "    }\n",
       "</style>\n",
       "<table border=\"1\" class=\"dataframe\">\n",
       "  <thead>\n",
       "    <tr style=\"text-align: right;\">\n",
       "      <th></th>\n",
       "      <th>age</th>\n",
       "      <th>workclass‐old</th>\n",
       "      <th>education</th>\n",
       "      <th>marital‐status‐old</th>\n",
       "      <th>occupation‐old</th>\n",
       "      <th>sex</th>\n",
       "      <th>capital-gain</th>\n",
       "      <th>capital-loss</th>\n",
       "      <th>income</th>\n",
       "      <th>cap_loss_z</th>\n",
       "      <th>capital‐loss‐flag</th>\n",
       "      <th>capital‐gain‐flag</th>\n",
       "      <th>occupation</th>\n",
       "    </tr>\n",
       "  </thead>\n",
       "  <tbody>\n",
       "    <tr>\n",
       "      <th>0</th>\n",
       "      <td>50</td>\n",
       "      <td>Self-emp-not-inc</td>\n",
       "      <td>13</td>\n",
       "      <td>Married</td>\n",
       "      <td>Exec-managerial</td>\n",
       "      <td>Male</td>\n",
       "      <td>0</td>\n",
       "      <td>0</td>\n",
       "      <td>&lt;=50K</td>\n",
       "      <td>-0.218014</td>\n",
       "      <td>0</td>\n",
       "      <td>0</td>\n",
       "      <td>Mid-level</td>\n",
       "    </tr>\n",
       "    <tr>\n",
       "      <th>1</th>\n",
       "      <td>38</td>\n",
       "      <td>Private</td>\n",
       "      <td>9</td>\n",
       "      <td>Other</td>\n",
       "      <td>Handlers-cleaners</td>\n",
       "      <td>Male</td>\n",
       "      <td>0</td>\n",
       "      <td>0</td>\n",
       "      <td>&lt;=50K</td>\n",
       "      <td>-0.218014</td>\n",
       "      <td>0</td>\n",
       "      <td>0</td>\n",
       "      <td>Mid-level</td>\n",
       "    </tr>\n",
       "    <tr>\n",
       "      <th>2</th>\n",
       "      <td>49</td>\n",
       "      <td>Private</td>\n",
       "      <td>5</td>\n",
       "      <td>Other</td>\n",
       "      <td>Other-service</td>\n",
       "      <td>Female</td>\n",
       "      <td>0</td>\n",
       "      <td>0</td>\n",
       "      <td>&lt;=50K</td>\n",
       "      <td>-0.218014</td>\n",
       "      <td>0</td>\n",
       "      <td>0</td>\n",
       "      <td>Mid-level</td>\n",
       "    </tr>\n",
       "    <tr>\n",
       "      <th>3</th>\n",
       "      <td>52</td>\n",
       "      <td>Self-emp-not-inc</td>\n",
       "      <td>9</td>\n",
       "      <td>Married</td>\n",
       "      <td>Exec-managerial</td>\n",
       "      <td>Male</td>\n",
       "      <td>0</td>\n",
       "      <td>0</td>\n",
       "      <td>&gt;50K</td>\n",
       "      <td>-0.218014</td>\n",
       "      <td>0</td>\n",
       "      <td>0</td>\n",
       "      <td>Mid-level</td>\n",
       "    </tr>\n",
       "    <tr>\n",
       "      <th>4</th>\n",
       "      <td>31</td>\n",
       "      <td>Private</td>\n",
       "      <td>14</td>\n",
       "      <td>Other</td>\n",
       "      <td>Prof-specialty</td>\n",
       "      <td>Female</td>\n",
       "      <td>14084</td>\n",
       "      <td>0</td>\n",
       "      <td>&gt;50K</td>\n",
       "      <td>-0.218014</td>\n",
       "      <td>0</td>\n",
       "      <td>1</td>\n",
       "      <td>Mid-level</td>\n",
       "    </tr>\n",
       "    <tr>\n",
       "      <th>...</th>\n",
       "      <td>...</td>\n",
       "      <td>...</td>\n",
       "      <td>...</td>\n",
       "      <td>...</td>\n",
       "      <td>...</td>\n",
       "      <td>...</td>\n",
       "      <td>...</td>\n",
       "      <td>...</td>\n",
       "      <td>...</td>\n",
       "      <td>...</td>\n",
       "      <td>...</td>\n",
       "      <td>...</td>\n",
       "      <td>...</td>\n",
       "    </tr>\n",
       "    <tr>\n",
       "      <th>14792</th>\n",
       "      <td>43</td>\n",
       "      <td>Self-emp-not-inc</td>\n",
       "      <td>10</td>\n",
       "      <td>Married</td>\n",
       "      <td>Craft-repair</td>\n",
       "      <td>Male</td>\n",
       "      <td>0</td>\n",
       "      <td>0</td>\n",
       "      <td>&lt;=50K</td>\n",
       "      <td>-0.218014</td>\n",
       "      <td>0</td>\n",
       "      <td>0</td>\n",
       "      <td>Mid-level</td>\n",
       "    </tr>\n",
       "    <tr>\n",
       "      <th>14793</th>\n",
       "      <td>32</td>\n",
       "      <td>Private</td>\n",
       "      <td>6</td>\n",
       "      <td>Married</td>\n",
       "      <td>Handlers-cleaners</td>\n",
       "      <td>Male</td>\n",
       "      <td>0</td>\n",
       "      <td>0</td>\n",
       "      <td>&lt;=50K</td>\n",
       "      <td>-0.218014</td>\n",
       "      <td>0</td>\n",
       "      <td>0</td>\n",
       "      <td>Mid-level</td>\n",
       "    </tr>\n",
       "    <tr>\n",
       "      <th>14794</th>\n",
       "      <td>32</td>\n",
       "      <td>Private</td>\n",
       "      <td>14</td>\n",
       "      <td>Other</td>\n",
       "      <td>Tech-support</td>\n",
       "      <td>Male</td>\n",
       "      <td>0</td>\n",
       "      <td>0</td>\n",
       "      <td>&lt;=50K</td>\n",
       "      <td>-0.218014</td>\n",
       "      <td>0</td>\n",
       "      <td>0</td>\n",
       "      <td>Mid-level</td>\n",
       "    </tr>\n",
       "    <tr>\n",
       "      <th>14795</th>\n",
       "      <td>58</td>\n",
       "      <td>Private</td>\n",
       "      <td>9</td>\n",
       "      <td>Other</td>\n",
       "      <td>Adm-clerical</td>\n",
       "      <td>Female</td>\n",
       "      <td>0</td>\n",
       "      <td>0</td>\n",
       "      <td>&lt;=50K</td>\n",
       "      <td>-0.218014</td>\n",
       "      <td>0</td>\n",
       "      <td>0</td>\n",
       "      <td>Mid-level</td>\n",
       "    </tr>\n",
       "    <tr>\n",
       "      <th>14796</th>\n",
       "      <td>22</td>\n",
       "      <td>Private</td>\n",
       "      <td>9</td>\n",
       "      <td>Other</td>\n",
       "      <td>Adm-clerical</td>\n",
       "      <td>Male</td>\n",
       "      <td>0</td>\n",
       "      <td>0</td>\n",
       "      <td>&lt;=50K</td>\n",
       "      <td>-0.218014</td>\n",
       "      <td>0</td>\n",
       "      <td>0</td>\n",
       "      <td>Mid-level</td>\n",
       "    </tr>\n",
       "  </tbody>\n",
       "</table>\n",
       "<p>14797 rows × 13 columns</p>\n",
       "</div>"
      ],
      "text/plain": [
       "       age     workclass‐old  education marital‐status‐old     occupation‐old  \\\n",
       "0       50  Self-emp-not-inc         13            Married    Exec-managerial   \n",
       "1       38           Private          9              Other  Handlers-cleaners   \n",
       "2       49           Private          5              Other      Other-service   \n",
       "3       52  Self-emp-not-inc          9            Married    Exec-managerial   \n",
       "4       31           Private         14              Other     Prof-specialty   \n",
       "...    ...               ...        ...                ...                ...   \n",
       "14792   43  Self-emp-not-inc         10            Married       Craft-repair   \n",
       "14793   32           Private          6            Married  Handlers-cleaners   \n",
       "14794   32           Private         14              Other       Tech-support   \n",
       "14795   58           Private          9              Other       Adm-clerical   \n",
       "14796   22           Private          9              Other       Adm-clerical   \n",
       "\n",
       "          sex  capital-gain  capital-loss income  cap_loss_z  \\\n",
       "0        Male             0             0  <=50K   -0.218014   \n",
       "1        Male             0             0  <=50K   -0.218014   \n",
       "2      Female             0             0  <=50K   -0.218014   \n",
       "3        Male             0             0   >50K   -0.218014   \n",
       "4      Female         14084             0   >50K   -0.218014   \n",
       "...       ...           ...           ...    ...         ...   \n",
       "14792    Male             0             0  <=50K   -0.218014   \n",
       "14793    Male             0             0  <=50K   -0.218014   \n",
       "14794    Male             0             0  <=50K   -0.218014   \n",
       "14795  Female             0             0  <=50K   -0.218014   \n",
       "14796    Male             0             0  <=50K   -0.218014   \n",
       "\n",
       "       capital‐loss‐flag  capital‐gain‐flag occupation  \n",
       "0                      0                  0  Mid-level  \n",
       "1                      0                  0  Mid-level  \n",
       "2                      0                  0  Mid-level  \n",
       "3                      0                  0  Mid-level  \n",
       "4                      0                  1  Mid-level  \n",
       "...                  ...                ...        ...  \n",
       "14792                  0                  0  Mid-level  \n",
       "14793                  0                  0  Mid-level  \n",
       "14794                  0                  0  Mid-level  \n",
       "14795                  0                  0  Mid-level  \n",
       "14796                  0                  0  Mid-level  \n",
       "\n",
       "[14797 rows x 13 columns]"
      ]
     },
     "execution_count": 81,
     "metadata": {},
     "output_type": "execute_result"
    }
   ],
   "source": [
    "adult_ch3_train['occupation']=np.where(adult_ch3_train['occupation‐old']=='Priv-house-serv',\\\n",
    "                                      'Low-Level', np.where(adult_ch3_train['occupation‐old']\\\n",
    "                                                            =='Armed-Forces','Low-Level',\\\n",
    "                                                            'Mid-level'))\n",
    "adult_ch3_train"
   ]
  },
  {
   "cell_type": "markdown",
   "metadata": {},
   "source": [
    "c. The remaining occupations into the new category Low‐Level."
   ]
  },
  {
   "cell_type": "code",
   "execution_count": 82,
   "metadata": {},
   "outputs": [],
   "source": [
    "# Answer from prof.\n",
    "#c. The remaining occupations into the new category Low‐Level.\n",
    "# occupations in this range are similar in percentages and are all below 20% making > 50k"
   ]
  },
  {
   "cell_type": "code",
   "execution_count": 83,
   "metadata": {},
   "outputs": [
    {
     "data": {
      "text/plain": [
       "'same as 53b.'"
      ]
     },
     "execution_count": 83,
     "metadata": {},
     "output_type": "execute_result"
    }
   ],
   "source": [
    "'''same as 53b.'''"
   ]
  },
  {
   "cell_type": "markdown",
   "metadata": {},
   "source": [
    "d. Fold the unknown category into the Low‐Level category."
   ]
  },
  {
   "cell_type": "code",
   "execution_count": 84,
   "metadata": {},
   "outputs": [
    {
     "data": {
      "text/plain": [
       "'same as 53b.'"
      ]
     },
     "execution_count": 84,
     "metadata": {},
     "output_type": "execute_result"
    }
   ],
   "source": [
    "'''same as 53b.'''"
   ]
  },
  {
   "cell_type": "markdown",
   "metadata": {},
   "source": [
    "54. Perform the changes referred to in the previous exercise. Call the new variable occupa- tion. Construct a contingency table with income for the rows and occupation for the columns, with counts and column percentages. Describe your table using a couple of sentences."
   ]
  },
  {
   "cell_type": "code",
   "execution_count": 85,
   "metadata": {},
   "outputs": [
    {
     "data": {
      "text/plain": [
       "'Income equals to or more than 50K are Mid-Level, otherwise Low-Level'"
      ]
     },
     "execution_count": 85,
     "metadata": {},
     "output_type": "execute_result"
    }
   ],
   "source": [
    "crosstab_income_occu = pd.crosstab(adult_ch3_train['income'], adult_ch3_train['occupation'])\n",
    "round(crosstab_income_occu.div(crosstab_income_occu.sum(axis=1), axis=0)*100, 1)\n",
    "'''Income equals to or more than 50K are Mid-Level, otherwise Low-Level'''"
   ]
  },
  {
   "cell_type": "markdown",
   "metadata": {},
   "source": [
    "55. Do the following for the education variable.\n",
    "a. Provide a non‐normalized and normalized histogram of education, with an income\n",
    "overlay."
   ]
  },
  {
   "cell_type": "code",
   "execution_count": 86,
   "metadata": {},
   "outputs": [
    {
     "data": {
      "image/png": "[encoded data removed]",
      "text/plain": [
       "<Figure size 432x288 with 1 Axes>"
      ]
     },
     "metadata": {
      "needs_background": "light"
     },
     "output_type": "display_data"
    }
   ],
   "source": [
    "# non-normalized histogram\n",
    "bt_edu_50more = adult_ch3_train[adult_ch3_train['income']=='>50K']['education']\n",
    "bt_edu_50less = adult_ch3_train[adult_ch3_train['income']=='<=50K']['education']\n",
    "\n",
    "plt.hist([bt_edu_50more, bt_edu_50less], bins=10, stacked=True)\n",
    "plt.legend(['Income = > 50K', 'Income = <=50K'])\n",
    "plt.title('Histogram of Education with Income Overlay')\n",
    "plt.xlabel('Education'); plt.ylabel('Frequency'); plt.show()"
   ]
  },
  {
   "cell_type": "code",
   "execution_count": 87,
   "metadata": {},
   "outputs": [
    {
     "data": {
      "image/png": "[encoded data removed]",
      "text/plain": [
       "<Figure size 432x288 with 1 Axes>"
      ]
     },
     "metadata": {
      "needs_background": "light"
     },
     "output_type": "display_data"
    }
   ],
   "source": [
    "# normalized histogram\n",
    "(n, bins, patchs) = plt.hist([bt_edu_50more, bt_edu_50less], bins=10, stacked=True)"
   ]
  },
  {
   "cell_type": "code",
   "execution_count": 88,
   "metadata": {},
   "outputs": [
    {
     "data": {
      "image/png": "[encoded data removed]",
      "text/plain": [
       "<Figure size 432x288 with 1 Axes>"
      ]
     },
     "metadata": {
      "needs_background": "light"
     },
     "output_type": "display_data"
    }
   ],
   "source": [
    "n_table = np.column_stack((n[0], n[1]))\n",
    "n_norm = n_table / n_table.sum(axis=1)[:, None]\n",
    "ourbins = np.column_stack((bins[0:10], bins[1:11]))\n",
    "\n",
    "p1 = plt.bar(x=ourbins[:, 0], height=n_norm[:, 0], width=ourbins[:, 1]-ourbins[:, 0])\n",
    "p2 = plt.bar(x=ourbins[:, 0], height=n_norm[:, 1], width=ourbins[:, 1]-ourbins[:, 0],\\\n",
    "             bottom=n_norm[:, 0])\n",
    "plt.legend(['Income = > 50K', 'Income = <=50K'])\n",
    "plt.title('Normazlied Histogram of Education with Income Overlay')\n",
    "plt.xlabel('Education'); plt.ylabel('Propotion'); plt.show()\n"
   ]
  },
  {
   "cell_type": "markdown",
   "metadata": {},
   "source": [
    "b. Provide a one‐sentence description of the relationship and another sentence on your\n",
    "expectation regarding the usefulness of education in predicting income."
   ]
  },
  {
   "cell_type": "code",
   "execution_count": 89,
   "metadata": {},
   "outputs": [
    {
     "data": {
      "text/plain": [
       "'People who have higher education tend to higher income.From the histogram we just plotted, we can see there is a positive correlation betweeneducation and income.'"
      ]
     },
     "execution_count": 89,
     "metadata": {},
     "output_type": "execute_result"
    }
   ],
   "source": [
    "'''People who have higher education tend to higher income.\\\n",
    "From the histogram we just plotted, we can see there is a positive correlation between\\\n",
    "education and income.'''"
   ]
  },
  {
   "cell_type": "markdown",
   "metadata": {},
   "source": [
    "56. Do the following for the age variable.\n",
    "a. Provide a non‐normalized and normalized histogram of age, with an income overlay."
   ]
  },
  {
   "cell_type": "code",
   "execution_count": 90,
   "metadata": {},
   "outputs": [
    {
     "data": {
      "image/png": "[encoded data removed]",
      "text/plain": [
       "<Figure size 432x288 with 1 Axes>"
      ]
     },
     "metadata": {
      "needs_background": "light"
     },
     "output_type": "display_data"
    }
   ],
   "source": [
    "# non‐normalized histogram\n",
    "bk_age_50more = adult_ch3_train[adult_ch3_train['income']=='>50K']['age']\n",
    "bk_age_50less = adult_ch3_train[adult_ch3_train['income']=='<=50K']['age']\n",
    "\n",
    "plt.hist([bk_age_50more, bk_age_50less], bins=10, stacked=True)\n",
    "plt.legend(['Income = >50K', 'Income = <=50K'])\n",
    "plt.title('Histogram of Age with Income Overlay')\n",
    "plt.xlabel('Age'); plt.ylabel('Frequency'); plt.show()"
   ]
  },
  {
   "cell_type": "code",
   "execution_count": 91,
   "metadata": {},
   "outputs": [
    {
     "data": {
      "image/png": "[encoded data removed]",
      "text/plain": [
       "<Figure size 432x288 with 1 Axes>"
      ]
     },
     "metadata": {
      "needs_background": "light"
     },
     "output_type": "display_data"
    }
   ],
   "source": [
    "# normalized histogram\n",
    "(n_age, bins_age, patchs_age) = plt.hist([bk_age_50more, bk_age_50less], bins=10, stacked=True)"
   ]
  },
  {
   "cell_type": "code",
   "execution_count": 92,
   "metadata": {},
   "outputs": [
    {
     "data": {
      "image/png": "[encoded data removed]",
      "text/plain": [
       "<Figure size 432x288 with 1 Axes>"
      ]
     },
     "metadata": {
      "needs_background": "light"
     },
     "output_type": "display_data"
    }
   ],
   "source": [
    "n_table_age = np.column_stack((n_age[0], n_age[1]))\n",
    "n_norm_age = n_table_age / n_table_age.sum(axis=1)[:, None]\n",
    "ourbins_age = np.column_stack((bins_age[0:10], bins_age[1:11]))\n",
    "n_table_age, n_norm_age, ourbins_age\n",
    "p1 = plt.bar(x=ourbins_age[:, 0], height=n_norm_age[:, 0], width=ourbins_age[:, 1]-ourbins_age[:, 0])\n",
    "p2 = plt.bar(x=ourbins_age[:, 0], height=n_norm_age[:, 1], width=ourbins_age[:, 1]-ourbins_age[:, 0], \\\n",
    "            bottom=n_norm_age[:, 0])\n",
    "plt.legend(['Income = >50K', 'Income = <=50K'])\n",
    "plt.title('Normalized Histogram of Age with Income Overlay')\n",
    "plt.xlabel('Age'); plt.ylabel('Proportion'); plt.show()\n"
   ]
  },
  {
   "cell_type": "markdown",
   "metadata": {},
   "source": [
    "b. Provide a one‐sentence description of the relationship."
   ]
  },
  {
   "cell_type": "code",
   "execution_count": 93,
   "metadata": {},
   "outputs": [
    {
     "data": {
      "text/plain": [
       "'People at age of 45 display a largest propotion of income more than 50K'"
      ]
     },
     "execution_count": 93,
     "metadata": {},
     "output_type": "execute_result"
    }
   ],
   "source": [
    "'''People at age of 45 display a largest propotion of income more than 50K'''"
   ]
  },
  {
   "cell_type": "markdown",
   "metadata": {},
   "source": [
    "c. Provide another sentence rationale for the following binning: age<30, age 30–60, age > 60."
   ]
  },
  {
   "cell_type": "code",
   "execution_count": 94,
   "metadata": {},
   "outputs": [
    {
     "data": {
      "text/plain": [
       "'For people with age<30, thre are much more income less than 50K; for people with age 30-60,income more than 50K have higher propotion; for people with age>60, the income more than 50K displays a declining trend'"
      ]
     },
     "execution_count": 94,
     "metadata": {},
     "output_type": "execute_result"
    }
   ],
   "source": [
    "'''For people with age<30, thre are much more income less than 50K; for people with age 30-60,\\\n",
    "income more than 50K have higher propotion; for people with age>60, the income more than 50K \\\n",
    "displays a declining trend'''"
   ]
  },
  {
   "cell_type": "markdown",
   "metadata": {},
   "source": [
    "57. Execute the binning mentioned in the previous exercise, by deriving a new variable, age_binned.\n",
    "a. Provide a normalized bar graph of age_binned with an income overlay."
   ]
  },
  {
   "cell_type": "code",
   "execution_count": 95,
   "metadata": {},
   "outputs": [
    {
     "data": {
      "text/plain": [
       "0        30 to 60\n",
       "1        30 to 60\n",
       "2        30 to 60\n",
       "3        30 to 60\n",
       "4        30 to 60\n",
       "           ...   \n",
       "14792    30 to 60\n",
       "14793    30 to 60\n",
       "14794    30 to 60\n",
       "14795    30 to 60\n",
       "14796    Under 30\n",
       "Name: age_binned, Length: 14797, dtype: category\n",
       "Categories (3, object): [Under 30 < 30 to 60 < 60 and Over]"
      ]
     },
     "execution_count": 95,
     "metadata": {},
     "output_type": "execute_result"
    }
   ],
   "source": [
    "adult_ch3_train['age_binned'] = pd.cut(x=adult_ch3_train['age'], bins=[0, 30, 60, 100], \\\n",
    "                                      labels=['Under 30', '30 to 60', '60 and Over'], \\\n",
    "                                       right=False)\n",
    "adult_ch3_train['age_binned'] "
   ]
  },
  {
   "cell_type": "code",
   "execution_count": 96,
   "metadata": {},
   "outputs": [
    {
     "data": {
      "text/plain": [
       "<matplotlib.axes._subplots.AxesSubplot at 0x7f94543d5450>"
      ]
     },
     "execution_count": 96,
     "metadata": {},
     "output_type": "execute_result"
    },
    {
     "data": {
      "image/png": "[encoded data removed]",
      "text/plain": [
       "<Figure size 432x288 with 1 Axes>"
      ]
     },
     "metadata": {
      "needs_background": "light"
     },
     "output_type": "display_data"
    }
   ],
   "source": [
    "corsstab_agebin_income = pd.crosstab(adult_ch3_train['age_binned'], adult_ch3_train['income'])\n",
    "\n",
    "corsstab_agebin_income.plot(kind='bar', stacked=True, title='Bar Graph of Age Binned with Income Overlay')"
   ]
  },
  {
   "cell_type": "markdown",
   "metadata": {},
   "source": [
    "b. Interpret the bar graph using a sentence."
   ]
  },
  {
   "cell_type": "code",
   "execution_count": 97,
   "metadata": {},
   "outputs": [
    {
     "data": {
      "text/plain": [
       "'People with age 30<=age<60 have the highest income, people with age under 30 have the lowest income.'"
      ]
     },
     "execution_count": 97,
     "metadata": {},
     "output_type": "execute_result"
    }
   ],
   "source": [
    "'''People with age 30<=age<60 have the highest income, people with age under 30 have the lowest income.'''"
   ]
  },
  {
   "cell_type": "markdown",
   "metadata": {},
   "source": [
    "58. Provide the following analysis of the sex predictor.\n",
    "a. A non‐normalized bar graph of sex, with an overlay of income."
   ]
  },
  {
   "cell_type": "code",
   "execution_count": 98,
   "metadata": {},
   "outputs": [
    {
     "data": {
      "text/plain": [
       "<matplotlib.axes._subplots.AxesSubplot at 0x7f9455627c10>"
      ]
     },
     "execution_count": 98,
     "metadata": {},
     "output_type": "execute_result"
    },
    {
     "data": {
      "image/png": "[encoded data removed]",
      "text/plain": [
       "<Figure size 432x288 with 1 Axes>"
      ]
     },
     "metadata": {
      "needs_background": "light"
     },
     "output_type": "display_data"
    }
   ],
   "source": [
    "crosstab_sex_income = pd.crosstab(adult_ch3_train['sex'], adult_ch3_train['income'])\n",
    "\n",
    "crosstab_sex_income.plot(kind='bar', stacked=True, title='Bar Graph of Sex with Income Overlay')"
   ]
  },
  {
   "cell_type": "markdown",
   "metadata": {},
   "source": [
    "b. A normalized bar graph of sex, with an overlay of income."
   ]
  },
  {
   "cell_type": "code",
   "execution_count": 99,
   "metadata": {},
   "outputs": [
    {
     "data": {
      "text/plain": [
       "<matplotlib.axes._subplots.AxesSubplot at 0x7f9453508250>"
      ]
     },
     "execution_count": 99,
     "metadata": {},
     "output_type": "execute_result"
    },
    {
     "data": {
      "image/png": "[encoded data removed]",
      "text/plain": [
       "<Figure size 432x288 with 1 Axes>"
      ]
     },
     "metadata": {
      "needs_background": "light"
     },
     "output_type": "display_data"
    }
   ],
   "source": [
    "crosstab_sex_income_norm = crosstab_sex_income.div(crosstab_sex_income.sum(axis=1), axis=0)\n",
    "\n",
    "crosstab_sex_income_norm.plot(kind='bar', stacked=True, title='Normalized Bar Graph of Sex with Income Overlay')"
   ]
  },
  {
   "cell_type": "markdown",
   "metadata": {},
   "source": [
    "c. Interpret the normalized bar graph using a sentence."
   ]
  },
  {
   "cell_type": "code",
   "execution_count": 100,
   "metadata": {},
   "outputs": [
    {
     "data": {
      "text/plain": [
       "'Male earn more than 50k takes much more proportion than female'"
      ]
     },
     "execution_count": 100,
     "metadata": {},
     "output_type": "execute_result"
    }
   ],
   "source": [
    "'''Male earn more than 50k takes much more proportion than female'''"
   ]
  },
  {
   "cell_type": "markdown",
   "metadata": {},
   "source": [
    "59. Construct the following:\n",
    "a. A non‐normalized bar graph of occupation with a sex overlay."
   ]
  },
  {
   "cell_type": "code",
   "execution_count": 101,
   "metadata": {},
   "outputs": [
    {
     "data": {
      "text/plain": [
       "<matplotlib.axes._subplots.AxesSubplot at 0x7f94557d49d0>"
      ]
     },
     "execution_count": 101,
     "metadata": {},
     "output_type": "execute_result"
    },
    {
     "data": {
      "image/png": "[encoded data removed]",
      "text/plain": [
       "<Figure size 432x288 with 1 Axes>"
      ]
     },
     "metadata": {
      "needs_background": "light"
     },
     "output_type": "display_data"
    }
   ],
   "source": [
    "crosstab_occu_sex = pd.crosstab(adult_ch3_train['occupation'], adult_ch3_train['sex'])\n",
    "crosstab_occu_sex\n",
    "crosstab_occu_sex.plot(kind='bar', stacked=True, title='Bar Graph of Occupation with Sex Overlay')"
   ]
  },
  {
   "cell_type": "markdown",
   "metadata": {},
   "source": [
    "b. A normalized bar graph of occupation with a sex overlay. Describe the relationship."
   ]
  },
  {
   "cell_type": "code",
   "execution_count": 102,
   "metadata": {},
   "outputs": [
    {
     "data": {
      "text/plain": [
       "<matplotlib.axes._subplots.AxesSubplot at 0x7f94558dcb50>"
      ]
     },
     "execution_count": 102,
     "metadata": {},
     "output_type": "execute_result"
    },
    {
     "data": {
      "image/png": "[encoded data removed]",
      "text/plain": [
       "<Figure size 432x288 with 1 Axes>"
      ]
     },
     "metadata": {
      "needs_background": "light"
     },
     "output_type": "display_data"
    }
   ],
   "source": [
    "crosstab_occu_sex_norm = crosstab_occu_sex.div(crosstab_occu_sex.sum(axis=1), axis=0)\n",
    "\n",
    "crosstab_occu_sex_norm.plot(kind='bar', stacked=True, title='Normalized Bar Graph of Occupation with Sex Overlay')"
   ]
  },
  {
   "cell_type": "markdown",
   "metadata": {},
   "source": [
    "60. Construct a contingency table with sex for the rows and occupation for the columns, with counts and column percentages. Compare the contingency table with the normalized bar graph."
   ]
  },
  {
   "cell_type": "code",
   "execution_count": 103,
   "metadata": {},
   "outputs": [
    {
     "data": {
      "text/html": [
       "<div>\n",
       "<style scoped>\n",
       "    .dataframe tbody tr th:only-of-type {\n",
       "        vertical-align: middle;\n",
       "    }\n",
       "\n",
       "    .dataframe tbody tr th {\n",
       "        vertical-align: top;\n",
       "    }\n",
       "\n",
       "    .dataframe thead th {\n",
       "        text-align: right;\n",
       "    }\n",
       "</style>\n",
       "<table border=\"1\" class=\"dataframe\">\n",
       "  <thead>\n",
       "    <tr style=\"text-align: right;\">\n",
       "      <th>occupation</th>\n",
       "      <th>Low-Level</th>\n",
       "      <th>Mid-level</th>\n",
       "    </tr>\n",
       "    <tr>\n",
       "      <th>sex</th>\n",
       "      <th></th>\n",
       "      <th></th>\n",
       "    </tr>\n",
       "  </thead>\n",
       "  <tbody>\n",
       "    <tr>\n",
       "      <th>Female</th>\n",
       "      <td>1.5</td>\n",
       "      <td>98.5</td>\n",
       "    </tr>\n",
       "    <tr>\n",
       "      <th>Male</th>\n",
       "      <td>0.1</td>\n",
       "      <td>99.9</td>\n",
       "    </tr>\n",
       "  </tbody>\n",
       "</table>\n",
       "</div>"
      ],
      "text/plain": [
       "occupation  Low-Level  Mid-level\n",
       "sex                             \n",
       "Female            1.5       98.5\n",
       "Male              0.1       99.9"
      ]
     },
     "execution_count": 103,
     "metadata": {},
     "output_type": "execute_result"
    }
   ],
   "source": [
    "crosstab_sex_occu = pd.crosstab(adult_ch3_train['sex'], adult_ch3_train['occupation'])\n",
    "\n",
    "crosstab_sex_occu_norm = round(crosstab_sex_occu.div(crosstab_sex_occu.sum(axis=1), axis=0)*100, 1)\n",
    "crosstab_sex_occu_norm"
   ]
  },
  {
   "cell_type": "code",
   "execution_count": 104,
   "metadata": {},
   "outputs": [
    {
     "data": {
      "text/plain": [
       "<matplotlib.axes._subplots.AxesSubplot at 0x7f94559d2e90>"
      ]
     },
     "execution_count": 104,
     "metadata": {},
     "output_type": "execute_result"
    },
    {
     "data": {
      "image/png": "[encoded data removed]",
      "text/plain": [
       "<Figure size 432x288 with 1 Axes>"
      ]
     },
     "metadata": {
      "needs_background": "light"
     },
     "output_type": "display_data"
    }
   ],
   "source": [
    "crosstab_sex_occu_norm.plot(kind='bar', stacked=True, title='Normalized Bar Graph of Sex with Occupation Overlay')"
   ]
  },
  {
   "cell_type": "markdown",
   "metadata": {},
   "source": [
    "## CHAPTER 5 PREPARING TO MODEL THE DATA"
   ]
  },
  {
   "cell_type": "code",
   "execution_count": 105,
   "metadata": {},
   "outputs": [
    {
     "data": {
      "text/html": [
       "<div>\n",
       "<style scoped>\n",
       "    .dataframe tbody tr th:only-of-type {\n",
       "        vertical-align: middle;\n",
       "    }\n",
       "\n",
       "    .dataframe tbody tr th {\n",
       "        vertical-align: top;\n",
       "    }\n",
       "\n",
       "    .dataframe thead th {\n",
       "        text-align: right;\n",
       "    }\n",
       "</style>\n",
       "<table border=\"1\" class=\"dataframe\">\n",
       "  <thead>\n",
       "    <tr style=\"text-align: right;\">\n",
       "      <th></th>\n",
       "      <th>age</th>\n",
       "      <th>workclass</th>\n",
       "      <th>demogweight</th>\n",
       "      <th>education</th>\n",
       "      <th>education-num</th>\n",
       "      <th>marital-status</th>\n",
       "      <th>occupation</th>\n",
       "      <th>relationship</th>\n",
       "      <th>race</th>\n",
       "      <th>sex</th>\n",
       "      <th>capital-gain</th>\n",
       "      <th>capital-loss</th>\n",
       "      <th>hours-per-week</th>\n",
       "      <th>native-country</th>\n",
       "      <th>income</th>\n",
       "    </tr>\n",
       "  </thead>\n",
       "  <tbody>\n",
       "    <tr>\n",
       "      <th>0</th>\n",
       "      <td>39</td>\n",
       "      <td>State-gov</td>\n",
       "      <td>77516</td>\n",
       "      <td>Bachelors</td>\n",
       "      <td>13</td>\n",
       "      <td>Never-married</td>\n",
       "      <td>Adm-clerical</td>\n",
       "      <td>Not-in-family</td>\n",
       "      <td>White</td>\n",
       "      <td>Male</td>\n",
       "      <td>2174</td>\n",
       "      <td>0</td>\n",
       "      <td>40</td>\n",
       "      <td>United-States</td>\n",
       "      <td>&lt;=50K.</td>\n",
       "    </tr>\n",
       "    <tr>\n",
       "      <th>1</th>\n",
       "      <td>50</td>\n",
       "      <td>Self-emp-not-inc</td>\n",
       "      <td>83311</td>\n",
       "      <td>Bachelors</td>\n",
       "      <td>13</td>\n",
       "      <td>Married-civ-spouse</td>\n",
       "      <td>Exec-managerial</td>\n",
       "      <td>Husband</td>\n",
       "      <td>White</td>\n",
       "      <td>Male</td>\n",
       "      <td>0</td>\n",
       "      <td>0</td>\n",
       "      <td>13</td>\n",
       "      <td>United-States</td>\n",
       "      <td>&lt;=50K.</td>\n",
       "    </tr>\n",
       "    <tr>\n",
       "      <th>2</th>\n",
       "      <td>38</td>\n",
       "      <td>Private</td>\n",
       "      <td>215646</td>\n",
       "      <td>HS-grad</td>\n",
       "      <td>9</td>\n",
       "      <td>Divorced</td>\n",
       "      <td>Handlers-cleaners</td>\n",
       "      <td>Not-in-family</td>\n",
       "      <td>White</td>\n",
       "      <td>Male</td>\n",
       "      <td>0</td>\n",
       "      <td>0</td>\n",
       "      <td>40</td>\n",
       "      <td>United-States</td>\n",
       "      <td>&lt;=50K.</td>\n",
       "    </tr>\n",
       "    <tr>\n",
       "      <th>3</th>\n",
       "      <td>53</td>\n",
       "      <td>Private</td>\n",
       "      <td>234721</td>\n",
       "      <td>11th</td>\n",
       "      <td>7</td>\n",
       "      <td>Married-civ-spouse</td>\n",
       "      <td>Handlers-cleaners</td>\n",
       "      <td>Husband</td>\n",
       "      <td>Black</td>\n",
       "      <td>Male</td>\n",
       "      <td>0</td>\n",
       "      <td>0</td>\n",
       "      <td>40</td>\n",
       "      <td>United-States</td>\n",
       "      <td>&lt;=50K.</td>\n",
       "    </tr>\n",
       "    <tr>\n",
       "      <th>4</th>\n",
       "      <td>28</td>\n",
       "      <td>Private</td>\n",
       "      <td>338409</td>\n",
       "      <td>Bachelors</td>\n",
       "      <td>13</td>\n",
       "      <td>Married-civ-spouse</td>\n",
       "      <td>Prof-specialty</td>\n",
       "      <td>Wife</td>\n",
       "      <td>Black</td>\n",
       "      <td>Female</td>\n",
       "      <td>0</td>\n",
       "      <td>0</td>\n",
       "      <td>40</td>\n",
       "      <td>Cuba</td>\n",
       "      <td>&lt;=50K.</td>\n",
       "    </tr>\n",
       "    <tr>\n",
       "      <th>...</th>\n",
       "      <td>...</td>\n",
       "      <td>...</td>\n",
       "      <td>...</td>\n",
       "      <td>...</td>\n",
       "      <td>...</td>\n",
       "      <td>...</td>\n",
       "      <td>...</td>\n",
       "      <td>...</td>\n",
       "      <td>...</td>\n",
       "      <td>...</td>\n",
       "      <td>...</td>\n",
       "      <td>...</td>\n",
       "      <td>...</td>\n",
       "      <td>...</td>\n",
       "      <td>...</td>\n",
       "    </tr>\n",
       "    <tr>\n",
       "      <th>24995</th>\n",
       "      <td>41</td>\n",
       "      <td>Private</td>\n",
       "      <td>112507</td>\n",
       "      <td>10th</td>\n",
       "      <td>6</td>\n",
       "      <td>Married-civ-spouse</td>\n",
       "      <td>Transport-moving</td>\n",
       "      <td>Husband</td>\n",
       "      <td>White</td>\n",
       "      <td>Male</td>\n",
       "      <td>0</td>\n",
       "      <td>0</td>\n",
       "      <td>60</td>\n",
       "      <td>United-States</td>\n",
       "      <td>&lt;=50K.</td>\n",
       "    </tr>\n",
       "    <tr>\n",
       "      <th>24996</th>\n",
       "      <td>19</td>\n",
       "      <td>Private</td>\n",
       "      <td>236940</td>\n",
       "      <td>HS-grad</td>\n",
       "      <td>9</td>\n",
       "      <td>Never-married</td>\n",
       "      <td>Farming-fishing</td>\n",
       "      <td>Own-child</td>\n",
       "      <td>White</td>\n",
       "      <td>Male</td>\n",
       "      <td>0</td>\n",
       "      <td>0</td>\n",
       "      <td>40</td>\n",
       "      <td>United-States</td>\n",
       "      <td>&lt;=50K.</td>\n",
       "    </tr>\n",
       "    <tr>\n",
       "      <th>24997</th>\n",
       "      <td>33</td>\n",
       "      <td>Private</td>\n",
       "      <td>278514</td>\n",
       "      <td>HS-grad</td>\n",
       "      <td>9</td>\n",
       "      <td>Divorced</td>\n",
       "      <td>Craft-repair</td>\n",
       "      <td>Own-child</td>\n",
       "      <td>White</td>\n",
       "      <td>Female</td>\n",
       "      <td>0</td>\n",
       "      <td>0</td>\n",
       "      <td>42</td>\n",
       "      <td>United-States</td>\n",
       "      <td>&lt;=50K.</td>\n",
       "    </tr>\n",
       "    <tr>\n",
       "      <th>24998</th>\n",
       "      <td>21</td>\n",
       "      <td>?</td>\n",
       "      <td>433330</td>\n",
       "      <td>Some-college</td>\n",
       "      <td>10</td>\n",
       "      <td>Never-married</td>\n",
       "      <td>?</td>\n",
       "      <td>Unmarried</td>\n",
       "      <td>White</td>\n",
       "      <td>Male</td>\n",
       "      <td>0</td>\n",
       "      <td>0</td>\n",
       "      <td>40</td>\n",
       "      <td>United-States</td>\n",
       "      <td>&lt;=50K.</td>\n",
       "    </tr>\n",
       "    <tr>\n",
       "      <th>24999</th>\n",
       "      <td>25</td>\n",
       "      <td>Private</td>\n",
       "      <td>258379</td>\n",
       "      <td>Bachelors</td>\n",
       "      <td>13</td>\n",
       "      <td>Married-civ-spouse</td>\n",
       "      <td>Prof-specialty</td>\n",
       "      <td>Wife</td>\n",
       "      <td>White</td>\n",
       "      <td>Female</td>\n",
       "      <td>0</td>\n",
       "      <td>0</td>\n",
       "      <td>32</td>\n",
       "      <td>United-States</td>\n",
       "      <td>&lt;=50K.</td>\n",
       "    </tr>\n",
       "  </tbody>\n",
       "</table>\n",
       "<p>25000 rows × 15 columns</p>\n",
       "</div>"
      ],
      "text/plain": [
       "       age         workclass  demogweight     education  education-num  \\\n",
       "0       39         State-gov        77516     Bachelors             13   \n",
       "1       50  Self-emp-not-inc        83311     Bachelors             13   \n",
       "2       38           Private       215646       HS-grad              9   \n",
       "3       53           Private       234721          11th              7   \n",
       "4       28           Private       338409     Bachelors             13   \n",
       "...    ...               ...          ...           ...            ...   \n",
       "24995   41           Private       112507          10th              6   \n",
       "24996   19           Private       236940       HS-grad              9   \n",
       "24997   33           Private       278514       HS-grad              9   \n",
       "24998   21                 ?       433330  Some-college             10   \n",
       "24999   25           Private       258379     Bachelors             13   \n",
       "\n",
       "           marital-status         occupation   relationship   race     sex  \\\n",
       "0           Never-married       Adm-clerical  Not-in-family  White    Male   \n",
       "1      Married-civ-spouse    Exec-managerial        Husband  White    Male   \n",
       "2                Divorced  Handlers-cleaners  Not-in-family  White    Male   \n",
       "3      Married-civ-spouse  Handlers-cleaners        Husband  Black    Male   \n",
       "4      Married-civ-spouse     Prof-specialty           Wife  Black  Female   \n",
       "...                   ...                ...            ...    ...     ...   \n",
       "24995  Married-civ-spouse   Transport-moving        Husband  White    Male   \n",
       "24996       Never-married    Farming-fishing      Own-child  White    Male   \n",
       "24997            Divorced       Craft-repair      Own-child  White  Female   \n",
       "24998       Never-married                  ?      Unmarried  White    Male   \n",
       "24999  Married-civ-spouse     Prof-specialty           Wife  White  Female   \n",
       "\n",
       "       capital-gain  capital-loss  hours-per-week native-country  income  \n",
       "0              2174             0              40  United-States  <=50K.  \n",
       "1                 0             0              13  United-States  <=50K.  \n",
       "2                 0             0              40  United-States  <=50K.  \n",
       "3                 0             0              40  United-States  <=50K.  \n",
       "4                 0             0              40           Cuba  <=50K.  \n",
       "...             ...           ...             ...            ...     ...  \n",
       "24995             0             0              60  United-States  <=50K.  \n",
       "24996             0             0              40  United-States  <=50K.  \n",
       "24997             0             0              42  United-States  <=50K.  \n",
       "24998             0             0              40  United-States  <=50K.  \n",
       "24999             0             0              32  United-States  <=50K.  \n",
       "\n",
       "[25000 rows x 15 columns]"
      ]
     },
     "execution_count": 105,
     "metadata": {},
     "output_type": "execute_result"
    }
   ],
   "source": [
    "adult = pd.read_csv('Adult')\n",
    "adult"
   ]
  },
  {
   "cell_type": "markdown",
   "metadata": {},
   "source": [
    "For Exercises 21–28, work with the adult data set.\n",
    "21. Partition the data set, so that 50% of the records are included in the training data set and 50% are included in the test data set. Use a bar graph to confirm your proportions."
   ]
  },
  {
   "cell_type": "code",
   "execution_count": 106,
   "metadata": {},
   "outputs": [
    {
     "data": {
      "text/plain": [
       "((25000, 15),\n",
       " (12500, 15),\n",
       " (12500, 15),\n",
       "        age         workclass  demogweight     education  education-num  \\\n",
       " 15055   52           Private       224198       HS-grad              9   \n",
       " 5758    20           Private       165804  Some-college             10   \n",
       " 17647   41           Private       216968     Bachelors             13   \n",
       " 16149   40           Private       353432          10th              6   \n",
       " 19513   50           Private       174102       HS-grad              9   \n",
       " ...    ...               ...          ...           ...            ...   \n",
       " 919     21           Private       186648  Some-college             10   \n",
       " 20691   36           Private       265881       HS-grad              9   \n",
       " 5699    23           Private       149224       HS-grad              9   \n",
       " 10742   37           Private       231180       HS-grad              9   \n",
       " 16921   27  Self-emp-not-inc       140863           9th              5   \n",
       " \n",
       "            marital-status         occupation   relationship   race     sex  \\\n",
       " 15055            Divorced              Sales  Not-in-family  White  Female   \n",
       " 5758        Never-married       Adm-clerical      Own-child  Other  Female   \n",
       " 17647       Never-married  Handlers-cleaners  Not-in-family  Black    Male   \n",
       " 16149            Divorced  Machine-op-inspct  Not-in-family  White  Female   \n",
       " 19513            Divorced       Craft-repair      Own-child  White    Male   \n",
       " ...                   ...                ...            ...    ...     ...   \n",
       " 919         Never-married      Other-service      Own-child  White    Male   \n",
       " 20691            Divorced  Machine-op-inspct      Unmarried  White  Female   \n",
       " 5699        Never-married              Sales  Not-in-family  White    Male   \n",
       " 10742  Married-civ-spouse  Machine-op-inspct        Husband  White    Male   \n",
       " 16921  Married-civ-spouse       Craft-repair        Husband  White    Male   \n",
       " \n",
       "        capital-gain  capital-loss  hours-per-week native-country  income  \n",
       " 15055             0             0              48  United-States  <=50K.  \n",
       " 5758              0             0              40  United-States  <=50K.  \n",
       " 17647             0             0              40              ?  <=50K.  \n",
       " 16149             0             0              35  United-States  <=50K.  \n",
       " 19513             0             0              40    Puerto-Rico  <=50K.  \n",
       " ...             ...           ...             ...            ...     ...  \n",
       " 919               0             0              20  United-States  <=50K.  \n",
       " 20691             0             0              40  United-States  <=50K.  \n",
       " 5699              0             0              40  United-States  <=50K.  \n",
       " 10742             0             0              40  United-States  <=50K.  \n",
       " 16921             0             0              40  United-States  <=50K.  \n",
       " \n",
       " [12500 rows x 15 columns],\n",
       " 12500)"
      ]
     },
     "execution_count": 106,
     "metadata": {},
     "output_type": "execute_result"
    }
   ],
   "source": [
    "adult_train, adult_test = train_test_split(adult, test_size=0.5, random_state=7)\n",
    "adult.shape, adult_train.shape, adult_test.shape, adult_train, len(adult_train)"
   ]
  },
  {
   "cell_type": "code",
   "execution_count": 107,
   "metadata": {},
   "outputs": [
    {
     "data": {
      "text/plain": [
       "<matplotlib.axes._subplots.AxesSubplot at 0x7f9455b12fd0>"
      ]
     },
     "execution_count": 107,
     "metadata": {},
     "output_type": "execute_result"
    },
    {
     "data": {
      "image/png": "[encoded data removed]",
      "text/plain": [
       "<Figure size 432x288 with 1 Axes>"
      ]
     },
     "metadata": {
      "needs_background": "light"
     },
     "output_type": "display_data"
    }
   ],
   "source": [
    "x = pd.DataFrame([len(adult), len(adult_train), len(adult_test)], index=['adult', 'adult_train', 'adult_test'])\n",
    "x.plot.bar()"
   ]
  },
  {
   "cell_type": "markdown",
   "metadata": {},
   "source": [
    "22. Identify the total number of records in the training data set, and how many records in the training data set have an income value of >50 K."
   ]
  },
  {
   "cell_type": "code",
   "execution_count": 108,
   "metadata": {},
   "outputs": [
    {
     "data": {
      "text/plain": [
       "(12500, 15)"
      ]
     },
     "execution_count": 108,
     "metadata": {},
     "output_type": "execute_result"
    }
   ],
   "source": [
    "adult_train.shape"
   ]
  },
  {
   "cell_type": "code",
   "execution_count": 109,
   "metadata": {},
   "outputs": [
    {
     "data": {
      "text/plain": [
       "'12500 records in the training data set'"
      ]
     },
     "execution_count": 109,
     "metadata": {},
     "output_type": "execute_result"
    }
   ],
   "source": [
    "'''12500 records in the training data set'''"
   ]
  },
  {
   "cell_type": "code",
   "execution_count": 110,
   "metadata": {},
   "outputs": [
    {
     "data": {
      "text/plain": [
       "<=50K.    9519\n",
       ">50K.     2981\n",
       "Name: income, dtype: int64"
      ]
     },
     "execution_count": 110,
     "metadata": {},
     "output_type": "execute_result"
    }
   ],
   "source": [
    "adult_train['income'].value_counts()"
   ]
  },
  {
   "cell_type": "code",
   "execution_count": 111,
   "metadata": {},
   "outputs": [
    {
     "data": {
      "text/plain": [
       "'2981 records have an income value of >50K'"
      ]
     },
     "execution_count": 111,
     "metadata": {},
     "output_type": "execute_result"
    }
   ],
   "source": [
    "'''2981 records have an income value of >50K'''"
   ]
  },
  {
   "cell_type": "markdown",
   "metadata": {},
   "source": [
    "23. Use your answers from the previous exercise to calculate how many records with income >50K you need to resample in order to have 35% of the rebalanced data set have incomes of >50 K."
   ]
  },
  {
   "cell_type": "code",
   "execution_count": 112,
   "metadata": {},
   "outputs": [
    {
     "data": {
      "text/plain": [
       "2144.6153846153848"
      ]
     },
     "execution_count": 112,
     "metadata": {},
     "output_type": "execute_result"
    }
   ],
   "source": [
    "(0.35*12500 - 2981) / (1-0.35)"
   ]
  },
  {
   "cell_type": "code",
   "execution_count": 113,
   "metadata": {},
   "outputs": [
    {
     "data": {
      "text/plain": [
       "'2144 records needed to resample to 35% '"
      ]
     },
     "execution_count": 113,
     "metadata": {},
     "output_type": "execute_result"
    }
   ],
   "source": [
    "'''2144 records needed to resample to 35% '''"
   ]
  },
  {
   "cell_type": "markdown",
   "metadata": {},
   "source": [
    "24. Perform the rebalancing described in the previous exercise and confirm that 35% of the records in the rebalanced data set have incomes >50 K."
   ]
  },
  {
   "cell_type": "code",
   "execution_count": 114,
   "metadata": {},
   "outputs": [
    {
     "data": {
      "text/plain": [
       "<=50K.    9519\n",
       ">50K.     5125\n",
       "Name: income, dtype: int64"
      ]
     },
     "execution_count": 114,
     "metadata": {},
     "output_type": "execute_result"
    }
   ],
   "source": [
    "to_resample = adult_train.loc[adult_train['income']=='>50K.']\n",
    "our_resample = to_resample.sample(n = 2144, replace = True)\n",
    "adult_train_rebal = pd.concat([adult_train, our_resample])\n",
    "\n",
    "adult_train_rebal['income'].value_counts()"
   ]
  },
  {
   "cell_type": "markdown",
   "metadata": {},
   "source": [
    "25. Which baseline model do we use to compare our classification model performance against? To which value does this baseline model assign all predictions? What is the accuracy of this baseline model?"
   ]
  },
  {
   "cell_type": "code",
   "execution_count": 115,
   "metadata": {},
   "outputs": [
    {
     "data": {
      "text/plain": [
       "'We should use the Negative Baseline Model in reference to the income value >50K. \\nThis givs us a baseline accuracy of 65%.'"
      ]
     },
     "execution_count": 115,
     "metadata": {},
     "output_type": "execute_result"
    }
   ],
   "source": [
    "'''We should use the Negative Baseline Model in reference to the income value >50K. \n",
    "This givs us a baseline accuracy of 65%.'''"
   ]
  },
  {
   "cell_type": "markdown",
   "metadata": {},
   "source": [
    "26. Validate your partition by performing a two‐sample Z‐test for the difference in means for the mean age in the training set versus the mean age in the test set.\n"
   ]
  },
  {
   "cell_type": "code",
   "execution_count": 116,
   "metadata": {},
   "outputs": [],
   "source": [
    "# A z-test is a statistical test to determine whether two population means are different when the variances are known\n",
    "# and the sample size is large. It can be used to test hypotheses in which the z-test follows a normal distribution."
   ]
  },
  {
   "cell_type": "code",
   "execution_count": 117,
   "metadata": {},
   "outputs": [
    {
     "data": {
      "text/plain": [
       "(38.61032, 39.438951106255125, 38.60352)"
      ]
     },
     "execution_count": 117,
     "metadata": {},
     "output_type": "execute_result"
    }
   ],
   "source": [
    "adult_train['age'].mean(), adult_train_rebal['age'].mean(), adult_test['age'].mean()"
   ]
  },
  {
   "cell_type": "code",
   "execution_count": 118,
   "metadata": {},
   "outputs": [
    {
     "data": {
      "text/plain": [
       "'\\n#    for the mean age in the training set versus the mean age in the test set.\\nadult_train[\\'age\\'].mean()\\nadult_train_rebal.age.mean()\\nadult_test[\\'age\\'].mean()\\n\\nztest,pval = stests.ztest(adult_train_rebal.age, x2=adult_test[\\'age\\'], value=0,alternative=\\'two-sided\\')\\nprint(float(pval))\\nif pval<0.05:\\n    print(\"reject null hypothesis (the rebalanced set IS valid!)\")\\nelse:\\n    print(\"accept null hypothesis (the rebalanced set IS NOT valid!)\")\\n# All mean ages are within 1 year\\n'"
      ]
     },
     "execution_count": 118,
     "metadata": {},
     "output_type": "execute_result"
    }
   ],
   "source": [
    "# solution from professor:\n",
    "'''\n",
    "#    for the mean age in the training set versus the mean age in the test set.\n",
    "adult_train['age'].mean()\n",
    "adult_train_rebal.age.mean()\n",
    "adult_test['age'].mean()\n",
    "\n",
    "ztest,pval = stests.ztest(adult_train_rebal.age, x2=adult_test['age'], value=0,alternative='two-sided')\n",
    "print(float(pval))\n",
    "if pval<0.05:\n",
    "    print(\"reject null hypothesis (the rebalanced set IS valid!)\")\n",
    "else:\n",
    "    print(\"accept null hypothesis (the rebalanced set IS NOT valid!)\")\n",
    "# All mean ages are within 1 year\n",
    "'''"
   ]
  },
  {
   "cell_type": "markdown",
   "metadata": {},
   "source": [
    "27. Validate your partition by performing a two‐sample Z‐test for the difference in propor- tions for the proportion of >50K records in the training set versus the proportion of >50 K records in the test set."
   ]
  },
  {
   "cell_type": "code",
   "execution_count": 119,
   "metadata": {},
   "outputs": [
    {
     "data": {
      "text/plain": [
       "(<=50K.    9519\n",
       " >50K.     2981\n",
       " Name: income, dtype: int64,\n",
       " <=50K.    9519\n",
       " >50K.     5125\n",
       " Name: income, dtype: int64,\n",
       " <=50K.    9497\n",
       " >50K.     3003\n",
       " Name: income, dtype: int64)"
      ]
     },
     "execution_count": 119,
     "metadata": {},
     "output_type": "execute_result"
    }
   ],
   "source": [
    "# Solution from Professor:\n",
    "#    for the proportion of >50K records in the training set versus the proportion of >50 K records\n",
    "#    in the test set.\n",
    "\n",
    "adult_train['income'].value_counts(), adult_train_rebal['income'].value_counts(), adult_test['income'].value_counts()\n"
   ]
  },
  {
   "cell_type": "code",
   "execution_count": 120,
   "metadata": {},
   "outputs": [
    {
     "data": {
      "text/plain": [
       "'  \\n    \\nztest ,pval = stests.ztest(adult_train_rebal.income.value_counts(), x2=adult_test[\\'income\\'].value_counts(), value=0,alternative=\\'two-sided\\')\\nprint(float(pval))\\nif pval<0.05:\\n    print(\"reject null hypothesis (the rebalanced set IS valid.)\")\\nelse:\\n    print(\"accept null hypothesis (the rebalanced set IS NOT valid!)\")\\n\\n# The rebalanced set is not valid for proportion of >50K records\\n\\n# original training set = ~24%, rebalanced training set = ~35%, test set = ~24%\\n\\n'"
      ]
     },
     "execution_count": 120,
     "metadata": {},
     "output_type": "execute_result"
    }
   ],
   "source": [
    "'''  \n",
    "    \n",
    "ztest ,pval = stests.ztest(adult_train_rebal.income.value_counts(), x2=adult_test['income'].value_counts(), value=0,alternative='two-sided')\n",
    "print(float(pval))\n",
    "if pval<0.05:\n",
    "    print(\"reject null hypothesis (the rebalanced set IS valid.)\")\n",
    "else:\n",
    "    print(\"accept null hypothesis (the rebalanced set IS NOT valid!)\")\n",
    "\n",
    "# The rebalanced set is not valid for proportion of >50K records\n",
    "\n",
    "# original training set = ~24%, rebalanced training set = ~35%, test set = ~24%\n",
    "\n",
    "'''  "
   ]
  },
  {
   "cell_type": "markdown",
   "metadata": {},
   "source": [
    "For Exercises 28–34, work with the churn data set.\n",
    "28. Partition the data set, so that 67% of the records are included in the training data set and\n",
    "33% are included in the test data set. Use a bar graph to confirm your proportions."
   ]
  },
  {
   "cell_type": "code",
   "execution_count": 121,
   "metadata": {},
   "outputs": [
    {
     "data": {
      "text/plain": [
       "((3333, 22), (2233, 22), (1100, 22))"
      ]
     },
     "execution_count": 121,
     "metadata": {},
     "output_type": "execute_result"
    }
   ],
   "source": [
    "churn = pd.read_csv('churn')\n",
    "\n",
    "churn_train, churn_test = train_test_split(churn, test_size=0.33, random_state =7)\n",
    "churn.shape, churn_train.shape, churn_test.shape"
   ]
  },
  {
   "cell_type": "code",
   "execution_count": 122,
   "metadata": {},
   "outputs": [
    {
     "data": {
      "text/plain": [
       "<matplotlib.axes._subplots.AxesSubplot at 0x7f945667af10>"
      ]
     },
     "execution_count": 122,
     "metadata": {},
     "output_type": "execute_result"
    },
    {
     "data": {
      "image/png": "[encoded data removed]",
      "text/plain": [
       "<Figure size 432x288 with 1 Axes>"
      ]
     },
     "metadata": {
      "needs_background": "light"
     },
     "output_type": "display_data"
    }
   ],
   "source": [
    "totalrec = np.array([len(churn), len(churn_train), len(churn_test)])\n",
    "x = pd.DataFrame(totalrec, index=['churn', 'churn_train', 'churn_test'])\n",
    "x.plot.bar()"
   ]
  },
  {
   "cell_type": "markdown",
   "metadata": {},
   "source": [
    "29. Identify the total number of records in the training data set and how many records in the training data set have a churn value of true."
   ]
  },
  {
   "cell_type": "code",
   "execution_count": 123,
   "metadata": {},
   "outputs": [
    {
     "data": {
      "text/plain": [
       "False    1913\n",
       "True      320\n",
       "Name: Churn, dtype: int64"
      ]
     },
     "execution_count": 123,
     "metadata": {},
     "output_type": "execute_result"
    }
   ],
   "source": [
    "churn_train['Churn'].value_counts()"
   ]
  },
  {
   "cell_type": "code",
   "execution_count": 124,
   "metadata": {},
   "outputs": [
    {
     "data": {
      "text/plain": [
       "'320 records of true value'"
      ]
     },
     "execution_count": 124,
     "metadata": {},
     "output_type": "execute_result"
    }
   ],
   "source": [
    "'''320 records of true value'''"
   ]
  },
  {
   "cell_type": "markdown",
   "metadata": {},
   "source": [
    "30. Use your answers from the previous exercise to calculate how many true churn records you need to resample in order to have 20% of the rebalanced data set have true churn values."
   ]
  },
  {
   "cell_type": "code",
   "execution_count": 125,
   "metadata": {},
   "outputs": [
    {
     "data": {
      "text/plain": [
       "158.25000000000003"
      ]
     },
     "execution_count": 125,
     "metadata": {},
     "output_type": "execute_result"
    }
   ],
   "source": [
    "(0.2*2233-320)/(1-0.2)"
   ]
  },
  {
   "cell_type": "code",
   "execution_count": 126,
   "metadata": {},
   "outputs": [
    {
     "data": {
      "text/plain": [
       "'158 records needed'"
      ]
     },
     "execution_count": 126,
     "metadata": {},
     "output_type": "execute_result"
    }
   ],
   "source": [
    "'''158 records needed'''"
   ]
  },
  {
   "cell_type": "markdown",
   "metadata": {},
   "source": [
    "31. Perform the rebalancing described in the previous exercise and confirm that 20% of the records in the rebalanced data set have true churn values."
   ]
  },
  {
   "cell_type": "code",
   "execution_count": 127,
   "metadata": {},
   "outputs": [
    {
     "data": {
      "text/plain": [
       "False    1913\n",
       "True      478\n",
       "Name: Churn, dtype: int64"
      ]
     },
     "execution_count": 127,
     "metadata": {},
     "output_type": "execute_result"
    }
   ],
   "source": [
    "to_resample = churn_train.loc[churn_train['Churn']== True]\n",
    "our_resample = to_resample.sample(n=158, replace=True)\n",
    "churn_train_rebal = pd.concat([churn_train, our_resample])\n",
    "\n",
    "churn_train_rebal['Churn'].value_counts()"
   ]
  },
  {
   "cell_type": "markdown",
   "metadata": {},
   "source": [
    "32. Which baseline model do we use to compare our classification model performance against? To which value does this baseline model assign all predictions? What is the accuracy of this baseline model?"
   ]
  },
  {
   "cell_type": "code",
   "execution_count": 128,
   "metadata": {},
   "outputs": [
    {
     "data": {
      "text/plain": [
       "' Negative Model. \\nchurn = True\\n80%'"
      ]
     },
     "execution_count": 128,
     "metadata": {},
     "output_type": "execute_result"
    }
   ],
   "source": [
    "''' Negative Model. \n",
    "churn = True\n",
    "80%'''"
   ]
  },
  {
   "cell_type": "markdown",
   "metadata": {},
   "source": [
    "33. Validate your partition by testing for the difference in mean day minutes for the training set versus the test set."
   ]
  },
  {
   "cell_type": "code",
   "execution_count": 129,
   "metadata": {},
   "outputs": [
    {
     "data": {
      "text/plain": [
       "179.7530228392298"
      ]
     },
     "execution_count": 129,
     "metadata": {},
     "output_type": "execute_result"
    }
   ],
   "source": [
    "churn_train['Day Mins'].mean()"
   ]
  },
  {
   "cell_type": "code",
   "execution_count": 130,
   "metadata": {},
   "outputs": [
    {
     "data": {
      "text/plain": [
       "179.8199090909088"
      ]
     },
     "execution_count": 130,
     "metadata": {},
     "output_type": "execute_result"
    }
   ],
   "source": [
    "churn_test['Day Mins'].mean()"
   ]
  },
  {
   "cell_type": "markdown",
   "metadata": {},
   "source": [
    "34. Validate your partition by testing for the difference in proportion of true churn records for the training set versus the test set."
   ]
  },
  {
   "cell_type": "code",
   "execution_count": 131,
   "metadata": {},
   "outputs": [
    {
     "data": {
      "text/plain": [
       "False    85.669503\n",
       "True     14.330497\n",
       "Name: Churn, dtype: float64"
      ]
     },
     "execution_count": 131,
     "metadata": {},
     "output_type": "execute_result"
    }
   ],
   "source": [
    "churn_train['Churn'].value_counts()/churn_train['Churn'].count()*100"
   ]
  },
  {
   "cell_type": "code",
   "execution_count": 132,
   "metadata": {},
   "outputs": [
    {
     "data": {
      "text/plain": [
       "False    85.181818\n",
       "True     14.818182\n",
       "Name: Churn, dtype: float64"
      ]
     },
     "execution_count": 132,
     "metadata": {},
     "output_type": "execute_result"
    }
   ],
   "source": [
    "churn_test['Churn'].value_counts()/churn_test['Churn'].count()*100"
   ]
  },
  {
   "cell_type": "markdown",
   "metadata": {},
   "source": [
    "For Exercise 35, work with the cereals data set. Here, we are trying to estimate a numeric target, rating (nutritional rating), based on a set of predictors.\n",
    "35. Which baseline model do we use to compare our estimation model performance against? To which value does this baseline model assign all predictions?"
   ]
  },
  {
   "cell_type": "code",
   "execution_count": 133,
   "metadata": {},
   "outputs": [
    {
     "data": {
      "text/html": [
       "<div>\n",
       "<style scoped>\n",
       "    .dataframe tbody tr th:only-of-type {\n",
       "        vertical-align: middle;\n",
       "    }\n",
       "\n",
       "    .dataframe tbody tr th {\n",
       "        vertical-align: top;\n",
       "    }\n",
       "\n",
       "    .dataframe thead th {\n",
       "        text-align: right;\n",
       "    }\n",
       "</style>\n",
       "<table border=\"1\" class=\"dataframe\">\n",
       "  <thead>\n",
       "    <tr style=\"text-align: right;\">\n",
       "      <th></th>\n",
       "      <th>Name</th>\n",
       "      <th>Manuf</th>\n",
       "      <th>Type</th>\n",
       "      <th>Calories</th>\n",
       "      <th>Protein</th>\n",
       "      <th>Fat</th>\n",
       "      <th>Sodium</th>\n",
       "      <th>Fiber</th>\n",
       "      <th>Carbo</th>\n",
       "      <th>Sugars</th>\n",
       "      <th>Potass</th>\n",
       "      <th>Vitamins</th>\n",
       "      <th>Shelf</th>\n",
       "      <th>Weight</th>\n",
       "      <th>Cups</th>\n",
       "      <th>Rating</th>\n",
       "      <th>Cold</th>\n",
       "      <th>Nabisco</th>\n",
       "      <th>Quaker</th>\n",
       "      <th>Kelloggs</th>\n",
       "      <th>GeneralMills</th>\n",
       "      <th>Ralston</th>\n",
       "      <th>AHFP</th>\n",
       "    </tr>\n",
       "  </thead>\n",
       "  <tbody>\n",
       "    <tr>\n",
       "      <th>0</th>\n",
       "      <td>100%_Bran</td>\n",
       "      <td>N</td>\n",
       "      <td>C</td>\n",
       "      <td>70</td>\n",
       "      <td>4</td>\n",
       "      <td>1</td>\n",
       "      <td>130</td>\n",
       "      <td>10.0</td>\n",
       "      <td>5.0</td>\n",
       "      <td>6.0</td>\n",
       "      <td>280.0</td>\n",
       "      <td>25</td>\n",
       "      <td>3</td>\n",
       "      <td>1.0</td>\n",
       "      <td>0.33</td>\n",
       "      <td>68.402973</td>\n",
       "      <td>1</td>\n",
       "      <td>1</td>\n",
       "      <td>0</td>\n",
       "      <td>0</td>\n",
       "      <td>0</td>\n",
       "      <td>0</td>\n",
       "      <td>0</td>\n",
       "    </tr>\n",
       "    <tr>\n",
       "      <th>1</th>\n",
       "      <td>100%_Natural_Bran</td>\n",
       "      <td>Q</td>\n",
       "      <td>C</td>\n",
       "      <td>120</td>\n",
       "      <td>3</td>\n",
       "      <td>5</td>\n",
       "      <td>15</td>\n",
       "      <td>2.0</td>\n",
       "      <td>8.0</td>\n",
       "      <td>8.0</td>\n",
       "      <td>135.0</td>\n",
       "      <td>0</td>\n",
       "      <td>3</td>\n",
       "      <td>1.0</td>\n",
       "      <td>1.00</td>\n",
       "      <td>33.983679</td>\n",
       "      <td>1</td>\n",
       "      <td>0</td>\n",
       "      <td>1</td>\n",
       "      <td>0</td>\n",
       "      <td>0</td>\n",
       "      <td>0</td>\n",
       "      <td>0</td>\n",
       "    </tr>\n",
       "    <tr>\n",
       "      <th>2</th>\n",
       "      <td>All-Bran</td>\n",
       "      <td>K</td>\n",
       "      <td>C</td>\n",
       "      <td>70</td>\n",
       "      <td>4</td>\n",
       "      <td>1</td>\n",
       "      <td>260</td>\n",
       "      <td>9.0</td>\n",
       "      <td>7.0</td>\n",
       "      <td>5.0</td>\n",
       "      <td>320.0</td>\n",
       "      <td>25</td>\n",
       "      <td>3</td>\n",
       "      <td>1.0</td>\n",
       "      <td>0.33</td>\n",
       "      <td>59.425505</td>\n",
       "      <td>1</td>\n",
       "      <td>0</td>\n",
       "      <td>0</td>\n",
       "      <td>1</td>\n",
       "      <td>0</td>\n",
       "      <td>0</td>\n",
       "      <td>0</td>\n",
       "    </tr>\n",
       "    <tr>\n",
       "      <th>3</th>\n",
       "      <td>All-Bran_with_Extra_Fiber</td>\n",
       "      <td>K</td>\n",
       "      <td>C</td>\n",
       "      <td>50</td>\n",
       "      <td>4</td>\n",
       "      <td>0</td>\n",
       "      <td>140</td>\n",
       "      <td>14.0</td>\n",
       "      <td>8.0</td>\n",
       "      <td>0.0</td>\n",
       "      <td>330.0</td>\n",
       "      <td>25</td>\n",
       "      <td>3</td>\n",
       "      <td>1.0</td>\n",
       "      <td>0.50</td>\n",
       "      <td>93.704912</td>\n",
       "      <td>1</td>\n",
       "      <td>0</td>\n",
       "      <td>0</td>\n",
       "      <td>1</td>\n",
       "      <td>0</td>\n",
       "      <td>0</td>\n",
       "      <td>0</td>\n",
       "    </tr>\n",
       "    <tr>\n",
       "      <th>4</th>\n",
       "      <td>Almond_Delight</td>\n",
       "      <td>R</td>\n",
       "      <td>C</td>\n",
       "      <td>110</td>\n",
       "      <td>2</td>\n",
       "      <td>2</td>\n",
       "      <td>200</td>\n",
       "      <td>1.0</td>\n",
       "      <td>14.0</td>\n",
       "      <td>8.0</td>\n",
       "      <td>NaN</td>\n",
       "      <td>25</td>\n",
       "      <td>3</td>\n",
       "      <td>1.0</td>\n",
       "      <td>0.75</td>\n",
       "      <td>34.384843</td>\n",
       "      <td>1</td>\n",
       "      <td>0</td>\n",
       "      <td>0</td>\n",
       "      <td>0</td>\n",
       "      <td>0</td>\n",
       "      <td>1</td>\n",
       "      <td>0</td>\n",
       "    </tr>\n",
       "    <tr>\n",
       "      <th>...</th>\n",
       "      <td>...</td>\n",
       "      <td>...</td>\n",
       "      <td>...</td>\n",
       "      <td>...</td>\n",
       "      <td>...</td>\n",
       "      <td>...</td>\n",
       "      <td>...</td>\n",
       "      <td>...</td>\n",
       "      <td>...</td>\n",
       "      <td>...</td>\n",
       "      <td>...</td>\n",
       "      <td>...</td>\n",
       "      <td>...</td>\n",
       "      <td>...</td>\n",
       "      <td>...</td>\n",
       "      <td>...</td>\n",
       "      <td>...</td>\n",
       "      <td>...</td>\n",
       "      <td>...</td>\n",
       "      <td>...</td>\n",
       "      <td>...</td>\n",
       "      <td>...</td>\n",
       "      <td>...</td>\n",
       "    </tr>\n",
       "    <tr>\n",
       "      <th>72</th>\n",
       "      <td>Triples</td>\n",
       "      <td>G</td>\n",
       "      <td>C</td>\n",
       "      <td>110</td>\n",
       "      <td>2</td>\n",
       "      <td>1</td>\n",
       "      <td>250</td>\n",
       "      <td>0.0</td>\n",
       "      <td>21.0</td>\n",
       "      <td>3.0</td>\n",
       "      <td>60.0</td>\n",
       "      <td>25</td>\n",
       "      <td>3</td>\n",
       "      <td>1.0</td>\n",
       "      <td>0.75</td>\n",
       "      <td>39.106174</td>\n",
       "      <td>1</td>\n",
       "      <td>0</td>\n",
       "      <td>0</td>\n",
       "      <td>0</td>\n",
       "      <td>1</td>\n",
       "      <td>0</td>\n",
       "      <td>0</td>\n",
       "    </tr>\n",
       "    <tr>\n",
       "      <th>73</th>\n",
       "      <td>Trix</td>\n",
       "      <td>G</td>\n",
       "      <td>C</td>\n",
       "      <td>110</td>\n",
       "      <td>1</td>\n",
       "      <td>1</td>\n",
       "      <td>140</td>\n",
       "      <td>0.0</td>\n",
       "      <td>13.0</td>\n",
       "      <td>12.0</td>\n",
       "      <td>25.0</td>\n",
       "      <td>25</td>\n",
       "      <td>2</td>\n",
       "      <td>1.0</td>\n",
       "      <td>1.00</td>\n",
       "      <td>27.753301</td>\n",
       "      <td>1</td>\n",
       "      <td>0</td>\n",
       "      <td>0</td>\n",
       "      <td>0</td>\n",
       "      <td>1</td>\n",
       "      <td>0</td>\n",
       "      <td>0</td>\n",
       "    </tr>\n",
       "    <tr>\n",
       "      <th>74</th>\n",
       "      <td>Wheat_Chex</td>\n",
       "      <td>R</td>\n",
       "      <td>C</td>\n",
       "      <td>100</td>\n",
       "      <td>3</td>\n",
       "      <td>1</td>\n",
       "      <td>230</td>\n",
       "      <td>3.0</td>\n",
       "      <td>17.0</td>\n",
       "      <td>3.0</td>\n",
       "      <td>115.0</td>\n",
       "      <td>25</td>\n",
       "      <td>1</td>\n",
       "      <td>1.0</td>\n",
       "      <td>0.67</td>\n",
       "      <td>49.787445</td>\n",
       "      <td>1</td>\n",
       "      <td>0</td>\n",
       "      <td>0</td>\n",
       "      <td>0</td>\n",
       "      <td>0</td>\n",
       "      <td>1</td>\n",
       "      <td>0</td>\n",
       "    </tr>\n",
       "    <tr>\n",
       "      <th>75</th>\n",
       "      <td>Wheaties</td>\n",
       "      <td>G</td>\n",
       "      <td>C</td>\n",
       "      <td>100</td>\n",
       "      <td>3</td>\n",
       "      <td>1</td>\n",
       "      <td>200</td>\n",
       "      <td>3.0</td>\n",
       "      <td>17.0</td>\n",
       "      <td>3.0</td>\n",
       "      <td>110.0</td>\n",
       "      <td>25</td>\n",
       "      <td>1</td>\n",
       "      <td>1.0</td>\n",
       "      <td>1.00</td>\n",
       "      <td>51.592193</td>\n",
       "      <td>1</td>\n",
       "      <td>0</td>\n",
       "      <td>0</td>\n",
       "      <td>0</td>\n",
       "      <td>1</td>\n",
       "      <td>0</td>\n",
       "      <td>0</td>\n",
       "    </tr>\n",
       "    <tr>\n",
       "      <th>76</th>\n",
       "      <td>Wheaties_Honey_Gold</td>\n",
       "      <td>G</td>\n",
       "      <td>C</td>\n",
       "      <td>110</td>\n",
       "      <td>2</td>\n",
       "      <td>1</td>\n",
       "      <td>200</td>\n",
       "      <td>1.0</td>\n",
       "      <td>16.0</td>\n",
       "      <td>8.0</td>\n",
       "      <td>60.0</td>\n",
       "      <td>25</td>\n",
       "      <td>1</td>\n",
       "      <td>1.0</td>\n",
       "      <td>0.75</td>\n",
       "      <td>36.187559</td>\n",
       "      <td>1</td>\n",
       "      <td>0</td>\n",
       "      <td>0</td>\n",
       "      <td>0</td>\n",
       "      <td>1</td>\n",
       "      <td>0</td>\n",
       "      <td>0</td>\n",
       "    </tr>\n",
       "  </tbody>\n",
       "</table>\n",
       "<p>77 rows × 23 columns</p>\n",
       "</div>"
      ],
      "text/plain": [
       "                          Name Manuf Type  Calories  Protein  Fat  Sodium  \\\n",
       "0                   100%_Bran     N    C         70        4    1     130   \n",
       "1           100%_Natural_Bran     Q    C        120        3    5      15   \n",
       "2                    All-Bran     K    C         70        4    1     260   \n",
       "3   All-Bran_with_Extra_Fiber     K    C         50        4    0     140   \n",
       "4              Almond_Delight     R    C        110        2    2     200   \n",
       "..                         ...   ...  ...       ...      ...  ...     ...   \n",
       "72                    Triples     G    C        110        2    1     250   \n",
       "73                       Trix     G    C        110        1    1     140   \n",
       "74                 Wheat_Chex     R    C        100        3    1     230   \n",
       "75                   Wheaties     G    C        100        3    1     200   \n",
       "76        Wheaties_Honey_Gold     G    C        110        2    1     200   \n",
       "\n",
       "    Fiber  Carbo  Sugars  Potass  Vitamins  Shelf  Weight  Cups     Rating  \\\n",
       "0    10.0    5.0     6.0   280.0        25      3     1.0  0.33  68.402973   \n",
       "1     2.0    8.0     8.0   135.0         0      3     1.0  1.00  33.983679   \n",
       "2     9.0    7.0     5.0   320.0        25      3     1.0  0.33  59.425505   \n",
       "3    14.0    8.0     0.0   330.0        25      3     1.0  0.50  93.704912   \n",
       "4     1.0   14.0     8.0     NaN        25      3     1.0  0.75  34.384843   \n",
       "..    ...    ...     ...     ...       ...    ...     ...   ...        ...   \n",
       "72    0.0   21.0     3.0    60.0        25      3     1.0  0.75  39.106174   \n",
       "73    0.0   13.0    12.0    25.0        25      2     1.0  1.00  27.753301   \n",
       "74    3.0   17.0     3.0   115.0        25      1     1.0  0.67  49.787445   \n",
       "75    3.0   17.0     3.0   110.0        25      1     1.0  1.00  51.592193   \n",
       "76    1.0   16.0     8.0    60.0        25      1     1.0  0.75  36.187559   \n",
       "\n",
       "    Cold  Nabisco  Quaker  Kelloggs  GeneralMills  Ralston  AHFP  \n",
       "0      1        1       0         0             0        0     0  \n",
       "1      1        0       1         0             0        0     0  \n",
       "2      1        0       0         1             0        0     0  \n",
       "3      1        0       0         1             0        0     0  \n",
       "4      1        0       0         0             0        1     0  \n",
       "..   ...      ...     ...       ...           ...      ...   ...  \n",
       "72     1        0       0         0             1        0     0  \n",
       "73     1        0       0         0             1        0     0  \n",
       "74     1        0       0         0             0        1     0  \n",
       "75     1        0       0         0             1        0     0  \n",
       "76     1        0       0         0             1        0     0  \n",
       "\n",
       "[77 rows x 23 columns]"
      ]
     },
     "execution_count": 133,
     "metadata": {},
     "output_type": "execute_result"
    }
   ],
   "source": [
    "cereal = pd.read_csv('cereals.csv')\n",
    "cereal"
   ]
  },
  {
   "cell_type": "code",
   "execution_count": 134,
   "metadata": {},
   "outputs": [
    {
     "data": {
      "text/plain": [
       "'Assign all predictions to the Rating field whose height value is 93.704912'"
      ]
     },
     "execution_count": 134,
     "metadata": {},
     "output_type": "execute_result"
    }
   ],
   "source": [
    "'''Biggest Category Model. Assign to the largest value category'''\n",
    "'''Use the positive binary baseline for comparison or you could use a k-nary baseline and split into categories'''\n",
    "'''Assign all predictions to the Rating field whose height value is 93.704912'''"
   ]
  }
 ],
 "metadata": {
  "kernelspec": {
   "display_name": "Python 3",
   "language": "python",
   "name": "python3"
  },
  "language_info": {
   "codemirror_mode": {
    "name": "ipython",
    "version": 3
   },
   "file_extension": ".py",
   "mimetype": "text/x-python",
   "name": "python",
   "nbconvert_exporter": "python",
   "pygments_lexer": "ipython3",
   "version": "3.7.6"
  }
 },
 "nbformat": 4,
 "nbformat_minor": 4
}
