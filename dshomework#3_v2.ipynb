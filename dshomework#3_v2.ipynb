{
 "cells": [
  {
   "cell_type": "markdown",
   "metadata": {},
   "source": [
    "# Course: MSIS-678 Knowledge Discovery & Data Warehousing\n",
    "# Data Science Using Python And R Exercise\n",
    "#Professor: Edward (Ted) Kreutzer \n",
    "#Student: Jun Bao"
   ]
  },
  {
   "cell_type": "markdown",
   "metadata": {},
   "source": [
    "# CHAPTER 6 DECISION TREES"
   ]
  },
  {
   "cell_type": "markdown",
   "metadata": {},
   "source": [
    "For Exercises 21–27, work with the loans_training and loans_test data sets. Use either Python or R to solve each problem.\n",
    "21. Create a CART model using the training data set that predicts Approval using Debt to Income Ratio, FICO Score, and Request Amount. Visualize the decision tree. Describe the first few splits in the decision tree."
   ]
  },
  {
   "cell_type": "code",
   "execution_count": 95,
   "metadata": {},
   "outputs": [],
   "source": [
    "import numpy as np\n",
    "import pandas as pd\n",
    "import statsmodels.tools.tools as stattools\n",
    "from sklearn.tree import DecisionTreeClassifier, export_graphviz\n",
    "from sklearn.ensemble import RandomForestClassifier\n",
    "from sklearn.model_selection import train_test_split \n",
    "from sklearn.naive_bayes import MultinomialNB\n",
    "import statsmodels.tools.tools as stattools\n",
    "import matplotlib.pyplot as plt\n"
   ]
  },
  {
   "cell_type": "code",
   "execution_count": 96,
   "metadata": {},
   "outputs": [],
   "source": [
    "# import the data set\n",
    "loan_train = pd.read_csv('Loans_Training')\n",
    "loan_test = pd.read_csv('Loans_Test')"
   ]
  },
  {
   "cell_type": "code",
   "execution_count": 3,
   "metadata": {},
   "outputs": [
    {
     "data": {
      "text/html": [
       "<div>\n",
       "<style scoped>\n",
       "    .dataframe tbody tr th:only-of-type {\n",
       "        vertical-align: middle;\n",
       "    }\n",
       "\n",
       "    .dataframe tbody tr th {\n",
       "        vertical-align: top;\n",
       "    }\n",
       "\n",
       "    .dataframe thead th {\n",
       "        text-align: right;\n",
       "    }\n",
       "</style>\n",
       "<table border=\"1\" class=\"dataframe\">\n",
       "  <thead>\n",
       "    <tr style=\"text-align: right;\">\n",
       "      <th></th>\n",
       "      <th>Approval</th>\n",
       "      <th>Debt-to-Income Ratio</th>\n",
       "      <th>FICO Score</th>\n",
       "      <th>Request Amount</th>\n",
       "      <th>Interest</th>\n",
       "      <th>0</th>\n",
       "    </tr>\n",
       "  </thead>\n",
       "  <tbody>\n",
       "    <tr>\n",
       "      <th>0</th>\n",
       "      <td>F</td>\n",
       "      <td>0.00</td>\n",
       "      <td>397</td>\n",
       "      <td>1000</td>\n",
       "      <td>450.0</td>\n",
       "      <td>F</td>\n",
       "    </tr>\n",
       "    <tr>\n",
       "      <th>1</th>\n",
       "      <td>F</td>\n",
       "      <td>0.00</td>\n",
       "      <td>403</td>\n",
       "      <td>500</td>\n",
       "      <td>225.0</td>\n",
       "      <td>F</td>\n",
       "    </tr>\n",
       "    <tr>\n",
       "      <th>2</th>\n",
       "      <td>F</td>\n",
       "      <td>0.00</td>\n",
       "      <td>408</td>\n",
       "      <td>1000</td>\n",
       "      <td>450.0</td>\n",
       "      <td>F</td>\n",
       "    </tr>\n",
       "    <tr>\n",
       "      <th>3</th>\n",
       "      <td>F</td>\n",
       "      <td>0.00</td>\n",
       "      <td>408</td>\n",
       "      <td>2000</td>\n",
       "      <td>900.0</td>\n",
       "      <td>F</td>\n",
       "    </tr>\n",
       "    <tr>\n",
       "      <th>4</th>\n",
       "      <td>F</td>\n",
       "      <td>0.00</td>\n",
       "      <td>411</td>\n",
       "      <td>5000</td>\n",
       "      <td>2250.0</td>\n",
       "      <td>F</td>\n",
       "    </tr>\n",
       "    <tr>\n",
       "      <th>...</th>\n",
       "      <td>...</td>\n",
       "      <td>...</td>\n",
       "      <td>...</td>\n",
       "      <td>...</td>\n",
       "      <td>...</td>\n",
       "      <td>...</td>\n",
       "    </tr>\n",
       "    <tr>\n",
       "      <th>150297</th>\n",
       "      <td>T</td>\n",
       "      <td>0.38</td>\n",
       "      <td>709</td>\n",
       "      <td>19000</td>\n",
       "      <td>8550.0</td>\n",
       "      <td>F</td>\n",
       "    </tr>\n",
       "    <tr>\n",
       "      <th>150298</th>\n",
       "      <td>T</td>\n",
       "      <td>0.38</td>\n",
       "      <td>722</td>\n",
       "      <td>17000</td>\n",
       "      <td>7650.0</td>\n",
       "      <td>F</td>\n",
       "    </tr>\n",
       "    <tr>\n",
       "      <th>150299</th>\n",
       "      <td>T</td>\n",
       "      <td>0.38</td>\n",
       "      <td>747</td>\n",
       "      <td>11000</td>\n",
       "      <td>4950.0</td>\n",
       "      <td>F</td>\n",
       "    </tr>\n",
       "    <tr>\n",
       "      <th>150300</th>\n",
       "      <td>T</td>\n",
       "      <td>0.39</td>\n",
       "      <td>679</td>\n",
       "      <td>10000</td>\n",
       "      <td>4500.0</td>\n",
       "      <td>F</td>\n",
       "    </tr>\n",
       "    <tr>\n",
       "      <th>150301</th>\n",
       "      <td>T</td>\n",
       "      <td>0.39</td>\n",
       "      <td>769</td>\n",
       "      <td>7000</td>\n",
       "      <td>3150.0</td>\n",
       "      <td>F</td>\n",
       "    </tr>\n",
       "  </tbody>\n",
       "</table>\n",
       "<p>150302 rows × 6 columns</p>\n",
       "</div>"
      ],
      "text/plain": [
       "       Approval  Debt-to-Income Ratio  FICO Score  Request Amount  Interest  0\n",
       "0             F                  0.00         397            1000     450.0  F\n",
       "1             F                  0.00         403             500     225.0  F\n",
       "2             F                  0.00         408            1000     450.0  F\n",
       "3             F                  0.00         408            2000     900.0  F\n",
       "4             F                  0.00         411            5000    2250.0  F\n",
       "...         ...                   ...         ...             ...       ... ..\n",
       "150297        T                  0.38         709           19000    8550.0  F\n",
       "150298        T                  0.38         722           17000    7650.0  F\n",
       "150299        T                  0.38         747           11000    4950.0  F\n",
       "150300        T                  0.39         679           10000    4500.0  F\n",
       "150301        T                  0.39         769            7000    3150.0  F\n",
       "\n",
       "[150302 rows x 6 columns]"
      ]
     },
     "execution_count": 3,
     "metadata": {},
     "output_type": "execute_result"
    }
   ],
   "source": [
    "# save the approval variable (target) as y\n",
    "y = loan_train[['Approval']]\n",
    "# save the other 3 variable (predictor) as x\n",
    "x = loan_train[['Debt-to-Income Ratio', 'FICO Score', 'Request Amount']]\n",
    "# run the CART algorithm\n",
    "cart01 = DecisionTreeClassifier(criterion='gini', max_leaf_nodes=5).fit(x,y)\n",
    "# using the export_graphviz() command to obtain the tree structure\n",
    "export_graphviz(cart01, out_file='/Users/joanna/DSHomeWork/Ch6dot/cart01.dot')\n",
    "# use the predict() command to obtain the classifications of the approval variable\n",
    "preApprovalCART = cart01.predict(x)\n",
    "# concatenate the prediction to the end of trainning data set\n",
    "preApprovalCARTdf = pd.DataFrame(preApprovalCART)\n",
    "preresult = pd.concat((loan_train, preApprovalCARTdf), axis=1)\n",
    "# export the predcition result file\n",
    "preresult.to_csv('preresult')\n",
    "preresult"
   ]
  },
  {
   "cell_type": "code",
   "execution_count": 4,
   "metadata": {},
   "outputs": [
    {
     "data": {
      "text/plain": [
       "'The first node is the split of if variable FICO Score <= 659.5, the result displays in the second level of the nodes. The right node of the second level split further by the first variable Debt-to-Income Ratio<=0.305, and the result displays in the third level.'"
      ]
     },
     "execution_count": 4,
     "metadata": {},
     "output_type": "execute_result"
    }
   ],
   "source": [
    "'''The first node is the split of if variable FICO Score <= 659.5, the result displays in the second level of the nodes. The right node of the second level split further by the first variable Debt-to-Income Ratio<=0.305, and the result displays in the third level.'''"
   ]
  },
  {
   "cell_type": "markdown",
   "metadata": {},
   "source": [
    "22. Develop a CART model using the test data set that uses the same target and predictor variables. Visualize the decision tree. Investigate the splits in the decision tree. Does the tree built using the test data match the tree built using the training data?"
   ]
  },
  {
   "cell_type": "code",
   "execution_count": 5,
   "metadata": {},
   "outputs": [],
   "source": [
    "# save the approval variable (target) as y_ts\n",
    "y_ts = loan_test[['Approval']]\n",
    "# save the other 3 variable (predictor) as x_ts\n",
    "x_ts = loan_test[['Debt-to-Income Ratio', 'FICO Score', 'Request Amount']]\n",
    "# run the CART algorithm\n",
    "cart02 = DecisionTreeClassifier(criterion='gini', max_leaf_nodes=5).fit(x_ts,y_ts)\n",
    "# using the export_graphviz() command to obtain the tree structure\n",
    "export_graphviz(cart02, out_file='/Users/joanna/DSHomeWork/Ch6dot/cart02.dot')\n",
    "# use the predict() command to obtain the classifications of the approval variable\n",
    "preApprovalCART = cart02.predict(x_ts)\n"
   ]
  },
  {
   "cell_type": "code",
   "execution_count": 6,
   "metadata": {},
   "outputs": [
    {
     "data": {
      "text/plain": [
       "'The first node is the split of if variable FICO Score <= 660.5, the result displays in the second level of the nodes. The right node of the second level split further by the the first variable Debt-to-Income Ratio<=0.305, and the result displays in the third level.'"
      ]
     },
     "execution_count": 6,
     "metadata": {},
     "output_type": "execute_result"
    }
   ],
   "source": [
    "'''The first node is the split of if variable FICO Score <= 660.5, the result displays in the second level of the nodes. The right node of the second level split further by the the first variable Debt-to-Income Ratio<=0.305, and the result displays in the third level.'''"
   ]
  },
  {
   "cell_type": "markdown",
   "metadata": {},
   "source": [
    "23. Build a C5.0 model using the training data set that predicts Approval using Debt to Income Ratio, FICO Score, and Request Amount. Specify a minimum of 1000 cases per terminal node. Visualize the decision tree. Describe the first few splits in the decision tree."
   ]
  },
  {
   "cell_type": "code",
   "execution_count": 7,
   "metadata": {},
   "outputs": [
    {
     "data": {
      "text/plain": [
       "array(['F', 'F', 'F', ..., 'F', 'F', 'F'], dtype=object)"
      ]
     },
     "execution_count": 7,
     "metadata": {},
     "output_type": "execute_result"
    }
   ],
   "source": [
    "# using DecisionTreeClassifier() command to build a C5.0 model\n",
    "c50_01 = DecisionTreeClassifier(criterion='entropy', min_samples_leaf=1000).fit(x,y)\n",
    "# using export_graphviz() command to export the summary of the C5.0 tree\n",
    "export_graphviz(c50_01, out_file='/Users/joanna/DSHomeWork/Ch6dot/c50_01.dot')\n",
    "# using the predict() command to obtain the classifications of each record in the training data set\n",
    "c50_01.predict(x)\n"
   ]
  },
  {
   "cell_type": "code",
   "execution_count": 8,
   "metadata": {},
   "outputs": [
    {
     "data": {
      "text/plain": [
       "'The first split is done by variable FICO Score<=656.5 and the result displays in the second level. In the second level, the left node was split by variable FICO Score<=644.5, the right node was split by variable Debt-to-Income Ratio<=0.315'"
      ]
     },
     "execution_count": 8,
     "metadata": {},
     "output_type": "execute_result"
    }
   ],
   "source": [
    "'''The first split is done by variable FICO Score<=656.5 and the result displays in the second level. In the second level, the left node was split by variable FICO Score<=644.5, the right node was split by variable Debt-to-Income Ratio<=0.315'''"
   ]
  },
  {
   "cell_type": "markdown",
   "metadata": {},
   "source": [
    "24. How does your C5.0 model compare to your CART model for the loans_training data? Describe the similarities and differences."
   ]
  },
  {
   "cell_type": "code",
   "execution_count": 9,
   "metadata": {},
   "outputs": [
    {
     "data": {
      "text/plain": [
       "'Similarity: the first node was split by FICO Score<=656.5\\nDifferences: 1. C5.0 model splits much more levels than CART model\\n2. In the second level, the left node was not split in CART model, but split in C5.0model\\n3. In the second level, the right node was split by same variables but different variable value, the CART model by variable Debt-to-Income Ratio<=0.305, and the C5.0model by Debt-to-Income Ratio<=0.315'"
      ]
     },
     "execution_count": 9,
     "metadata": {},
     "output_type": "execute_result"
    }
   ],
   "source": [
    "'''Similarity: the first node was split by FICO Score<=656.5\n",
    "Differences: 1. C5.0 model splits much more levels than CART model\n",
    "2. In the second level, the left node was not split in CART model, but split in C5.0model\n",
    "3. In the second level, the right node was split by same variables but different variable value, the CART model by variable Debt-to-Income Ratio<=0.305, and the C5.0model by Debt-to-Income Ratio<=0.315'''"
   ]
  },
  {
   "cell_type": "markdown",
   "metadata": {},
   "source": [
    "25. Create a C5.0 model using the test data set that utilizes the same target variable, pre- dictor variables, and minimum cases criterion. Visualize the decision tree. Does the tree built using the test data match the tree built using the training data?\n"
   ]
  },
  {
   "cell_type": "code",
   "execution_count": 10,
   "metadata": {},
   "outputs": [
    {
     "data": {
      "text/plain": [
       "array(['F', 'F', 'F', ..., 'F', 'F', 'F'], dtype=object)"
      ]
     },
     "execution_count": 10,
     "metadata": {},
     "output_type": "execute_result"
    }
   ],
   "source": [
    "# using DecisionTreeClassifier() command to build a C5.0 model\n",
    "c50_02 = DecisionTreeClassifier(criterion='entropy', min_samples_leaf=1000).fit(x_ts, y_ts)\n",
    "# using export_graphviz() command to export the summary of the c5.0 tree\n",
    "export_graphviz(c50_02, out_file='/Users/joanna/DSHomeWork/Ch6dot/c50_02.dot')\n",
    "# using the predict() command to obtain the classifications of each record in the training data set\n",
    "c50_02.predict(x_ts)"
   ]
  },
  {
   "cell_type": "code",
   "execution_count": 11,
   "metadata": {},
   "outputs": [
    {
     "data": {
      "text/plain": [
       "'No, the tree built using the test data is different with the tree built using the training data.'"
      ]
     },
     "execution_count": 11,
     "metadata": {},
     "output_type": "execute_result"
    }
   ],
   "source": [
    "'''No, the tree built using the test data is different with the tree built using the training data.'''"
   ]
  },
  {
   "cell_type": "markdown",
   "metadata": {},
   "source": [
    "26. Use random forests on the training data set to obtain the predicted value of Approval using the same predictor variables as in the CART and C5.0 models."
   ]
  },
  {
   "cell_type": "code",
   "execution_count": 12,
   "metadata": {},
   "outputs": [],
   "source": [
    "# build random forests from the training data set in CART model\n",
    "# using numpy's ravel() command to create a one-dimensional array\n",
    "rfy = np.ravel(y)\n",
    "# use the RandomForestClassifier() command to create the random forest\n",
    "rf01 = RandomForestClassifier(n_estimators=100, criterion='gini').fit(x,rfy)\n",
    "# using the predict() command to obtain the classifications of each record in the training data set by the random forests algorithm\n",
    "rf01_result = rf01.predict(x)\n"
   ]
  },
  {
   "cell_type": "code",
   "execution_count": 13,
   "metadata": {},
   "outputs": [
    {
     "data": {
      "text/plain": [
       "array(['F', 'F', 'F', ..., 'T', 'T', 'T'], dtype=object)"
      ]
     },
     "execution_count": 13,
     "metadata": {},
     "output_type": "execute_result"
    }
   ],
   "source": [
    "# build random forests from the training data set in C5.0 model\n",
    "# using numpy's ravel() command to create a one-dimensional array\n",
    "rfy_c5 = np.ravel(y)\n",
    "# use the RandomForestClassifier() command to create the random forest\n",
    "rf01_c5 = RandomForestClassifier(n_estimators=100, criterion='entropy').fit(x,rfy_c5)\n",
    "# using the predict() command to obtain the classifications of each record in the training data set by the random forests algorithm\n",
    "rf01_c5.predict(x)\n"
   ]
  },
  {
   "cell_type": "markdown",
   "metadata": {},
   "source": [
    "27. Use random forests on the test data set to obtain the predicted value of Approval in the test data set. Build a table comparing the predictions from the training and test data sets. How do they compare?"
   ]
  },
  {
   "cell_type": "code",
   "execution_count": 14,
   "metadata": {},
   "outputs": [
    {
     "data": {
      "text/plain": [
       "array(['F', 'F', 'F', ..., 'T', 'T', 'T'], dtype=object)"
      ]
     },
     "execution_count": 14,
     "metadata": {},
     "output_type": "execute_result"
    }
   ],
   "source": [
    "# build random forests from the test data set in CART model\n",
    "# using numpy's ravel() command to create a one-dimensional array\n",
    "rfy_ts = np.ravel(y_ts)\n",
    "# use the RandomForestClassifier() command to create the random forest\n",
    "rf01_ts = RandomForestClassifier(n_estimators=100, criterion='gini').fit(x_ts,rfy_ts)\n",
    "# using the predict() command to obtain the classifications of each record in the training data set by the random forests algorithm\n",
    "rf01_ts_result = rf01_ts.predict(x_ts)\n",
    "\n",
    "rf01_ts_result"
   ]
  },
  {
   "cell_type": "code",
   "execution_count": 89,
   "metadata": {},
   "outputs": [
    {
     "data": {
      "text/plain": [
       "T    0.512013\n",
       "F    0.487987\n",
       "Name: 0, dtype: float64"
      ]
     },
     "execution_count": 89,
     "metadata": {},
     "output_type": "execute_result"
    }
   ],
   "source": [
    "# 根据老师的答案：\n",
    "pd.DataFrame(rf01_ts_result)[0].value_counts() / len(rf_test)"
   ]
  },
  {
   "cell_type": "code",
   "execution_count": 91,
   "metadata": {},
   "outputs": [
    {
     "data": {
      "text/html": [
       "<div>\n",
       "<style scoped>\n",
       "    .dataframe tbody tr th:only-of-type {\n",
       "        vertical-align: middle;\n",
       "    }\n",
       "\n",
       "    .dataframe tbody tr th {\n",
       "        vertical-align: top;\n",
       "    }\n",
       "\n",
       "    .dataframe thead th {\n",
       "        text-align: right;\n",
       "    }\n",
       "</style>\n",
       "<table border=\"1\" class=\"dataframe\">\n",
       "  <thead>\n",
       "    <tr style=\"text-align: right;\">\n",
       "      <th>Prediction Approval</th>\n",
       "      <th>F</th>\n",
       "      <th>T</th>\n",
       "    </tr>\n",
       "    <tr>\n",
       "      <th>Approval</th>\n",
       "      <th></th>\n",
       "      <th></th>\n",
       "    </tr>\n",
       "  </thead>\n",
       "  <tbody>\n",
       "    <tr>\n",
       "      <th>F</th>\n",
       "      <td>23918</td>\n",
       "      <td>1016</td>\n",
       "    </tr>\n",
       "    <tr>\n",
       "      <th>T</th>\n",
       "      <td>334</td>\n",
       "      <td>24430</td>\n",
       "    </tr>\n",
       "  </tbody>\n",
       "</table>\n",
       "</div>"
      ],
      "text/plain": [
       "Prediction Approval      F      T\n",
       "Approval                         \n",
       "F                    23918   1016\n",
       "T                      334  24430"
      ]
     },
     "execution_count": 91,
     "metadata": {},
     "output_type": "execute_result"
    }
   ],
   "source": [
    "# 根据老师的答案：\n",
    "# contigency table:\n",
    "pd.crosstab(loan_test['Approval'],rf01_ts_result, colnames=['Prediction Approval'])"
   ]
  },
  {
   "cell_type": "code",
   "execution_count": 15,
   "metadata": {},
   "outputs": [
    {
     "data": {
      "text/html": [
       "<div>\n",
       "<style scoped>\n",
       "    .dataframe tbody tr th:only-of-type {\n",
       "        vertical-align: middle;\n",
       "    }\n",
       "\n",
       "    .dataframe tbody tr th {\n",
       "        vertical-align: top;\n",
       "    }\n",
       "\n",
       "    .dataframe thead th {\n",
       "        text-align: right;\n",
       "    }\n",
       "</style>\n",
       "<table border=\"1\" class=\"dataframe\">\n",
       "  <thead>\n",
       "    <tr style=\"text-align: right;\">\n",
       "      <th></th>\n",
       "      <th>Approval</th>\n",
       "      <th>Debt-to-Income Ratio</th>\n",
       "      <th>FICO Score</th>\n",
       "      <th>Request Amount</th>\n",
       "      <th>Interest</th>\n",
       "      <th>rf_tr</th>\n",
       "    </tr>\n",
       "  </thead>\n",
       "  <tbody>\n",
       "    <tr>\n",
       "      <th>0</th>\n",
       "      <td>F</td>\n",
       "      <td>0.00</td>\n",
       "      <td>397</td>\n",
       "      <td>1000</td>\n",
       "      <td>450.0</td>\n",
       "      <td>F</td>\n",
       "    </tr>\n",
       "    <tr>\n",
       "      <th>1</th>\n",
       "      <td>F</td>\n",
       "      <td>0.00</td>\n",
       "      <td>403</td>\n",
       "      <td>500</td>\n",
       "      <td>225.0</td>\n",
       "      <td>F</td>\n",
       "    </tr>\n",
       "    <tr>\n",
       "      <th>2</th>\n",
       "      <td>F</td>\n",
       "      <td>0.00</td>\n",
       "      <td>408</td>\n",
       "      <td>1000</td>\n",
       "      <td>450.0</td>\n",
       "      <td>F</td>\n",
       "    </tr>\n",
       "    <tr>\n",
       "      <th>3</th>\n",
       "      <td>F</td>\n",
       "      <td>0.00</td>\n",
       "      <td>408</td>\n",
       "      <td>2000</td>\n",
       "      <td>900.0</td>\n",
       "      <td>F</td>\n",
       "    </tr>\n",
       "    <tr>\n",
       "      <th>4</th>\n",
       "      <td>F</td>\n",
       "      <td>0.00</td>\n",
       "      <td>411</td>\n",
       "      <td>5000</td>\n",
       "      <td>2250.0</td>\n",
       "      <td>F</td>\n",
       "    </tr>\n",
       "    <tr>\n",
       "      <th>...</th>\n",
       "      <td>...</td>\n",
       "      <td>...</td>\n",
       "      <td>...</td>\n",
       "      <td>...</td>\n",
       "      <td>...</td>\n",
       "      <td>...</td>\n",
       "    </tr>\n",
       "    <tr>\n",
       "      <th>150297</th>\n",
       "      <td>T</td>\n",
       "      <td>0.38</td>\n",
       "      <td>709</td>\n",
       "      <td>19000</td>\n",
       "      <td>8550.0</td>\n",
       "      <td>T</td>\n",
       "    </tr>\n",
       "    <tr>\n",
       "      <th>150298</th>\n",
       "      <td>T</td>\n",
       "      <td>0.38</td>\n",
       "      <td>722</td>\n",
       "      <td>17000</td>\n",
       "      <td>7650.0</td>\n",
       "      <td>T</td>\n",
       "    </tr>\n",
       "    <tr>\n",
       "      <th>150299</th>\n",
       "      <td>T</td>\n",
       "      <td>0.38</td>\n",
       "      <td>747</td>\n",
       "      <td>11000</td>\n",
       "      <td>4950.0</td>\n",
       "      <td>T</td>\n",
       "    </tr>\n",
       "    <tr>\n",
       "      <th>150300</th>\n",
       "      <td>T</td>\n",
       "      <td>0.39</td>\n",
       "      <td>679</td>\n",
       "      <td>10000</td>\n",
       "      <td>4500.0</td>\n",
       "      <td>T</td>\n",
       "    </tr>\n",
       "    <tr>\n",
       "      <th>150301</th>\n",
       "      <td>T</td>\n",
       "      <td>0.39</td>\n",
       "      <td>769</td>\n",
       "      <td>7000</td>\n",
       "      <td>3150.0</td>\n",
       "      <td>T</td>\n",
       "    </tr>\n",
       "  </tbody>\n",
       "</table>\n",
       "<p>150302 rows × 6 columns</p>\n",
       "</div>"
      ],
      "text/plain": [
       "       Approval  Debt-to-Income Ratio  FICO Score  Request Amount  Interest  \\\n",
       "0             F                  0.00         397            1000     450.0   \n",
       "1             F                  0.00         403             500     225.0   \n",
       "2             F                  0.00         408            1000     450.0   \n",
       "3             F                  0.00         408            2000     900.0   \n",
       "4             F                  0.00         411            5000    2250.0   \n",
       "...         ...                   ...         ...             ...       ...   \n",
       "150297        T                  0.38         709           19000    8550.0   \n",
       "150298        T                  0.38         722           17000    7650.0   \n",
       "150299        T                  0.38         747           11000    4950.0   \n",
       "150300        T                  0.39         679           10000    4500.0   \n",
       "150301        T                  0.39         769            7000    3150.0   \n",
       "\n",
       "       rf_tr  \n",
       "0          F  \n",
       "1          F  \n",
       "2          F  \n",
       "3          F  \n",
       "4          F  \n",
       "...      ...  \n",
       "150297     T  \n",
       "150298     T  \n",
       "150299     T  \n",
       "150300     T  \n",
       "150301     T  \n",
       "\n",
       "[150302 rows x 6 columns]"
      ]
     },
     "execution_count": 15,
     "metadata": {},
     "output_type": "execute_result"
    }
   ],
   "source": [
    "# convert the predictions of random forests from training and test datas to dataframes\n",
    "rf01_df = pd.DataFrame(rf01_result)\n",
    "rf01_ts_df = pd.DataFrame(rf01_ts_result)\n",
    "# concatenate the predictions from traning data set to the end of loan_train dataset\n",
    "concat_tr_predict = pd.concat([loan_train, rf01_df.rename(columns={0:'rf_tr'})], axis=1)\n",
    "# concatenate the predictions from test data set to the end of loan_train dataset\n",
    "concat_ts_predict = pd.concat([loan_test, rf01_ts_df.rename(columns={0:'rf_ts'})], axis=1)\n",
    "\n",
    "concat_tr_predict.to_csv('concat_tr_predict')\n",
    "concat_ts_predict.to_csv('concat_ts_predict')\n",
    "\n",
    "concat_tr_predict"
   ]
  },
  {
   "cell_type": "code",
   "execution_count": 16,
   "metadata": {},
   "outputs": [
    {
     "data": {
      "text/html": [
       "<div>\n",
       "<style scoped>\n",
       "    .dataframe tbody tr th:only-of-type {\n",
       "        vertical-align: middle;\n",
       "    }\n",
       "\n",
       "    .dataframe tbody tr th {\n",
       "        vertical-align: top;\n",
       "    }\n",
       "\n",
       "    .dataframe thead th {\n",
       "        text-align: right;\n",
       "    }\n",
       "</style>\n",
       "<table border=\"1\" class=\"dataframe\">\n",
       "  <thead>\n",
       "    <tr style=\"text-align: right;\">\n",
       "      <th></th>\n",
       "      <th>Approval</th>\n",
       "      <th>Debt-to-Income Ratio</th>\n",
       "      <th>FICO Score</th>\n",
       "      <th>Request Amount</th>\n",
       "      <th>Interest</th>\n",
       "      <th>rf_ts</th>\n",
       "    </tr>\n",
       "  </thead>\n",
       "  <tbody>\n",
       "    <tr>\n",
       "      <th>0</th>\n",
       "      <td>F</td>\n",
       "      <td>0.00</td>\n",
       "      <td>413</td>\n",
       "      <td>2000</td>\n",
       "      <td>900.0</td>\n",
       "      <td>F</td>\n",
       "    </tr>\n",
       "    <tr>\n",
       "      <th>1</th>\n",
       "      <td>F</td>\n",
       "      <td>0.00</td>\n",
       "      <td>449</td>\n",
       "      <td>1000</td>\n",
       "      <td>450.0</td>\n",
       "      <td>F</td>\n",
       "    </tr>\n",
       "    <tr>\n",
       "      <th>2</th>\n",
       "      <td>F</td>\n",
       "      <td>0.00</td>\n",
       "      <td>454</td>\n",
       "      <td>6000</td>\n",
       "      <td>2700.0</td>\n",
       "      <td>F</td>\n",
       "    </tr>\n",
       "    <tr>\n",
       "      <th>3</th>\n",
       "      <td>F</td>\n",
       "      <td>0.00</td>\n",
       "      <td>456</td>\n",
       "      <td>1000</td>\n",
       "      <td>450.0</td>\n",
       "      <td>F</td>\n",
       "    </tr>\n",
       "    <tr>\n",
       "      <th>4</th>\n",
       "      <td>F</td>\n",
       "      <td>0.00</td>\n",
       "      <td>457</td>\n",
       "      <td>1000</td>\n",
       "      <td>450.0</td>\n",
       "      <td>F</td>\n",
       "    </tr>\n",
       "    <tr>\n",
       "      <th>...</th>\n",
       "      <td>...</td>\n",
       "      <td>...</td>\n",
       "      <td>...</td>\n",
       "      <td>...</td>\n",
       "      <td>...</td>\n",
       "      <td>...</td>\n",
       "    </tr>\n",
       "    <tr>\n",
       "      <th>49693</th>\n",
       "      <td>T</td>\n",
       "      <td>0.38</td>\n",
       "      <td>662</td>\n",
       "      <td>14000</td>\n",
       "      <td>6300.0</td>\n",
       "      <td>T</td>\n",
       "    </tr>\n",
       "    <tr>\n",
       "      <th>49694</th>\n",
       "      <td>T</td>\n",
       "      <td>0.38</td>\n",
       "      <td>664</td>\n",
       "      <td>16000</td>\n",
       "      <td>7200.0</td>\n",
       "      <td>T</td>\n",
       "    </tr>\n",
       "    <tr>\n",
       "      <th>49695</th>\n",
       "      <td>T</td>\n",
       "      <td>0.38</td>\n",
       "      <td>676</td>\n",
       "      <td>4000</td>\n",
       "      <td>1800.0</td>\n",
       "      <td>T</td>\n",
       "    </tr>\n",
       "    <tr>\n",
       "      <th>49696</th>\n",
       "      <td>T</td>\n",
       "      <td>0.38</td>\n",
       "      <td>680</td>\n",
       "      <td>6000</td>\n",
       "      <td>2700.0</td>\n",
       "      <td>T</td>\n",
       "    </tr>\n",
       "    <tr>\n",
       "      <th>49697</th>\n",
       "      <td>T</td>\n",
       "      <td>0.39</td>\n",
       "      <td>662</td>\n",
       "      <td>500</td>\n",
       "      <td>225.0</td>\n",
       "      <td>T</td>\n",
       "    </tr>\n",
       "  </tbody>\n",
       "</table>\n",
       "<p>49698 rows × 6 columns</p>\n",
       "</div>"
      ],
      "text/plain": [
       "      Approval  Debt-to-Income Ratio  FICO Score  Request Amount  Interest  \\\n",
       "0            F                  0.00         413            2000     900.0   \n",
       "1            F                  0.00         449            1000     450.0   \n",
       "2            F                  0.00         454            6000    2700.0   \n",
       "3            F                  0.00         456            1000     450.0   \n",
       "4            F                  0.00         457            1000     450.0   \n",
       "...        ...                   ...         ...             ...       ...   \n",
       "49693        T                  0.38         662           14000    6300.0   \n",
       "49694        T                  0.38         664           16000    7200.0   \n",
       "49695        T                  0.38         676            4000    1800.0   \n",
       "49696        T                  0.38         680            6000    2700.0   \n",
       "49697        T                  0.39         662             500     225.0   \n",
       "\n",
       "      rf_ts  \n",
       "0         F  \n",
       "1         F  \n",
       "2         F  \n",
       "3         F  \n",
       "4         F  \n",
       "...     ...  \n",
       "49693     T  \n",
       "49694     T  \n",
       "49695     T  \n",
       "49696     T  \n",
       "49697     T  \n",
       "\n",
       "[49698 rows x 6 columns]"
      ]
     },
     "execution_count": 16,
     "metadata": {},
     "output_type": "execute_result"
    }
   ],
   "source": [
    "concat_ts_predict"
   ]
  },
  {
   "cell_type": "code",
   "execution_count": 17,
   "metadata": {},
   "outputs": [
    {
     "data": {
      "text/plain": [
       "'The prediction of approval are the same as the orignial data set variable Approval value'"
      ]
     },
     "execution_count": 17,
     "metadata": {},
     "output_type": "execute_result"
    }
   ],
   "source": [
    "'''The prediction of approval are the same as the orignial data set variable Approval value'''"
   ]
  },
  {
   "cell_type": "code",
   "execution_count": 18,
   "metadata": {},
   "outputs": [
    {
     "data": {
      "text/html": [
       "<div>\n",
       "<style scoped>\n",
       "    .dataframe tbody tr th:only-of-type {\n",
       "        vertical-align: middle;\n",
       "    }\n",
       "\n",
       "    .dataframe tbody tr th {\n",
       "        vertical-align: top;\n",
       "    }\n",
       "\n",
       "    .dataframe thead th {\n",
       "        text-align: right;\n",
       "    }\n",
       "</style>\n",
       "<table border=\"1\" class=\"dataframe\">\n",
       "  <thead>\n",
       "    <tr style=\"text-align: right;\">\n",
       "      <th>col_0</th>\n",
       "      <th>F</th>\n",
       "      <th>T</th>\n",
       "    </tr>\n",
       "    <tr>\n",
       "      <th>Approval</th>\n",
       "      <th></th>\n",
       "      <th></th>\n",
       "    </tr>\n",
       "  </thead>\n",
       "  <tbody>\n",
       "    <tr>\n",
       "      <th>F</th>\n",
       "      <td>23930</td>\n",
       "      <td>1004</td>\n",
       "    </tr>\n",
       "    <tr>\n",
       "      <th>T</th>\n",
       "      <td>344</td>\n",
       "      <td>24420</td>\n",
       "    </tr>\n",
       "  </tbody>\n",
       "</table>\n",
       "</div>"
      ],
      "text/plain": [
       "col_0         F      T\n",
       "Approval              \n",
       "F         23930   1004\n",
       "T           344  24420"
      ]
     },
     "execution_count": 18,
     "metadata": {},
     "output_type": "execute_result"
    }
   ],
   "source": [
    "# Question 27 (Solution from professor老师的答案)\n",
    "# Use random forests on the test data set to obtain the predicted value of Approval in the test data set. \n",
    "# Build a table comparing the predictions from the training and test data sets. \n",
    "# How do they compare? \n",
    "\n",
    "# save target variable\n",
    "y = loan_test[['Approval']]\n",
    "X = loan_test[['Debt-to-Income Ratio','FICO Score','Request Amount']]\n",
    "\n",
    "# specify names of matrix and the target variable\n",
    "X_names = X.columns\n",
    "y_names = list(set(y['Approval']))\n",
    "\n",
    "# format for random forest model\n",
    "rfy = np.ravel(y)\n",
    "\n",
    "# train random forest model\n",
    "rf02 = RandomForestClassifier(n_estimators = 100, criterion=\"gini\").fit(X,rfy)\n",
    "\n",
    "# return predictions\n",
    "rf_test = rf02.predict(X)\n",
    "\n",
    "# predictions\n",
    "pd.DataFrame(rf_test)[0].value_counts() / len(rf_test)\n",
    "\n",
    "# contingency table\n",
    "pd.crosstab(loan_test['Approval'],rf_test)\n",
    "\n",
    "# The model performance was similar with the training RF model had an overall accuracy of 94.2% and the RF test dataset had an accuracy of 97.3%"
   ]
  },
  {
   "cell_type": "markdown",
   "metadata": {},
   "source": [
    "For Exercises 28–34, work with the bank_marketing_training and bank_marketing_test data sets. Use either Python or R to solve each problem.\n",
    "28. Create a CART model using the training data set that predicts Response using whatever predictors you think appropriate. Visualize the decision tree. Describe the first few splits in the decision tree."
   ]
  },
  {
   "cell_type": "code",
   "execution_count": 19,
   "metadata": {},
   "outputs": [],
   "source": [
    "# import the data set\n",
    "bank_train = pd.read_csv('bank_marketing_training')\n",
    "bank_test = pd.read_csv('bank_marketing_test')"
   ]
  },
  {
   "cell_type": "code",
   "execution_count": 20,
   "metadata": {},
   "outputs": [
    {
     "data": {
      "text/plain": [
       "array(['no', 'no', 'no', ..., 'no', 'no', 'no'], dtype=object)"
      ]
     },
     "execution_count": 20,
     "metadata": {},
     "output_type": "execute_result"
    }
   ],
   "source": [
    "# save the response variable (target) as y\n",
    "y_bkt = bank_train[['response']]\n",
    "# save the other 3 variable (predictor) as x\n",
    "x_bkt = bank_train[['age', 'campaign', 'previous']]\n",
    "# specify each names on each of columns of x and y to help use to visualize the CART model  \n",
    "x_names = ['age', 'campaign', 'previous']\n",
    "y_names = ['yes', 'no']\n",
    "# run the CART algorithm\n",
    "cart03 = DecisionTreeClassifier(criterion='gini', max_leaf_nodes=8).fit(x_bkt,y_bkt)\n",
    "# using the export_graphviz() command to obtain the tree structure\n",
    "export_graphviz(cart03, out_file='/Users/joanna/DSHomeWork/Ch6dot/cart03.dot', feature_names=x_names, class_names=y_names)\n",
    "# use the predict() command to obtain the classifications of the approval variable\n",
    "cart03.predict(x_bkt)\n"
   ]
  },
  {
   "cell_type": "code",
   "execution_count": 21,
   "metadata": {},
   "outputs": [
    {
     "data": {
      "text/plain": [
       "'The node split by the variable previous<=1.5, the yes response displays on the left node in the second level and the no response displays on the right node in the second level'"
      ]
     },
     "execution_count": 21,
     "metadata": {},
     "output_type": "execute_result"
    }
   ],
   "source": [
    "'''The node split by the variable previous<=1.5, the yes response displays on the left node in the second level and the no response displays on the right node in the second level'''"
   ]
  },
  {
   "cell_type": "markdown",
   "metadata": {},
   "source": [
    "29. Develop a CART model using the test data set and the same target and predictor vari- ables. Visualize the decision tree. Investigate the splits in the decision tree. Does the tree built using the test data match the tree built using the training data?"
   ]
  },
  {
   "cell_type": "code",
   "execution_count": 22,
   "metadata": {},
   "outputs": [
    {
     "data": {
      "text/plain": [
       "array(['no', 'no', 'no', ..., 'no', 'no', 'no'], dtype=object)"
      ]
     },
     "execution_count": 22,
     "metadata": {},
     "output_type": "execute_result"
    }
   ],
   "source": [
    "# save the response variable (target) as y\n",
    "y_bkts = bank_test[['response']]\n",
    "# save the other 3 variable (predictor) as x\n",
    "x_bkts = bank_test[['age', 'campaign', 'previous']]\n",
    "# specify each names on each of columns of x and y to help use to visualize the CART model  \n",
    "x_names = ['age', 'campaign', 'previous']\n",
    "y_names = ['yes', 'no']\n",
    "# run the CART algorithm\n",
    "cart04 = DecisionTreeClassifier(criterion='gini', max_leaf_nodes=8).fit(x_bkts,y_bkts)\n",
    "# using the export_graphviz() command to obtain the tree structure\n",
    "export_graphviz(cart04, out_file='/Users/joanna/DSHomeWork/Ch6dot/cart04.dot', feature_names=x_names, class_names=y_names)\n",
    "# use the predict() command to obtain the classifications of the approval variable\n",
    "cart04.predict(x_bkts)\n"
   ]
  },
  {
   "cell_type": "code",
   "execution_count": 23,
   "metadata": {},
   "outputs": [
    {
     "data": {
      "text/plain": [
       "'Yes, they are exactly the same.'"
      ]
     },
     "execution_count": 23,
     "metadata": {},
     "output_type": "execute_result"
    }
   ],
   "source": [
    "'''Yes, they are exactly the same.'''"
   ]
  },
  {
   "cell_type": "markdown",
   "metadata": {},
   "source": [
    "30. Build a C5.0 model using the training data set that predicts Response and the same target and predictor variables. Specify a minimum of 1000 cases per terminal node. Visualize the decision tree. Describe the first few splits in the decision tree."
   ]
  },
  {
   "cell_type": "code",
   "execution_count": 24,
   "metadata": {},
   "outputs": [
    {
     "data": {
      "text/plain": [
       "array(['no', 'no', 'no', ..., 'no', 'no', 'no'], dtype=object)"
      ]
     },
     "execution_count": 24,
     "metadata": {},
     "output_type": "execute_result"
    }
   ],
   "source": [
    "# using DecisionTreeClassifier() command to build a C5.0 model\n",
    "c50_03 = DecisionTreeClassifier(criterion='entropy', min_samples_leaf=1000).fit(x_bkt,y_bkt)\n",
    "# using export_graphviz() command to export the summary of the C5.0 tree\n",
    "export_graphviz(c50_03, out_file='/Users/joanna/DSHomeWork/Ch6dot/c50_03.dot', feature_names=x_names, class_names=y_names)\n",
    "# using the predict() command to obtain the classifications of each record in the training data set\n",
    "c50_03.predict(x_bkt)\n"
   ]
  },
  {
   "cell_type": "code",
   "execution_count": 25,
   "metadata": {},
   "outputs": [
    {
     "data": {
      "text/plain": [
       "'There is 11 levels of nodes. The first node was split by variable privious<=0.5, the yes value in response rariable was displayed on the left side of the second level, and the no value in respose variable was displayed on the right side of the second level.  '"
      ]
     },
     "execution_count": 25,
     "metadata": {},
     "output_type": "execute_result"
    }
   ],
   "source": [
    "'''There is 11 levels of nodes. The first node was split by variable privious<=0.5, the yes value in response rariable was displayed on the left side of the second level, and the no value in respose variable was displayed on the right side of the second level.  '''"
   ]
  },
  {
   "cell_type": "markdown",
   "metadata": {},
   "source": [
    "31. How does your C5.0 model compare to your CART model for the bank_marketing_ training data? Describe the similarities and differences."
   ]
  },
  {
   "cell_type": "code",
   "execution_count": 26,
   "metadata": {},
   "outputs": [
    {
     "data": {
      "text/plain": [
       "'Similarity: the first node split both by varialbe previous. the left node on the second split by variable age. \\nDifferences: the trees were split into different levels by different models. The sample size and criteria on each leaf are differnt by different model.'"
      ]
     },
     "execution_count": 26,
     "metadata": {},
     "output_type": "execute_result"
    }
   ],
   "source": [
    "'''Similarity: the first node split both by varialbe previous. the left node on the second split by variable age. \n",
    "Differences: the trees were split into different levels by different models. The sample size and criteria on each leaf are differnt by different model.'''"
   ]
  },
  {
   "cell_type": "markdown",
   "metadata": {},
   "source": [
    "32. Create a C5.0 model using the test data set that utilizes the same target variable, predictor variables, and minimum cases criterion. Visualize the decision tree. Does the tree built using the test data match the tree built using the training data?"
   ]
  },
  {
   "cell_type": "code",
   "execution_count": 27,
   "metadata": {},
   "outputs": [
    {
     "data": {
      "text/plain": [
       "array(['no', 'no', 'no', ..., 'no', 'no', 'no'], dtype=object)"
      ]
     },
     "execution_count": 27,
     "metadata": {},
     "output_type": "execute_result"
    }
   ],
   "source": [
    "# using DecisionTreeClassifier() command to build a C5.0 model\n",
    "c50_04 = DecisionTreeClassifier(criterion='entropy', min_samples_leaf=1000).fit(x_bkts,y_bkts)\n",
    "# using export_graphviz() command to export the summary of the C5.0 tree\n",
    "export_graphviz(c50_04, out_file='/Users/joanna/DSHomeWork/Ch6dot/c50_04.dot', feature_names=x_names, class_names=y_names)\n",
    "# using the predict() command to obtain the classifications of each record in the training data set\n",
    "c50_04.predict(x_bkts)"
   ]
  },
  {
   "cell_type": "code",
   "execution_count": 28,
   "metadata": {},
   "outputs": [
    {
     "data": {
      "text/plain": [
       "'Yes, they are exactly the same.'"
      ]
     },
     "execution_count": 28,
     "metadata": {},
     "output_type": "execute_result"
    }
   ],
   "source": [
    "'''Yes, they are exactly the same.'''"
   ]
  },
  {
   "cell_type": "markdown",
   "metadata": {},
   "source": [
    "33. Use random forests on the training data set to obtain the predicted value of Response using the same predictor variables as in the CART and C5.0 models."
   ]
  },
  {
   "cell_type": "code",
   "execution_count": 29,
   "metadata": {},
   "outputs": [],
   "source": [
    "# build random forests from the training data set using gini as criterion\n",
    "# using numpy's ravel() command to create a one-dimensional array\n",
    "rfy_bkt = np.ravel(y_bkt)\n",
    "# use the RandomForestClassifier() command to create the random forest\n",
    "rf02 = RandomForestClassifier(n_estimators=100, criterion='gini').fit(x_bkt,rfy_bkt)\n",
    "# using the predict() command to obtain the classifications of each record in the training data set by the random forests algorithm\n",
    "rf02_bktrain_predict = rf02.predict(x_bkt)"
   ]
  },
  {
   "cell_type": "markdown",
   "metadata": {},
   "source": [
    "34. Use random forests on the test data set to obtain the predicted value of Response in the test data set. Build a table comparing the predictions from the training and test data sets. How do they compare?"
   ]
  },
  {
   "cell_type": "code",
   "execution_count": 30,
   "metadata": {},
   "outputs": [],
   "source": [
    "# build random forests from the test data set using gini as criterion\n",
    "# using numpy's ravel() command to create a one-dimensional array\n",
    "rfy_bkts = np.ravel(y_bkts)\n",
    "# use the RandomForestClassifier() command to create the random forest\n",
    "rf03 = RandomForestClassifier(n_estimators=100, criterion='gini').fit(x_bkts,rfy_bkts)\n",
    "# using the predict() command to obtain the classifications of each record in the training data set by the random forests algorithm\n",
    "rf03_bktest_predict = rf03.predict(x_bkt)"
   ]
  },
  {
   "cell_type": "code",
   "execution_count": 31,
   "metadata": {},
   "outputs": [
    {
     "data": {
      "text/html": [
       "<div>\n",
       "<style scoped>\n",
       "    .dataframe tbody tr th:only-of-type {\n",
       "        vertical-align: middle;\n",
       "    }\n",
       "\n",
       "    .dataframe tbody tr th {\n",
       "        vertical-align: top;\n",
       "    }\n",
       "\n",
       "    .dataframe thead th {\n",
       "        text-align: right;\n",
       "    }\n",
       "</style>\n",
       "<table border=\"1\" class=\"dataframe\">\n",
       "  <thead>\n",
       "    <tr style=\"text-align: right;\">\n",
       "      <th></th>\n",
       "      <th>age</th>\n",
       "      <th>job</th>\n",
       "      <th>marital</th>\n",
       "      <th>education</th>\n",
       "      <th>default</th>\n",
       "      <th>housing</th>\n",
       "      <th>loan</th>\n",
       "      <th>contact</th>\n",
       "      <th>month</th>\n",
       "      <th>day_of_week</th>\n",
       "      <th>...</th>\n",
       "      <th>previous</th>\n",
       "      <th>previous_outcome</th>\n",
       "      <th>emp.var.rate</th>\n",
       "      <th>cons.price.idx</th>\n",
       "      <th>cons.conf.idx</th>\n",
       "      <th>euribor3m</th>\n",
       "      <th>nr.employed</th>\n",
       "      <th>response</th>\n",
       "      <th>training set predic</th>\n",
       "      <th>test set predic</th>\n",
       "    </tr>\n",
       "  </thead>\n",
       "  <tbody>\n",
       "    <tr>\n",
       "      <th>0</th>\n",
       "      <td>56</td>\n",
       "      <td>housemaid</td>\n",
       "      <td>married</td>\n",
       "      <td>basic.4y</td>\n",
       "      <td>no</td>\n",
       "      <td>no</td>\n",
       "      <td>no</td>\n",
       "      <td>telephone</td>\n",
       "      <td>may</td>\n",
       "      <td>mon</td>\n",
       "      <td>...</td>\n",
       "      <td>0</td>\n",
       "      <td>nonexistent</td>\n",
       "      <td>1.1</td>\n",
       "      <td>93.994</td>\n",
       "      <td>-36.4</td>\n",
       "      <td>4.857</td>\n",
       "      <td>5191</td>\n",
       "      <td>no</td>\n",
       "      <td>no</td>\n",
       "      <td>no</td>\n",
       "    </tr>\n",
       "    <tr>\n",
       "      <th>1</th>\n",
       "      <td>57</td>\n",
       "      <td>services</td>\n",
       "      <td>married</td>\n",
       "      <td>high.school</td>\n",
       "      <td>unknown</td>\n",
       "      <td>no</td>\n",
       "      <td>no</td>\n",
       "      <td>telephone</td>\n",
       "      <td>may</td>\n",
       "      <td>mon</td>\n",
       "      <td>...</td>\n",
       "      <td>0</td>\n",
       "      <td>nonexistent</td>\n",
       "      <td>1.1</td>\n",
       "      <td>93.994</td>\n",
       "      <td>-36.4</td>\n",
       "      <td>4.857</td>\n",
       "      <td>5191</td>\n",
       "      <td>no</td>\n",
       "      <td>no</td>\n",
       "      <td>no</td>\n",
       "    </tr>\n",
       "    <tr>\n",
       "      <th>2</th>\n",
       "      <td>41</td>\n",
       "      <td>blue-collar</td>\n",
       "      <td>married</td>\n",
       "      <td>unknown</td>\n",
       "      <td>unknown</td>\n",
       "      <td>no</td>\n",
       "      <td>no</td>\n",
       "      <td>telephone</td>\n",
       "      <td>may</td>\n",
       "      <td>mon</td>\n",
       "      <td>...</td>\n",
       "      <td>0</td>\n",
       "      <td>nonexistent</td>\n",
       "      <td>1.1</td>\n",
       "      <td>93.994</td>\n",
       "      <td>-36.4</td>\n",
       "      <td>4.857</td>\n",
       "      <td>5191</td>\n",
       "      <td>no</td>\n",
       "      <td>no</td>\n",
       "      <td>no</td>\n",
       "    </tr>\n",
       "    <tr>\n",
       "      <th>3</th>\n",
       "      <td>25</td>\n",
       "      <td>services</td>\n",
       "      <td>single</td>\n",
       "      <td>high.school</td>\n",
       "      <td>no</td>\n",
       "      <td>yes</td>\n",
       "      <td>no</td>\n",
       "      <td>telephone</td>\n",
       "      <td>may</td>\n",
       "      <td>mon</td>\n",
       "      <td>...</td>\n",
       "      <td>0</td>\n",
       "      <td>nonexistent</td>\n",
       "      <td>1.1</td>\n",
       "      <td>93.994</td>\n",
       "      <td>-36.4</td>\n",
       "      <td>4.857</td>\n",
       "      <td>5191</td>\n",
       "      <td>no</td>\n",
       "      <td>no</td>\n",
       "      <td>no</td>\n",
       "    </tr>\n",
       "    <tr>\n",
       "      <th>4</th>\n",
       "      <td>29</td>\n",
       "      <td>blue-collar</td>\n",
       "      <td>single</td>\n",
       "      <td>high.school</td>\n",
       "      <td>no</td>\n",
       "      <td>no</td>\n",
       "      <td>yes</td>\n",
       "      <td>telephone</td>\n",
       "      <td>may</td>\n",
       "      <td>mon</td>\n",
       "      <td>...</td>\n",
       "      <td>0</td>\n",
       "      <td>nonexistent</td>\n",
       "      <td>1.1</td>\n",
       "      <td>93.994</td>\n",
       "      <td>-36.4</td>\n",
       "      <td>4.857</td>\n",
       "      <td>5191</td>\n",
       "      <td>no</td>\n",
       "      <td>no</td>\n",
       "      <td>no</td>\n",
       "    </tr>\n",
       "    <tr>\n",
       "      <th>...</th>\n",
       "      <td>...</td>\n",
       "      <td>...</td>\n",
       "      <td>...</td>\n",
       "      <td>...</td>\n",
       "      <td>...</td>\n",
       "      <td>...</td>\n",
       "      <td>...</td>\n",
       "      <td>...</td>\n",
       "      <td>...</td>\n",
       "      <td>...</td>\n",
       "      <td>...</td>\n",
       "      <td>...</td>\n",
       "      <td>...</td>\n",
       "      <td>...</td>\n",
       "      <td>...</td>\n",
       "      <td>...</td>\n",
       "      <td>...</td>\n",
       "      <td>...</td>\n",
       "      <td>...</td>\n",
       "      <td>...</td>\n",
       "      <td>...</td>\n",
       "    </tr>\n",
       "    <tr>\n",
       "      <th>26869</th>\n",
       "      <td>36</td>\n",
       "      <td>admin.</td>\n",
       "      <td>married</td>\n",
       "      <td>university.degree</td>\n",
       "      <td>no</td>\n",
       "      <td>no</td>\n",
       "      <td>no</td>\n",
       "      <td>cellular</td>\n",
       "      <td>nov</td>\n",
       "      <td>fri</td>\n",
       "      <td>...</td>\n",
       "      <td>0</td>\n",
       "      <td>nonexistent</td>\n",
       "      <td>-1.1</td>\n",
       "      <td>94.767</td>\n",
       "      <td>-50.8</td>\n",
       "      <td>1.028</td>\n",
       "      <td>4963</td>\n",
       "      <td>no</td>\n",
       "      <td>no</td>\n",
       "      <td>no</td>\n",
       "    </tr>\n",
       "    <tr>\n",
       "      <th>26870</th>\n",
       "      <td>37</td>\n",
       "      <td>admin.</td>\n",
       "      <td>married</td>\n",
       "      <td>university.degree</td>\n",
       "      <td>no</td>\n",
       "      <td>yes</td>\n",
       "      <td>no</td>\n",
       "      <td>cellular</td>\n",
       "      <td>nov</td>\n",
       "      <td>fri</td>\n",
       "      <td>...</td>\n",
       "      <td>0</td>\n",
       "      <td>nonexistent</td>\n",
       "      <td>-1.1</td>\n",
       "      <td>94.767</td>\n",
       "      <td>-50.8</td>\n",
       "      <td>1.028</td>\n",
       "      <td>4963</td>\n",
       "      <td>yes</td>\n",
       "      <td>no</td>\n",
       "      <td>no</td>\n",
       "    </tr>\n",
       "    <tr>\n",
       "      <th>26871</th>\n",
       "      <td>29</td>\n",
       "      <td>unemployed</td>\n",
       "      <td>single</td>\n",
       "      <td>basic.4y</td>\n",
       "      <td>no</td>\n",
       "      <td>yes</td>\n",
       "      <td>no</td>\n",
       "      <td>cellular</td>\n",
       "      <td>nov</td>\n",
       "      <td>fri</td>\n",
       "      <td>...</td>\n",
       "      <td>1</td>\n",
       "      <td>success</td>\n",
       "      <td>-1.1</td>\n",
       "      <td>94.767</td>\n",
       "      <td>-50.8</td>\n",
       "      <td>1.028</td>\n",
       "      <td>4963</td>\n",
       "      <td>no</td>\n",
       "      <td>no</td>\n",
       "      <td>no</td>\n",
       "    </tr>\n",
       "    <tr>\n",
       "      <th>26872</th>\n",
       "      <td>73</td>\n",
       "      <td>retired</td>\n",
       "      <td>married</td>\n",
       "      <td>professional.course</td>\n",
       "      <td>no</td>\n",
       "      <td>yes</td>\n",
       "      <td>no</td>\n",
       "      <td>cellular</td>\n",
       "      <td>nov</td>\n",
       "      <td>fri</td>\n",
       "      <td>...</td>\n",
       "      <td>0</td>\n",
       "      <td>nonexistent</td>\n",
       "      <td>-1.1</td>\n",
       "      <td>94.767</td>\n",
       "      <td>-50.8</td>\n",
       "      <td>1.028</td>\n",
       "      <td>4963</td>\n",
       "      <td>yes</td>\n",
       "      <td>yes</td>\n",
       "      <td>yes</td>\n",
       "    </tr>\n",
       "    <tr>\n",
       "      <th>26873</th>\n",
       "      <td>46</td>\n",
       "      <td>blue-collar</td>\n",
       "      <td>married</td>\n",
       "      <td>professional.course</td>\n",
       "      <td>no</td>\n",
       "      <td>no</td>\n",
       "      <td>no</td>\n",
       "      <td>cellular</td>\n",
       "      <td>nov</td>\n",
       "      <td>fri</td>\n",
       "      <td>...</td>\n",
       "      <td>0</td>\n",
       "      <td>nonexistent</td>\n",
       "      <td>-1.1</td>\n",
       "      <td>94.767</td>\n",
       "      <td>-50.8</td>\n",
       "      <td>1.028</td>\n",
       "      <td>4963</td>\n",
       "      <td>no</td>\n",
       "      <td>no</td>\n",
       "      <td>no</td>\n",
       "    </tr>\n",
       "  </tbody>\n",
       "</table>\n",
       "<p>26874 rows × 23 columns</p>\n",
       "</div>"
      ],
      "text/plain": [
       "       age          job  marital            education  default housing loan  \\\n",
       "0       56    housemaid  married             basic.4y       no      no   no   \n",
       "1       57     services  married          high.school  unknown      no   no   \n",
       "2       41  blue-collar  married              unknown  unknown      no   no   \n",
       "3       25     services   single          high.school       no     yes   no   \n",
       "4       29  blue-collar   single          high.school       no      no  yes   \n",
       "...    ...          ...      ...                  ...      ...     ...  ...   \n",
       "26869   36       admin.  married    university.degree       no      no   no   \n",
       "26870   37       admin.  married    university.degree       no     yes   no   \n",
       "26871   29   unemployed   single             basic.4y       no     yes   no   \n",
       "26872   73      retired  married  professional.course       no     yes   no   \n",
       "26873   46  blue-collar  married  professional.course       no      no   no   \n",
       "\n",
       "         contact month day_of_week  ...  previous  previous_outcome  \\\n",
       "0      telephone   may         mon  ...         0       nonexistent   \n",
       "1      telephone   may         mon  ...         0       nonexistent   \n",
       "2      telephone   may         mon  ...         0       nonexistent   \n",
       "3      telephone   may         mon  ...         0       nonexistent   \n",
       "4      telephone   may         mon  ...         0       nonexistent   \n",
       "...          ...   ...         ...  ...       ...               ...   \n",
       "26869   cellular   nov         fri  ...         0       nonexistent   \n",
       "26870   cellular   nov         fri  ...         0       nonexistent   \n",
       "26871   cellular   nov         fri  ...         1           success   \n",
       "26872   cellular   nov         fri  ...         0       nonexistent   \n",
       "26873   cellular   nov         fri  ...         0       nonexistent   \n",
       "\n",
       "       emp.var.rate  cons.price.idx cons.conf.idx  euribor3m  nr.employed  \\\n",
       "0               1.1          93.994         -36.4      4.857         5191   \n",
       "1               1.1          93.994         -36.4      4.857         5191   \n",
       "2               1.1          93.994         -36.4      4.857         5191   \n",
       "3               1.1          93.994         -36.4      4.857         5191   \n",
       "4               1.1          93.994         -36.4      4.857         5191   \n",
       "...             ...             ...           ...        ...          ...   \n",
       "26869          -1.1          94.767         -50.8      1.028         4963   \n",
       "26870          -1.1          94.767         -50.8      1.028         4963   \n",
       "26871          -1.1          94.767         -50.8      1.028         4963   \n",
       "26872          -1.1          94.767         -50.8      1.028         4963   \n",
       "26873          -1.1          94.767         -50.8      1.028         4963   \n",
       "\n",
       "       response  training set predic  test set predic  \n",
       "0            no                   no               no  \n",
       "1            no                   no               no  \n",
       "2            no                   no               no  \n",
       "3            no                   no               no  \n",
       "4            no                   no               no  \n",
       "...         ...                  ...              ...  \n",
       "26869        no                   no               no  \n",
       "26870       yes                   no               no  \n",
       "26871        no                   no               no  \n",
       "26872       yes                  yes              yes  \n",
       "26873        no                   no               no  \n",
       "\n",
       "[26874 rows x 23 columns]"
      ]
     },
     "execution_count": 31,
     "metadata": {},
     "output_type": "execute_result"
    }
   ],
   "source": [
    "# convert the predictions of random forests from training and test datas to dataframes\n",
    "rf02_bktrain_predict_df = pd.DataFrame(rf02_bktrain_predict)\n",
    "rf03_bktest_predict_df = pd.DataFrame(rf03_bktest_predict)\n",
    "# concatenate the predictions from both traning data set and test data set to the end of bank_train dataset\n",
    "concat_bkr_bkts_predict = pd.concat([bank_train, rf02_bktrain_predict_df.rename(columns={0:'training set predic'}), rf03_bktest_predict_df.rename(columns={0:'test set predic'})], axis=1)\n",
    "\n",
    "concat_bkr_bkts_predict.to_csv('concat_bkr_bkts_predict.csv')\n",
    "concat_bkr_bkts_predict"
   ]
  },
  {
   "cell_type": "markdown",
   "metadata": {},
   "source": [
    "For Exercises 35–41, work with the training and test data sets that you obtained by partitioning the Churn data set in the Chapter 5 Exercises. Use either Python or R to solve each problem.\n",
    "35. Create a CART model using the training data set that predicts Churn using whatever predictors you think appropriate. Visualize the decision tree. Describe the first few splits in the decision tree."
   ]
  },
  {
   "cell_type": "code",
   "execution_count": 32,
   "metadata": {},
   "outputs": [],
   "source": [
    "# import the data set\n",
    "churn = pd.read_csv('churn')"
   ]
  },
  {
   "cell_type": "code",
   "execution_count": 33,
   "metadata": {},
   "outputs": [
    {
     "data": {
      "text/plain": [
       "((3333, 22), (2233, 22), (1100, 22))"
      ]
     },
     "execution_count": 33,
     "metadata": {},
     "output_type": "execute_result"
    }
   ],
   "source": [
    "# partition the data set\n",
    "churn_train, churn_test = train_test_split(churn, test_size=0.33, random_state=7)\n",
    "churn.shape, churn_train.shape, churn_test.shape"
   ]
  },
  {
   "cell_type": "code",
   "execution_count": 34,
   "metadata": {},
   "outputs": [],
   "source": [
    "# build the CART model for training data set\n",
    "# save the variable Churn (target) as y\n",
    "y_ctr = churn_train[['Churn']]\n",
    "# save the variable Account Length and CustServ Calls (predictor) as x\n",
    "x_ctr = churn_train[['Account Length', 'CustServ Calls']]\n",
    "# specify the names of each column of x and y\n",
    "x_names = ['Account Length', 'CustServ Calls']\n",
    "y_names = ['True', 'False']\n",
    "# run the CART algorithm\n",
    "cart05 = DecisionTreeClassifier(criterion='gini', max_leaf_nodes=5).fit(x_ctr, y_ctr)\n",
    "# use the export_graphviz() command to obtain the tree structure\n",
    "export_graphviz(cart05, out_file='/Users/joanna/DSHomeWork/Ch6dot/cart05.dot', feature_names=x_names, class_names=y_names)\n",
    "# use the predict() command to obtain the classifications of the Churn variable for every variable in the training data set\n",
    "predChurnCART = cart05.predict(x_ctr)\n"
   ]
  },
  {
   "cell_type": "code",
   "execution_count": 35,
   "metadata": {},
   "outputs": [
    {
     "data": {
      "text/plain": [
       "'The first node was split by variable CustServ Calls<=3.5. In the second lever, the left node dose not split further, the right node split by variable CustServ Calls<=4.5'"
      ]
     },
     "execution_count": 35,
     "metadata": {},
     "output_type": "execute_result"
    }
   ],
   "source": [
    "'''The first node was split by variable CustServ Calls<=3.5. In the second lever, the left node dose not split further, the right node split by variable CustServ Calls<=4.5'''"
   ]
  },
  {
   "cell_type": "markdown",
   "metadata": {},
   "source": [
    "36. Develop a CART model using the test data set and the same target and predictor variables. Visualize the decision tree. Investigate the splits in the decision tree. Does the tree built using the test data match the tree built using the training data?"
   ]
  },
  {
   "cell_type": "code",
   "execution_count": 36,
   "metadata": {},
   "outputs": [],
   "source": [
    "# build the CART model for test data set\n",
    "# save the variable Churn (target) as y\n",
    "y_cts = churn_test[['Churn']]\n",
    "# save the variable Account Length and CustServ Calls (predictor) as x\n",
    "x_cts = churn_test[['Account Length', 'CustServ Calls']]\n",
    "# specify the names of each column of x and y\n",
    "x_names = ['Account Length', 'CustServ Calls']\n",
    "y_names = ['True', 'False']\n",
    "# run the CART algorithm\n",
    "cart06 = DecisionTreeClassifier(criterion='gini', max_leaf_nodes=5).fit(x_cts, y_cts)\n",
    "# use the export_graphviz() command to obtain the tree structure\n",
    "export_graphviz(cart06, out_file='/Users/joanna/DSHomeWork/Ch6dot/cart06.dot', feature_names=x_names, class_names=y_names)\n",
    "# use the predict() command to obtain the classifications of the Churn variable for every variable in the training data set\n",
    "predChurnCART = cart06.predict(x_cts)\n"
   ]
  },
  {
   "cell_type": "code",
   "execution_count": 37,
   "metadata": {},
   "outputs": [
    {
     "data": {
      "text/plain": [
       "'The tree are different. The tree built using training set has 5 levels, and built using test set has 4 levels. Starting from second level, the leafs are different.'"
      ]
     },
     "execution_count": 37,
     "metadata": {},
     "output_type": "execute_result"
    }
   ],
   "source": [
    "'''The tree are different. The tree built using training set has 5 levels, and built using test set has 4 levels. Starting from second level, the leafs are different.'''"
   ]
  },
  {
   "cell_type": "markdown",
   "metadata": {},
   "source": [
    "37. Build a C5.0 model using the training data set that predicts Churn and the same target and predictor variables. Specify a minimum of 1000 cases per terminal node. Visualize the decision tree. Describe the first few splits in the decision tree."
   ]
  },
  {
   "cell_type": "code",
   "execution_count": 38,
   "metadata": {},
   "outputs": [],
   "source": [
    "# build a C5.0 model using traning data set\n",
    "# using the DecisionTreeClassifier() command to obtain the decision tree using entropy as a splitting criterion\n",
    "c50_05 = DecisionTreeClassifier(criterion='entropy', min_samples_leaf=1000).fit(x_ctr, y_ctr)\n",
    "# run the export_graphviz() command to export the summary of the C5.0 tree\n",
    "export_graphviz(c50_05, out_file='/Users/joanna/DSHomeWork/Ch6dot/c50_05.dot', feature_names=x_names, class_names=y_names)\n",
    "# run the predict() command on the name of the saved output to obtain the classifications of ech record in the training data set\n",
    "predChurnC50_tr = c50_05.predict(x_ctr)"
   ]
  },
  {
   "cell_type": "code",
   "execution_count": 39,
   "metadata": {},
   "outputs": [
    {
     "data": {
      "text/plain": [
       "'There are two levels of nodes. The first node split by variable Account Lenth<=96.5. In the second level, the left node displays entropy=0.575, the right node displays entrpy=0.608'"
      ]
     },
     "execution_count": 39,
     "metadata": {},
     "output_type": "execute_result"
    }
   ],
   "source": [
    "'''There are two levels of nodes. The first node split by variable Account Lenth<=96.5. In the second level, the left node displays entropy=0.575, the right node displays entrpy=0.608'''"
   ]
  },
  {
   "cell_type": "markdown",
   "metadata": {},
   "source": [
    "38. How does your C5.0 model compare to your CART model for the churn_training data? Describe the similarities and differences."
   ]
  },
  {
   "cell_type": "code",
   "execution_count": 40,
   "metadata": {},
   "outputs": [
    {
     "data": {
      "text/plain": [
       "'The trees built from C5.0 model and CART model are quite different, no similarity at all.'"
      ]
     },
     "execution_count": 40,
     "metadata": {},
     "output_type": "execute_result"
    }
   ],
   "source": [
    "'''The trees built from C5.0 model and CART model are quite different, no similarity at all.'''"
   ]
  },
  {
   "cell_type": "markdown",
   "metadata": {},
   "source": [
    "39. Create a C5.0 model using the test data set that utilizes the same target variable, pre- dictor variables, and minimum cases criterion. Visualize the decision tree. Does the tree built using the test data match the tree built using the training data?"
   ]
  },
  {
   "cell_type": "code",
   "execution_count": 41,
   "metadata": {},
   "outputs": [],
   "source": [
    "# build a C5.0 model using test data set\n",
    "# using the DecisionTreeClassifier() command to obtain the decision tree using entropy as a splitting criterion\n",
    "c50_06 = DecisionTreeClassifier(criterion='entropy', min_samples_leaf=1000).fit(x_cts, y_cts)\n",
    "# run the export_graphviz() command to export the summary of the C5.0 tree\n",
    "export_graphviz(c50_06, out_file='/Users/joanna/DSHomeWork/Ch6dot/c50_06.dot', feature_names=x_names, class_names=y_names)\n",
    "# run the predict() command on the name of the saved output to obtain the classifications of ech record in the training data set\n",
    "predChurnC50_ts = c50_06.predict(x_cts)"
   ]
  },
  {
   "cell_type": "code",
   "execution_count": 42,
   "metadata": {},
   "outputs": [
    {
     "data": {
      "text/plain": [
       "'There is only one node, no split happened. The tree from test data set is different with the ree from training set. At least, the tree from training set has 1 split and 2 levels of the nodes.'"
      ]
     },
     "execution_count": 42,
     "metadata": {},
     "output_type": "execute_result"
    }
   ],
   "source": [
    "'''There is only one node, no split happened. The tree from test data set is different with the ree from training set. At least, the tree from training set has 1 split and 2 levels of the nodes.'''"
   ]
  },
  {
   "cell_type": "markdown",
   "metadata": {},
   "source": [
    "40. Use random forests on the training data set to obtain the predicted value of Churn using the same predictor variables as in the CART and C5.0 models."
   ]
  },
  {
   "cell_type": "code",
   "execution_count": 43,
   "metadata": {},
   "outputs": [],
   "source": [
    "# build random forests from the training data set using gini as criterion\n",
    "# using numpy's ravel() command to create a one-dimensional array\n",
    "rfy_ctr = np.ravel(y_ctr)\n",
    "# use the RandomForestClassifier() command to create the random forest\n",
    "rf04 = RandomForestClassifier(n_estimators=100, criterion='gini').fit(x_ctr,rfy_ctr)\n",
    "# using the predict() command to obtain the classifications of each record in the training data set by the random forests algorithm\n",
    "rf04_ctrain_predict = rf04.predict(x_ctr)"
   ]
  },
  {
   "cell_type": "markdown",
   "metadata": {},
   "source": [
    "41. Use random forests on the test data set to obtain the predicted value of Churn in the test data set. Build a table comparing the predictions from the training and test data sets. How do they compare?"
   ]
  },
  {
   "cell_type": "code",
   "execution_count": 44,
   "metadata": {},
   "outputs": [],
   "source": [
    "# build random forests from the test data set using gini as criterion\n",
    "# using numpy's ravel() command to create a one-dimensional array\n",
    "rfy_cts = np.ravel(y_cts)\n",
    "# use the RandomForestClassifier() command to create the random forest\n",
    "rf05 = RandomForestClassifier(n_estimators=100, criterion='gini').fit(x_cts,rfy_cts)\n",
    "# using the predict() command to obtain the classifications of each record in the training data set by the random forests algorithm\n",
    "rf05_ctest_predict = rf05.predict(x_cts)\n"
   ]
  },
  {
   "cell_type": "code",
   "execution_count": 45,
   "metadata": {},
   "outputs": [
    {
     "data": {
      "text/html": [
       "<div>\n",
       "<style scoped>\n",
       "    .dataframe tbody tr th:only-of-type {\n",
       "        vertical-align: middle;\n",
       "    }\n",
       "\n",
       "    .dataframe tbody tr th {\n",
       "        vertical-align: top;\n",
       "    }\n",
       "\n",
       "    .dataframe thead th {\n",
       "        text-align: right;\n",
       "    }\n",
       "</style>\n",
       "<table border=\"1\" class=\"dataframe\">\n",
       "  <thead>\n",
       "    <tr style=\"text-align: right;\">\n",
       "      <th></th>\n",
       "      <th>State</th>\n",
       "      <th>Account Length</th>\n",
       "      <th>Area Code</th>\n",
       "      <th>Phone</th>\n",
       "      <th>Intl Plan</th>\n",
       "      <th>VMail Plan</th>\n",
       "      <th>VMail Message</th>\n",
       "      <th>Day Mins</th>\n",
       "      <th>Day Calls</th>\n",
       "      <th>Day Charge</th>\n",
       "      <th>...</th>\n",
       "      <th>Night Mins</th>\n",
       "      <th>Night Calls</th>\n",
       "      <th>Night Charge</th>\n",
       "      <th>Intl Mins</th>\n",
       "      <th>Intl Calls</th>\n",
       "      <th>Intl Charge</th>\n",
       "      <th>CustServ Calls</th>\n",
       "      <th>Old Churn</th>\n",
       "      <th>Churn</th>\n",
       "      <th>training set predic</th>\n",
       "    </tr>\n",
       "  </thead>\n",
       "  <tbody>\n",
       "    <tr>\n",
       "      <th>0</th>\n",
       "      <td>NaN</td>\n",
       "      <td>NaN</td>\n",
       "      <td>NaN</td>\n",
       "      <td>NaN</td>\n",
       "      <td>NaN</td>\n",
       "      <td>NaN</td>\n",
       "      <td>NaN</td>\n",
       "      <td>NaN</td>\n",
       "      <td>NaN</td>\n",
       "      <td>NaN</td>\n",
       "      <td>...</td>\n",
       "      <td>NaN</td>\n",
       "      <td>NaN</td>\n",
       "      <td>NaN</td>\n",
       "      <td>NaN</td>\n",
       "      <td>NaN</td>\n",
       "      <td>NaN</td>\n",
       "      <td>NaN</td>\n",
       "      <td>NaN</td>\n",
       "      <td>NaN</td>\n",
       "      <td>False</td>\n",
       "    </tr>\n",
       "    <tr>\n",
       "      <th>1</th>\n",
       "      <td>OH</td>\n",
       "      <td>107.0</td>\n",
       "      <td>415.0</td>\n",
       "      <td>371-7191</td>\n",
       "      <td>no</td>\n",
       "      <td>yes</td>\n",
       "      <td>26.0</td>\n",
       "      <td>161.6</td>\n",
       "      <td>123.0</td>\n",
       "      <td>27.47</td>\n",
       "      <td>...</td>\n",
       "      <td>254.4</td>\n",
       "      <td>103.0</td>\n",
       "      <td>11.45</td>\n",
       "      <td>13.7</td>\n",
       "      <td>3.0</td>\n",
       "      <td>3.70</td>\n",
       "      <td>1.0</td>\n",
       "      <td>False.</td>\n",
       "      <td>False</td>\n",
       "      <td>False</td>\n",
       "    </tr>\n",
       "    <tr>\n",
       "      <th>2</th>\n",
       "      <td>NaN</td>\n",
       "      <td>NaN</td>\n",
       "      <td>NaN</td>\n",
       "      <td>NaN</td>\n",
       "      <td>NaN</td>\n",
       "      <td>NaN</td>\n",
       "      <td>NaN</td>\n",
       "      <td>NaN</td>\n",
       "      <td>NaN</td>\n",
       "      <td>NaN</td>\n",
       "      <td>...</td>\n",
       "      <td>NaN</td>\n",
       "      <td>NaN</td>\n",
       "      <td>NaN</td>\n",
       "      <td>NaN</td>\n",
       "      <td>NaN</td>\n",
       "      <td>NaN</td>\n",
       "      <td>NaN</td>\n",
       "      <td>NaN</td>\n",
       "      <td>NaN</td>\n",
       "      <td>False</td>\n",
       "    </tr>\n",
       "    <tr>\n",
       "      <th>3</th>\n",
       "      <td>OH</td>\n",
       "      <td>84.0</td>\n",
       "      <td>408.0</td>\n",
       "      <td>375-9999</td>\n",
       "      <td>yes</td>\n",
       "      <td>no</td>\n",
       "      <td>0.0</td>\n",
       "      <td>299.4</td>\n",
       "      <td>71.0</td>\n",
       "      <td>50.90</td>\n",
       "      <td>...</td>\n",
       "      <td>196.9</td>\n",
       "      <td>89.0</td>\n",
       "      <td>8.86</td>\n",
       "      <td>6.6</td>\n",
       "      <td>7.0</td>\n",
       "      <td>1.78</td>\n",
       "      <td>2.0</td>\n",
       "      <td>False.</td>\n",
       "      <td>False</td>\n",
       "      <td>False</td>\n",
       "    </tr>\n",
       "    <tr>\n",
       "      <th>4</th>\n",
       "      <td>OK</td>\n",
       "      <td>75.0</td>\n",
       "      <td>415.0</td>\n",
       "      <td>330-6626</td>\n",
       "      <td>yes</td>\n",
       "      <td>no</td>\n",
       "      <td>0.0</td>\n",
       "      <td>166.7</td>\n",
       "      <td>113.0</td>\n",
       "      <td>28.34</td>\n",
       "      <td>...</td>\n",
       "      <td>186.9</td>\n",
       "      <td>121.0</td>\n",
       "      <td>8.41</td>\n",
       "      <td>10.1</td>\n",
       "      <td>3.0</td>\n",
       "      <td>2.73</td>\n",
       "      <td>3.0</td>\n",
       "      <td>False.</td>\n",
       "      <td>False</td>\n",
       "      <td>False</td>\n",
       "    </tr>\n",
       "    <tr>\n",
       "      <th>...</th>\n",
       "      <td>...</td>\n",
       "      <td>...</td>\n",
       "      <td>...</td>\n",
       "      <td>...</td>\n",
       "      <td>...</td>\n",
       "      <td>...</td>\n",
       "      <td>...</td>\n",
       "      <td>...</td>\n",
       "      <td>...</td>\n",
       "      <td>...</td>\n",
       "      <td>...</td>\n",
       "      <td>...</td>\n",
       "      <td>...</td>\n",
       "      <td>...</td>\n",
       "      <td>...</td>\n",
       "      <td>...</td>\n",
       "      <td>...</td>\n",
       "      <td>...</td>\n",
       "      <td>...</td>\n",
       "      <td>...</td>\n",
       "      <td>...</td>\n",
       "    </tr>\n",
       "    <tr>\n",
       "      <th>3326</th>\n",
       "      <td>OH</td>\n",
       "      <td>96.0</td>\n",
       "      <td>415.0</td>\n",
       "      <td>347-6812</td>\n",
       "      <td>no</td>\n",
       "      <td>no</td>\n",
       "      <td>0.0</td>\n",
       "      <td>106.6</td>\n",
       "      <td>128.0</td>\n",
       "      <td>18.12</td>\n",
       "      <td>...</td>\n",
       "      <td>178.9</td>\n",
       "      <td>92.0</td>\n",
       "      <td>8.05</td>\n",
       "      <td>14.9</td>\n",
       "      <td>7.0</td>\n",
       "      <td>4.02</td>\n",
       "      <td>1.0</td>\n",
       "      <td>False.</td>\n",
       "      <td>False</td>\n",
       "      <td>NaN</td>\n",
       "    </tr>\n",
       "    <tr>\n",
       "      <th>3327</th>\n",
       "      <td>SC</td>\n",
       "      <td>79.0</td>\n",
       "      <td>415.0</td>\n",
       "      <td>348-3830</td>\n",
       "      <td>no</td>\n",
       "      <td>no</td>\n",
       "      <td>0.0</td>\n",
       "      <td>134.7</td>\n",
       "      <td>98.0</td>\n",
       "      <td>22.90</td>\n",
       "      <td>...</td>\n",
       "      <td>221.4</td>\n",
       "      <td>128.0</td>\n",
       "      <td>9.96</td>\n",
       "      <td>11.8</td>\n",
       "      <td>5.0</td>\n",
       "      <td>3.19</td>\n",
       "      <td>2.0</td>\n",
       "      <td>False.</td>\n",
       "      <td>False</td>\n",
       "      <td>NaN</td>\n",
       "    </tr>\n",
       "    <tr>\n",
       "      <th>3328</th>\n",
       "      <td>AZ</td>\n",
       "      <td>192.0</td>\n",
       "      <td>415.0</td>\n",
       "      <td>414-4276</td>\n",
       "      <td>no</td>\n",
       "      <td>yes</td>\n",
       "      <td>36.0</td>\n",
       "      <td>156.2</td>\n",
       "      <td>77.0</td>\n",
       "      <td>26.55</td>\n",
       "      <td>...</td>\n",
       "      <td>279.1</td>\n",
       "      <td>83.0</td>\n",
       "      <td>12.56</td>\n",
       "      <td>9.9</td>\n",
       "      <td>6.0</td>\n",
       "      <td>2.67</td>\n",
       "      <td>2.0</td>\n",
       "      <td>False.</td>\n",
       "      <td>False</td>\n",
       "      <td>NaN</td>\n",
       "    </tr>\n",
       "    <tr>\n",
       "      <th>3329</th>\n",
       "      <td>WV</td>\n",
       "      <td>68.0</td>\n",
       "      <td>415.0</td>\n",
       "      <td>370-3271</td>\n",
       "      <td>no</td>\n",
       "      <td>no</td>\n",
       "      <td>0.0</td>\n",
       "      <td>231.1</td>\n",
       "      <td>57.0</td>\n",
       "      <td>39.29</td>\n",
       "      <td>...</td>\n",
       "      <td>191.3</td>\n",
       "      <td>123.0</td>\n",
       "      <td>8.61</td>\n",
       "      <td>9.6</td>\n",
       "      <td>4.0</td>\n",
       "      <td>2.59</td>\n",
       "      <td>3.0</td>\n",
       "      <td>False.</td>\n",
       "      <td>False</td>\n",
       "      <td>NaN</td>\n",
       "    </tr>\n",
       "    <tr>\n",
       "      <th>3332</th>\n",
       "      <td>TN</td>\n",
       "      <td>74.0</td>\n",
       "      <td>415.0</td>\n",
       "      <td>400-4344</td>\n",
       "      <td>no</td>\n",
       "      <td>yes</td>\n",
       "      <td>25.0</td>\n",
       "      <td>234.4</td>\n",
       "      <td>113.0</td>\n",
       "      <td>39.85</td>\n",
       "      <td>...</td>\n",
       "      <td>241.4</td>\n",
       "      <td>77.0</td>\n",
       "      <td>10.86</td>\n",
       "      <td>13.7</td>\n",
       "      <td>4.0</td>\n",
       "      <td>3.70</td>\n",
       "      <td>0.0</td>\n",
       "      <td>False.</td>\n",
       "      <td>False</td>\n",
       "      <td>NaN</td>\n",
       "    </tr>\n",
       "  </tbody>\n",
       "</table>\n",
       "<p>2962 rows × 23 columns</p>\n",
       "</div>"
      ],
      "text/plain": [
       "     State  Account Length  Area Code     Phone Intl Plan VMail Plan  \\\n",
       "0      NaN             NaN        NaN       NaN       NaN        NaN   \n",
       "1       OH           107.0      415.0  371-7191        no        yes   \n",
       "2      NaN             NaN        NaN       NaN       NaN        NaN   \n",
       "3       OH            84.0      408.0  375-9999       yes         no   \n",
       "4       OK            75.0      415.0  330-6626       yes         no   \n",
       "...    ...             ...        ...       ...       ...        ...   \n",
       "3326    OH            96.0      415.0  347-6812        no         no   \n",
       "3327    SC            79.0      415.0  348-3830        no         no   \n",
       "3328    AZ           192.0      415.0  414-4276        no        yes   \n",
       "3329    WV            68.0      415.0  370-3271        no         no   \n",
       "3332    TN            74.0      415.0  400-4344        no        yes   \n",
       "\n",
       "      VMail Message  Day Mins  Day Calls  Day Charge  ...  Night Mins  \\\n",
       "0               NaN       NaN        NaN         NaN  ...         NaN   \n",
       "1              26.0     161.6      123.0       27.47  ...       254.4   \n",
       "2               NaN       NaN        NaN         NaN  ...         NaN   \n",
       "3               0.0     299.4       71.0       50.90  ...       196.9   \n",
       "4               0.0     166.7      113.0       28.34  ...       186.9   \n",
       "...             ...       ...        ...         ...  ...         ...   \n",
       "3326            0.0     106.6      128.0       18.12  ...       178.9   \n",
       "3327            0.0     134.7       98.0       22.90  ...       221.4   \n",
       "3328           36.0     156.2       77.0       26.55  ...       279.1   \n",
       "3329            0.0     231.1       57.0       39.29  ...       191.3   \n",
       "3332           25.0     234.4      113.0       39.85  ...       241.4   \n",
       "\n",
       "      Night Calls  Night Charge  Intl Mins  Intl Calls  Intl Charge  \\\n",
       "0             NaN           NaN        NaN         NaN          NaN   \n",
       "1           103.0         11.45       13.7         3.0         3.70   \n",
       "2             NaN           NaN        NaN         NaN          NaN   \n",
       "3            89.0          8.86        6.6         7.0         1.78   \n",
       "4           121.0          8.41       10.1         3.0         2.73   \n",
       "...           ...           ...        ...         ...          ...   \n",
       "3326         92.0          8.05       14.9         7.0         4.02   \n",
       "3327        128.0          9.96       11.8         5.0         3.19   \n",
       "3328         83.0         12.56        9.9         6.0         2.67   \n",
       "3329        123.0          8.61        9.6         4.0         2.59   \n",
       "3332         77.0         10.86       13.7         4.0         3.70   \n",
       "\n",
       "      CustServ Calls  Old Churn  Churn  training set predic  \n",
       "0                NaN        NaN    NaN                False  \n",
       "1                1.0     False.  False                False  \n",
       "2                NaN        NaN    NaN                False  \n",
       "3                2.0     False.  False                False  \n",
       "4                3.0     False.  False                False  \n",
       "...              ...        ...    ...                  ...  \n",
       "3326             1.0     False.  False                  NaN  \n",
       "3327             2.0     False.  False                  NaN  \n",
       "3328             2.0     False.  False                  NaN  \n",
       "3329             3.0     False.  False                  NaN  \n",
       "3332             0.0     False.  False                  NaN  \n",
       "\n",
       "[2962 rows x 23 columns]"
      ]
     },
     "execution_count": 45,
     "metadata": {},
     "output_type": "execute_result"
    }
   ],
   "source": [
    "# convert the predictions of random forests from training and test datas to dataframes\n",
    "rf04_ctrain_predict_df = pd.DataFrame(rf04_ctrain_predict)\n",
    "rf05_ctest_predict_df = pd.DataFrame(rf05_ctest_predict)\n",
    "# concatenate the predictions from traning data set to the end of churn_train dataset\n",
    "concat_ctr_predict = pd.concat([churn_train, rf04_ctrain_predict_df.rename(columns={0:'training set predic'})], axis=1)\n",
    "# concatenate the predictions from test data set to the end of churn_test dataset\n",
    "concat_cts_predict = pd.concat([churn_test, rf05_ctest_predict_df.rename(columns={0:'test set predic'})], axis=1)\n",
    "\n",
    "concat_ctr_predict.to_csv('concat_ctr_predict.csv')\n",
    "concat_cts_predict.to_csv('concat_cts_predict.csv')\n",
    "\n",
    "concat_ctr_predict"
   ]
  },
  {
   "cell_type": "code",
   "execution_count": 46,
   "metadata": {},
   "outputs": [
    {
     "data": {
      "text/html": [
       "<div>\n",
       "<style scoped>\n",
       "    .dataframe tbody tr th:only-of-type {\n",
       "        vertical-align: middle;\n",
       "    }\n",
       "\n",
       "    .dataframe tbody tr th {\n",
       "        vertical-align: top;\n",
       "    }\n",
       "\n",
       "    .dataframe thead th {\n",
       "        text-align: right;\n",
       "    }\n",
       "</style>\n",
       "<table border=\"1\" class=\"dataframe\">\n",
       "  <thead>\n",
       "    <tr style=\"text-align: right;\">\n",
       "      <th></th>\n",
       "      <th>State</th>\n",
       "      <th>Account Length</th>\n",
       "      <th>Area Code</th>\n",
       "      <th>Phone</th>\n",
       "      <th>Intl Plan</th>\n",
       "      <th>VMail Plan</th>\n",
       "      <th>VMail Message</th>\n",
       "      <th>Day Mins</th>\n",
       "      <th>Day Calls</th>\n",
       "      <th>Day Charge</th>\n",
       "      <th>...</th>\n",
       "      <th>Night Mins</th>\n",
       "      <th>Night Calls</th>\n",
       "      <th>Night Charge</th>\n",
       "      <th>Intl Mins</th>\n",
       "      <th>Intl Calls</th>\n",
       "      <th>Intl Charge</th>\n",
       "      <th>CustServ Calls</th>\n",
       "      <th>Old Churn</th>\n",
       "      <th>Churn</th>\n",
       "      <th>test set predic</th>\n",
       "    </tr>\n",
       "  </thead>\n",
       "  <tbody>\n",
       "    <tr>\n",
       "      <th>0</th>\n",
       "      <td>KS</td>\n",
       "      <td>128.0</td>\n",
       "      <td>415.0</td>\n",
       "      <td>382-4657</td>\n",
       "      <td>no</td>\n",
       "      <td>yes</td>\n",
       "      <td>25.0</td>\n",
       "      <td>265.1</td>\n",
       "      <td>110.0</td>\n",
       "      <td>45.07</td>\n",
       "      <td>...</td>\n",
       "      <td>244.7</td>\n",
       "      <td>91.0</td>\n",
       "      <td>11.01</td>\n",
       "      <td>10.0</td>\n",
       "      <td>3.0</td>\n",
       "      <td>2.70</td>\n",
       "      <td>1.0</td>\n",
       "      <td>False.</td>\n",
       "      <td>False</td>\n",
       "      <td>False</td>\n",
       "    </tr>\n",
       "    <tr>\n",
       "      <th>1</th>\n",
       "      <td>NaN</td>\n",
       "      <td>NaN</td>\n",
       "      <td>NaN</td>\n",
       "      <td>NaN</td>\n",
       "      <td>NaN</td>\n",
       "      <td>NaN</td>\n",
       "      <td>NaN</td>\n",
       "      <td>NaN</td>\n",
       "      <td>NaN</td>\n",
       "      <td>NaN</td>\n",
       "      <td>...</td>\n",
       "      <td>NaN</td>\n",
       "      <td>NaN</td>\n",
       "      <td>NaN</td>\n",
       "      <td>NaN</td>\n",
       "      <td>NaN</td>\n",
       "      <td>NaN</td>\n",
       "      <td>NaN</td>\n",
       "      <td>NaN</td>\n",
       "      <td>NaN</td>\n",
       "      <td>False</td>\n",
       "    </tr>\n",
       "    <tr>\n",
       "      <th>2</th>\n",
       "      <td>NJ</td>\n",
       "      <td>137.0</td>\n",
       "      <td>415.0</td>\n",
       "      <td>358-1921</td>\n",
       "      <td>no</td>\n",
       "      <td>no</td>\n",
       "      <td>0.0</td>\n",
       "      <td>243.4</td>\n",
       "      <td>114.0</td>\n",
       "      <td>41.38</td>\n",
       "      <td>...</td>\n",
       "      <td>162.6</td>\n",
       "      <td>104.0</td>\n",
       "      <td>7.32</td>\n",
       "      <td>12.2</td>\n",
       "      <td>5.0</td>\n",
       "      <td>3.29</td>\n",
       "      <td>0.0</td>\n",
       "      <td>False.</td>\n",
       "      <td>False</td>\n",
       "      <td>False</td>\n",
       "    </tr>\n",
       "    <tr>\n",
       "      <th>3</th>\n",
       "      <td>NaN</td>\n",
       "      <td>NaN</td>\n",
       "      <td>NaN</td>\n",
       "      <td>NaN</td>\n",
       "      <td>NaN</td>\n",
       "      <td>NaN</td>\n",
       "      <td>NaN</td>\n",
       "      <td>NaN</td>\n",
       "      <td>NaN</td>\n",
       "      <td>NaN</td>\n",
       "      <td>...</td>\n",
       "      <td>NaN</td>\n",
       "      <td>NaN</td>\n",
       "      <td>NaN</td>\n",
       "      <td>NaN</td>\n",
       "      <td>NaN</td>\n",
       "      <td>NaN</td>\n",
       "      <td>NaN</td>\n",
       "      <td>NaN</td>\n",
       "      <td>NaN</td>\n",
       "      <td>False</td>\n",
       "    </tr>\n",
       "    <tr>\n",
       "      <th>4</th>\n",
       "      <td>NaN</td>\n",
       "      <td>NaN</td>\n",
       "      <td>NaN</td>\n",
       "      <td>NaN</td>\n",
       "      <td>NaN</td>\n",
       "      <td>NaN</td>\n",
       "      <td>NaN</td>\n",
       "      <td>NaN</td>\n",
       "      <td>NaN</td>\n",
       "      <td>NaN</td>\n",
       "      <td>...</td>\n",
       "      <td>NaN</td>\n",
       "      <td>NaN</td>\n",
       "      <td>NaN</td>\n",
       "      <td>NaN</td>\n",
       "      <td>NaN</td>\n",
       "      <td>NaN</td>\n",
       "      <td>NaN</td>\n",
       "      <td>NaN</td>\n",
       "      <td>NaN</td>\n",
       "      <td>False</td>\n",
       "    </tr>\n",
       "    <tr>\n",
       "      <th>...</th>\n",
       "      <td>...</td>\n",
       "      <td>...</td>\n",
       "      <td>...</td>\n",
       "      <td>...</td>\n",
       "      <td>...</td>\n",
       "      <td>...</td>\n",
       "      <td>...</td>\n",
       "      <td>...</td>\n",
       "      <td>...</td>\n",
       "      <td>...</td>\n",
       "      <td>...</td>\n",
       "      <td>...</td>\n",
       "      <td>...</td>\n",
       "      <td>...</td>\n",
       "      <td>...</td>\n",
       "      <td>...</td>\n",
       "      <td>...</td>\n",
       "      <td>...</td>\n",
       "      <td>...</td>\n",
       "      <td>...</td>\n",
       "      <td>...</td>\n",
       "    </tr>\n",
       "    <tr>\n",
       "      <th>3319</th>\n",
       "      <td>WY</td>\n",
       "      <td>89.0</td>\n",
       "      <td>415.0</td>\n",
       "      <td>378-6924</td>\n",
       "      <td>no</td>\n",
       "      <td>no</td>\n",
       "      <td>0.0</td>\n",
       "      <td>115.4</td>\n",
       "      <td>99.0</td>\n",
       "      <td>19.62</td>\n",
       "      <td>...</td>\n",
       "      <td>280.9</td>\n",
       "      <td>112.0</td>\n",
       "      <td>12.64</td>\n",
       "      <td>15.9</td>\n",
       "      <td>6.0</td>\n",
       "      <td>4.29</td>\n",
       "      <td>3.0</td>\n",
       "      <td>False.</td>\n",
       "      <td>False</td>\n",
       "      <td>NaN</td>\n",
       "    </tr>\n",
       "    <tr>\n",
       "      <th>3321</th>\n",
       "      <td>VT</td>\n",
       "      <td>60.0</td>\n",
       "      <td>415.0</td>\n",
       "      <td>400-2738</td>\n",
       "      <td>no</td>\n",
       "      <td>no</td>\n",
       "      <td>0.0</td>\n",
       "      <td>193.9</td>\n",
       "      <td>118.0</td>\n",
       "      <td>32.96</td>\n",
       "      <td>...</td>\n",
       "      <td>210.1</td>\n",
       "      <td>134.0</td>\n",
       "      <td>9.45</td>\n",
       "      <td>13.2</td>\n",
       "      <td>8.0</td>\n",
       "      <td>3.56</td>\n",
       "      <td>3.0</td>\n",
       "      <td>False.</td>\n",
       "      <td>False</td>\n",
       "      <td>NaN</td>\n",
       "    </tr>\n",
       "    <tr>\n",
       "      <th>3322</th>\n",
       "      <td>MD</td>\n",
       "      <td>62.0</td>\n",
       "      <td>408.0</td>\n",
       "      <td>409-1856</td>\n",
       "      <td>no</td>\n",
       "      <td>no</td>\n",
       "      <td>0.0</td>\n",
       "      <td>321.1</td>\n",
       "      <td>105.0</td>\n",
       "      <td>54.59</td>\n",
       "      <td>...</td>\n",
       "      <td>180.5</td>\n",
       "      <td>72.0</td>\n",
       "      <td>8.12</td>\n",
       "      <td>11.5</td>\n",
       "      <td>2.0</td>\n",
       "      <td>3.11</td>\n",
       "      <td>4.0</td>\n",
       "      <td>True.</td>\n",
       "      <td>True</td>\n",
       "      <td>NaN</td>\n",
       "    </tr>\n",
       "    <tr>\n",
       "      <th>3330</th>\n",
       "      <td>RI</td>\n",
       "      <td>28.0</td>\n",
       "      <td>510.0</td>\n",
       "      <td>328-8230</td>\n",
       "      <td>no</td>\n",
       "      <td>no</td>\n",
       "      <td>0.0</td>\n",
       "      <td>180.8</td>\n",
       "      <td>109.0</td>\n",
       "      <td>30.74</td>\n",
       "      <td>...</td>\n",
       "      <td>191.9</td>\n",
       "      <td>91.0</td>\n",
       "      <td>8.64</td>\n",
       "      <td>14.1</td>\n",
       "      <td>6.0</td>\n",
       "      <td>3.81</td>\n",
       "      <td>2.0</td>\n",
       "      <td>False.</td>\n",
       "      <td>False</td>\n",
       "      <td>NaN</td>\n",
       "    </tr>\n",
       "    <tr>\n",
       "      <th>3331</th>\n",
       "      <td>CT</td>\n",
       "      <td>184.0</td>\n",
       "      <td>510.0</td>\n",
       "      <td>364-6381</td>\n",
       "      <td>yes</td>\n",
       "      <td>no</td>\n",
       "      <td>0.0</td>\n",
       "      <td>213.8</td>\n",
       "      <td>105.0</td>\n",
       "      <td>36.35</td>\n",
       "      <td>...</td>\n",
       "      <td>139.2</td>\n",
       "      <td>137.0</td>\n",
       "      <td>6.26</td>\n",
       "      <td>5.0</td>\n",
       "      <td>10.0</td>\n",
       "      <td>1.35</td>\n",
       "      <td>2.0</td>\n",
       "      <td>False.</td>\n",
       "      <td>False</td>\n",
       "      <td>NaN</td>\n",
       "    </tr>\n",
       "  </tbody>\n",
       "</table>\n",
       "<p>1836 rows × 23 columns</p>\n",
       "</div>"
      ],
      "text/plain": [
       "     State  Account Length  Area Code     Phone Intl Plan VMail Plan  \\\n",
       "0       KS           128.0      415.0  382-4657        no        yes   \n",
       "1      NaN             NaN        NaN       NaN       NaN        NaN   \n",
       "2       NJ           137.0      415.0  358-1921        no         no   \n",
       "3      NaN             NaN        NaN       NaN       NaN        NaN   \n",
       "4      NaN             NaN        NaN       NaN       NaN        NaN   \n",
       "...    ...             ...        ...       ...       ...        ...   \n",
       "3319    WY            89.0      415.0  378-6924        no         no   \n",
       "3321    VT            60.0      415.0  400-2738        no         no   \n",
       "3322    MD            62.0      408.0  409-1856        no         no   \n",
       "3330    RI            28.0      510.0  328-8230        no         no   \n",
       "3331    CT           184.0      510.0  364-6381       yes         no   \n",
       "\n",
       "      VMail Message  Day Mins  Day Calls  Day Charge  ...  Night Mins  \\\n",
       "0              25.0     265.1      110.0       45.07  ...       244.7   \n",
       "1               NaN       NaN        NaN         NaN  ...         NaN   \n",
       "2               0.0     243.4      114.0       41.38  ...       162.6   \n",
       "3               NaN       NaN        NaN         NaN  ...         NaN   \n",
       "4               NaN       NaN        NaN         NaN  ...         NaN   \n",
       "...             ...       ...        ...         ...  ...         ...   \n",
       "3319            0.0     115.4       99.0       19.62  ...       280.9   \n",
       "3321            0.0     193.9      118.0       32.96  ...       210.1   \n",
       "3322            0.0     321.1      105.0       54.59  ...       180.5   \n",
       "3330            0.0     180.8      109.0       30.74  ...       191.9   \n",
       "3331            0.0     213.8      105.0       36.35  ...       139.2   \n",
       "\n",
       "      Night Calls  Night Charge  Intl Mins  Intl Calls  Intl Charge  \\\n",
       "0            91.0         11.01       10.0         3.0         2.70   \n",
       "1             NaN           NaN        NaN         NaN          NaN   \n",
       "2           104.0          7.32       12.2         5.0         3.29   \n",
       "3             NaN           NaN        NaN         NaN          NaN   \n",
       "4             NaN           NaN        NaN         NaN          NaN   \n",
       "...           ...           ...        ...         ...          ...   \n",
       "3319        112.0         12.64       15.9         6.0         4.29   \n",
       "3321        134.0          9.45       13.2         8.0         3.56   \n",
       "3322         72.0          8.12       11.5         2.0         3.11   \n",
       "3330         91.0          8.64       14.1         6.0         3.81   \n",
       "3331        137.0          6.26        5.0        10.0         1.35   \n",
       "\n",
       "      CustServ Calls  Old Churn  Churn  test set predic  \n",
       "0                1.0     False.  False            False  \n",
       "1                NaN        NaN    NaN            False  \n",
       "2                0.0     False.  False            False  \n",
       "3                NaN        NaN    NaN            False  \n",
       "4                NaN        NaN    NaN            False  \n",
       "...              ...        ...    ...              ...  \n",
       "3319             3.0     False.  False              NaN  \n",
       "3321             3.0     False.  False              NaN  \n",
       "3322             4.0      True.   True              NaN  \n",
       "3330             2.0     False.  False              NaN  \n",
       "3331             2.0     False.  False              NaN  \n",
       "\n",
       "[1836 rows x 23 columns]"
      ]
     },
     "execution_count": 46,
     "metadata": {},
     "output_type": "execute_result"
    }
   ],
   "source": [
    "concat_cts_predict"
   ]
  },
  {
   "cell_type": "markdown",
   "metadata": {},
   "source": [
    "# CHAPTER 8 NAÏVE BAYES CLASSIFICATION"
   ]
  },
  {
   "cell_type": "markdown",
   "metadata": {},
   "source": [
    "For the following exercises, work with the framingham_nb_training and framingham_nb_ test data sets. Use either Python or R to solve each problem.\n",
    "24. Convert all variables (Death, Sex, and Educ) to factors."
   ]
  },
  {
   "cell_type": "code",
   "execution_count": 47,
   "metadata": {},
   "outputs": [],
   "source": [
    "# import the data set\n",
    "fram_tr = pd.read_csv('framingham_nb_training.csv')\n",
    "fram_ts = pd.read_csv('framingham_nb_test.csv')"
   ]
  },
  {
   "cell_type": "code",
   "execution_count": 48,
   "metadata": {},
   "outputs": [
    {
     "data": {
      "text/html": [
       "<div>\n",
       "<style scoped>\n",
       "    .dataframe tbody tr th:only-of-type {\n",
       "        vertical-align: middle;\n",
       "    }\n",
       "\n",
       "    .dataframe tbody tr th {\n",
       "        vertical-align: top;\n",
       "    }\n",
       "\n",
       "    .dataframe thead th {\n",
       "        text-align: right;\n",
       "    }\n",
       "</style>\n",
       "<table border=\"1\" class=\"dataframe\">\n",
       "  <thead>\n",
       "    <tr style=\"text-align: right;\">\n",
       "      <th></th>\n",
       "      <th>0</th>\n",
       "      <th>1</th>\n",
       "      <th>2</th>\n",
       "      <th>3</th>\n",
       "    </tr>\n",
       "  </thead>\n",
       "  <tbody>\n",
       "    <tr>\n",
       "      <th>0</th>\n",
       "      <td>1.0</td>\n",
       "      <td>0.0</td>\n",
       "      <td>0.0</td>\n",
       "      <td>0.0</td>\n",
       "    </tr>\n",
       "    <tr>\n",
       "      <th>1</th>\n",
       "      <td>0.0</td>\n",
       "      <td>1.0</td>\n",
       "      <td>0.0</td>\n",
       "      <td>0.0</td>\n",
       "    </tr>\n",
       "    <tr>\n",
       "      <th>2</th>\n",
       "      <td>0.0</td>\n",
       "      <td>0.0</td>\n",
       "      <td>1.0</td>\n",
       "      <td>0.0</td>\n",
       "    </tr>\n",
       "    <tr>\n",
       "      <th>3</th>\n",
       "      <td>1.0</td>\n",
       "      <td>0.0</td>\n",
       "      <td>0.0</td>\n",
       "      <td>0.0</td>\n",
       "    </tr>\n",
       "    <tr>\n",
       "      <th>4</th>\n",
       "      <td>0.0</td>\n",
       "      <td>1.0</td>\n",
       "      <td>0.0</td>\n",
       "      <td>0.0</td>\n",
       "    </tr>\n",
       "    <tr>\n",
       "      <th>...</th>\n",
       "      <td>...</td>\n",
       "      <td>...</td>\n",
       "      <td>...</td>\n",
       "      <td>...</td>\n",
       "    </tr>\n",
       "    <tr>\n",
       "      <th>995</th>\n",
       "      <td>1.0</td>\n",
       "      <td>0.0</td>\n",
       "      <td>0.0</td>\n",
       "      <td>0.0</td>\n",
       "    </tr>\n",
       "    <tr>\n",
       "      <th>996</th>\n",
       "      <td>1.0</td>\n",
       "      <td>0.0</td>\n",
       "      <td>0.0</td>\n",
       "      <td>0.0</td>\n",
       "    </tr>\n",
       "    <tr>\n",
       "      <th>997</th>\n",
       "      <td>0.0</td>\n",
       "      <td>0.0</td>\n",
       "      <td>1.0</td>\n",
       "      <td>0.0</td>\n",
       "    </tr>\n",
       "    <tr>\n",
       "      <th>998</th>\n",
       "      <td>0.0</td>\n",
       "      <td>1.0</td>\n",
       "      <td>0.0</td>\n",
       "      <td>0.0</td>\n",
       "    </tr>\n",
       "    <tr>\n",
       "      <th>999</th>\n",
       "      <td>0.0</td>\n",
       "      <td>1.0</td>\n",
       "      <td>0.0</td>\n",
       "      <td>0.0</td>\n",
       "    </tr>\n",
       "  </tbody>\n",
       "</table>\n",
       "<p>1000 rows × 4 columns</p>\n",
       "</div>"
      ],
      "text/plain": [
       "       0    1    2    3\n",
       "0    1.0  0.0  0.0  0.0\n",
       "1    0.0  1.0  0.0  0.0\n",
       "2    0.0  0.0  1.0  0.0\n",
       "3    1.0  0.0  0.0  0.0\n",
       "4    0.0  1.0  0.0  0.0\n",
       "..   ...  ...  ...  ...\n",
       "995  1.0  0.0  0.0  0.0\n",
       "996  1.0  0.0  0.0  0.0\n",
       "997  0.0  0.0  1.0  0.0\n",
       "998  0.0  1.0  0.0  0.0\n",
       "999  0.0  1.0  0.0  0.0\n",
       "\n",
       "[1000 rows x 4 columns]"
      ]
     },
     "execution_count": 48,
     "metadata": {},
     "output_type": "execute_result"
    }
   ],
   "source": [
    "# convart all varialbes in traing data set and test data set to dummy variables\n",
    "death_ind = np.array(fram_tr['Death'])\n",
    "(death_ind, death_ind_dict) = stattools.categorical(death_ind,drop=True,dictnames=True)\n",
    "death_ind = pd.DataFrame(death_ind)\n",
    "\n",
    "sex_ind = np.array(fram_tr['Sex'])\n",
    "(sex_ind, sex_ind_dict) = stattools.categorical(sex_ind,drop=True,dictnames=True)\n",
    "sex_ind = pd.DataFrame(sex_ind)\n",
    "\n",
    "educ_ind = np.array(fram_tr['Educ'])\n",
    "(educ_ind, educ_ind_dict) = stattools.categorical(educ_ind,drop=True,dictnames=True)\n",
    "educ_ind = pd.DataFrame(educ_ind)\n",
    "educ_ind\n",
    "\n",
    "death_ind_test = np.array(fram_ts['Death'])\n",
    "(death_ind_test, death_ind__testdict) = stattools.categorical(death_ind_test,drop=True,dictnames=True)\n",
    "death_ind_test = pd.DataFrame(death_ind_test)\n",
    "\n",
    "sex_ind_test = np.array(fram_ts['Sex'])\n",
    "(sex_ind_test, sex_ind_test_dict) = stattools.categorical(sex_ind_test,drop=True,dictnames=True)\n",
    "sex_ind_test = pd.DataFrame(sex_ind_test)\n",
    "\n",
    "educ_ind_test = np.array(fram_ts['Educ'])\n",
    "(educ_ind_test, educ_ind_test_dict) = stattools.categorical(educ_ind_test,drop=True,dictnames=True)\n",
    "educ_ind_test = pd.DataFrame(educ_ind_test)\n",
    "educ_ind_test\n"
   ]
  },
  {
   "cell_type": "markdown",
   "metadata": {},
   "source": [
    "25. Create two contingency tables,one with Death and Sex and another with Death and Educ."
   ]
  },
  {
   "cell_type": "code",
   "execution_count": 49,
   "metadata": {},
   "outputs": [
    {
     "data": {
      "text/plain": [
       "(Sex      1    2  Total\n",
       " Death                 \n",
       " 0      184  266    450\n",
       " 1      308  242    550\n",
       " Total  492  508   1000,\n",
       " Educ     1    2    3   4  Total\n",
       " Death                          \n",
       " 0      173  146   84  47    450\n",
       " 1      287  135   80  48    550\n",
       " Total  460  281  164  95   1000)"
      ]
     },
     "execution_count": 49,
     "metadata": {},
     "output_type": "execute_result"
    }
   ],
   "source": [
    "t1 = pd.crosstab(fram_tr['Death'], fram_tr['Sex'])\n",
    "t1['Total'] = t1.sum(axis=1)\n",
    "t1.loc['Total'] = t1.sum()\n",
    "\n",
    "t2 = pd.crosstab(fram_tr['Death'], fram_tr['Educ'])\n",
    "t2['Total'] = t2.sum(axis=1)\n",
    "t2.loc['Total'] = t2.sum()\n",
    "\n",
    "t1, t2"
   ]
  },
  {
   "cell_type": "markdown",
   "metadata": {},
   "source": [
    "26. Use the tables in the previous exercise to calculate:\n",
    "a. The probability a randomly selected person is alive or is dead."
   ]
  },
  {
   "cell_type": "code",
   "execution_count": 50,
   "metadata": {},
   "outputs": [
    {
     "data": {
      "text/plain": [
       "0.55"
      ]
     },
     "execution_count": 50,
     "metadata": {},
     "output_type": "execute_result"
    }
   ],
   "source": [
    "550/1000"
   ]
  },
  {
   "cell_type": "code",
   "execution_count": 51,
   "metadata": {},
   "outputs": [
    {
     "data": {
      "text/plain": [
       "'The probability is 45%'"
      ]
     },
     "execution_count": 51,
     "metadata": {},
     "output_type": "execute_result"
    }
   ],
   "source": [
    "'''The probability is 45%'''"
   ]
  },
  {
   "cell_type": "markdown",
   "metadata": {},
   "source": [
    "b. The probability a randomly selected person is a male."
   ]
  },
  {
   "cell_type": "code",
   "execution_count": 52,
   "metadata": {},
   "outputs": [
    {
     "data": {
      "text/plain": [
       "0.492"
      ]
     },
     "execution_count": 52,
     "metadata": {},
     "output_type": "execute_result"
    }
   ],
   "source": [
    "492/1000"
   ]
  },
  {
   "cell_type": "code",
   "execution_count": 53,
   "metadata": {},
   "outputs": [
    {
     "data": {
      "text/plain": [
       "'The probability is 49.2%'"
      ]
     },
     "execution_count": 53,
     "metadata": {},
     "output_type": "execute_result"
    }
   ],
   "source": [
    "'''The probability is 49.2%'''"
   ]
  },
  {
   "cell_type": "markdown",
   "metadata": {},
   "source": [
    "c. The probability a randomly selected person has an Educ value of 3."
   ]
  },
  {
   "cell_type": "code",
   "execution_count": 54,
   "metadata": {},
   "outputs": [
    {
     "data": {
      "text/plain": [
       "0.164"
      ]
     },
     "execution_count": 54,
     "metadata": {},
     "output_type": "execute_result"
    }
   ],
   "source": [
    "164/1000"
   ]
  },
  {
   "cell_type": "code",
   "execution_count": 55,
   "metadata": {},
   "outputs": [
    {
     "data": {
      "text/plain": [
       "'The probability is 16.4%'"
      ]
     },
     "execution_count": 55,
     "metadata": {},
     "output_type": "execute_result"
    }
   ],
   "source": [
    "'''The probability is 16.4%'''"
   ]
  },
  {
   "cell_type": "markdown",
   "metadata": {},
   "source": [
    "d. The probabilities that a dead person is male with education level 1, and that a living person is male with education level 1."
   ]
  },
  {
   "cell_type": "code",
   "execution_count": 56,
   "metadata": {},
   "outputs": [
    {
     "data": {
      "text/plain": [
       "0.04149200000000001"
      ]
     },
     "execution_count": 56,
     "metadata": {},
     "output_type": "execute_result"
    }
   ],
   "source": [
    "# probability for dead, male and education 1 \n",
    "0.55*0.164*(460/1000)"
   ]
  },
  {
   "cell_type": "code",
   "execution_count": 57,
   "metadata": {},
   "outputs": [
    {
     "data": {
      "text/plain": [
       "0.033948"
      ]
     },
     "execution_count": 57,
     "metadata": {},
     "output_type": "execute_result"
    }
   ],
   "source": [
    "# probability for living, male and education 1 \n",
    "(1-0.55)*0.164*(460/1000)"
   ]
  },
  {
   "cell_type": "markdown",
   "metadata": {},
   "source": [
    "e. The probabilities that a living person is female with education level 2, and that a dead person is female with education level 2."
   ]
  },
  {
   "cell_type": "code",
   "execution_count": 58,
   "metadata": {},
   "outputs": [
    {
     "data": {
      "text/plain": [
       "0.06221340000000001"
      ]
     },
     "execution_count": 58,
     "metadata": {},
     "output_type": "execute_result"
    }
   ],
   "source": [
    "# probability for living, female, education 2\n",
    "(450/1000)*(492/1000)*(281/1000)"
   ]
  },
  {
   "cell_type": "code",
   "execution_count": 59,
   "metadata": {},
   "outputs": [
    {
     "data": {
      "text/plain": [
       "0.07603860000000001"
      ]
     },
     "execution_count": 59,
     "metadata": {},
     "output_type": "execute_result"
    }
   ],
   "source": [
    "# probability for dead, female, education 2\n",
    "(550/1000)*(492/1000)*(281/1000)"
   ]
  },
  {
   "cell_type": "markdown",
   "metadata": {},
   "source": [
    "27. Create side‐by‐side bar graphs for Death, one with an overlay of Sex and the other with an overlay of Educ."
   ]
  },
  {
   "cell_type": "code",
   "execution_count": 60,
   "metadata": {},
   "outputs": [
    {
     "data": {
      "text/plain": [
       "(Sex      1    2\n",
       " Death          \n",
       " 0      184  266\n",
       " 1      308  242,\n",
       " Educ     1    2   3   4\n",
       " Death                  \n",
       " 0      173  146  84  47\n",
       " 1      287  135  80  48)"
      ]
     },
     "execution_count": 60,
     "metadata": {},
     "output_type": "execute_result"
    }
   ],
   "source": [
    "t_death_sex = pd.crosstab(fram_tr['Death'], fram_tr['Sex'])\n",
    "t_sex_educ = pd.crosstab(fram_tr['Death'], fram_tr['Educ'])\n",
    "t_death_sex, t_sex_educ\n"
   ]
  },
  {
   "cell_type": "code",
   "execution_count": 61,
   "metadata": {},
   "outputs": [
    {
     "data": {
      "text/plain": [
       "<matplotlib.axes._subplots.AxesSubplot at 0x7fdb2cdf27d0>"
      ]
     },
     "execution_count": 61,
     "metadata": {},
     "output_type": "execute_result"
    },
    {
     "data": {
      "image/png": "[encoded data removed]",
      "text/plain": [
       "<Figure size 432x288 with 1 Axes>"
      ]
     },
     "metadata": {
      "needs_background": "light"
     },
     "output_type": "display_data"
    }
   ],
   "source": [
    "# Plot the bar graph (need help here, how to plot a side-by-side bar with overlays?)\n",
    "pd.concat({'death vs. sex':t_death_sex, 'death vs. edu':t_sex_educ} , axis=1)\\\n",
    ".plot.bar(stacked=True, title='Side-by-Side Bar Graphs for Death with Sex Overlay VS. Death with Educ Overlay')"
   ]
  },
  {
   "cell_type": "code",
   "execution_count": 101,
   "metadata": {},
   "outputs": [
    {
     "ename": "TypeError",
     "evalue": "float() argument must be a string or a number, not 'AxesSubplot'",
     "output_type": "error",
     "traceback": [
      "\u001b[0;31m---------------------------------------------------------------------------\u001b[0m",
      "\u001b[0;31mTypeError\u001b[0m                                 Traceback (most recent call last)",
      "\u001b[0;32m<ipython-input-101-d7da0857772b>\u001b[0m in \u001b[0;36m<module>\u001b[0;34m\u001b[0m\n\u001b[1;32m     12\u001b[0m \u001b[0max1\u001b[0m \u001b[0;34m=\u001b[0m \u001b[0mplt\u001b[0m\u001b[0;34m.\u001b[0m\u001b[0msubplot\u001b[0m\u001b[0;34m(\u001b[0m\u001b[0;36m131\u001b[0m\u001b[0;34m)\u001b[0m\u001b[0;34m\u001b[0m\u001b[0;34m\u001b[0m\u001b[0m\n\u001b[1;32m     13\u001b[0m \u001b[0;31m#ax1.plot(ds_norm.plot(ax = ax1, kind='bar', stacked=True, figsize=(6,15), title='Sex'))\u001b[0m\u001b[0;34m\u001b[0m\u001b[0;34m\u001b[0m\u001b[0;34m\u001b[0m\u001b[0m\n\u001b[0;32m---> 14\u001b[0;31m \u001b[0max1\u001b[0m\u001b[0;34m.\u001b[0m\u001b[0mplot\u001b[0m\u001b[0;34m(\u001b[0m\u001b[0mt_death_sex\u001b[0m\u001b[0;34m.\u001b[0m\u001b[0mplot\u001b[0m\u001b[0;34m(\u001b[0m\u001b[0max\u001b[0m \u001b[0;34m=\u001b[0m \u001b[0max1\u001b[0m\u001b[0;34m,\u001b[0m \u001b[0mkind\u001b[0m\u001b[0;34m=\u001b[0m\u001b[0;34m'bar'\u001b[0m\u001b[0;34m,\u001b[0m \u001b[0mstacked\u001b[0m\u001b[0;34m=\u001b[0m\u001b[0;32mTrue\u001b[0m\u001b[0;34m,\u001b[0m \u001b[0mfigsize\u001b[0m\u001b[0;34m=\u001b[0m\u001b[0;34m(\u001b[0m\u001b[0;36m6\u001b[0m\u001b[0;34m,\u001b[0m\u001b[0;36m15\u001b[0m\u001b[0;34m)\u001b[0m\u001b[0;34m,\u001b[0m \u001b[0mtitle\u001b[0m\u001b[0;34m=\u001b[0m\u001b[0;34m'Sex'\u001b[0m\u001b[0;34m)\u001b[0m\u001b[0;34m)\u001b[0m\u001b[0;34m\u001b[0m\u001b[0;34m\u001b[0m\u001b[0m\n\u001b[0m\u001b[1;32m     15\u001b[0m \u001b[0;34m\u001b[0m\u001b[0m\n\u001b[1;32m     16\u001b[0m \u001b[0max2\u001b[0m \u001b[0;34m=\u001b[0m \u001b[0mplt\u001b[0m\u001b[0;34m.\u001b[0m\u001b[0msubplot\u001b[0m\u001b[0;34m(\u001b[0m\u001b[0;36m132\u001b[0m\u001b[0;34m)\u001b[0m\u001b[0;34m\u001b[0m\u001b[0;34m\u001b[0m\u001b[0m\n",
      "\u001b[0;32m/Applications/anaconda3/lib/python3.7/site-packages/matplotlib/axes/_axes.py\u001b[0m in \u001b[0;36mplot\u001b[0;34m(self, scalex, scaley, data, *args, **kwargs)\u001b[0m\n\u001b[1;32m   1665\u001b[0m         \u001b[0mlines\u001b[0m \u001b[0;34m=\u001b[0m \u001b[0;34m[\u001b[0m\u001b[0;34m*\u001b[0m\u001b[0mself\u001b[0m\u001b[0;34m.\u001b[0m\u001b[0m_get_lines\u001b[0m\u001b[0;34m(\u001b[0m\u001b[0;34m*\u001b[0m\u001b[0margs\u001b[0m\u001b[0;34m,\u001b[0m \u001b[0mdata\u001b[0m\u001b[0;34m=\u001b[0m\u001b[0mdata\u001b[0m\u001b[0;34m,\u001b[0m \u001b[0;34m**\u001b[0m\u001b[0mkwargs\u001b[0m\u001b[0;34m)\u001b[0m\u001b[0;34m]\u001b[0m\u001b[0;34m\u001b[0m\u001b[0;34m\u001b[0m\u001b[0m\n\u001b[1;32m   1666\u001b[0m         \u001b[0;32mfor\u001b[0m \u001b[0mline\u001b[0m \u001b[0;32min\u001b[0m \u001b[0mlines\u001b[0m\u001b[0;34m:\u001b[0m\u001b[0;34m\u001b[0m\u001b[0;34m\u001b[0m\u001b[0m\n\u001b[0;32m-> 1667\u001b[0;31m             \u001b[0mself\u001b[0m\u001b[0;34m.\u001b[0m\u001b[0madd_line\u001b[0m\u001b[0;34m(\u001b[0m\u001b[0mline\u001b[0m\u001b[0;34m)\u001b[0m\u001b[0;34m\u001b[0m\u001b[0;34m\u001b[0m\u001b[0m\n\u001b[0m\u001b[1;32m   1668\u001b[0m         \u001b[0mself\u001b[0m\u001b[0;34m.\u001b[0m\u001b[0mautoscale_view\u001b[0m\u001b[0;34m(\u001b[0m\u001b[0mscalex\u001b[0m\u001b[0;34m=\u001b[0m\u001b[0mscalex\u001b[0m\u001b[0;34m,\u001b[0m \u001b[0mscaley\u001b[0m\u001b[0;34m=\u001b[0m\u001b[0mscaley\u001b[0m\u001b[0;34m)\u001b[0m\u001b[0;34m\u001b[0m\u001b[0;34m\u001b[0m\u001b[0m\n\u001b[1;32m   1669\u001b[0m         \u001b[0;32mreturn\u001b[0m \u001b[0mlines\u001b[0m\u001b[0;34m\u001b[0m\u001b[0;34m\u001b[0m\u001b[0m\n",
      "\u001b[0;32m/Applications/anaconda3/lib/python3.7/site-packages/matplotlib/axes/_base.py\u001b[0m in \u001b[0;36madd_line\u001b[0;34m(self, line)\u001b[0m\n\u001b[1;32m   1900\u001b[0m             \u001b[0mline\u001b[0m\u001b[0;34m.\u001b[0m\u001b[0mset_clip_path\u001b[0m\u001b[0;34m(\u001b[0m\u001b[0mself\u001b[0m\u001b[0;34m.\u001b[0m\u001b[0mpatch\u001b[0m\u001b[0;34m)\u001b[0m\u001b[0;34m\u001b[0m\u001b[0;34m\u001b[0m\u001b[0m\n\u001b[1;32m   1901\u001b[0m \u001b[0;34m\u001b[0m\u001b[0m\n\u001b[0;32m-> 1902\u001b[0;31m         \u001b[0mself\u001b[0m\u001b[0;34m.\u001b[0m\u001b[0m_update_line_limits\u001b[0m\u001b[0;34m(\u001b[0m\u001b[0mline\u001b[0m\u001b[0;34m)\u001b[0m\u001b[0;34m\u001b[0m\u001b[0;34m\u001b[0m\u001b[0m\n\u001b[0m\u001b[1;32m   1903\u001b[0m         \u001b[0;32mif\u001b[0m \u001b[0;32mnot\u001b[0m \u001b[0mline\u001b[0m\u001b[0;34m.\u001b[0m\u001b[0mget_label\u001b[0m\u001b[0;34m(\u001b[0m\u001b[0;34m)\u001b[0m\u001b[0;34m:\u001b[0m\u001b[0;34m\u001b[0m\u001b[0;34m\u001b[0m\u001b[0m\n\u001b[1;32m   1904\u001b[0m             \u001b[0mline\u001b[0m\u001b[0;34m.\u001b[0m\u001b[0mset_label\u001b[0m\u001b[0;34m(\u001b[0m\u001b[0;34m'_line%d'\u001b[0m \u001b[0;34m%\u001b[0m \u001b[0mlen\u001b[0m\u001b[0;34m(\u001b[0m\u001b[0mself\u001b[0m\u001b[0;34m.\u001b[0m\u001b[0mlines\u001b[0m\u001b[0;34m)\u001b[0m\u001b[0;34m)\u001b[0m\u001b[0;34m\u001b[0m\u001b[0;34m\u001b[0m\u001b[0m\n",
      "\u001b[0;32m/Applications/anaconda3/lib/python3.7/site-packages/matplotlib/axes/_base.py\u001b[0m in \u001b[0;36m_update_line_limits\u001b[0;34m(self, line)\u001b[0m\n\u001b[1;32m   1922\u001b[0m         \u001b[0mFigures\u001b[0m \u001b[0mout\u001b[0m \u001b[0mthe\u001b[0m \u001b[0mdata\u001b[0m \u001b[0mlimit\u001b[0m \u001b[0mof\u001b[0m \u001b[0mthe\u001b[0m \u001b[0mgiven\u001b[0m \u001b[0mline\u001b[0m\u001b[0;34m,\u001b[0m \u001b[0mupdating\u001b[0m \u001b[0mself\u001b[0m\u001b[0;34m.\u001b[0m\u001b[0mdataLim\u001b[0m\u001b[0;34m.\u001b[0m\u001b[0;34m\u001b[0m\u001b[0;34m\u001b[0m\u001b[0m\n\u001b[1;32m   1923\u001b[0m         \"\"\"\n\u001b[0;32m-> 1924\u001b[0;31m         \u001b[0mpath\u001b[0m \u001b[0;34m=\u001b[0m \u001b[0mline\u001b[0m\u001b[0;34m.\u001b[0m\u001b[0mget_path\u001b[0m\u001b[0;34m(\u001b[0m\u001b[0;34m)\u001b[0m\u001b[0;34m\u001b[0m\u001b[0;34m\u001b[0m\u001b[0m\n\u001b[0m\u001b[1;32m   1925\u001b[0m         \u001b[0;32mif\u001b[0m \u001b[0mpath\u001b[0m\u001b[0;34m.\u001b[0m\u001b[0mvertices\u001b[0m\u001b[0;34m.\u001b[0m\u001b[0msize\u001b[0m \u001b[0;34m==\u001b[0m \u001b[0;36m0\u001b[0m\u001b[0;34m:\u001b[0m\u001b[0;34m\u001b[0m\u001b[0;34m\u001b[0m\u001b[0m\n\u001b[1;32m   1926\u001b[0m             \u001b[0;32mreturn\u001b[0m\u001b[0;34m\u001b[0m\u001b[0;34m\u001b[0m\u001b[0m\n",
      "\u001b[0;32m/Applications/anaconda3/lib/python3.7/site-packages/matplotlib/lines.py\u001b[0m in \u001b[0;36mget_path\u001b[0;34m(self)\u001b[0m\n\u001b[1;32m   1025\u001b[0m         \"\"\"\n\u001b[1;32m   1026\u001b[0m         \u001b[0;32mif\u001b[0m \u001b[0mself\u001b[0m\u001b[0;34m.\u001b[0m\u001b[0m_invalidy\u001b[0m \u001b[0;32mor\u001b[0m \u001b[0mself\u001b[0m\u001b[0;34m.\u001b[0m\u001b[0m_invalidx\u001b[0m\u001b[0;34m:\u001b[0m\u001b[0;34m\u001b[0m\u001b[0;34m\u001b[0m\u001b[0m\n\u001b[0;32m-> 1027\u001b[0;31m             \u001b[0mself\u001b[0m\u001b[0;34m.\u001b[0m\u001b[0mrecache\u001b[0m\u001b[0;34m(\u001b[0m\u001b[0;34m)\u001b[0m\u001b[0;34m\u001b[0m\u001b[0;34m\u001b[0m\u001b[0m\n\u001b[0m\u001b[1;32m   1028\u001b[0m         \u001b[0;32mreturn\u001b[0m \u001b[0mself\u001b[0m\u001b[0;34m.\u001b[0m\u001b[0m_path\u001b[0m\u001b[0;34m\u001b[0m\u001b[0;34m\u001b[0m\u001b[0m\n\u001b[1;32m   1029\u001b[0m \u001b[0;34m\u001b[0m\u001b[0m\n",
      "\u001b[0;32m/Applications/anaconda3/lib/python3.7/site-packages/matplotlib/lines.py\u001b[0m in \u001b[0;36mrecache\u001b[0;34m(self, always)\u001b[0m\n\u001b[1;32m    673\u001b[0m         \u001b[0;32mif\u001b[0m \u001b[0malways\u001b[0m \u001b[0;32mor\u001b[0m \u001b[0mself\u001b[0m\u001b[0;34m.\u001b[0m\u001b[0m_invalidy\u001b[0m\u001b[0;34m:\u001b[0m\u001b[0;34m\u001b[0m\u001b[0;34m\u001b[0m\u001b[0m\n\u001b[1;32m    674\u001b[0m             \u001b[0myconv\u001b[0m \u001b[0;34m=\u001b[0m \u001b[0mself\u001b[0m\u001b[0;34m.\u001b[0m\u001b[0mconvert_yunits\u001b[0m\u001b[0;34m(\u001b[0m\u001b[0mself\u001b[0m\u001b[0;34m.\u001b[0m\u001b[0m_yorig\u001b[0m\u001b[0;34m)\u001b[0m\u001b[0;34m\u001b[0m\u001b[0;34m\u001b[0m\u001b[0m\n\u001b[0;32m--> 675\u001b[0;31m             \u001b[0my\u001b[0m \u001b[0;34m=\u001b[0m \u001b[0m_to_unmasked_float_array\u001b[0m\u001b[0;34m(\u001b[0m\u001b[0myconv\u001b[0m\u001b[0;34m)\u001b[0m\u001b[0;34m.\u001b[0m\u001b[0mravel\u001b[0m\u001b[0;34m(\u001b[0m\u001b[0;34m)\u001b[0m\u001b[0;34m\u001b[0m\u001b[0;34m\u001b[0m\u001b[0m\n\u001b[0m\u001b[1;32m    676\u001b[0m         \u001b[0;32melse\u001b[0m\u001b[0;34m:\u001b[0m\u001b[0;34m\u001b[0m\u001b[0;34m\u001b[0m\u001b[0m\n\u001b[1;32m    677\u001b[0m             \u001b[0my\u001b[0m \u001b[0;34m=\u001b[0m \u001b[0mself\u001b[0m\u001b[0;34m.\u001b[0m\u001b[0m_y\u001b[0m\u001b[0;34m\u001b[0m\u001b[0;34m\u001b[0m\u001b[0m\n",
      "\u001b[0;32m/Applications/anaconda3/lib/python3.7/site-packages/matplotlib/cbook/__init__.py\u001b[0m in \u001b[0;36m_to_unmasked_float_array\u001b[0;34m(x)\u001b[0m\n\u001b[1;32m   1388\u001b[0m         \u001b[0;32mreturn\u001b[0m \u001b[0mnp\u001b[0m\u001b[0;34m.\u001b[0m\u001b[0mma\u001b[0m\u001b[0;34m.\u001b[0m\u001b[0masarray\u001b[0m\u001b[0;34m(\u001b[0m\u001b[0mx\u001b[0m\u001b[0;34m,\u001b[0m \u001b[0mfloat\u001b[0m\u001b[0;34m)\u001b[0m\u001b[0;34m.\u001b[0m\u001b[0mfilled\u001b[0m\u001b[0;34m(\u001b[0m\u001b[0mnp\u001b[0m\u001b[0;34m.\u001b[0m\u001b[0mnan\u001b[0m\u001b[0;34m)\u001b[0m\u001b[0;34m\u001b[0m\u001b[0;34m\u001b[0m\u001b[0m\n\u001b[1;32m   1389\u001b[0m     \u001b[0;32melse\u001b[0m\u001b[0;34m:\u001b[0m\u001b[0;34m\u001b[0m\u001b[0;34m\u001b[0m\u001b[0m\n\u001b[0;32m-> 1390\u001b[0;31m         \u001b[0;32mreturn\u001b[0m \u001b[0mnp\u001b[0m\u001b[0;34m.\u001b[0m\u001b[0masarray\u001b[0m\u001b[0;34m(\u001b[0m\u001b[0mx\u001b[0m\u001b[0;34m,\u001b[0m \u001b[0mfloat\u001b[0m\u001b[0;34m)\u001b[0m\u001b[0;34m\u001b[0m\u001b[0;34m\u001b[0m\u001b[0m\n\u001b[0m\u001b[1;32m   1391\u001b[0m \u001b[0;34m\u001b[0m\u001b[0m\n\u001b[1;32m   1392\u001b[0m \u001b[0;34m\u001b[0m\u001b[0m\n",
      "\u001b[0;32m/Applications/anaconda3/lib/python3.7/site-packages/numpy/core/_asarray.py\u001b[0m in \u001b[0;36masarray\u001b[0;34m(a, dtype, order)\u001b[0m\n\u001b[1;32m     83\u001b[0m \u001b[0;34m\u001b[0m\u001b[0m\n\u001b[1;32m     84\u001b[0m     \"\"\"\n\u001b[0;32m---> 85\u001b[0;31m     \u001b[0;32mreturn\u001b[0m \u001b[0marray\u001b[0m\u001b[0;34m(\u001b[0m\u001b[0ma\u001b[0m\u001b[0;34m,\u001b[0m \u001b[0mdtype\u001b[0m\u001b[0;34m,\u001b[0m \u001b[0mcopy\u001b[0m\u001b[0;34m=\u001b[0m\u001b[0;32mFalse\u001b[0m\u001b[0;34m,\u001b[0m \u001b[0morder\u001b[0m\u001b[0;34m=\u001b[0m\u001b[0morder\u001b[0m\u001b[0;34m)\u001b[0m\u001b[0;34m\u001b[0m\u001b[0;34m\u001b[0m\u001b[0m\n\u001b[0m\u001b[1;32m     86\u001b[0m \u001b[0;34m\u001b[0m\u001b[0m\n\u001b[1;32m     87\u001b[0m \u001b[0;34m\u001b[0m\u001b[0m\n",
      "\u001b[0;31mTypeError\u001b[0m: float() argument must be a string or a number, not 'AxesSubplot'"
     ]
    },
    {
     "data": {
      "text/plain": [
       "<Figure size 432x288 with 0 Axes>"
      ]
     },
     "metadata": {},
     "output_type": "display_data"
    },
    {
     "data": {
      "image/png": "[encoded data removed]",
      "text/plain": [
       "<Figure size 432x288 with 2 Axes>"
      ]
     },
     "metadata": {
      "needs_background": "light"
     },
     "output_type": "display_data"
    },
    {
     "data": {
      "image/png": "[encoded data removed]",
      "text/plain": [
       "<Figure size 432x288 with 1 Axes>"
      ]
     },
     "metadata": {
      "needs_background": "light"
     },
     "output_type": "display_data"
    },
    {
     "data": {
      "image/png": "[encoded data removed]",
      "text/plain": [
       "<Figure size 432x288 with 1 Axes>"
      ]
     },
     "metadata": {
      "needs_background": "light"
     },
     "output_type": "display_data"
    },
    {
     "data": {
      "image/png": "[encoded data removed]",
      "text/plain": [
       "<Figure size 432x1080 with 1 Axes>"
      ]
     },
     "metadata": {
      "needs_background": "light"
     },
     "output_type": "display_data"
    }
   ],
   "source": [
    "# Answer from Professor\n",
    "#27. Create side‐by‐side bar graphs for Death, one with an overlay of Sex and the other with\n",
    "#    an overlay of Educ.\n",
    "fig = plt.figure()\n",
    "fig, (ax1,ax2) = plt.subplots(1,2, sharex = True)\n",
    "#ax1 = ds_norm.plot(kind='bar', stacked=True)\n",
    "#ax2 = de_norm.plot(kind='bar', stacked=True)\n",
    "ax1 = t_death_sex.plot(kind='bar', stacked=True)\n",
    "ax2 = t_sex_educ.plot(kind='bar', stacked=True)\n",
    "\n",
    "plt.figure()\n",
    "ax1 = plt.subplot(131)\n",
    "#ax1.plot(ds_norm.plot(ax = ax1, kind='bar', stacked=True, figsize=(6,15), title='Sex'))\n",
    "ax1.plot(t_death_sex.plot(ax = ax1, kind='bar', stacked=True, figsize=(6,15), title='Sex'))\n",
    "\n",
    "ax2 = plt.subplot(132)\n",
    "#ax2.plot(de_norm.plot(ax = ax2, kind='bar', stacked=True, figsize=(6,20), title='Education'))\n",
    "ax2.plot(t_sex_educ.plot(ax = ax2, kind='bar', stacked=True, figsize=(6,20), title='Education'))\n",
    "\n",
    "\n",
    "\n",
    "# example data\n",
    "x = np.arange(0.1, 4, 0.1)\n",
    "y = np.exp(-x)\n",
    "\n",
    "# example variable error bar values\n",
    "yerr = 0.1 + 0.1 * np.sqrt(x)\n",
    "\n",
    "\n",
    "# Now switch to a more OO interface to exercise more features.\n",
    "#fig, axs = plt.subplots(nrows=1, ncols=2, sharex=True)\n",
    "#ax = axs[0]\n",
    "#ax.bar() = ds_norm.plot.bar(stacked=True)\n",
    "#ax.set_title('all errorbars')\n",
    "\n",
    "\n",
    "#ax = axs[1]\n",
    "#ax.bar(x, y, yerr=yerr)\n",
    "#ax.set_title('only every 5th errorbar')\n",
    "\n",
    "\n",
    "#fig.suptitle('Errorbar subsampling for better appearance')\n",
    "\n",
    "plt.show()\n"
   ]
  },
  {
   "cell_type": "markdown",
   "metadata": {},
   "source": [
    "28. Use the graphs from the previous exercise to answer the following questions:\n",
    "a. If we know a person is dead, are they more likely to be male or female?"
   ]
  },
  {
   "cell_type": "code",
   "execution_count": 62,
   "metadata": {},
   "outputs": [
    {
     "data": {
      "text/plain": [
       "<matplotlib.axes._subplots.AxesSubplot at 0x7fdb2d28e390>"
      ]
     },
     "execution_count": 62,
     "metadata": {},
     "output_type": "execute_result"
    },
    {
     "data": {
      "image/png": "[encoded data removed]",
      "text/plain": [
       "<Figure size 432x288 with 1 Axes>"
      ]
     },
     "metadata": {
      "needs_background": "light"
     },
     "output_type": "display_data"
    }
   ],
   "source": [
    "t_death_sex.plot.bar(stacked=True)"
   ]
  },
  {
   "cell_type": "code",
   "execution_count": 63,
   "metadata": {},
   "outputs": [
    {
     "data": {
      "text/plain": [
       "'The person is more likely to be male.'"
      ]
     },
     "execution_count": 63,
     "metadata": {},
     "output_type": "execute_result"
    }
   ],
   "source": [
    "'''The person is more likely to be male.'''"
   ]
  },
  {
   "cell_type": "markdown",
   "metadata": {},
   "source": [
    "b. If we know a person is alive, are they more likely to be male or female?"
   ]
  },
  {
   "cell_type": "code",
   "execution_count": 64,
   "metadata": {},
   "outputs": [
    {
     "data": {
      "text/plain": [
       "'The person is more likely to be female.'"
      ]
     },
     "execution_count": 64,
     "metadata": {},
     "output_type": "execute_result"
    }
   ],
   "source": [
    "'''The person is more likely to be female.'''"
   ]
  },
  {
   "cell_type": "markdown",
   "metadata": {},
   "source": [
    "c. If we know a person is dead, what education level are they most likely to have?"
   ]
  },
  {
   "cell_type": "code",
   "execution_count": 65,
   "metadata": {},
   "outputs": [
    {
     "data": {
      "text/plain": [
       "<matplotlib.axes._subplots.AxesSubplot at 0x7fdb2d39e2d0>"
      ]
     },
     "execution_count": 65,
     "metadata": {},
     "output_type": "execute_result"
    },
    {
     "data": {
      "image/png": "[encoded data removed]",
      "text/plain": [
       "<Figure size 432x288 with 1 Axes>"
      ]
     },
     "metadata": {
      "needs_background": "light"
     },
     "output_type": "display_data"
    }
   ],
   "source": [
    "t_sex_educ.plot.bar(stacked=True)"
   ]
  },
  {
   "cell_type": "code",
   "execution_count": 66,
   "metadata": {},
   "outputs": [
    {
     "data": {
      "text/plain": [
       "'The person is most likely to have education level 1.'"
      ]
     },
     "execution_count": 66,
     "metadata": {},
     "output_type": "execute_result"
    }
   ],
   "source": [
    "'''The person is most likely to have education level 1.'''"
   ]
  },
  {
   "cell_type": "markdown",
   "metadata": {},
   "source": [
    "d. If we know a person is alive, what education level are they most likely to have?"
   ]
  },
  {
   "cell_type": "code",
   "execution_count": 67,
   "metadata": {},
   "outputs": [
    {
     "data": {
      "text/plain": [
       "'education level 1'"
      ]
     },
     "execution_count": 67,
     "metadata": {},
     "output_type": "execute_result"
    }
   ],
   "source": [
    "'''education level 1'''"
   ]
  },
  {
   "cell_type": "markdown",
   "metadata": {},
   "source": [
    "e. Which education levels are more prevalent for dead persons? For living persons?"
   ]
  },
  {
   "cell_type": "code",
   "execution_count": 68,
   "metadata": {},
   "outputs": [
    {
     "data": {
      "text/plain": [
       "'education level 1'"
      ]
     },
     "execution_count": 68,
     "metadata": {},
     "output_type": "execute_result"
    }
   ],
   "source": [
    "'''education level 1'''"
   ]
  },
  {
   "cell_type": "markdown",
   "metadata": {},
   "source": [
    "29. Compute the posterior probability of Death = 0 (person is living) for a male with edu- cation level 1. Compute the posterior probability of Death = 1 (person is dead) for a male with education level 1."
   ]
  },
  {
   "cell_type": "code",
   "execution_count": 69,
   "metadata": {},
   "outputs": [
    {
     "data": {
      "text/plain": [
       "0.101844"
      ]
     },
     "execution_count": 69,
     "metadata": {},
     "output_type": "execute_result"
    }
   ],
   "source": [
    "# posterior probability of Death = 0, male, education level 1\n",
    "(450/1000)*(492/1000)*(460/1000)"
   ]
  },
  {
   "cell_type": "code",
   "execution_count": 70,
   "metadata": {},
   "outputs": [
    {
     "data": {
      "text/plain": [
       "0.124476"
      ]
     },
     "execution_count": 70,
     "metadata": {},
     "output_type": "execute_result"
    }
   ],
   "source": [
    "# posterior probability of Death = 1, male, education level 1\n",
    "(550/1000)*(492/1000)*(460/1000)"
   ]
  },
  {
   "cell_type": "markdown",
   "metadata": {},
   "source": [
    "30. Compute the posterior probability of Death=0(person is living)for a female with edu- cation level 2. Compute the posterior probability of Death = 1 (person is dead) for a female with education level 2."
   ]
  },
  {
   "cell_type": "code",
   "execution_count": 71,
   "metadata": {},
   "outputs": [
    {
     "data": {
      "text/plain": [
       "0.0642366"
      ]
     },
     "execution_count": 71,
     "metadata": {},
     "output_type": "execute_result"
    }
   ],
   "source": [
    "# posterior probability of Death = 0(person is living), female, education level 2\n",
    "(450/1000)*(508/1000)*(281/1000)"
   ]
  },
  {
   "cell_type": "code",
   "execution_count": 72,
   "metadata": {},
   "outputs": [
    {
     "data": {
      "text/plain": [
       "0.07851140000000002"
      ]
     },
     "execution_count": 72,
     "metadata": {},
     "output_type": "execute_result"
    }
   ],
   "source": [
    "# posterior probability of Death = 1(person is dead), female, education level 2\n",
    "(550/1000)*(508/1000)*(281/1000)"
   ]
  },
  {
   "cell_type": "markdown",
   "metadata": {},
   "source": [
    "31. Run the Naïve Bayes classifier to classify persons as living or dead based on sex and education."
   ]
  },
  {
   "cell_type": "code",
   "execution_count": 73,
   "metadata": {},
   "outputs": [],
   "source": [
    "# save the predict variables as x\n",
    "x = pd.concat((sex_ind, educ_ind), axis=1)\n",
    "# save the target variable a y\n",
    "y = fram_tr['Death']\n",
    "# run the Native Bayes alogrithm\n",
    "nb_01 = MultinomialNB().fit(x,y)\n"
   ]
  },
  {
   "cell_type": "markdown",
   "metadata": {},
   "source": [
    "32. Evaluate the Naïve Bayes model on the framingham_nb_testdataset.Display th eresults in a contingency table. Edit the row and column names of the table to make the table more readable. Include a total row and column."
   ]
  },
  {
   "cell_type": "code",
   "execution_count": 74,
   "metadata": {},
   "outputs": [
    {
     "data": {
      "text/html": [
       "<div>\n",
       "<style scoped>\n",
       "    .dataframe tbody tr th:only-of-type {\n",
       "        vertical-align: middle;\n",
       "    }\n",
       "\n",
       "    .dataframe tbody tr th {\n",
       "        vertical-align: top;\n",
       "    }\n",
       "\n",
       "    .dataframe thead th {\n",
       "        text-align: right;\n",
       "    }\n",
       "</style>\n",
       "<table border=\"1\" class=\"dataframe\">\n",
       "  <thead>\n",
       "    <tr style=\"text-align: right;\">\n",
       "      <th>Predicted</th>\n",
       "      <th>0</th>\n",
       "      <th>1</th>\n",
       "      <th>Total</th>\n",
       "    </tr>\n",
       "    <tr>\n",
       "      <th>Actual</th>\n",
       "      <th></th>\n",
       "      <th></th>\n",
       "      <th></th>\n",
       "    </tr>\n",
       "  </thead>\n",
       "  <tbody>\n",
       "    <tr>\n",
       "      <th>0</th>\n",
       "      <td>203</td>\n",
       "      <td>322</td>\n",
       "      <td>525</td>\n",
       "    </tr>\n",
       "    <tr>\n",
       "      <th>1</th>\n",
       "      <td>105</td>\n",
       "      <td>370</td>\n",
       "      <td>475</td>\n",
       "    </tr>\n",
       "    <tr>\n",
       "      <th>Total</th>\n",
       "      <td>308</td>\n",
       "      <td>692</td>\n",
       "      <td>1000</td>\n",
       "    </tr>\n",
       "  </tbody>\n",
       "</table>\n",
       "</div>"
      ],
      "text/plain": [
       "Predicted    0    1  Total\n",
       "Actual                    \n",
       "0          203  322    525\n",
       "1          105  370    475\n",
       "Total      308  692   1000"
      ]
     },
     "execution_count": 74,
     "metadata": {},
     "output_type": "execute_result"
    }
   ],
   "source": [
    "# test the Native Bayes estimator on the test data set\n",
    "x_test = pd.concat((sex_ind_test, educ_ind_test), axis=1)\n",
    "y_predicted = nb_01.predict(x_test)\n",
    "\n",
    "# using contingency table to visualize the acutal and predicted death status \n",
    "ypred = pd.crosstab(fram_ts['Death'], y_predicted, rownames=['Actual'], colnames=['Predicted'])\n",
    "ypred['Total'] = ypred.sum(axis=1)\n",
    "ypred.loc['Total'] = ypred.sum()\n",
    "ypred"
   ]
  },
  {
   "cell_type": "markdown",
   "metadata": {},
   "source": [
    "33. According to your table in the previous exercise, find the following values for the Naïve Bayes model:\n",
    "a. Accuracy"
   ]
  },
  {
   "cell_type": "code",
   "execution_count": 75,
   "metadata": {},
   "outputs": [
    {
     "data": {
      "text/plain": [
       "0.573"
      ]
     },
     "execution_count": 75,
     "metadata": {},
     "output_type": "execute_result"
    }
   ],
   "source": [
    "# accuracy of the model\n",
    "(203+370)/1000"
   ]
  },
  {
   "cell_type": "code",
   "execution_count": 76,
   "metadata": {},
   "outputs": [
    {
     "data": {
      "text/plain": [
       "0    525\n",
       "1    475\n",
       "Name: Death, dtype: int64"
      ]
     },
     "execution_count": 76,
     "metadata": {},
     "output_type": "execute_result"
    }
   ],
   "source": [
    "# calcuate the baseline accuracy\n",
    "fram_ts['Death'].value_counts()"
   ]
  },
  {
   "cell_type": "code",
   "execution_count": 77,
   "metadata": {},
   "outputs": [
    {
     "data": {
      "text/plain": [
       "0.475"
      ]
     },
     "execution_count": 77,
     "metadata": {},
     "output_type": "execute_result"
    }
   ],
   "source": [
    "475/(525+475)"
   ]
  },
  {
   "cell_type": "markdown",
   "metadata": {},
   "source": [
    "b. Error rate"
   ]
  },
  {
   "cell_type": "code",
   "execution_count": 78,
   "metadata": {},
   "outputs": [
    {
     "data": {
      "text/plain": [
       "0.42700000000000005"
      ]
     },
     "execution_count": 78,
     "metadata": {},
     "output_type": "execute_result"
    }
   ],
   "source": [
    "# error rate: 1 - accuracy rate\n",
    "1-0.573"
   ]
  },
  {
   "cell_type": "markdown",
   "metadata": {},
   "source": [
    "34. According to your contingency table,find the following values for the Naïve Bayes model:\n",
    "a. How often it correctly classifies dead persons."
   ]
  },
  {
   "cell_type": "code",
   "execution_count": 79,
   "metadata": {},
   "outputs": [
    {
     "data": {
      "text/plain": [
       "0.7789473684210526"
      ]
     },
     "execution_count": 79,
     "metadata": {},
     "output_type": "execute_result"
    }
   ],
   "source": [
    "370/475"
   ]
  },
  {
   "cell_type": "markdown",
   "metadata": {},
   "source": [
    "b. How often it correctly classifies living persons."
   ]
  },
  {
   "cell_type": "code",
   "execution_count": 80,
   "metadata": {},
   "outputs": [
    {
     "data": {
      "text/plain": [
       "0.38666666666666666"
      ]
     },
     "execution_count": 80,
     "metadata": {},
     "output_type": "execute_result"
    }
   ],
   "source": [
    "203/525"
   ]
  }
 ],
 "metadata": {
  "kernelspec": {
   "display_name": "Python 3",
   "language": "python",
   "name": "python3"
  },
  "language_info": {
   "codemirror_mode": {
    "name": "ipython",
    "version": 3
   },
   "file_extension": ".py",
   "mimetype": "text/x-python",
   "name": "python",
   "nbconvert_exporter": "python",
   "pygments_lexer": "ipython3",
   "version": "3.7.6"
  }
 },
 "nbformat": 4,
 "nbformat_minor": 4
}
